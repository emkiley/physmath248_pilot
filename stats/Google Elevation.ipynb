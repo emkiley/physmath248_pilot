{
 "cells": [
  {
   "cell_type": "code",
   "execution_count": null,
   "metadata": {
    "collapsed": true
   },
   "outputs": [],
   "source": [
    "import json\n",
    "## this allows us to load up web pages and read them\n",
    "from urllib.request import urlopen\n",
    "## this is a library for parsing JSON files.  JSON stands for JavaScript Object Notation. It\n",
    "## is a common ASCII text file for describing structured data. \n",
    "import json\n",
    "## we will need to put delays in between our requests to web pages.  Popular web-pages\n",
    "## will block your access if you request too much data too quickly.\n",
    "import time "
   ]
  },
  {
   "cell_type": "code",
   "execution_count": null,
   "metadata": {
    "collapsed": true
   },
   "outputs": [],
   "source": [
    "## Let's request from Google the elevation of the roof in the building we're in. \n",
    "\n",
    "f=urlopen(\"https://maps.googleapis.com/maps/api/elevation/json?\"\n",
    "                  \"locations=48.4630435,-123.3139403\")\n",
    "json_string = f.read().decode('utf-8')"
   ]
  },
  {
   "cell_type": "code",
   "execution_count": null,
   "metadata": {
    "collapsed": false
   },
   "outputs": [],
   "source": [
    "print(json_string)"
   ]
  },
  {
   "cell_type": "code",
   "execution_count": null,
   "metadata": {
    "collapsed": false
   },
   "outputs": [],
   "source": [
    "## Let's request the elevation of Mount Everest.  We find its longitude and latitude from Wikipedia\n",
    "\n",
    "## 27°59′17″N 86°55′31″E --> 27.9881° N, 86.9253° E converted. \n",
    "\n",
    "f=urlopen(\"https://maps.googleapis.com/maps/api/elevation/json?\"\n",
    "          \"locations=27.9881,86.9253\")\n",
    "json_string = f.read().decode('utf-8')\n",
    "print(json_string)"
   ]
  },
  {
   "cell_type": "code",
   "execution_count": null,
   "metadata": {
    "collapsed": true
   },
   "outputs": [],
   "source": []
  }
 ],
 "metadata": {
  "kernelspec": {
   "display_name": "Python 3",
   "language": "python",
   "name": "python3"
  },
  "language_info": {
   "codemirror_mode": {
    "name": "ipython",
    "version": 3
   },
   "file_extension": ".py",
   "mimetype": "text/x-python",
   "name": "python",
   "nbconvert_exporter": "python",
   "pygments_lexer": "ipython3",
   "version": "3.4.3"
  }
 },
 "nbformat": 4,
 "nbformat_minor": 0
}
