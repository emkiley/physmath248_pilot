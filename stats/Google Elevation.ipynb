{
 "cells": [
  {
   "cell_type": "code",
   "execution_count": 2,
   "metadata": {
    "collapsed": true
   },
   "outputs": [],
   "source": [
    "import json\n",
    "## this allows us to load up web pages and read them\n",
    "import urllib2\n",
    "## this is a library for parsing JSON files.  JSON stands for JavaScript Object Notation. It\n",
    "## is a common ASCII text file for describing structured data. \n",
    "import json\n",
    "## we will need to put delays in between our requests to web pages.  Popular web-pages\n",
    "## will block your access if you request too much data too quickly.\n",
    "import time "
   ]
  },
  {
   "cell_type": "code",
   "execution_count": 8,
   "metadata": {
    "collapsed": true
   },
   "outputs": [],
   "source": [
    "## Let's request from Google the elevation of the roof in the building we're in. \n",
    "\n",
    "f=urllib2.urlopen('https://maps.googleapis.com/maps/api/elevation/json?locations=48.4630435,-123.3139403')\n",
    "json_string = f.read()"
   ]
  },
  {
   "cell_type": "code",
   "execution_count": 9,
   "metadata": {
    "collapsed": false
   },
   "outputs": [
    {
     "name": "stdout",
     "output_type": "stream",
     "text": [
      "{\n",
      "   \"results\" : [\n",
      "      {\n",
      "         \"elevation\" : 62.14599990844727,\n",
      "         \"location\" : {\n",
      "            \"lat\" : 48.4630435,\n",
      "            \"lng\" : -123.3139403\n",
      "         },\n",
      "         \"resolution\" : 19.08790397644043\n",
      "      }\n",
      "   ],\n",
      "   \"status\" : \"OK\"\n",
      "}\n",
      "\n"
     ]
    }
   ],
   "source": [
    "print json_string"
   ]
  },
  {
   "cell_type": "code",
   "execution_count": 11,
   "metadata": {
    "collapsed": false
   },
   "outputs": [
    {
     "name": "stdout",
     "output_type": "stream",
     "text": [
      "{\n",
      "   \"results\" : [\n",
      "      {\n",
      "         \"elevation\" : 8816.6630859375,\n",
      "         \"location\" : {\n",
      "            \"lat\" : 27.9881,\n",
      "            \"lng\" : 86.92529999999999\n",
      "         },\n",
      "         \"resolution\" : 152.7032318115234\n",
      "      }\n",
      "   ],\n",
      "   \"status\" : \"OK\"\n",
      "}\n",
      "\n"
     ]
    }
   ],
   "source": [
    "## Let's request the elevation of Mount Everest.  We find its longitude and latitude from Wikipedia\n",
    "\n",
    "## 27°59′17″N 86°55′31″E --> 27.9881° N, 86.9253° E converted. \n",
    "\n",
    "f=urllib2.urlopen('https://maps.googleapis.com/maps/api/elevation/json?locations=27.9881,86.9253')\n",
    "json_string = f.read()\n",
    "print json_string"
   ]
  },
  {
   "cell_type": "code",
   "execution_count": null,
   "metadata": {
    "collapsed": true
   },
   "outputs": [],
   "source": []
  }
 ],
 "metadata": {
  "kernelspec": {
   "display_name": "Python 2",
   "language": "python",
   "name": "python2"
  },
  "language_info": {
   "codemirror_mode": {
    "name": "ipython",
    "version": 2
   },
   "file_extension": ".py",
   "mimetype": "text/x-python",
   "name": "python",
   "nbconvert_exporter": "python",
   "pygments_lexer": "ipython2",
   "version": "2.7.6"
  }
 },
 "nbformat": 4,
 "nbformat_minor": 0
}
