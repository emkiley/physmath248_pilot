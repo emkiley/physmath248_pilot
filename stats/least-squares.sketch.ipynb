{
 "cells": [
  {
   "cell_type": "markdown",
   "metadata": {},
   "source": [
    "## Sketch development of least-squares. \n"
   ]
  },
  {
   "cell_type": "markdown",
   "metadata": {},
   "source": [
    "Consider the situation where you have a pile of data $$\\{ (x_i, y_i) : i = 1, 2, \\cdots, k\\}$$\n",
    "\n",
    "for example, the $y_i$ terms could be measurements, and the $x_i$ could be the times at which the measurements are made. Say you strongly suspect (or *hope*) that the data sits on a curve of a certain type.  Like a line:\n",
    "$$ y = a + bx $$\n",
    "or a polynomial\n",
    "$$ y = a_0 + a_1x + a_2x^2 + \\cdots + a_nx^n $$\n",
    "or even a polynomial in trig functions\n",
    "$$ y = a_0 + a_1 \\cos(x) + a_2 \\sin(x) + a_3 \\cos(2x) + a_4 \\sin(2x) + \\cdots + a_{2n-1} \\cos(nx) + a_{2n} \\sin(nx)$$\n",
    "The method of *least squares* is a technique perfectly designed for this problem. \n",
    "\n",
    "In the above set-up we replace the functions $1$, $x$, $x^2, \\cdots$ or $1, \\sin(x), \\cos(x), \\sin(2x), \\cos(2x), \\cdots$ by generic functions:\n",
    "\n",
    "$$ f_1, f_2, f_3, \\cdots, f_n $$\n",
    "and our approximation to the measured data will be the function\n",
    "$$ F(x) = a_1f_1(x) + a_2f_2(x) + \\cdots + a_nf_n(x) $$\n",
    "i.e. it is a linear combination of the generic functions we are considering. \n",
    "\n",
    "---"
   ]
  },
  {
   "cell_type": "code",
   "execution_count": 51,
   "metadata": {
    "collapsed": false
   },
   "outputs": [
    {
     "data": {
      "image/png": "[encoded data removed]",
      "text/plain": [
       "<matplotlib.figure.Figure at 0x7fae34fc8750>"
      ]
     },
     "metadata": {},
     "output_type": "display_data"
    }
   ],
   "source": [
    "## TODO: generate example using a non-random process.  Approximate. \n",
    "##  let's compute some random numbers around a parabola, for example. \n",
    "\n",
    "import random as rand\n",
    "from matplotlib import *\n",
    "import matplotlib.pyplot as plt\n",
    "import matplotlib.patches as patches\n",
    "%matplotlib inline \n",
    "\n",
    "listlen = 20\n",
    "xlist = [4*float(i)/float(listlen) - float(2.0) for i in range(listlen)]\n",
    "ylist = [xlist[i]**2 + (rand.random()-float(0.5))/float(1.0) for i in range(listlen)]\n",
    "\n",
    "ax = plt.gca() ## gca() means 'get current axis' -- this is an object one uses to append many things to plots. \n",
    "  ## gcf() is `get current figure' \n",
    "#ax.add_patch(plt.Circle((0,0), 1.0, color='black', alpha=0.8, lw=10, fill=False))\n",
    "plt.plot(xlist, ylist, 'ro')\n",
    "plt.show()"
   ]
  },
  {
   "cell_type": "markdown",
   "metadata": {},
   "source": [
    "To turn this into a mathematical problem we define the *error* of the approximation at $x_i$ (or the $i$-th error term) \n",
    "$$E_i = |F(x_i) - y_i|$$\n",
    "and in least squares we are trying to solve for $a_1, a_2, \\cdots, a_n$ to minimize the *total error squared*\n",
    "$$E^2 = E_1^2 + E_2^2 + \\cdots + E_k^2.$$\n",
    "The compelling part of least squares is that (subject to rather minimal conditions on the functions $f_1, \\cdots, f_n$ there is a unique solution to the problem.  We sketch that below. \n",
    "\n",
    "----"
   ]
  },
  {
   "cell_type": "markdown",
   "metadata": {},
   "source": [
    "Notice the total error squared is a differentiable function in the variables $a_1, \\cdots, a_n$.\n",
    "$$ E^2 = \\sum_{j=1}^k (F(x_j)-y_j)^2 = \\sum_{j=1}^k \\left( \\sum_{i=1}^n a_if_i(x_j)-y_j \\right)^2$$"
   ]
  },
  {
   "cell_type": "markdown",
   "metadata": {},
   "source": [
    "Calculus tells us the minimum of this function occurs when all the partial derivatives (with respect to $a_l$ $l=1,2, \\cdots, n$) are zero. So we compute the partial derivative with respect to $a_l$:\n",
    "$$\\frac{\\partial (E^2)}{\\partial a_l} = 2 \\sum_{j=1}^k \\left( \\sum_{i=1}^n a_if_i(x_j)-y_j \\right) f_l(x_j) = 0$$\n",
    "which we can write as a linear equation in the variables $a_1,\\cdots, a_n$:\n",
    "$$ \\sum_{i=1}^n \\left( \\sum_{j=1}^k f_i(x_j)f_l(x_j) \\right) a_i = \\sum_{j=1}^k y_jf_l(x_j) \\ \\ \\ \\ \\  l=1,2,\\cdots, n$$\n",
    "which can be written as a matrix equation\n",
    "$$ \\pmatrix{\\sum_{j=1}^k f_1(x_j)f_1(x_j) & \\sum_{j=1}^k f_2(x_j)f_1(x_j) & . & . & \\sum_{j=1}^k f_n(x_j)f_1(x_j) \\\\ \n",
    " \\sum_{j=1}^k f_1(x_j)f_2(x_j) & \\sum_{j=1}^k f_2(x_j)f_2(x_j) & . & . & \\sum_{j=1}^k f_n(x_j)f_2(x_j) \\\\\n",
    " . & . & & & . \\\\\n",
    " . & . & & & . \\\\\n",
    " \\sum_{j=1}^k f_1(x_j)f_n(x_j) & \\sum_{j=1}^k f_2(x_j)f_n(x_j) & . & . & \\sum_{j=1}^k f_n(x_j)f_n(x_j)} \\pmatrix{a_1 \\\\ a_2 \\\\ . \\\\ . \\\\ a_n} = \\pmatrix{\\sum_{j=1}^k y_jf_1(x_j) \\\\ \\sum_{j=1}^k y_jf_2(x_j) \\\\ . \\\\ . \\\\ \\sum_{j=1}^k y_jf_n(x_j)} $$\n",
    "Notice the matrix on the left consists of dot products.  If we take advantage of this we can re-write the above matrix equation in one that is a little more conceptually-pleasant to look at.  We define the matrix $A$ to consist of the grid of evalutions of the functions $f_i$ on the points $x_j$, i.e.\n",
    "$$ A = \\pmatrix{ f_1(x_1) & f_2(x_1) & . & f_n(x_1) \\\\ f_1(x_2) & f_2(x_2) & . & f_n(x_2) \\\\ . & . & & . \\\\ f_1(x_k) & f_2(x_k) & . & f_n(x_k) }$$\n",
    "Then the above matrix equation is:\n",
    "$$\\vec{a} = (A^T A)^{-1} A^T \\vec y$$\n",
    "where $ \\vec a = \\pmatrix{ a_1 \\\\ a_2 \\\\ . \\\\ a_n}$ and $\\vec y = \\pmatrix{ y_1 \\\\ y_2 \\\\ . \\\\ y_n}$. \n",
    "\n",
    "---"
   ]
  },
  {
   "cell_type": "markdown",
   "metadata": {},
   "source": [
    "The matrix $A^T A$ is invertible precisely when the column vectors of $A$ are linearly independent.  This gives us the observation:\n",
    "\n",
    "**Theorem**: If one wishes to approximate the points $(x_i,y_i)$ with a linear combination $F = \\sum_{i=1}^n a_i f_i$, then provided the *column vectors* of the matrix $A$ are linearly independent then there is a unique solution to the problem that minimizes the total error squared $E^2 = \\sum_{j=1}^k (F(x_j)-y_j)^2$. In this situation the coefficient vector is given by the equation:\n",
    "$$ \\vec a = (A^TA)^{-1} A^T \\vec y.$$\n",
    "\n",
    "---\n",
    "\n",
    "Of course, there may very well be solutions if the matrix $A^T A$ is not invertible, but unfortunately the inverse matrix would not exist, so the answer would have a less of a formulaic closed form.  There are two ways that the matrix can fail to be invertible.  \n",
    "\n",
    "* The functions $f_1, \\cdots, f_n$ fail to be linearly independent. \n",
    "* One either does not have enough sample points $x_i$, or the sample points are chosen in *bad* locations, resulting in the matrix $A$ not having full rank.  Notice that if $k < n$ the matrix $A$ is always degenerate.  Provided the functions $f_1, \\cdots, f_n$ are linearly independent, and $k \\geq n$, *usually* the matrix $A$ has rull rank.  In order for the least-squares approximation to be *interesting* one usually needs $k$ to be significantly larger than $n$.  For example, if one is fitting a line to data, then $n=2$, $f_1 = 1$, $f_2 = x$.  If $k=2$ the resulting approximation is the unique line through two points!  Usually this would not be considered significant. "
   ]
  },
  {
   "cell_type": "code",
   "execution_count": 52,
   "metadata": {
    "collapsed": false
   },
   "outputs": [
    {
     "data": {
      "image/png": "[encoded data removed]",
      "text/plain": [
       "<matplotlib.figure.Figure at 0x7fae34e36610>"
      ]
     },
     "metadata": {},
     "output_type": "display_data"
    }
   ],
   "source": [
    "## Let's now interpolate a parabola through the data above.   With the above set-up we would anticipate\n",
    "## least squares will give us something close to y(x) = x^2 in return. \n",
    "\n",
    "from numpy import matrix\n",
    "from numpy import linalg\n",
    "\n",
    "## Let's compute the matrix A. A[i][j] is f_j evaluated at x_i. \n",
    "\n",
    "A = matrix([[xlist[i]**j for i in range(len(xlist))] for j in range(3)]).T\n",
    "\n",
    "#print A\n",
    "#print linalg.det(A.T * A)\n",
    "\n",
    "cvec = ((A.T*A).I)*(A.T)*(matrix(ylist).T)\n",
    "\n",
    "ax = plt.gca() ## gca() means 'get current axis' -- this is an object one uses to append many things to plots. \n",
    "  ## gcf() is `get current figure' \n",
    "\n",
    "plt.plot(xlist, ylist, 'ro')\n",
    "## let's append the best fit to the plot.\n",
    "FAC = 10 ## amount to refine the plot\n",
    "refx = [4*float(i)/float(FAC*listlen) - float(2.0) for i in range(FAC*listlen)]\n",
    "refy = [cvec[0,0] + cvec[1,0]*refx[i] + cvec[2,0]*(refx[i]**2) for i in range(FAC*listlen)]\n",
    "plt.plot(refx, refy, 'b-')\n",
    "\n",
    "## Let's also add the graph of y=x^2.\n",
    "refy = [refx[i]**2 for i in range(FAC*listlen)]\n",
    "plt.plot(refx, refy, 'y-')\n",
    "\n",
    "plt.show()\n",
    "\n"
   ]
  },
  {
   "cell_type": "code",
   "execution_count": null,
   "metadata": {
    "collapsed": true
   },
   "outputs": [],
   "source": []
  }
 ],
 "metadata": {
  "kernelspec": {
   "display_name": "Python 2",
   "language": "python",
   "name": "python2"
  },
  "language_info": {
   "codemirror_mode": {
    "name": "ipython",
    "version": 2
   },
   "file_extension": ".py",
   "mimetype": "text/x-python",
   "name": "python",
   "nbconvert_exporter": "python",
   "pygments_lexer": "ipython2",
   "version": "2.7.6"
  }
 },
 "nbformat": 4,
 "nbformat_minor": 0
}
