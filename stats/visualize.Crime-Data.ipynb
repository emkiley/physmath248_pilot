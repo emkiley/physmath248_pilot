{
 "cells": [
  {
   "cell_type": "markdown",
   "metadata": {},
   "source": [
    "## A Week 10 visualization problem. \n",
    "\n",
    "Load up the [Victoria PD Crime Report page](https://www.crimereports.com/agency/vicpdcanada) page. \n",
    "\n",
    "This page displays the crimes investigated by the Victoria Police Department over various time spans.  You can click on \"Advanced Search\" to set the crime types to display, and also the date ranges. \n",
    "\n",
    "If you click on \"Show Details\" you can download that page, it should give you a \"CrimeReports.com Crime List.html\" file and some other files in a subdirectory.  Notice that all the crime data is contained in the html file.  I have created a [simple application](scrape.CrimeReports.ipynb) that automates the process of gathering the data and storing it in a simple database. \n",
    "\n",
    "For this homework assignment we ask you to use data scraped from the Victoria PD Crime Report page and perform some (hopefully informative!) statistical analysis. \n",
    "\n",
    "The output for the data range from September 14th, 2015 until March 11th, 2016 is available in [this directory](dl.14.Sep.2015-11.Mar.2016.json.bz2) as a compressed json file.   This file gives a sampling of some analysis we could do.  At the end of the file will appear your homework assignment, to continue these visualizations. \n"
   ]
  },
  {
   "cell_type": "markdown",
   "metadata": {},
   "source": [
    "# Part 1\n",
    "\n",
    "Let's pull the data from the json file. The data is stored on two lines, each one being a list of records.  One record is a dict-type object. "
   ]
  },
  {
   "cell_type": "code",
   "execution_count": null,
   "metadata": {
    "collapsed": false
   },
   "outputs": [],
   "source": [
    "import simplejson as json\n",
    "from datetime import datetime, date\n",
    "\n",
    "## you will likely need to install bzip2 to decompress dl.14.Sep.2015-11.Mar.2016.json.bz2\n",
    "## sudo apt-get install bzip2\n",
    "## the command \"bunzip2 dl.14.Sep.2015-11.Mar.2016.json.bz2\" will decompress the file.\n",
    "f=open(\"dl.14.Sep.2015-11.Mar.2016.json\", \"r\")\n",
    "bigDat=[]\n",
    "## the data appears in two lines, this is because the 2nd line\n",
    "## data does not contain \"Identifier\" tag, it also does not contain\n",
    "## a specific time for the event.  You will also notice a few\n",
    "## records in bigDat[0] do not contain GPS coordinates. \n",
    "bigDat.append( json.loads(f.readline()) )\n",
    "bigDat.append( json.loads(f.readline()) )\n",
    "f.close()\n",
    "print(\"bigDat[0] sample: \",bigDat[0][0], \"\\n\\n\", \"bigDat[1] sample: \", bigDat[1][0])\n",
    "print(len(bigDat[0]), len(bigDat[1]))\n",
    "print(bigDat[0][0]['GPS'])\n",
    "print(bigDat[0][0].keys())"
   ]
  },
  {
   "cell_type": "code",
   "execution_count": null,
   "metadata": {
    "collapsed": false
   },
   "outputs": [],
   "source": [
    "## now let's convert the text string \"date\" to proper dates, and gps coordinates to floats.\n",
    "for i in range(2):\n",
    "    for x in bigDat[i]:\n",
    "        ## if i==0 we have a date/time field, and a gps field that needs conversion\n",
    "        if 'GPS' in x: \n",
    "            x['GPS'][0] = float(x['GPS'][0])\n",
    "            x['GPS'][1] = float(x['GPS'][1])\n",
    "        ## if i==1 we have a date field and a geps field that needs conversion\n",
    "        if i==0:\n",
    "            x['Date/Time'] = datetime.strptime(x['Date/Time'], \"%d-%b-%Y %H:%M %p\") \n",
    "        if i==1:\n",
    "            x['Date'] = datetime.strptime(x['Date'], \"%d-%b-%Y\").date()\n"
   ]
  },
  {
   "cell_type": "markdown",
   "metadata": {},
   "source": [
    "## Part 2: basic analysis of the data. "
   ]
  },
  {
   "cell_type": "code",
   "execution_count": null,
   "metadata": {
    "collapsed": false
   },
   "outputs": [],
   "source": [
    "## returns the list of recorded crime types from the parsed list as argument\n",
    "def recTypes(listRec):\n",
    "    recT = set([])\n",
    "    for R in listRec:\n",
    "        recT.add(R['Crime Type'])\n",
    "    recT = list(recT)\n",
    "    return recT\n",
    "\n",
    "## Let's break down the basic crime types. Take in a list of crimes, returns\n",
    "## a dict (type, number).  So first lets create a set of all the crime types. \n",
    "\n",
    "def recCounts(listRec):\n",
    "    recTyp = recTypes(listRec)\n",
    "    counts = dict([(x,0) for x in recTyp])\n",
    "    for R in listRec:\n",
    "        counts[R['Crime Type']] += 1\n",
    "    return counts"
   ]
  },
  {
   "cell_type": "code",
   "execution_count": null,
   "metadata": {
    "collapsed": false
   },
   "outputs": [],
   "source": [
    "bigList = list(bigDat[0])\n",
    "bigList.extend(bigDat[1])"
   ]
  },
  {
   "cell_type": "code",
   "execution_count": null,
   "metadata": {
    "collapsed": false
   },
   "outputs": [],
   "source": [
    "breakD = recCounts(bigList)\n",
    "print(breakD)\n",
    "print(\"Total records: \", len(bigList))"
   ]
  },
  {
   "cell_type": "code",
   "execution_count": null,
   "metadata": {
    "collapsed": false
   },
   "outputs": [],
   "source": [
    "## Let's create a pie chart \n",
    "import numpy as np\n",
    "import matplotlib.pyplot as plt\n",
    "#%matplotlib inline\n",
    "%matplotlib nbagg\n",
    "\n",
    "tot = len(bigList)\n",
    "cTypes = [k for k,v in breakD.items()]\n",
    "fractions = [100*v/tot for k,v in breakD.items()]\n",
    "\n",
    "## re-arrange the order to make a more pleasant plot\n",
    "sortme = [(cTypes[i], fractions[i]) for i in range(len(cTypes))]\n",
    "import operator\n",
    "sortme.sort(key=operator.itemgetter(1))\n",
    "newlist = []\n",
    "count=0\n",
    "while len(sortme)>0:\n",
    "    if count % 2 == 1: \n",
    "        newlist.append(sortme[0])\n",
    "        sortme.pop(0)\n",
    "    else:\n",
    "        newlist.append(sortme[-1])\n",
    "        sortme.pop()\n",
    "    count+=1\n",
    "\n",
    "fractions = [newlist[i][1] for i in range(len(newlist))]\n",
    "cTypes = [newlist[i][0] for i in range(len(newlist))]"
   ]
  },
  {
   "cell_type": "code",
   "execution_count": null,
   "metadata": {
    "collapsed": false
   },
   "outputs": [],
   "source": [
    "with plt.xkcd(): ## this enables the xkcd style.\n",
    "    \n",
    "    fig=plt.figure()\n",
    "    fig.set_size_inches(10,10) \n",
    "    \n",
    "    #pushOut = (0,0.1,0,0) ##\n",
    "    \n",
    "    ## explode is the push-out parameter.  labels are the text around the\n",
    "    ## circumference.  autopct puts the percentage in the pie slices. \n",
    "    ## shadow adds a bit of depth to the image.\n",
    "    plt.pie(fractions, labels=cTypes, autopct='%1.1f%%', shadow=False)\n",
    "    ## shadow=True / False\n",
    "    plt.title('Relative frequency of incident types', fontsize=20)\n",
    "    "
   ]
  },
  {
   "cell_type": "markdown",
   "metadata": {},
   "source": [
    "\n",
    "## Part 3: some more sophisticated data analysis\n"
   ]
  },
  {
   "cell_type": "code",
   "execution_count": null,
   "metadata": {
    "collapsed": false
   },
   "outputs": [],
   "source": [
    "## Let's break the above data base up by the days of the week. Monday 0 through Sunday 6.\n",
    "weekArr = [[],[],[],[],[],[],[]]\n",
    "for x in bigList:\n",
    "    ## check if has Date field or Date/Time field\n",
    "    if 'Date/Time' in x:\n",
    "        weekArr[x['Date/Time'].weekday()].append(x)\n",
    "    else:\n",
    "        weekArr[x['Date'].weekday()].append(x)\n",
    "for x in weekArr:\n",
    "    print(len(x))\n",
    "    "
   ]
  },
  {
   "cell_type": "code",
   "execution_count": null,
   "metadata": {
    "collapsed": false
   },
   "outputs": [],
   "source": [
    "## oh, we should be careful.  How many mondays are in our date range, etc? \n",
    "from datetime import date\n",
    "weekDays = [set(),set(),set(),set(),set(),set(),set()]\n",
    "for x in bigList:\n",
    "    if 'Date/Time' in x:\n",
    "        weekDays[x['Date/Time'].weekday()].add(x['Date/Time'].date())\n",
    "    else:\n",
    "        weekDays[x['Date'].weekday()].add(x['Date'])"
   ]
  },
  {
   "cell_type": "code",
   "execution_count": null,
   "metadata": {
    "collapsed": false
   },
   "outputs": [],
   "source": [
    "for i in range(7):\n",
    "    print(i, len(weekDays[i]))"
   ]
  },
  {
   "cell_type": "code",
   "execution_count": null,
   "metadata": {
    "collapsed": false
   },
   "outputs": [],
   "source": [
    "## So we can compute the average number of crimes per weekday\n",
    "avgArr=[]\n",
    "for i in range(7):\n",
    "    avgArr.append(len(weekArr[i])/len(weekDays[i]))"
   ]
  },
  {
   "cell_type": "code",
   "execution_count": null,
   "metadata": {
    "collapsed": false
   },
   "outputs": [],
   "source": [
    "weekNames=['Monday', 'Tuesday','Wednesday','Thursday','Friday','Saturday','Sunday']\n",
    "## Let's write out the weekdays by how bad the crime rates are.\n",
    "sortme = [(i, avgArr[i]) for i in range(len(avgArr))]\n",
    "sortme.sort(key=operator.itemgetter(1))\n",
    "print(sortme)\n",
    "print(\"The days of the week in order of ascending crime rates: \")\n",
    "for x in sortme:\n",
    "    print(weekNames[x[0]], \" -> \", x[1])"
   ]
  },
  {
   "cell_type": "code",
   "execution_count": null,
   "metadata": {
    "collapsed": false
   },
   "outputs": [],
   "source": [
    "count = 0\n",
    "for x in bigList:\n",
    "    if 'GPS' not in x:\n",
    "        count += 1\n",
    "print(count, len(bigList))\n",
    "## one in 40 records missing GPS coordinates. \n",
    "## we could write a routine to put those in, or just ignore these records for now."
   ]
  },
  {
   "cell_type": "markdown",
   "metadata": {},
   "source": [
    "## Basic heat map "
   ]
  },
  {
   "cell_type": "code",
   "execution_count": null,
   "metadata": {
    "collapsed": false
   },
   "outputs": [],
   "source": [
    "print(recTypes(bigList))"
   ]
  },
  {
   "cell_type": "code",
   "execution_count": null,
   "metadata": {
    "collapsed": false
   },
   "outputs": [],
   "source": [
    "## Heatmap, of Assault with a Deadly Weapon. \n",
    "import folium\n",
    "from folium import plugins\n",
    "\n",
    "import numpy as np\n",
    "\n",
    "## data needs to be a list [x,y,z] [x,y] the gps coordinates and z the \"heat\"\n",
    "## so let's run through the GPS coordinates, and build this list and decide on what\n",
    "## the \"heat\" should be. \n",
    "data = []\n",
    "for x in bigList:\n",
    "    if ('GPS' in x) and (x['Crime Type']==\"Assault with Deadly Weapon\"):\n",
    "        newpt = [x['GPS'][0], x['GPS'][1], 0.02 ]\n",
    "        ## decide on \"heat\"\n",
    "        data.append( newpt )\n",
    "mapa = folium.Map([48.4323, -123.3720], tiles='Stamen Terrain', zoom_start=13)\n",
    "mapa.add_children(plugins.HeatMap(data))\n",
    "#mapa.create_map(path='awdw.heatmap.html')\n",
    "mapa"
   ]
  },
  {
   "cell_type": "code",
   "execution_count": null,
   "metadata": {
    "collapsed": false
   },
   "outputs": [],
   "source": [
    "## Heatmap, drugs on Fridays\n",
    "data = []\n",
    "for x in bigList:\n",
    "    if ('GPS' in x) and (x['Crime Type']==\"Drugs\"):\n",
    "        ## plot Drugs on Fridays...\n",
    "        if (('Date/Time' in x) and (x['Date/Time'].weekday()==4)) or \\\n",
    "           (('Date' in x) and (x['Date'].weekday()==4)):\n",
    "            newpt = [x['GPS'][0], x['GPS'][1], 0.1 ]\n",
    "            data.append( newpt )\n",
    "            \n",
    "mapa = folium.Map([48.4323, -123.3720], tiles='OpenStreetMap', zoom_start=13)\n",
    "mapa.add_children(plugins.HeatMap(data))\n",
    "#mapa.create_map(path='awdw.heatmap.html')\n",
    "mapa"
   ]
  },
  {
   "cell_type": "code",
   "execution_count": null,
   "metadata": {
    "collapsed": false
   },
   "outputs": [],
   "source": [
    "# Let's make a stacked bar chart indicating crime types by weekday\n",
    "\n",
    "ctypes = recTypes(bigList) ## string rep crime type names\n",
    "arrCount = np.zeros( (len(ctypes), len(weekNames)) )\n",
    "for x in bigList:\n",
    "    if 'Date' in x:\n",
    "        wN = x['Date'].weekday()\n",
    "    elif 'Date/Time' in x:\n",
    "        wN = x['Date/Time'].weekday()\n",
    "    arrCount[next(k for k in range(len(ctypes)) if ctypes[k]==x['Crime Type']), wN]+=1\n",
    "## arrCount[i] is the crime counts by weekday for ctypes[i]\n",
    "\n",
    "## matrix of partial sums\n",
    "psum = np.zeros( (len(ctypes), len(weekNames)) )\n",
    "for j in range(len(weekNames)):\n",
    "    for i in range(len(ctypes)):\n",
    "        ## psum[i,j] = psum[i,j-1] + arrCount[i,j]\n",
    "        if i==0: psum[i,j] = 0\n",
    "        else: psum[i,j] = psum[i-1,j] + arrCount[i-1,j]\n",
    "\n",
    "print(arrCount[0], arrCount[1])\n",
    "print(psum[0], psum[1])"
   ]
  },
  {
   "cell_type": "code",
   "execution_count": null,
   "metadata": {
    "collapsed": false
   },
   "outputs": [],
   "source": [
    "%matplotlib nbagg\n",
    "\n",
    "colarr = [np.random.rand(3,1) for i in range(len(ctypes))]\n",
    "\n",
    "import matplotlib.pyplot as plt\n",
    "fig = plt.figure() ## get the figure-object for our plot.\n",
    "\n",
    "width = 0.4\n",
    "xc = list(range(len(weekNames)))\n",
    "p = [] ## plot array\n",
    "\n",
    "for i in range(len(ctypes)):\n",
    "    if i==0:\n",
    "        p.append( plt.bar(xc, arrCount[i].tolist(), width, color=colarr[i] ) )\n",
    "    else:\n",
    "        p.append( plt.bar(xc, arrCount[i].tolist(), width, color=colarr[i], bottom=psum[i]) )\n",
    "\n",
    "ax1 = plt.subplot(111)\n",
    "plt.xticks(xc, weekNames, rotation=45)\n",
    "#ax1.set_xticklabels( xc, rotation=45 )\n",
    "plt.title('Crime events by day-of-week', fontsize=20)\n",
    "\n",
    "ax1.legend(p, ctypes, prop={'size':7}, bbox_to_anchor=(1.05,1.0))\n",
    "        \n",
    "plt.show()"
   ]
  },
  {
   "cell_type": "markdown",
   "metadata": {
    "collapsed": false
   },
   "source": [
    "After some correspondence with the Victoria Police Department IT office, they let me know some details on what the \"Crime Types\" mean:\n",
    "\n",
    "* Disorder – Cause a Disturbance\n",
    " \n",
    "* Assault with a weapon – Aggravated or Weapon Assaults which includes Assault - Cause Bodily Harm. \n",
    " \n",
    "* Alarms - False Alarms\n",
    " \n",
    "* Vehicles stop – Vehicle impounds  \n",
    " \n",
    "* Drugs – Drug Possession, Trafficking, Import/Exports, Production\n",
    " \n",
    "* Weapon Offence – Weapon Possessions, Trafficking, including unauthorized transportation and pointing of a firearm\n",
    " \n",
    "* Pedestrian stop – situations where officers have spoken to cyclists or pedestrians, i.e. – cyclist not wearing a bicycle helmet    \n",
    " \n",
    "* Break and Entering – inclusive of both residence and business break and enters\n",
    " \n",
    "* Theft of vehicle – Thefts of all motorized vehicles\n",
    " \n",
    "* Other – Obstructions, Animal calls, Noise Bylaw, Impersonations and Suspicious vehicles/persons/occurrences\n",
    " \n",
    "* Theft – Thefts over and under $5,000 excluding theft of or from motor vehicles\n",
    " \n",
    "* Assault – Common assaults\n",
    " \n",
    "* Property Crime – Mischiefs, Possession stolen property and some Frauds\n",
    " \n",
    "* Traffic – Provincial and Criminal code traffic offences, motor vehicle collisions, and driving complaints\n",
    " \n",
    "* Liquor – Liquor act offences\n",
    " \n",
    "* Incidents where an individual is charged and found accountable for the incident indicate “concluded” on them. \n",
    " \n",
    "* The GPS coordinates and address information is only an “approximate” location and in no way pinpoints the exact location of where an incident occurred.  An individual can report lost property to an officer at the VicPD Police Headquarters building at 850 Caledonia Avenue.  The approximate location will be the 800 block of Caledonia Avenue even though the property may have been lost in the downtown vicinity however, the exact location is unknown. \n",
    "  \n",
    " "
   ]
  },
  {
   "cell_type": "code",
   "execution_count": null,
   "metadata": {
    "collapsed": false
   },
   "outputs": [],
   "source": []
  },
  {
   "cell_type": "code",
   "execution_count": null,
   "metadata": {
    "collapsed": false
   },
   "outputs": [],
   "source": []
  },
  {
   "cell_type": "code",
   "execution_count": null,
   "metadata": {
    "collapsed": false
   },
   "outputs": [],
   "source": []
  },
  {
   "cell_type": "code",
   "execution_count": null,
   "metadata": {
    "collapsed": false
   },
   "outputs": [],
   "source": []
  },
  {
   "cell_type": "code",
   "execution_count": null,
   "metadata": {
    "collapsed": true
   },
   "outputs": [],
   "source": []
  }
 ],
 "metadata": {
  "kernelspec": {
   "display_name": "Python 3",
   "language": "python",
   "name": "python3"
  },
  "language_info": {
   "codemirror_mode": {
    "name": "ipython",
    "version": 3
   },
   "file_extension": ".py",
   "mimetype": "text/x-python",
   "name": "python",
   "nbconvert_exporter": "python",
   "pygments_lexer": "ipython3",
   "version": "3.4.3"
  }
 },
 "nbformat": 4,
 "nbformat_minor": 0
}
