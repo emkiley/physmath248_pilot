{
 "cells": [
  {
   "cell_type": "markdown",
   "metadata": {},
   "source": [
    "### Hobden and Nagrocki's Homework Assignment 4, Problem 2 Solution. \n",
    "\n",
    "This is a more efficient code-base for grabbing the data from the Crime Reports webpage. "
   ]
  },
  {
   "cell_type": "code",
   "execution_count": 2,
   "metadata": {
    "collapsed": true
   },
   "outputs": [],
   "source": [
    "from datetime import date, datetime\n",
    "from urllib.request import urlopen\n",
    "from json import loads\n",
    "\n",
    "def datestring_to_date(datestring):\n",
    "    \"\"\"\n",
    "    Converts a string in the Crime Reports format to a real datetime.\n",
    "    \"\"\"\n",
    "    from datetime import datetime\n",
    "    return datetime.strptime(datestring, \"%Y-%m-%dT%H:%M:%SZ\")\n",
    "\n",
    "def get_crime_reports(start=date(2015,1,1), end=date(2016,3,1), incident_types=range(0,200)):\n",
    "    \"\"\"\n",
    "    Gets a set of crime reports for the VicPD in roughly the Victoria area from roughly the start to end dates. This will take a bit due to rate limiting and the volume of data produced.\n",
    "\n",
    "    Returns a list of CrimeReports.\n",
    "    \"\"\"\n",
    "    # This covers most of Victoria\n",
    "    rows = range(2831, 2834)\n",
    "    cols = range(1286, 1291)\n",
    "    \n",
    "    start_param = start.strftime(\"%Y/%m/%d\")\n",
    "    end_param = end.strftime(\"%Y/%m/%d\")\n",
    "\n",
    "    crimes = []\n",
    "    incident_types = \",\".join([str(x) for x in incident_types])\n",
    "    \n",
    "    for row in rows:\n",
    "        for col in cols:\n",
    "            #print(\"Getting row \"+str(row)+\" col \"+str(col))\n",
    "            url = \"https://www.crimereports.com/v3/crime_reports/map/search_by_tile.json?start_date=\"+start_param+\"&end_date=\"+end_param+\"&incident_type_ids=\"+incident_types+\"&org_ids=1550&row=\"+str(row)+\"&column=\"+str(col)+\"&zoom=13&include_sex_offenders=false\"\n",
    "            raw_data = urlopen(url).read().decode(\"utf-8\")\n",
    "            this_data = loads(raw_data)\n",
    "            if this_data[\"crimes\"]:\n",
    "                #print(str(len(this_data[\"crimes\"]))+\" crimes found on this tile\")\n",
    "                for item in this_data[\"crimes\"]:\n",
    "                    crimes.append(item)\n",
    "                    \n",
    "    # It was discovered that the data is frequently duplicated. Let's dedup.\n",
    "    seen_ids = set()\n",
    "    unique_crimes = []\n",
    "    for crime in crimes:\n",
    "        if crime[\"id\"] not in seen_ids:\n",
    "            seen_ids.add(crime[\"id\"])\n",
    "            unique_crimes.append(crime)\n",
    "\n",
    "    return unique_crimes"
   ]
  },
  {
   "cell_type": "markdown",
   "metadata": {},
   "source": [
    "Now lets get the crimes arranged by category, first we need to build out the categories. Initial data retrieved by running the following JS in page console. Figured out by inspecting the minified source."
   ]
  },
  {
   "cell_type": "code",
   "execution_count": 3,
   "metadata": {
    "collapsed": false
   },
   "outputs": [
    {
     "ename": "SyntaxError",
     "evalue": "invalid syntax (<ipython-input-3-3ad723eb2dc8>, line 2)",
     "output_type": "error",
     "traceback": [
      "\u001b[1;36m  File \u001b[1;32m\"<ipython-input-3-3ad723eb2dc8>\"\u001b[1;36m, line \u001b[1;32m2\u001b[0m\n\u001b[1;33m    categoryTypes.map(function (x) {\u001b[0m\n\u001b[1;37m                                   ^\u001b[0m\n\u001b[1;31mSyntaxError\u001b[0m\u001b[1;31m:\u001b[0m invalid syntax\n"
     ]
    }
   ],
   "source": [
    "categories = {};\n",
    "categoryTypes.map(function (x) {\n",
    "    created_cat = {};\n",
    "    created_cat.id = x.id;\n",
    "    if (x.children) {\n",
    "        created_cat.children = {};\n",
    "        x.children.map(function (y) {\n",
    "            created_subcat = {};\n",
    "            created_subcat.id = y.id;\n",
    "            created_cat.children[y.name] = created_subcat;\n",
    "        });\n",
    "    }\n",
    "    categories[x.name] = created_cat;\n",
    "});\n",
    "JSON.stringify(categories, null, 2)"
   ]
  },
  {
   "cell_type": "code",
   "execution_count": 4,
   "metadata": {
    "collapsed": true
   },
   "outputs": [],
   "source": [
    "categories = {\n",
    "  \"Homicide\": {\n",
    "    \"id\": 104,\n",
    "    \"children\": {}\n",
    "  },\n",
    "  \"Breaking & Entering\": {\n",
    "    \"id\": 100,\n",
    "    \"children\": {}\n",
    "  },\n",
    "  \"Robbery\": {\n",
    "    \"id\": 98,\n",
    "    \"children\": {}\n",
    "  },\n",
    "  \"Theft\": {\n",
    "    \"id\": 103,\n",
    "    \"children\": {}\n",
    "  },\n",
    "  \"Theft of Vehicle\": {\n",
    "    \"id\": 99,\n",
    "    \"children\": {}\n",
    "  },\n",
    "  \"Theft from Vehicle\": {\n",
    "    \"id\": 101,\n",
    "    \"children\": {}\n",
    "  },\n",
    "  \"Vehicle Recovery\": {\n",
    "    \"id\": 170,\n",
    "    \"children\": {}\n",
    "  },\n",
    "  \"Sexual Offense\": {\n",
    "    \"id\": 8,\n",
    "    \"children\": {\n",
    "      \"Other Sexual Offense\": {\n",
    "        \"id\": 97\n",
    "      },\n",
    "      \"Sexual Assault\": {\n",
    "        \"id\": 148\n",
    "      }\n",
    "    }\n",
    "  },\n",
    "  \"Assault \": {\n",
    "    \"id\": 9,\n",
    "    \"children\": {\n",
    "      \"Assault\": {\n",
    "        \"id\": 149\n",
    "      },\n",
    "      \"Assault with Deadly Weapon\": {\n",
    "        \"id\": 150\n",
    "      }\n",
    "    }\n",
    "  },\n",
    "  \"Property Crime \": {\n",
    "    \"id\": 10,\n",
    "    \"children\": {\n",
    "      \"Property Crime\": {\n",
    "        \"id\": 180\n",
    "      },\n",
    "      \"Property Crime Commercial\": {\n",
    "        \"id\": 179\n",
    "      },\n",
    "      \"Property Crime Residential\": {\n",
    "        \"id\": 178\n",
    "      }\n",
    "    }\n",
    "  },\n",
    "  \"Other \": {\n",
    "    \"id\": 11,\n",
    "    \"children\": {\n",
    "      \"Alarm\": {\n",
    "        \"id\": 160\n",
    "      },\n",
    "      \"Arson\": {\n",
    "        \"id\": 121\n",
    "      },\n",
    "      \"Death\": {\n",
    "        \"id\": 162\n",
    "      },\n",
    "      \"Family Offense\": {\n",
    "        \"id\": 164\n",
    "      },\n",
    "      \"Kidnapping\": {\n",
    "        \"id\": 165\n",
    "      },\n",
    "      \"Missing Person\": {\n",
    "        \"id\": 167\n",
    "      },\n",
    "      \"Other\": {\n",
    "        \"id\": 151\n",
    "      },\n",
    "      \"Weapons Offense\": {\n",
    "        \"id\": 171\n",
    "      }\n",
    "    }\n",
    "  },\n",
    "  \"Quality of Life\": {\n",
    "    \"id\": 12,\n",
    "    \"children\": {\n",
    "      \"Disorder\": {\n",
    "        \"id\": 163\n",
    "      },\n",
    "      \"Drugs\": {\n",
    "        \"id\": 168\n",
    "      },\n",
    "      \"Liquor\": {\n",
    "        \"id\": 166\n",
    "      }\n",
    "    }\n",
    "  },\n",
    "  \"Traffic\": {\n",
    "    \"id\": 169,\n",
    "    \"children\": {}\n",
    "  },\n",
    "  \"Fire\": {\n",
    "    \"id\": 15,\n",
    "    \"children\": {}\n",
    "  },\n",
    "  \"Emergency\": {\n",
    "    \"id\": 16,\n",
    "    \"children\": {}\n",
    "  },\n",
    "  \"Proactive Policing\": {\n",
    "    \"id\": 14,\n",
    "    \"children\": {\n",
    "      \"Community Policing\": {\n",
    "        \"id\": 161\n",
    "      },\n",
    "      \"Pedestrian Stop\": {\n",
    "        \"id\": 173\n",
    "      },\n",
    "      \"Vehicle Stop\": {\n",
    "        \"id\": 172\n",
    "      }\n",
    "    }\n",
    "  }\n",
    "}\n",
    "\n",
    "# Build a lookup dict \n",
    "category_id_lookup = {}\n",
    "for category_name,category in categories.items():\n",
    "    category_id_lookup[category[\"id\"]] = category\n",
    "    if category[\"children\"]:\n",
    "        for child_name,child in category[\"children\"].items():\n",
    "            category_id_lookup[child[\"id\"]] = child\n",
    "for category in category_id_lookup.keys():\n",
    "    category_id_lookup[category][\"crimes\"] = []\n",
    "    "
   ]
  },
  {
   "cell_type": "code",
   "execution_count": 5,
   "metadata": {
    "collapsed": true
   },
   "outputs": [],
   "source": [
    "# Get all the reports. This takes a few seconds and is thus it's on cell. Avoid re-running this.\n",
    "crimes = get_crime_reports(incident_types=category_id_lookup.keys())"
   ]
  },
  {
   "cell_type": "markdown",
   "metadata": {},
   "source": [
    "Arrange the crimes into their appropriate places."
   ]
  },
  {
   "cell_type": "code",
   "execution_count": 6,
   "metadata": {
    "collapsed": true
   },
   "outputs": [],
   "source": [
    "for crime in crimes:\n",
    "    category = category_id_lookup[crime['incident_type_id']]\n",
    "    category[\"crimes\"].append(crime)"
   ]
  },
  {
   "cell_type": "markdown",
   "metadata": {},
   "source": [
    "## Frequency Breakdowns"
   ]
  },
  {
   "cell_type": "code",
   "execution_count": 7,
   "metadata": {
    "collapsed": false
   },
   "outputs": [
    {
     "name": "stdout",
     "output_type": "stream",
     "text": [
      "    0 Quality of Life               \n",
      "\t   196 Drugs                         \n",
      "\t   142 Disorder                      \n",
      "\t   633 Liquor                        \n",
      " 1187 Theft                         \n",
      "    0 Proactive Policing            \n",
      "\t   386 Pedestrian Stop               \n",
      "\t     1 Community Policing            \n",
      "\t   225 Vehicle Stop                  \n",
      "    0 Other                         \n",
      "\t     0 Missing Person                \n",
      "\t     0 Kidnapping                    \n",
      "\t    51 Weapons Offense               \n",
      "\t    16 Arson                         \n",
      "\t    81 Alarm                         \n",
      "\t  1457 Other                         \n",
      "\t     0 Family Offense                \n",
      "\t     0 Death                         \n",
      "    0 Emergency                     \n",
      "    0 Vehicle Recovery              \n",
      "    0 Homicide                      \n",
      "   43 Robbery                       \n",
      "  104 Theft of Vehicle              \n",
      "    0 Sexual Offense                \n",
      "\t     0 Sexual Assault                \n",
      "\t     0 Other Sexual Offense          \n",
      "    0 Assault                       \n",
      "\t   109 Assault with Deadly Weapon    \n",
      "\t    44 Assault                       \n",
      " 1388 Traffic                       \n",
      "    0 Property Crime                \n",
      "\t     0 Property Crime Residential    \n",
      "\t   499 Property Crime                \n",
      "\t     0 Property Crime Commercial     \n",
      "  269 Breaking & Entering           \n",
      "    0 Fire                          \n",
      "  487 Theft from Vehicle            \n"
     ]
    }
   ],
   "source": [
    "for category,data in categories.items():\n",
    "    print(\"{:5d} {:30s}\".format(len(data[\"crimes\"]), category))\n",
    "    for child_name,child_data in data[\"children\"].items():\n",
    "        print(\"\\t {:5d} {:30s}\".format(len(child_data[\"crimes\"]), child_name))"
   ]
  },
  {
   "cell_type": "markdown",
   "metadata": {},
   "source": [
    "It was noted that the \"parents\" are not necessarily composed of their children. This is probably due to legacy data."
   ]
  },
  {
   "cell_type": "code",
   "execution_count": 8,
   "metadata": {
    "collapsed": false
   },
   "outputs": [
    {
     "name": "stdout",
     "output_type": "stream",
     "text": [
      "Populating the interactive namespace from numpy and matplotlib\n"
     ]
    },
    {
     "name": "stderr",
     "output_type": "stream",
     "text": [
      "WARNING: pylab import has clobbered these variables: ['datetime', 'loads']\n",
      "`%matplotlib` prevents importing * from pylab and numpy\n"
     ]
    }
   ],
   "source": [
    "%pylab inline\n",
    "\n",
    "def heatmap(crimes, excluder):\n",
    "    import folium\n",
    "    from folium import plugins\n",
    "    data = []\n",
    "    for crime in crimes:\n",
    "        if excluder(crime):\n",
    "            data.append([crime[\"lat\"], crime[\"lng\"], 0.1])\n",
    "    mapa = folium.Map([48.4323, -123.3720], tiles='OpenStreetMap', zoom_start=13)\n",
    "    mapa.add_children(plugins.HeatMap(data))\n",
    "    return mapa\n",
    "\n",
    "def bars(title, crimes, variant):\n",
    "    import numpy\n",
    "    import matplotlib.pyplot as plot\n",
    "\n",
    "    if variant == \"weekday\":\n",
    "        days = [\"Monday\", \"Tuesday\", \"Wednesday\", \"Thursday\", \"Friday\", \"Saturday\", \"Sunday\"]\n",
    "        ind = numpy.arange(len(days))    # the x locations for the groups\n",
    "        width = 0.35       # the width of the bars: can also be len(x) sequence\n",
    "\n",
    "        morning = [0]*7; afternoon = [0]*7; night = [0]*7;\n",
    "        for crime in crimes:\n",
    "            hour_of_crime = datestring_to_date(crime[\"incident_date_time\"]).time().hour\n",
    "            day_of_week = datestring_to_date(crime[\"incident_date_time\"]).weekday()\n",
    "            if (hour_of_crime > 2 and hour_of_crime < 12):\n",
    "                morning[day_of_week] += 1\n",
    "            elif (hour_of_crime > 12 and hour_of_crime < 20):\n",
    "                afternoon[day_of_week] += 1\n",
    "            else:\n",
    "                night[day_of_week] += 1\n",
    "\n",
    "        morning_bar = plot.bar(ind, morning, width, color=\"r\", label=\"Morning\")\n",
    "        afternoon_bar = plot.bar(ind, afternoon, width, color=\"g\", label=\"Afternoon\", bottom=morning)\n",
    "        night_bar = plot.bar(ind, night, width, color=\"b\", label=\"Night\", bottom=[x+y for x,y in zip(morning,afternoon)])\n",
    "\n",
    "        plot.ylabel('Instances')\n",
    "        plot.title(str(title) + ' by Weekday')\n",
    "        plot.xticks(ind + width/2., [\"Monday\", \"Tuesday\", \"Wednesday\", \"Thursday\", \"Friday\", \"Saturday\", \"Sunday\"])\n",
    "        plt.legend(bbox_to_anchor=(1.05, 1), loc=2, borderaxespad=0.)\n",
    "    elif variant == \"monthday\":\n",
    "        days = [0]*31\n",
    "        ind = numpy.arange(len(days))    # the x locations for the groups\n",
    "        width = 0.35       # the width of the bars: can also be len(x) sequence\n",
    "\n",
    "        for crime in crimes:\n",
    "            day = datestring_to_date(crime[\"incident_date_time\"]).day # 1 index.\n",
    "            days[day-1] += 1\n",
    "\n",
    "        for day,instances in enumerate(days):\n",
    "            plot.bar(day, instances, width, label=(day+1))\n",
    "\n",
    "        plot.ylabel('Instances')\n",
    "        plot.title(str(title) + ' by Day of Month')\n",
    "    elif variant == \"month\":\n",
    "        months = [0]*12\n",
    "        ind = numpy.arange(len(months))    # the x locations for the groups\n",
    "        width = 0.35       # the width of the bars: can also be len(x) sequence\n",
    "\n",
    "        for crime in crimes:\n",
    "            month = datestring_to_date(crime[\"incident_date_time\"]).month # 1 index.\n",
    "            months[month-1] += 1\n",
    "\n",
    "        for month,instances in enumerate(months):\n",
    "            plot.bar(month, instances, width, label=datestring_to_date(crime[\"incident_date_time\"]).strftime(\"%B\"))\n",
    "\n",
    "        plot.ylabel('Instances')\n",
    "        plot.title(str(title) + ' by Month')\n",
    "    elif variant == \"date\":\n",
    "        months = [0]*12\n",
    "        ind = numpy.arange(len(months))    # the x locations for the groups\n",
    "        width = 0.35       # the width of the bars: can also be len(x) sequence\n",
    "\n",
    "        for crime in crimes:\n",
    "            month = datestring_to_date(crime[\"incident_date_time\"]).month # 1 index.\n",
    "            months[month-1] += 1\n",
    "\n",
    "        for month,instances in enumerate(months):\n",
    "            plot.bar(month, instances, width, label=datestring_to_date(crime[\"incident_date_time\"]).strftime(\"%B\"))\n",
    "\n",
    "        plot.ylabel('Instances')\n",
    "        plot.title(str(title) + ' by Month')\n",
    "    else:\n",
    "        return \"BADDD\"\n",
    "    \n",
    "    plot.show()"
   ]
  },
  {
   "cell_type": "code",
   "execution_count": 9,
   "metadata": {
    "collapsed": false
   },
   "outputs": [
    {
     "data": {
      "text/html": [
       "<div style=\"width:100%;\"><div style=\"position:relative;width:100%;height:0;padding-bottom:60%;\"><iframe src=\"data:text/html;base64,CiAgICAgICAgPCFET0NUWVBFIGh0bWw+CiAgICAgICAgPGhlYWQ+CiAgICAgICAgICAgIAogICAgICAgIAogICAgICAgICAgICA8bWV0YSBodHRwLWVxdWl2PSJjb250ZW50LXR5cGUiIGNvbnRlbnQ9InRleHQvaHRtbDsgY2hhcnNldD1VVEYtOCIgLz4KICAgICAgICAKICAgICAgICAgICAgCiAgICAgICAgCiAgICAgICAgICAgIDxzY3JpcHQgc3JjPSJodHRwczovL2NkbmpzLmNsb3VkZmxhcmUuY29tL2FqYXgvbGlicy9sZWFmbGV0LzAuNy4zL2xlYWZsZXQuanMiPjwvc2NyaXB0PgogICAgICAgIAogICAgICAgIAogICAgICAgIAogICAgICAgICAgICAKICAgICAgICAKICAgICAgICAgICAgPHNjcmlwdCBzcmM9Imh0dHBzOi8vYWpheC5nb29nbGVhcGlzLmNvbS9hamF4L2xpYnMvanF1ZXJ5LzEuMTEuMS9qcXVlcnkubWluLmpzIj48L3NjcmlwdD4KICAgICAgICAKICAgICAgICAKICAgICAgICAKICAgICAgICAgICAgCiAgICAgICAgCiAgICAgICAgICAgIDxzY3JpcHQgc3JjPSJodHRwczovL21heGNkbi5ib290c3RyYXBjZG4uY29tL2Jvb3RzdHJhcC8zLjIuMC9qcy9ib290c3RyYXAubWluLmpzIj48L3NjcmlwdD4KICAgICAgICAKICAgICAgICAKICAgICAgICAKICAgICAgICAgICAgCiAgICAgICAgCiAgICAgICAgICAgIDxzY3JpcHQgc3JjPSJodHRwczovL3Jhd2dpdGh1Yi5jb20vbHZvb2dkdC9MZWFmbGV0LmF3ZXNvbWUtbWFya2Vycy8yLjAvZGV2ZWxvcC9kaXN0L2xlYWZsZXQuYXdlc29tZS1tYXJrZXJzLmpzIj48L3NjcmlwdD4KICAgICAgICAKICAgICAgICAKICAgICAgICAKICAgICAgICAgICAgCiAgICAgICAgCiAgICAgICAgICAgIDxzY3JpcHQgc3JjPSJodHRwczovL2NkbmpzLmNsb3VkZmxhcmUuY29tL2FqYXgvbGlicy9sZWFmbGV0Lm1hcmtlcmNsdXN0ZXIvMC40LjAvbGVhZmxldC5tYXJrZXJjbHVzdGVyLXNyYy5qcyI+PC9zY3JpcHQ+CiAgICAgICAgCiAgICAgICAgCiAgICAgICAgCiAgICAgICAgICAgIAogICAgICAgIAogICAgICAgICAgICA8c2NyaXB0IHNyYz0iaHR0cHM6Ly9jZG5qcy5jbG91ZGZsYXJlLmNvbS9hamF4L2xpYnMvbGVhZmxldC5tYXJrZXJjbHVzdGVyLzAuNC4wL2xlYWZsZXQubWFya2VyY2x1c3Rlci5qcyI+PC9zY3JpcHQ+CiAgICAgICAgCiAgICAgICAgCiAgICAgICAgCiAgICAgICAgICAgIAogICAgICAgIAogICAgICAgICAgICA8bGluayByZWw9InN0eWxlc2hlZXQiIGhyZWY9Imh0dHBzOi8vY2RuanMuY2xvdWRmbGFyZS5jb20vYWpheC9saWJzL2xlYWZsZXQvMC43LjMvbGVhZmxldC5jc3MiIC8+CiAgICAgICAgCiAgICAgICAgCiAgICAgICAgCiAgICAgICAgICAgIAogICAgICAgIAogICAgICAgICAgICA8bGluayByZWw9InN0eWxlc2hlZXQiIGhyZWY9Imh0dHBzOi8vbWF4Y2RuLmJvb3RzdHJhcGNkbi5jb20vYm9vdHN0cmFwLzMuMi4wL2Nzcy9ib290c3RyYXAubWluLmNzcyIgLz4KICAgICAgICAKICAgICAgICAKICAgICAgICAKICAgICAgICAgICAgCiAgICAgICAgCiAgICAgICAgICAgIDxsaW5rIHJlbD0ic3R5bGVzaGVldCIgaHJlZj0iaHR0cHM6Ly9tYXhjZG4uYm9vdHN0cmFwY2RuLmNvbS9ib290c3RyYXAvMy4yLjAvY3NzL2Jvb3RzdHJhcC10aGVtZS5taW4uY3NzIiAvPgogICAgICAgIAogICAgICAgIAogICAgICAgIAogICAgICAgICAgICAKICAgICAgICAKICAgICAgICAgICAgPGxpbmsgcmVsPSJzdHlsZXNoZWV0IiBocmVmPSJodHRwczovL21heGNkbi5ib290c3RyYXBjZG4uY29tL2ZvbnQtYXdlc29tZS80LjEuMC9jc3MvZm9udC1hd2Vzb21lLm1pbi5jc3MiIC8+CiAgICAgICAgCiAgICAgICAgCiAgICAgICAgCiAgICAgICAgICAgIAogICAgICAgIAogICAgICAgICAgICA8bGluayByZWw9InN0eWxlc2hlZXQiIGhyZWY9Imh0dHBzOi8vcmF3Z2l0LmNvbS9sdm9vZ2R0L0xlYWZsZXQuYXdlc29tZS1tYXJrZXJzLzIuMC9kZXZlbG9wL2Rpc3QvbGVhZmxldC5hd2Vzb21lLW1hcmtlcnMuY3NzIiAvPgogICAgICAgIAogICAgICAgIAogICAgICAgIAogICAgICAgICAgICAKICAgICAgICAKICAgICAgICAgICAgPGxpbmsgcmVsPSJzdHlsZXNoZWV0IiBocmVmPSJodHRwczovL2NkbmpzLmNsb3VkZmxhcmUuY29tL2FqYXgvbGlicy9sZWFmbGV0Lm1hcmtlcmNsdXN0ZXIvMC40LjAvTWFya2VyQ2x1c3Rlci5EZWZhdWx0LmNzcyIgLz4KICAgICAgICAKICAgICAgICAKICAgICAgICAKICAgICAgICAgICAgCiAgICAgICAgCiAgICAgICAgICAgIDxsaW5rIHJlbD0ic3R5bGVzaGVldCIgaHJlZj0iaHR0cHM6Ly9jZG5qcy5jbG91ZGZsYXJlLmNvbS9hamF4L2xpYnMvbGVhZmxldC5tYXJrZXJjbHVzdGVyLzAuNC4wL01hcmtlckNsdXN0ZXIuY3NzIiAvPgogICAgICAgIAogICAgICAgIAogICAgICAgIAogICAgICAgICAgICAKICAgICAgICAKICAgICAgICAgICAgPGxpbmsgcmVsPSJzdHlsZXNoZWV0IiBocmVmPSJodHRwczovL3Jhdy5naXRodWJ1c2VyY29udGVudC5jb20vcHl0aG9uLXZpc3VhbGl6YXRpb24vZm9saXVtL21hc3Rlci9mb2xpdW0vdGVtcGxhdGVzL2xlYWZsZXQuYXdlc29tZS5yb3RhdGUuY3NzIiAvPgogICAgICAgIAogICAgICAgIAogICAgICAgIAogICAgICAgICAgICAKICAgICAgICAgICAgPHN0eWxlPgoKICAgICAgICAgICAgaHRtbCwgYm9keSB7CiAgICAgICAgICAgICAgICB3aWR0aDogMTAwJTsKICAgICAgICAgICAgICAgIGhlaWdodDogMTAwJTsKICAgICAgICAgICAgICAgIG1hcmdpbjogMDsKICAgICAgICAgICAgICAgIHBhZGRpbmc6IDA7CiAgICAgICAgICAgICAgICB9CgogICAgICAgICAgICAjbWFwIHsKICAgICAgICAgICAgICAgIHBvc2l0aW9uOmFic29sdXRlOwogICAgICAgICAgICAgICAgdG9wOjA7CiAgICAgICAgICAgICAgICBib3R0b206MDsKICAgICAgICAgICAgICAgIHJpZ2h0OjA7CiAgICAgICAgICAgICAgICBsZWZ0OjA7CiAgICAgICAgICAgICAgICB9CiAgICAgICAgICAgIDwvc3R5bGU+CiAgICAgICAgICAgIAogICAgICAgIAogICAgICAgICAgICAKICAgICAgICAgICAgPHN0eWxlPiAjbWFwX2NiNWU5ODRiMmE2OTQwNTk5YzliOTRlOTllN2JlMWM1IHsKICAgICAgICAgICAgICAgIHBvc2l0aW9uIDogcmVsYXRpdmU7CiAgICAgICAgICAgICAgICB3aWR0aCA6IDEwMC4wJTsKICAgICAgICAgICAgICAgIGhlaWdodDogMTAwLjAlOwogICAgICAgICAgICAgICAgbGVmdDogMC4wJTsKICAgICAgICAgICAgICAgIHRvcDogMC4wJTsKICAgICAgICAgICAgICAgIH0KICAgICAgICAgICAgPC9zdHlsZT4KICAgICAgICAKICAgICAgICAKICAgICAgICAgICAgCiAgICAgICAgCiAgICAgICAgICAgIDxzY3JpcHQgc3JjPSJodHRwczovL2xlYWZsZXQuZ2l0aHViLmlvL0xlYWZsZXQuaGVhdC9kaXN0L2xlYWZsZXQtaGVhdC5qcyI+PC9zY3JpcHQ+CiAgICAgICAgCiAgICAgICAgCiAgICAgICAgCiAgICAgICAgCiAgICAgICAgPC9oZWFkPgogICAgICAgIDxib2R5PgogICAgICAgICAgICAKICAgICAgICAKICAgICAgICAgICAgCiAgICAgICAgICAgIDxkaXYgY2xhc3M9ImZvbGl1bS1tYXAiIGlkPSJtYXBfY2I1ZTk4NGIyYTY5NDA1OTljOWI5NGU5OWU3YmUxYzUiID48L2Rpdj4KICAgICAgICAKICAgICAgICAKICAgICAgICAKICAgICAgICA8L2JvZHk+CiAgICAgICAgPHNjcmlwdD4KICAgICAgICAgICAgCiAgICAgICAgCiAgICAgICAgICAgIAoKICAgICAgICAgICAgdmFyIHNvdXRoV2VzdCA9IEwubGF0TG5nKC05MCwgLTE4MCk7CiAgICAgICAgICAgIHZhciBub3J0aEVhc3QgPSBMLmxhdExuZyg5MCwgMTgwKTsKICAgICAgICAgICAgdmFyIGJvdW5kcyA9IEwubGF0TG5nQm91bmRzKHNvdXRoV2VzdCwgbm9ydGhFYXN0KTsKCiAgICAgICAgICAgIHZhciBtYXBfY2I1ZTk4NGIyYTY5NDA1OTljOWI5NGU5OWU3YmUxYzUgPSBMLm1hcCgnbWFwX2NiNWU5ODRiMmE2OTQwNTk5YzliOTRlOTllN2JlMWM1JywgewogICAgICAgICAgICAgICAgICAgICAgICAgICAgICAgICAgICAgICAgICAgY2VudGVyOls0OC40MzIzLC0xMjMuMzcyXSwKICAgICAgICAgICAgICAgICAgICAgICAgICAgICAgICAgICAgICAgICAgIHpvb206IDEzLAogICAgICAgICAgICAgICAgICAgICAgICAgICAgICAgICAgICAgICAgICAgbWF4Qm91bmRzOiBib3VuZHMsCiAgICAgICAgICAgICAgICAgICAgICAgICAgICAgICAgICAgICAgICAgICBsYXllcnM6IFtdLAogICAgICAgICAgICAgICAgICAgICAgICAgICAgICAgICAgICAgICAgICAgY3JzOiBMLkNSUy5FUFNHMzg1NwogICAgICAgICAgICAgICAgICAgICAgICAgICAgICAgICAgICAgICAgIH0pOwogICAgICAgICAgICAKICAgICAgICAKICAgICAgICAKICAgICAgICAgICAgCiAgICAgICAgICAgIHZhciB0aWxlX2xheWVyXzZmNmIxOWYyN2EyNjRmNzA4ZWIwZTA2MGIyNzQ4NjFmID0gTC50aWxlTGF5ZXIoCiAgICAgICAgICAgICAgICAnaHR0cHM6Ly97c30udGlsZS5vcGVuc3RyZWV0bWFwLm9yZy97en0ve3h9L3t5fS5wbmcnLAogICAgICAgICAgICAgICAgewogICAgICAgICAgICAgICAgICAgIG1heFpvb206IDE4LAogICAgICAgICAgICAgICAgICAgIG1pblpvb206IDEsCiAgICAgICAgICAgICAgICAgICAgYXR0cmlidXRpb246ICdEYXRhIGJ5IDxhIGhyZWY9Imh0dHA6Ly9vcGVuc3RyZWV0bWFwLm9yZyI+T3BlblN0cmVldE1hcDwvYT4sIHVuZGVyIDxhIGhyZWY9Imh0dHA6Ly93d3cub3BlbnN0cmVldG1hcC5vcmcvY29weXJpZ2h0Ij5PRGJMPC9hPi4nLAogICAgICAgICAgICAgICAgICAgIGRldGVjdFJldGluYTogZmFsc2UKICAgICAgICAgICAgICAgICAgICB9CiAgICAgICAgICAgICAgICApLmFkZFRvKG1hcF9jYjVlOTg0YjJhNjk0MDU5OWM5Yjk0ZTk5ZTdiZTFjNSk7CgogICAgICAgIAogICAgICAgIAogICAgICAgICAgICAKICAgICAgICAgICAgdmFyIGhlYXRfbWFwXzVhZTRiZDNkZTgwYTQ5NTI4MjVlMGRiY2IxMDhlY2MwID0gTC5oZWF0TGF5ZXIoCiAgICAgICAgICAgICAgICBbWzQ4LjQzMDA4LCAtMTIzLjQxMTA4NiwgMC4xXSwgWzQ4LjQzNDExOSwgLTEyMy4zOTA0ODgsIDAuMV0sIFs0OC40Mzg4ODMsIC0xMjMuMzk2NDMzLCAwLjFdLCBbNDguNDI3MTE4LCAtMTIzLjM2NDE1OCwgMC4xXSwgWzQ4LjQyOTM0MywgLTEyMy4zNjg3NTcsIDAuMV0sIFs0OC40Mjc4NzUsIC0xMjMuMzYzMDM3LCAwLjFdLCBbNDguNDI3MTE4LCAtMTIzLjM2NDE1OCwgMC4xXSwgWzQ4LjQyNzc3MSwgLTEyMy4zNjIwOTgsIDAuMV0sIFs0OC40Mjc4MDksIC0xMjMuMzY5Nzg3LCAwLjFdLCBbNDguNDIwNTI3LCAtMTIzLjM2Mzg1MSwgMC4xXSwgWzQ4LjQyNjY1MiwgLTEyMy4zNjgyMzIsIDAuMV0sIFs0OC40Mjg2LCAtMTIzLjM2MDI5OCwgMC4xXSwgWzQ4LjQyNzExOCwgLTEyMy4zNjQxNTgsIDAuMV0sIFs0OC40MjczNDUsIC0xMjMuMzU2NTksIDAuMV0sIFs0OC40MjI5MSwgLTEyMy4zNTQxMzksIDAuMV0sIFs0OC40MjcyNTEsIC0xMjMuMzU3NTM5LCAwLjFdLCBbNDguNDMwMTE0LCAtMTIzLjM2OTY1OSwgMC4xXSwgWzQ4LjQzMTEwMiwgLTEyMy4zNjQwNzEsIDAuMV0sIFs0OC40MzExNTMsIC0xMjMuMzY5NzM2LCAwLjFdLCBbNDguNDMwODYzLCAtMTIzLjM1OTkwMSwgMC4xXSwgWzQ4LjQzMDg2MywgLTEyMy4zNTk5MDEsIDAuMV0sIFs0OC40MzA4NjMsIC0xMjMuMzU5OTAxLCAwLjFdLCBbNDguNDMyMDU3LCAtMTIzLjM1NDk3NywgMC4xXSwgWzQ4LjQzMDg2MywgLTEyMy4zNTk5MDEsIDAuMV0sIFs0OC40MzA4NjMsIC0xMjMuMzU5OTAxLCAwLjFdLCBbNDguNDQ3OTY5LCAtMTIzLjM4MTYyNCwgMC4xXSwgWzQ4LjQ0NjI3NCwgLTEyMy4zNzE0NTksIDAuMV0sIFs0OC40MzEzMjIsIC0xMjMuMzIyNDk3LCAwLjFdLCBbNDguNDQ1NjgxLCAtMTIzLjMzMzI5MiwgMC4xXSwgWzQ4LjQxOTMxNSwgLTEyMy4zNzU2NTYsIDAuMV0sIFs0OC40MTU2NzksIC0xMjMuMzU2MDI3LCAwLjFdXSwKICAgICAgICAgICAgICAgIHsKICAgICAgICAgICAgICAgICAgICBtaW5PcGFjaXR5OiAwLjUsCiAgICAgICAgICAgICAgICAgICAgbWF4Wm9vbTogMTgsCiAgICAgICAgICAgICAgICAgICAgbWF4OiAxLjAsCiAgICAgICAgICAgICAgICAgICAgcmFkaXVzOiAyNSwKICAgICAgICAgICAgICAgICAgICBibHVyOiAxNSwKICAgICAgICAgICAgICAgICAgICBncmFkaWVudDogbnVsbAogICAgICAgICAgICAgICAgICAgIH0pCiAgICAgICAgICAgICAgICAuYWRkVG8obWFwX2NiNWU5ODRiMmE2OTQwNTk5YzliOTRlOTllN2JlMWM1KTsKICAgICAgICAKICAgICAgICAKICAgICAgICAKICAgICAgICA8L3NjcmlwdD4KICAgICAgICA=\" style=\"position:absolute;width:100%;height:100%;left:0;top:0;\"></iframe></div></div>"
      ],
      "text/plain": [
       "<folium.folium.Map at 0x7fc3280d1438>"
      ]
     },
     "execution_count": 9,
     "metadata": {},
     "output_type": "execute_result"
    }
   ],
   "source": [
    "heatmap(categories[\"Quality of Life\"][\"children\"][\"Drugs\"][\"crimes\"],\n",
    "        lambda x: datestring_to_date(x[\"incident_date_time\"]).weekday() == 4)"
   ]
  },
  {
   "cell_type": "markdown",
   "metadata": {},
   "source": [
    "### Theft Morning/Afternoon/Night\n",
    "First, day between 2AM and 12PM:"
   ]
  },
  {
   "cell_type": "code",
   "execution_count": 10,
   "metadata": {
    "collapsed": false
   },
   "outputs": [
    {
     "data": {
      "text/html": [
       "<div style=\"width:100%;\"><div style=\"position:relative;width:100%;height:0;padding-bottom:60%;\"><iframe src=\"data:text/html;base64,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\" style=\"position:absolute;width:100%;height:100%;left:0;top:0;\"></iframe></div></div>"
      ],
      "text/plain": [
       "<folium.folium.Map at 0x7fc2f55715f8>"
      ]
     },
     "execution_count": 10,
     "metadata": {},
     "output_type": "execute_result"
    }
   ],
   "source": [
    "heatmap(categories[\"Theft\"][\"crimes\"],\n",
    "        lambda x: datestring_to_date(x[\"incident_date_time\"]).time().hour > 2 and\n",
    "                  datestring_to_date(x[\"incident_date_time\"]).time().hour < 12)"
   ]
  },
  {
   "cell_type": "code",
   "execution_count": 11,
   "metadata": {
    "collapsed": false
   },
   "outputs": [
    {
     "data": {
      "text/html": [
       "<div style=\"width:100%;\"><div style=\"position:relative;width:100%;height:0;padding-bottom:60%;\"><iframe src=\"data:text/html;base64,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\" style=\"position:absolute;width:100%;height:100%;left:0;top:0;\"></iframe></div></div>"
      ],
      "text/plain": [
       "<folium.folium.Map at 0x7fc2f5517dd8>"
      ]
     },
     "execution_count": 11,
     "metadata": {},
     "output_type": "execute_result"
    }
   ],
   "source": [
    "heatmap(categories[\"Theft\"][\"crimes\"],\n",
    "        lambda x: datestring_to_date(x[\"incident_date_time\"]).time().hour > 12 and\n",
    "                  datestring_to_date(x[\"incident_date_time\"]).time().hour < 20)"
   ]
  },
  {
   "cell_type": "code",
   "execution_count": 12,
   "metadata": {
    "collapsed": false
   },
   "outputs": [
    {
     "data": {
      "text/html": [
       "<div style=\"width:100%;\"><div style=\"position:relative;width:100%;height:0;padding-bottom:60%;\"><iframe src=\"data:text/html;base64,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\" style=\"position:absolute;width:100%;height:100%;left:0;top:0;\"></iframe></div></div>"
      ],
      "text/plain": [
       "<folium.folium.Map at 0x7fc2f5529e48>"
      ]
     },
     "execution_count": 12,
     "metadata": {},
     "output_type": "execute_result"
    }
   ],
   "source": [
    "heatmap(categories[\"Theft\"][\"crimes\"],\n",
    "        lambda x: datestring_to_date(x[\"incident_date_time\"]).time().hour > 20 or\n",
    "                  datestring_to_date(x[\"incident_date_time\"]).time().hour < 2)"
   ]
  },
  {
   "cell_type": "markdown",
   "metadata": {},
   "source": [
    "Now let's plot crime by day by time period:"
   ]
  },
  {
   "cell_type": "code",
   "execution_count": 13,
   "metadata": {
    "collapsed": false
   },
   "outputs": [
    {
     "data": {
      "image/png": "[encoded data removed]",
      "text/plain": [
       "<matplotlib.figure.Figure at 0x7fc3206328d0>"
      ]
     },
     "metadata": {},
     "output_type": "display_data"
    }
   ],
   "source": [
    "bars(\"Theft\", categories[\"Theft\"][\"crimes\"], \"weekday\")"
   ]
  },
  {
   "cell_type": "code",
   "execution_count": 14,
   "metadata": {
    "collapsed": false
   },
   "outputs": [
    {
     "data": {
      "image/png": "[encoded data removed]",
      "text/plain": [
       "<matplotlib.figure.Figure at 0x7fc2f5485978>"
      ]
     },
     "metadata": {},
     "output_type": "display_data"
    }
   ],
   "source": [
    "bars(\"Theft\", categories[\"Theft\"][\"crimes\"], \"monthday\")"
   ]
  },
  {
   "cell_type": "markdown",
   "metadata": {},
   "source": [
    "### Observation\n",
    "The 15th and 1st of each month have the most theft."
   ]
  },
  {
   "cell_type": "code",
   "execution_count": 15,
   "metadata": {
    "collapsed": false
   },
   "outputs": [
    {
     "data": {
      "image/png": "[encoded data removed]",
      "text/plain": [
       "<matplotlib.figure.Figure at 0x7fc2f540a4a8>"
      ]
     },
     "metadata": {},
     "output_type": "display_data"
    }
   ],
   "source": [
    "bars(\"Alchohol\", categories[\"Quality of Life\"][\"children\"][\"Drugs\"][\"crimes\"], \"weekday\")"
   ]
  },
  {
   "cell_type": "markdown",
   "metadata": {},
   "source": [
    "### Observation\n",
    "People are most irresponsible with Alchohol on Thursdays."
   ]
  },
  {
   "cell_type": "markdown",
   "metadata": {},
   "source": [
    "### Bias Observation:\n",
    "Notice that in theft by weekday and alcohol by weekday, the most eventful days were Tuesday and Thursday respectfully. A possible observation about this: perhaps these weren't actually the most eventful days, but just the days where the police had the most time to input the data. Maybe Friday and Saturday were more eventful, so much so that the police were less likely to plot data.\n",
    "So, maybe we have this bias effect normalizing all of our data, making it hard to spot these \"crime spikes\" in any way that seems reasonable to make conclusions from."
   ]
  },
  {
   "cell_type": "code",
   "execution_count": null,
   "metadata": {
    "collapsed": true
   },
   "outputs": [],
   "source": []
  }
 ],
 "metadata": {
  "kernelspec": {
   "display_name": "Python 3",
   "language": "python",
   "name": "python3"
  },
  "language_info": {
   "codemirror_mode": {
    "name": "ipython",
    "version": 3
   },
   "file_extension": ".py",
   "mimetype": "text/x-python",
   "name": "python",
   "nbconvert_exporter": "python",
   "pygments_lexer": "ipython3",
   "version": "3.4.3"
  }
 },
 "nbformat": 4,
 "nbformat_minor": 0
}
