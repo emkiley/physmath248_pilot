{
 "cells": [
  {
   "cell_type": "markdown",
   "metadata": {},
   "source": [
    "# This code gives a procedure that takes as its input a WeatherUnderground station ID.  It puts in a \"condition request\" for that station, and grabs a list of the nearby stations.  You can inductively build a data-set of all nearby stations. \n"
   ]
  },
  {
   "cell_type": "code",
   "execution_count": 7,
   "metadata": {
    "collapsed": false
   },
   "outputs": [
    {
     "name": "stdout",
     "output_type": "stream",
     "text": [
      "\n"
     ]
    }
   ],
   "source": [
    "## this allows us to build a C-like `struct' object\n",
    "from collections import namedtuple\n",
    "## this allows us to load up web pages and read them\n",
    "import urllib2\n",
    "## this is a library for parsing JSON files.  JSON stands for JavaScript Object Notation. It\n",
    "## is a common ASCII text file for describing structured data. \n",
    "import json\n",
    "## we will need to put delays in between our requests to web pages.  Popular web-pages\n",
    "## will block your access if you request too much data too quickly.\n",
    "import time \n",
    "## for writing out own json files\n",
    "import simplejson\n",
    "\n",
    "## These routines need a Weather Underground API.  You will need to request one from the Weather Underground webpage\n",
    "## to do your own scraping. If you use my one below, you will quickly be locked out. \n",
    "WAPI = \"your key here\"\n",
    "\n",
    "## \"WeatherStructure\" is the name of this data type. \n",
    "## If X is a WStruct, you can call its attributes by: x.StationID, x.assoc, etc. \n",
    "WStruct = namedtuple(\"WeatherStructure\", \"StationID assoc neighbourhood city province country lat lon elev time weather temp_c humid wind_string wind_dir wind_deg wind_kph pressure_mb dewpt_c precip_today\")\n",
    "## StationID is the Wunderground station ID code\n",
    "## assoc is the associated nearby Wunderground station ID's\n",
    "## neighbourhood is a text string indicating roughly where the station is\n",
    "## ..."
   ]
  },
  {
   "cell_type": "code",
   "execution_count": 8,
   "metadata": {
    "collapsed": false
   },
   "outputs": [],
   "source": [
    "## Give this routine a station ID, it will return a WStruct associated to the station\n",
    "def FetchWeather(fStationID):\n",
    "    URL_string = \"http://api.wunderground.com/api/\"+WAPI+\"/geolookup/conditions/q/pws:\"+fStationID+\".json\"\n",
    "    print fStationID,\n",
    "    URLobj = urllib2.urlopen(URL_string)\n",
    "    print \". \",\n",
    "    json_string = URLobj.read()\n",
    "    parsed_json = json.loads(json_string) ## This creates an index for reading the file\n",
    "    \n",
    "    # We will use this dictionary-object to build the retval, a WStruct type. \n",
    "    adj_pws_stations = parsed_json['location']['nearby_weather_stations']['pws']['station']\n",
    "    nearby_stations = [ adj_pws_stations[i]['id'] for i in range(len(adj_pws_stations)) ]\n",
    "    \n",
    "    # Return the WStruct\n",
    "    return WStruct(StationID = fStationID, assoc = nearby_stations, neighbourhood = adj_pws_stations[0]['neighborhood'], city = parsed_json['current_observation']['display_location']['city'], province = parsed_json['current_observation']['display_location']['state_name'], country = parsed_json['current_observation']['display_location']['country'], lat = parsed_json['current_observation']['display_location']['latitude'], lon = parsed_json['current_observation']['display_location']['longitude'], elev = parsed_json['current_observation']['display_location']['elevation'], time = parsed_json['current_observation']['observation_time'], weather = parsed_json['current_observation']['weather'], temp_c = parsed_json['current_observation']['temp_c'], humid = parsed_json['current_observation']['relative_humidity'], wind_string = parsed_json['current_observation']['wind_string'],wind_dir = parsed_json['current_observation']['wind_dir'], wind_deg = parsed_json['current_observation']['wind_degrees'], wind_kph = parsed_json['current_observation']['wind_kph'], pressure_mb = parsed_json['current_observation']['pressure_mb'], dewpt_c = parsed_json['current_observation']['dewpoint_c'], precip_today = parsed_json['current_observation']['precip_today_metric'])\n",
    "        \n"
   ]
  },
  {
   "cell_type": "code",
   "execution_count": 9,
   "metadata": {
    "collapsed": true
   },
   "outputs": [],
   "source": [
    "# Keep a list of stations we've already queried\n",
    "StationsVisited = []\n",
    "# And a list of stations we've discovered but not queried. We give it an initial seed.\n",
    "StationsUnexplored = [\"IBRITISH479\"]\n",
    "# List of fetched weather station data. \n",
    "WeatherStationData = []\n",
    "\n",
    "## Run through only the *newly discovered* weather stations, and poll\n",
    "## them, building the list of weather station data. \n",
    "\n",
    "def buildStationData():\n",
    "    print \"Fetching weather from station: \",\n",
    "    global StationsUnexplored\n",
    "    tempUnexplored = []\n",
    "    for i in range(len(StationsUnexplored)):\n",
    "        WS = FetchWeather(StationsUnexplored[i])\n",
    "        time.sleep(6) ## be nice!\n",
    "        WeatherStationData.append(WS)\n",
    "        StationsVisited.append(WS.StationID)\n",
    "        \n",
    "        ## let's start building the new unexplored list..\n",
    "        for j in range(len(WS.assoc)):\n",
    "            if (WS.assoc[j] not in StationsVisited) and (WS.assoc[j] not in StationsUnexplored) and (WS.assoc[j] not in tempUnexplored):\n",
    "                tempUnexplored.append(WS.assoc[j])\n",
    "    print(\"\\n\")\n",
    "    StationsUnexplored = list(tempUnexplored)\n",
    "    "
   ]
  },
  {
   "cell_type": "code",
   "execution_count": 17,
   "metadata": {
    "collapsed": false
   },
   "outputs": [
    {
     "name": "stdout",
     "output_type": "stream",
     "text": [
      "Fetching weather from station:  IBCVICTO45 .  IBCVICTO95 .  IBCVICTO28 .  IBCVICTO3 .  IBRITISH177 .  IBCVICTO61 .  IBCVICTO30 .  IBCVICTO9 .  IBCVICTO91 .  IBRITISH188 .  IBCVICTO71 .  IBCVICTO36 .  IBRITISH243 .  IBRITISH90 .  IBCVICTO89 .  IBCVICTO81 .  IBCVICTO16 .  IBCVICTO77 .  IBCVICTO41 .  IBCVICTO34 .  IBCVICTO42 .  IDNS70 .  IBCVICTO47 .  IBCVICTO11 .  IBCVICTO40 .  IBRITISH376 .  IBCVICTO83 .  IBRITISH329 .  MC4635 .  IBCNORTH29 .  IBCNORTH49 .  MAP473 .  \n",
      "\n",
      "('Explored: ', 33, 'Unexplored: ', 31, '\\n')\n"
     ]
    }
   ],
   "source": [
    "## This block you can execute as many times as you like, to buildup your station readings.\n",
    "# on iteration, the list size grows roughly like: 1, 23, 67, 116... at which point we're \n",
    "# up in Duncan already.  At the next stage we'd be in Vancouver and Port Angeles.\n",
    "buildStationData()\n",
    "print(\"Explored: \", len(StationsVisited), \"Unexplored: \", len(StationsUnexplored), \"\\n\")\n"
   ]
  },
  {
   "cell_type": "code",
   "execution_count": 18,
   "metadata": {
    "collapsed": false
   },
   "outputs": [],
   "source": [
    "## Let's do a plot of altitude vs temperature. \n",
    "%matplotlib inline \n",
    "## the above forces figures to stay in the browser window. \n",
    "from matplotlib import *\n",
    "import matplotlib.pyplot as plt\n",
    "\n",
    "xax = [float(WeatherStationData[i].elev) for i in range(len(WeatherStationData))]\n",
    "yax = [float(WeatherStationData[i].temp_c) for i in range(len(WeatherStationData))]"
   ]
  },
  {
   "cell_type": "code",
   "execution_count": 15,
   "metadata": {
    "collapsed": false
   },
   "outputs": [],
   "source": [
    "## Dump a list of 4-tuples to a file, for future linear regression\n",
    "elevV = [float(WeatherStationData[i].elev) for i in range(len(WeatherStationData))]\n",
    "humidV = [float(WeatherStationData[i].humid.replace(\"%\", \"\")) for i in range(len(WeatherStationData))]\n",
    "windspV = [float(WeatherStationData[i].wind_kph) for i in range(len(WeatherStationData))]\n",
    "tempV = [float(WeatherStationData[i].temp_c) for i in range(len(WeatherStationData))]\n",
    "dumpV = zip(elevV, humidV, windspV, tempV)\n",
    "\n",
    "f = open('elev.humid.windsp.temp.Jan21.205.txt','w')\n",
    "simplejson.dump(dumpV, f)\n",
    "f.close()"
   ]
  },
  {
   "cell_type": "code",
   "execution_count": 19,
   "metadata": {
    "collapsed": false
   },
   "outputs": [
    {
     "data": {
      "image/png": "[encoded data removed]",
      "text/plain": [
       "<matplotlib.figure.Figure at 0x7ff39c16d150>"
      ]
     },
     "metadata": {},
     "output_type": "display_data"
    }
   ],
   "source": [
    "plt.plot(xax,yax, 'ro')\n",
    "plt.show()"
   ]
  },
  {
   "cell_type": "markdown",
   "metadata": {
    "collapsed": false
   },
   "source": [
    "## As we can see, some of the elevation readings are anomalous. \n",
    "## We can delete those entries for the purpose of our graphic.\n",
    "## Google has a service that estimates altitude on the earth's surface\n",
    "## by lat and long coordinates.  I believe it uses satellite imagery to \n",
    "## make this determination -- this is how Google indicates the altitude\n",
    "## of objects on Google earth.  So if we wanted to we could correct\n",
    "## the altitudes in the above data. Google Earth's data appears to be\n",
    "## accurate to only 10m."
   ]
  },
  {
   "cell_type": "code",
   "execution_count": 20,
   "metadata": {
    "collapsed": false
   },
   "outputs": [],
   "source": [
    "rxax = [float(xax[i]) for i in range(len(xax)) if (float(xax[i])>-10.0)]\n",
    "ryax = [float(yax[i]) for i in range(len(xax)) if (float(xax[i])>-10.0)]"
   ]
  },
  {
   "cell_type": "code",
   "execution_count": 21,
   "metadata": {
    "collapsed": false
   },
   "outputs": [
    {
     "data": {
      "image/png": "[encoded data removed]",
      "text/plain": [
       "<matplotlib.figure.Figure at 0x7ff39c214510>"
      ]
     },
     "metadata": {},
     "output_type": "display_data"
    }
   ],
   "source": [
    "plt.plot(rxax,ryax, 'ro')\n",
    "plt.show()"
   ]
  },
  {
   "cell_type": "code",
   "execution_count": 12,
   "metadata": {
    "collapsed": false
   },
   "outputs": [],
   "source": [
    "## We can save our data to human-readable text-file\n",
    "import simplejson\n",
    "f = open('temp-vs-alt.jan21.afternoon.txt','w')\n",
    "simplejson.dump([xax, yax], f)\n",
    "f.close()"
   ]
  },
  {
   "cell_type": "code",
   "execution_count": 23,
   "metadata": {
    "collapsed": false
   },
   "outputs": [],
   "source": [
    "## And we can load it back later. \n",
    "f = open('temp-vs-alt.jan21.afternoon.txt','r')\n",
    "[l1,l2] = simplejson.load(f)"
   ]
  },
  {
   "cell_type": "code",
   "execution_count": 24,
   "metadata": {
    "collapsed": false
   },
   "outputs": [
    {
     "data": {
      "image/png": "[encoded data removed]",
      "text/plain": [
       "<matplotlib.figure.Figure at 0x7ff39c0be7d0>"
      ]
     },
     "metadata": {},
     "output_type": "display_data"
    }
   ],
   "source": [
    "## Let's consider doing some basic statistical analysis of the patterns here. \n",
    "## Linear Regression (see Wikipedia) can be used to find a unique line that is\n",
    "## a `best fit' for the data. This means the sum of the distances of the points from\n",
    "## the `regression line' is minimal... in a fairly specific sense. \n",
    "from scipy import stats\n",
    "import numpy as np\n",
    "slope, intercept, r_value, p_value, std_err = stats.linregress(rxax, ryax)\n",
    "plt.plot(rxax,ryax,'ro')\n",
    "linfunc = intercept + rxax*slope\n",
    "plt.plot([0.0, 250.0], [intercept, 250.0*slope+intercept], 'y-') ## Add the regression line\n",
    "plt.show()"
   ]
  },
  {
   "cell_type": "code",
   "execution_count": 25,
   "metadata": {
    "collapsed": false
   },
   "outputs": [
    {
     "name": "stdout",
     "output_type": "stream",
     "text": [
      "('p-value: ', 0.42874758441816518)\n",
      "('R-value: ', -0.14491465351860147)\n",
      "('std_err: ', 0.0033613112434486728)\n"
     ]
    }
   ],
   "source": [
    "## One can as for a quantification of \"how good\" the above fit is. \n",
    "print(\"p-value: \", p_value)\n",
    "print(\"R-value: \", r_value)\n",
    "print(\"std_err: \", std_err)"
   ]
  },
  {
   "cell_type": "markdown",
   "metadata": {},
   "source": [
    "The $R$-value is defined as \n",
    "$$ R^2 = \\frac{\\sum_i (\\hat y_i - \\overline{y})^2}{\\sum (y_i - \\overline{y})^2}$$\n",
    "where $y_i$ are the observed $y$-values, $\\overline{y}$ is their mean, and $\\hat y_i$ is the fitted $y$-values, i.e. the linear function above evaluated at the $x_i$ coordinates. So the $R$-value is highly scale dependent, but gives a clear idea of whether or not the predicted and measured quantities $\\hat y_i$ and $y_i$ respectively have similar variation about the mean. \n",
    "\n",
    "The $p$-value measures confidence that the slope is horizontal, or more precisely, that there is no indication of dependence of the $y$-variable on the $x$.  It is a number between $0$ and $1$, it is $1$ when there is fair certainty the fitting line could be horizontal.  It is $0$ (or close to $0$) when there is (good) certainty the slope is non-zero and the data fits that line `well'. "
   ]
  },
  {
   "cell_type": "code",
   "execution_count": null,
   "metadata": {
    "collapsed": true
   },
   "outputs": [],
   "source": []
  }
 ],
 "metadata": {
  "kernelspec": {
   "display_name": "Python 2",
   "language": "python",
   "name": "python2"
  },
  "language_info": {
   "codemirror_mode": {
    "name": "ipython",
    "version": 2
   },
   "file_extension": ".py",
   "mimetype": "text/x-python",
   "name": "python",
   "nbconvert_exporter": "python",
   "pygments_lexer": "ipython2",
   "version": "2.7.6"
  }
 },
 "nbformat": 4,
 "nbformat_minor": 0
}
