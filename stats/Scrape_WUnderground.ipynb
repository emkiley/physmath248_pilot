{
 "cells": [
  {
   "cell_type": "markdown",
   "metadata": {},
   "source": [
    "# This code gives a procedure that takes as its input a WeatherUnderground station ID.  It puts in a condition request of that station, and grabs a list of the nearby stations.  You can inductively build a data-set of all nearby stations. \n"
   ]
  },
  {
   "cell_type": "code",
   "execution_count": 26,
   "metadata": {
    "collapsed": true
   },
   "outputs": [],
   "source": [
    "## this allows us to build a C-like `struct' object\n",
    "from collections import namedtuple\n",
    "## this allows us to load up web pages and read them\n",
    "import urllib2\n",
    "## this is a library for parsing JSON files.  JSON stands for JavaScript Object Notation. It\n",
    "## is a common ASCII text file for describing structured data. \n",
    "import json\n",
    "## we will need to put delays in between our requests to web pages.  Popular web-pages\n",
    "## will block your access if you request too much data too quickly.\n",
    "import time "
   ]
  },
  {
   "cell_type": "code",
   "execution_count": 27,
   "metadata": {
    "collapsed": true
   },
   "outputs": [],
   "source": [
    "## These routines need a Weather Underground API.  You will need to request one from the Weather Underground webpage\n",
    "## to do your own scraping. If you use my one below, you will quickly be locked out. \n",
    "WAPI = \"yours.api.key.goes.here\""
   ]
  },
  {
   "cell_type": "code",
   "execution_count": 28,
   "metadata": {
    "collapsed": false
   },
   "outputs": [],
   "source": [
    "## \"WeatherStructure\" is the name of this data type. \n",
    "## If X is a WStruct, you can call its attributes by: x.StationID, x.assoc, etc. \n",
    "WStruct = namedtuple(\"WeatherStructure\", \"StationID assoc neighbourhood city province country lat lon elev time weather temp_c humid wind_string wind_dir wind_deg wind_kph pressure_mb dewpt_c precip_today\")\n",
    "## StationID is the Wunderground station ID code\n",
    "## assoc is the associated nearby Wunderground station ID's\n",
    "## neighbourhood is a text string indicating roughly where the station is\n",
    "## ..."
   ]
  },
  {
   "cell_type": "code",
   "execution_count": 29,
   "metadata": {
    "collapsed": true
   },
   "outputs": [],
   "source": [
    "# Keep a list of stations we've already queried\n",
    "StationsVisited = []\n",
    "# And a list of stations we've discovered but not queried. \n",
    "StationsUnexplored = []\n",
    "# List of fetched weather stations.\n",
    "WeatherStationData = []"
   ]
  },
  {
   "cell_type": "code",
   "execution_count": 30,
   "metadata": {
    "collapsed": false
   },
   "outputs": [],
   "source": [
    "## Give this routine a station ID, it will return a WStruct associated to the station\n",
    "def FetchWeather(fStationID):\n",
    "    URL_string = \"http://api.wunderground.com/api/\"+WAPI+\"/geolookup/conditions/q/pws:\"+fStationID+\".json\"\n",
    "    print \"Fetching weather from station: \"+fStationID\n",
    "    URLobj = urllib2.urlopen(URL_string)\n",
    "    json_string = URLobj.read()\n",
    "    parsed_json = json.loads(json_string) ## This creates an index for reading the file\n",
    "    \n",
    "    # We will use this dictionary-object to build the retval, a WStruct type. \n",
    "    adj_pws_stations = parsed_json['location']['nearby_weather_stations']['pws']['station']\n",
    "    nearby_stations = [ adj_pws_stations[i]['id'] for i in range(len(adj_pws_stations)) ]\n",
    "    \n",
    "    # Return the WStruct\n",
    "    return WStruct(StationID = fStationID, assoc = nearby_stations, neighbourhood = adj_pws_stations[0]['neighborhood'], city = parsed_json['current_observation']['display_location']['city'], province = parsed_json['current_observation']['display_location']['state_name'], country = parsed_json['current_observation']['display_location']['country'], lat = parsed_json['current_observation']['display_location']['latitude'], lon = parsed_json['current_observation']['display_location']['longitude'], elev = parsed_json['current_observation']['display_location']['elevation'], time = parsed_json['current_observation']['observation_time'], weather = parsed_json['current_observation']['weather'], temp_c = parsed_json['current_observation']['temp_c'], humid = parsed_json['current_observation']['relative_humidity'], wind_string = parsed_json['current_observation']['wind_string'],wind_dir = parsed_json['current_observation']['wind_dir'], wind_deg = parsed_json['current_observation']['wind_degrees'], wind_kph = parsed_json['current_observation']['wind_kph'], pressure_mb = parsed_json['current_observation']['pressure_mb'], dewpt_c = parsed_json['current_observation']['dewpoint_c'], precip_today = parsed_json['current_observation']['precip_today_metric'])\n",
    "        \n"
   ]
  },
  {
   "cell_type": "code",
   "execution_count": 31,
   "metadata": {
    "collapsed": false
   },
   "outputs": [
    {
     "name": "stdout",
     "output_type": "stream",
     "text": [
      "Fetching weather from station: IBRITISH479\n"
     ]
    }
   ],
   "source": [
    "WS = FetchWeather(\"IBRITISH479\")\n",
    "## WUnderground's API requires 6 seconds between each request for data.  So we put in a 7-second delay, to be careful.\n",
    "time.sleep(6)"
   ]
  },
  {
   "cell_type": "code",
   "execution_count": 32,
   "metadata": {
    "collapsed": false
   },
   "outputs": [
    {
     "name": "stdout",
     "output_type": "stream",
     "text": [
      "IBRITISH479 Darcy ln. Cordova bay.\n"
     ]
    }
   ],
   "source": [
    "print WS.StationID, WS.neighbourhood"
   ]
  },
  {
   "cell_type": "code",
   "execution_count": 33,
   "metadata": {
    "collapsed": false
   },
   "outputs": [],
   "source": [
    "WeatherStationData.append(WS)\n",
    "StationsVisited.append(WS.StationID)"
   ]
  },
  {
   "cell_type": "code",
   "execution_count": 34,
   "metadata": {
    "collapsed": false
   },
   "outputs": [
    {
     "name": "stdout",
     "output_type": "stream",
     "text": [
      "Fetching weather from station: IBRITISH339\n",
      "Fetching weather from station: IBCVICTO45\n",
      "Fetching weather from station: IBCVICTO28\n",
      "Fetching weather from station: IBCVICTO3\n",
      "Fetching weather from station: IBRITISH177\n",
      "Fetching weather from station: IBCVICTO61\n",
      "Fetching weather from station: IBCVICTO30\n",
      "Fetching weather from station: IBCVICTO9\n",
      "Fetching weather from station: IBCVICTO91\n",
      "Fetching weather from station: IBRITISH188\n",
      "Fetching weather from station: IBCVICTO71\n",
      "Fetching weather from station: IBCVICTO36\n",
      "Fetching weather from station: IBRITISH243\n",
      "Fetching weather from station: IBRITISH90\n",
      "Fetching weather from station: IBCVICTO89\n",
      "Fetching weather from station: IBCVICTO81\n",
      "Fetching weather from station: MAV097\n",
      "Fetching weather from station: IBCVICTO16\n",
      "Fetching weather from station: IBCVICTO77\n",
      "Fetching weather from station: IBCVICTO41\n",
      "Fetching weather from station: IBCVICTO34\n",
      "Fetching weather from station: IBCVICTO87\n",
      "Fetching weather from station: IBCVICTO42\n",
      "Fetching weather from station: IDNS70\n",
      "Fetching weather from station: IBCVICTO47\n",
      "Fetching weather from station: IBCVICTO11\n",
      "Fetching weather from station: IBCVICTO40\n",
      "Fetching weather from station: IBRITISH376\n",
      "Fetching weather from station: IBCVICTO83\n",
      "Fetching weather from station: IBRITISH329\n",
      "Fetching weather from station: MC4635\n",
      "Fetching weather from station: MAP473\n"
     ]
    }
   ],
   "source": [
    "## Now we run through the associated stations in WS.  If they are not in StationsVisited, we will explore them.\n",
    "WeatherStationsVisited=[]\n",
    "for i in range(len(WS.assoc)):\n",
    "    if WS.assoc[i] not in StationsVisited:\n",
    "        WSi = FetchWeather(WS.assoc[i])\n",
    "        WeatherStationData.append(WSi)\n",
    "        StationsVisited.append(WSi.StationID)\n",
    "        "
   ]
  },
  {
   "cell_type": "code",
   "execution_count": 52,
   "metadata": {
    "collapsed": false
   },
   "outputs": [],
   "source": [
    "## Let's do a plot of altitude vs temperature. \n",
    "%matplotlib inline \n",
    "## the above forces figures to stay in the browser window. \n",
    "from matplotlib import *\n",
    "import matplotlib.pyplot as plt"
   ]
  },
  {
   "cell_type": "code",
   "execution_count": 36,
   "metadata": {
    "collapsed": true
   },
   "outputs": [],
   "source": [
    "xax = [WeatherStationData[i].elev for i in range(len(WeatherStationData))]"
   ]
  },
  {
   "cell_type": "code",
   "execution_count": 37,
   "metadata": {
    "collapsed": true
   },
   "outputs": [],
   "source": [
    "yax = [WeatherStationData[i].temp_c for i in range(len(WeatherStationData))]"
   ]
  },
  {
   "cell_type": "code",
   "execution_count": 38,
   "metadata": {
    "collapsed": false
   },
   "outputs": [],
   "source": [
    "plt.plot(xax,yax, 'ro')\n",
    "plt.show()"
   ]
  },
  {
   "cell_type": "code",
   "execution_count": 39,
   "metadata": {
    "collapsed": false
   },
   "outputs": [
    {
     "name": "stdout",
     "output_type": "stream",
     "text": [
      "[u'154.00000000', u'154.00000000', u'154.00000000', u'9.00000000', u'154.00000000', u'9.00000000', u'60.00000000', u'154.00000000', u'60.00000000', u'60.00000000', u'9.00000000', u'60.00000000', u'9.00000000', u'20.00000000', u'60.00000000', u'9.00000000', u'60.00000000', u'66.00000000', u'154.00000000', u'20.00000000', u'3.00000000', u'9.00000000', u'3.00000000', u'3.00000000', u'66.00000000', u'3.00000000', u'3.00000000', u'3.00000000', u'66.00000000', u'81.00000000', u'-3048.00000000', u'94.00000000', u'81.00000000']\n"
     ]
    }
   ],
   "source": [
    "print xax"
   ]
  },
  {
   "cell_type": "code",
   "execution_count": 40,
   "metadata": {
    "collapsed": false
   },
   "outputs": [
    {
     "name": "stdout",
     "output_type": "stream",
     "text": [
      "33\n"
     ]
    }
   ],
   "source": [
    "print len(WeatherStationData)"
   ]
  },
  {
   "cell_type": "code",
   "execution_count": 43,
   "metadata": {
    "collapsed": false
   },
   "outputs": [
    {
     "name": "stdout",
     "output_type": "stream",
     "text": [
      "30\n"
     ]
    }
   ],
   "source": [
    "for i in range(len(xax)): \n",
    "    if (float(xax[i])<0.0): \n",
    "        print i"
   ]
  },
  {
   "cell_type": "code",
   "execution_count": 45,
   "metadata": {
    "collapsed": false
   },
   "outputs": [],
   "source": [
    "del(xax[30])\n",
    "del(yax[30])"
   ]
  },
  {
   "cell_type": "code",
   "execution_count": 53,
   "metadata": {
    "collapsed": false
   },
   "outputs": [],
   "source": [
    "for i in range(len(xax)): \n",
    "    if (float(xax[i])<0.0): \n",
    "        print i"
   ]
  },
  {
   "cell_type": "code",
   "execution_count": 54,
   "metadata": {
    "collapsed": false
   },
   "outputs": [
    {
     "data": {
      "image/png": "[encoded data removed]",
      "text/plain": [
       "<matplotlib.figure.Figure at 0x7f5b3007bf10>"
      ]
     },
     "metadata": {},
     "output_type": "display_data"
    }
   ],
   "source": [
    "plt.plot(xax,yax, 'ro')\n",
    "plt.show()"
   ]
  },
  {
   "cell_type": "code",
   "execution_count": null,
   "metadata": {
    "collapsed": true
   },
   "outputs": [],
   "source": []
  }
 ],
 "metadata": {
  "kernelspec": {
   "display_name": "Python 2",
   "language": "python",
   "name": "python2"
  },
  "language_info": {
   "codemirror_mode": {
    "name": "ipython",
    "version": 2
   },
   "file_extension": ".py",
   "mimetype": "text/x-python",
   "name": "python",
   "nbconvert_exporter": "python",
   "pygments_lexer": "ipython2",
   "version": "2.7.6"
  }
 },
 "nbformat": 4,
 "nbformat_minor": 0
}
