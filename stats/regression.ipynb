{
 "cells": [
  {
   "cell_type": "code",
   "execution_count": 3,
   "metadata": {
    "collapsed": true
   },
   "outputs": [],
   "source": [
    "## We demonstrate some multi-variable linear regression. \n",
    "## the purpose of this is to look for a linear pattern \n",
    "## among the 205 measurements of elevation, humidity,windspeed and temperature\n",
    "## made on the night of Jan 21st.  First, we load the data file. \n",
    "\n",
    "import simplejson"
   ]
  },
  {
   "cell_type": "code",
   "execution_count": 4,
   "metadata": {
    "collapsed": false
   },
   "outputs": [],
   "source": [
    "f=open('elev.humid.windsp.temp.Jan21.205.txt','r')\n",
    "DAT = simplejson.load(f)\n"
   ]
  },
  {
   "cell_type": "code",
   "execution_count": 7,
   "metadata": {
    "collapsed": false
   },
   "outputs": [],
   "source": [
    "import numpy as np\n",
    "import statsmodels.api as sm"
   ]
  },
  {
   "cell_type": "code",
   "execution_count": 23,
   "metadata": {
    "collapsed": false
   },
   "outputs": [
    {
     "name": "stdout",
     "output_type": "stream",
     "text": [
      "                            OLS Regression Results                            \n",
      "==============================================================================\n",
      "Dep. Variable:                      y   R-squared:                       0.237\n",
      "Model:                            OLS   Adj. R-squared:                  0.226\n",
      "Method:                 Least Squares   F-statistic:                     20.85\n",
      "Date:                Fri, 22 Jan 2016   Prob (F-statistic):           8.36e-12\n",
      "Time:                        00:03:09   Log-Likelihood:                -301.17\n",
      "No. Observations:                 205   AIC:                             610.3\n",
      "Df Residuals:                     201   BIC:                             623.6\n",
      "Df Model:                           3                                         \n",
      "Covariance Type:            nonrobust                                         \n",
      "==============================================================================\n",
      "                 coef    std err          t      P>|t|      [95.0% Conf. Int.]\n",
      "------------------------------------------------------------------------------\n",
      "x1             0.0688      0.011      6.335      0.000         0.047     0.090\n",
      "x2            -0.0009      0.001     -1.603      0.111        -0.002     0.000\n",
      "x3             0.0004   9.09e-05      4.013      0.000         0.000     0.001\n",
      "const          9.3410      0.102     91.956      0.000         9.141     9.541\n",
      "==============================================================================\n",
      "Omnibus:                        2.359   Durbin-Watson:                   1.096\n",
      "Prob(Omnibus):                  0.307   Jarque-Bera (JB):                2.002\n",
      "Skew:                          -0.166   Prob(JB):                        0.368\n",
      "Kurtosis:                       3.353   Cond. No.                     1.14e+03\n",
      "==============================================================================\n",
      "\n",
      "Warnings:\n",
      "[1] Standard Errors assume that the covariance matrix of the errors is correctly specified.\n",
      "[2] The condition number is large, 1.14e+03. This might indicate that there are\n",
      "strong multicollinearity or other numerical problems.\n",
      "[  1.52650842e-009   1.10548643e-001   8.46866044e-005   3.31684199e-166]\n"
     ]
    }
   ],
   "source": [
    "## We split the DAT list\n",
    "elevV = np.array([float(DAT[i][0]) for i in range(len(DAT))])\n",
    "humidV = np.array([float(DAT[i][1]) for i in range(len(DAT))])\n",
    "windV = np.array([float(DAT[i][2]) for i in range(len(DAT))])\n",
    "tempV = np.array([float(DAT[i][3]) for i in range(len(DAT))])\n",
    "\n",
    "def reg_m(y,x):\n",
    "    ones = np.ones(len(x[0]))\n",
    "    X = sm.add_constant(np.column_stack((x[0], ones)))\n",
    "    for ele in x[1:]:\n",
    "        X = sm.add_constant(np.column_stack((ele,X)))\n",
    "    results = sm.OLS(y,X).fit()\n",
    "    return results\n",
    "\n",
    "EHW = np.array([elevV, humidV, windV])\n",
    "\n",
    "res = reg_m(tempV, EHW)\n",
    "print res.summary()\n",
    "print res.pvalues"
   ]
  },
  {
   "cell_type": "code",
   "execution_count": null,
   "metadata": {
    "collapsed": true
   },
   "outputs": [],
   "source": []
  }
 ],
 "metadata": {
  "kernelspec": {
   "display_name": "Python 2",
   "language": "python",
   "name": "python2"
  },
  "language_info": {
   "codemirror_mode": {
    "name": "ipython",
    "version": 2
   },
   "file_extension": ".py",
   "mimetype": "text/x-python",
   "name": "python",
   "nbconvert_exporter": "python",
   "pygments_lexer": "ipython2",
   "version": "2.7.6"
  }
 },
 "nbformat": 4,
 "nbformat_minor": 0
}
