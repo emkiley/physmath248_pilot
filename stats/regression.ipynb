{
 "cells": [
  {
   "cell_type": "code",
   "execution_count": null,
   "metadata": {
    "collapsed": true
   },
   "outputs": [],
   "source": [
    "## We demonstrate some multi-variable linear regression. \n",
    "## the purpose of this is to look for a linear pattern \n",
    "## among the 205 measurements of elevation, humidity,windspeed and temperature\n",
    "## made on the night of Jan 21st.  First, we load the data file. \n",
    "\n",
    "import simplejson"
   ]
  },
  {
   "cell_type": "code",
   "execution_count": null,
   "metadata": {
    "collapsed": false
   },
   "outputs": [],
   "source": [
    "f=open('elev.humid.windsp.temp.Mar3.27.txt','r')\n",
    "DAT = simplejson.load(f)\n"
   ]
  },
  {
   "cell_type": "code",
   "execution_count": null,
   "metadata": {
    "collapsed": false
   },
   "outputs": [],
   "source": [
    "import numpy as np\n",
    "import statsmodels.api as sm"
   ]
  },
  {
   "cell_type": "code",
   "execution_count": null,
   "metadata": {
    "collapsed": false
   },
   "outputs": [],
   "source": [
    "## We split the DAT list\n",
    "elevV = np.array([float(DAT[i][0]) for i in range(len(DAT))])\n",
    "humidV = np.array([float(DAT[i][1]) for i in range(len(DAT))])\n",
    "windV = np.array([float(DAT[i][2]) for i in range(len(DAT))])\n",
    "tempV = np.array([float(DAT[i][3]) for i in range(len(DAT))])\n",
    "\n",
    "def reg_m(y,x):\n",
    "    ones = np.ones(len(x[0]))\n",
    "    X = sm.add_constant(np.column_stack((x[0], ones)))\n",
    "    for ele in x[1:]:\n",
    "        X = sm.add_constant(np.column_stack((ele,X)))\n",
    "    results = sm.OLS(y,X).fit()\n",
    "    return results\n",
    "\n",
    "EHW = np.array([elevV, humidV, windV])\n",
    "\n",
    "res = reg_m(tempV, EHW)\n",
    "print(res.summary())\n",
    "print(res.pvalues)"
   ]
  },
  {
   "cell_type": "code",
   "execution_count": null,
   "metadata": {
    "collapsed": true
   },
   "outputs": [],
   "source": []
  }
 ],
 "metadata": {
  "kernelspec": {
   "display_name": "Python 3",
   "language": "python",
   "name": "python3"
  },
  "language_info": {
   "codemirror_mode": {
    "name": "ipython",
    "version": 3
   },
   "file_extension": ".py",
   "mimetype": "text/x-python",
   "name": "python",
   "nbconvert_exporter": "python",
   "pygments_lexer": "ipython3",
   "version": "3.4.3"
  }
 },
 "nbformat": 4,
 "nbformat_minor": 0
}
