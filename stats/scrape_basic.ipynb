{
 "cells": [
  {
   "cell_type": "code",
   "execution_count": 27,
   "metadata": {
    "collapsed": true
   },
   "outputs": [],
   "source": [
    "## Scraping Weather Underground. First attempt ... groping in the dark. \n",
    "\n",
    "import json\n",
    "## this allows us to load up web pages and read them\n",
    "import urllib2\n",
    "## this is a library for parsing JSON files.  JSON stands for JavaScript Object Notation. It\n",
    "## is a common ASCII text file for describing structured data. \n",
    "import json\n",
    "## we will need to put delays in between our requests to web pages.  Popular web-pages\n",
    "## will block your access if you request too much data too quickly.\n",
    "import time \n",
    "\n",
    "WAPI = \"your.api.key.goes.here\"\n",
    "## the string between api/ and /geolookup is the API key.  Some webpages require you to\n",
    "## register with them to allow for automated scraping.  The key below is my personal one. \n",
    "## If you wish to scrape on your own, you can apply for your own API key. Weather Underground\n",
    "## allows for 500 free \"scrapes\" per day. \n",
    "\n",
    "## the format for requests from the weather underground service is \n",
    "##    http://api.wunderground.com/api/YOUR-API-CODE/FEATURE/SETTING/q/QUERY.FORMAT\n",
    "##\n",
    "## See the website for details.  Each such query gives you back a webpage of your choosing. \n",
    "## FEATURE can be: conditions, forecast, geolookup, ...\n",
    "## SETTING can be: lang, pws, bestfct\n",
    "## QUERY can be: various location codes\n",
    "## FORMAT can be: json or xml, two standard ASCII text formats for exchanging structured data.\n",
    "\n",
    "\n",
    "f=urllib2.urlopen('http://api.wunderground.com/api/\"+WAPI+\"/geolookup/conditions/q/Canada/Victoria.json')\n",
    "json_string = f.read()"
   ]
  },
  {
   "cell_type": "code",
   "execution_count": 19,
   "metadata": {
    "collapsed": false
   },
   "outputs": [],
   "source": [
    "#print json_string"
   ]
  },
  {
   "cell_type": "code",
   "execution_count": 28,
   "metadata": {
    "collapsed": false
   },
   "outputs": [
    {
     "name": "stdout",
     "output_type": "stream",
     "text": [
      "json_string type:  <type 'str'>\n",
      "parsed string type:  <type 'dict'>\n"
     ]
    },
    {
     "ename": "KeyError",
     "evalue": "'location'",
     "output_type": "error",
     "traceback": [
      "\u001b[1;31m---------------------------------------------------------------------------\u001b[0m",
      "\u001b[1;31mKeyError\u001b[0m                                  Traceback (most recent call last)",
      "\u001b[1;32m<ipython-input-28-1d18a7987709>\u001b[0m in \u001b[0;36m<module>\u001b[1;34m()\u001b[0m\n\u001b[0;32m      2\u001b[0m \u001b[0mparsed_json1\u001b[0m \u001b[1;33m=\u001b[0m \u001b[0mjson\u001b[0m\u001b[1;33m.\u001b[0m\u001b[0mloads\u001b[0m\u001b[1;33m(\u001b[0m\u001b[0mjson_string\u001b[0m\u001b[1;33m)\u001b[0m\u001b[1;33m\u001b[0m\u001b[0m\n\u001b[0;32m      3\u001b[0m \u001b[1;32mprint\u001b[0m \u001b[1;34m\"parsed string type: \"\u001b[0m\u001b[1;33m,\u001b[0m \u001b[0mtype\u001b[0m\u001b[1;33m(\u001b[0m\u001b[0mparsed_json1\u001b[0m\u001b[1;33m)\u001b[0m\u001b[1;33m\u001b[0m\u001b[0m\n\u001b[1;32m----> 4\u001b[1;33m \u001b[0mlocation\u001b[0m \u001b[1;33m=\u001b[0m \u001b[0mparsed_json1\u001b[0m\u001b[1;33m[\u001b[0m\u001b[1;34m'location'\u001b[0m\u001b[1;33m]\u001b[0m\u001b[1;33m[\u001b[0m\u001b[1;34m'city'\u001b[0m\u001b[1;33m]\u001b[0m\u001b[1;33m\u001b[0m\u001b[0m\n\u001b[0m\u001b[0;32m      5\u001b[0m \u001b[0mtemp_f\u001b[0m \u001b[1;33m=\u001b[0m \u001b[0mparsed_json1\u001b[0m\u001b[1;33m[\u001b[0m\u001b[1;34m'current_observation'\u001b[0m\u001b[1;33m]\u001b[0m\u001b[1;33m[\u001b[0m\u001b[1;34m'temp_f'\u001b[0m\u001b[1;33m]\u001b[0m\u001b[1;33m\u001b[0m\u001b[0m\n\u001b[0;32m      6\u001b[0m \u001b[1;32mprint\u001b[0m \u001b[1;34m\"Current temperature in %s is: %.2f\"\u001b[0m \u001b[1;33m%\u001b[0m \u001b[1;33m(\u001b[0m\u001b[0mlocation\u001b[0m\u001b[1;33m,\u001b[0m \u001b[1;33m(\u001b[0m\u001b[0mfloat\u001b[0m\u001b[1;33m(\u001b[0m\u001b[0mtemp_f\u001b[0m\u001b[1;33m)\u001b[0m\u001b[1;33m-\u001b[0m\u001b[1;36m32.0\u001b[0m\u001b[1;33m)\u001b[0m\u001b[1;33m*\u001b[0m\u001b[1;36m5.0\u001b[0m\u001b[1;33m/\u001b[0m\u001b[1;36m9.0\u001b[0m\u001b[1;33m)\u001b[0m\u001b[1;33m,\u001b[0m \u001b[1;34m\"c\"\u001b[0m\u001b[1;33m\u001b[0m\u001b[0m\n",
      "\u001b[1;31mKeyError\u001b[0m: 'location'"
     ]
    }
   ],
   "source": [
    "print \"json_string type: \", type(json_string)\n",
    "parsed_json1 = json.loads(json_string)\n",
    "print \"parsed string type: \", type(parsed_json1)\n",
    "location = parsed_json1['location']['city']\n",
    "temp_f = parsed_json1['current_observation']['temp_f']\n",
    "print \"Current temperature in %s is: %.2f\" % (location, (float(temp_f)-32.0)*5.0/9.0), \"c\""
   ]
  },
  {
   "cell_type": "code",
   "execution_count": 21,
   "metadata": {
    "collapsed": false
   },
   "outputs": [
    {
     "name": "stdout",
     "output_type": "stream",
     "text": [
      "Temperature (c):  8\n",
      "Dewpoint (c):  5\n",
      "Recorded rain today (mm):  0.0\n",
      "Current conditions:  Overcast\n",
      "Wind is from the ENE direction at 9 kph\n",
      "Station is at 48.64722061 (lat) by -123.42583466 (long) at 62 ft above sea level.\n",
      "Adjacent station object is type:  <type 'list'>  with  33  elements. Listed: \n",
      "IBRITISH376\n",
      "IDNS70\n",
      "IBRITISH385\n",
      "MAV097\n",
      "IBCVICTO15\n",
      "IBRITISH393\n",
      "IBRITISH339\n",
      "IBRITISH479\n",
      "IBRITISH329\n",
      "IBCVICTO16\n",
      "IBCVICTO3\n",
      "IBCVICTO30\n",
      "IBCVICTO45\n",
      "IBCVICTO28\n",
      "IBRITISH443\n",
      "IBRITISH177\n",
      "IBRITISH356\n",
      "IBCVICTO61\n",
      "KWAROCHE8\n",
      "IBRITISH243\n",
      "IBCVICTO9\n",
      "IBRITISH188\n",
      "IBCVICTO91\n",
      "IBCVICTO36\n",
      "IBCVICTO77\n",
      "IBCVICTO71\n",
      "IBCVICTO89\n",
      "IBCSALTS4\n",
      "IBCVICTO83\n",
      "MNSJW1\n",
      "IBRITISH90\n",
      "IBCDUNCA3\n",
      "IBCSHAWN2\n"
     ]
    }
   ],
   "source": [
    "print \"Temperature (c): \", parsed_json1['current_observation']['temp_c']\n",
    "print \"Dewpoint (c): \", parsed_json1['current_observation']['dewpoint_c']\n",
    "print \"Recorded rain today (mm): \", parsed_json1['current_observation']['precip_today_metric']\n",
    "print \"Current conditions: \", parsed_json1['current_observation']['weather']\n",
    "print \"Wind is from the\", parsed_json1['current_observation']['wind_dir'], \"direction at\",parsed_json1['current_observation']['wind_kph'], \"kph\"\n",
    "print \"Station is at\", parsed_json1['current_observation']['observation_location']['latitude'], \"(lat) by\", parsed_json1['current_observation']['observation_location']['longitude'], \"(long) at\", parsed_json1['current_observation']['observation_location']['elevation'], \"above sea level.\"\n",
    "adj_stations = parsed_json1['location']['nearby_weather_stations']['pws']['station']\n",
    "print \"Adjacent station object is type: \", type(adj_stations), \" with \", len(adj_stations), \" elements. Listed: \"\n",
    "for x in range(0, len(adj_stations)):\n",
    "    print adj_stations[x]['id']\n",
    "    \n",
    "    "
   ]
  },
  {
   "cell_type": "code",
   "execution_count": 22,
   "metadata": {
    "collapsed": true
   },
   "outputs": [],
   "source": [
    "f=urllib2.urlopen('http://api.wunderground.com/api/'+WAPI+'/geolookup/conditions/q/pws:IBRITISH479.json')\n",
    "json_string = f.read()\n",
    "parsed_json2 = json.loads(json_string)"
   ]
  },
  {
   "cell_type": "code",
   "execution_count": 23,
   "metadata": {
    "collapsed": false,
    "scrolled": true
   },
   "outputs": [
    {
     "name": "stdout",
     "output_type": "stream",
     "text": [
      "Current temperature in Victoria Hartland is: 7.89 c converted from f\n",
      "Station is at 48.511707 (lat) by -123.362244 (long) at 82 ft above sea level.\n",
      "154.00000000\n"
     ]
    }
   ],
   "source": [
    "location = parsed_json2['location']['city']\n",
    "temp_f = parsed_json2['current_observation']['temp_f']\n",
    "print \"Current temperature in %s is: %.2f\" % (location, (float(temp_f)-32.0)*5.0/9.0), \"c converted from f\"\n",
    "print \"Station is at\", parsed_json2['current_observation']['observation_location']['latitude'], \"(lat) by\", parsed_json2['current_observation']['observation_location']['longitude'], \"(long) at\", parsed_json2['current_observation']['observation_location']['elevation'], \"above sea level.\"\n",
    "print parsed_json2['current_observation']['display_location']['elevation']\n",
    "\n"
   ]
  },
  {
   "cell_type": "code",
   "execution_count": 24,
   "metadata": {
    "collapsed": true
   },
   "outputs": [],
   "source": [
    "## Attempt to acquire tide data.  ??Canadian data does not appear to be available??\n",
    "f=urllib2.urlopen('http://api.wunderground.com/api/'+WAPI+'/tide/q/Canada/Victoria.json')\n",
    "json_string = f.read()\n",
    "parsed_json3 = json.loads(json_string)\n"
   ]
  },
  {
   "cell_type": "code",
   "execution_count": 26,
   "metadata": {
    "collapsed": false
   },
   "outputs": [],
   "source": [
    "#print json_string"
   ]
  },
  {
   "cell_type": "code",
   "execution_count": null,
   "metadata": {
    "collapsed": true
   },
   "outputs": [],
   "source": []
  }
 ],
 "metadata": {
  "kernelspec": {
   "display_name": "Python 2",
   "language": "python",
   "name": "python2"
  },
  "language_info": {
   "codemirror_mode": {
    "name": "ipython",
    "version": 2
   },
   "file_extension": ".py",
   "mimetype": "text/x-python",
   "name": "python",
   "nbconvert_exporter": "python",
   "pygments_lexer": "ipython2",
   "version": "2.7.6"
  }
 },
 "nbformat": 4,
 "nbformat_minor": 0
}
