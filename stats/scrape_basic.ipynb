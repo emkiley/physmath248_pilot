{
 "cells": [
  {
   "cell_type": "code",
   "execution_count": null,
   "metadata": {
    "collapsed": false
   },
   "outputs": [],
   "source": [
    "## Scraping Weather Underground. First attempt ... groping in the dark. \n",
    "\n",
    "import json\n",
    "## this allows us to load up web pages and read them\n",
    "from urllib.request import urlopen\n",
    "## this is a library for parsing JSON files.  JSON stands for JavaScript Object Notation. It\n",
    "## is a common ASCII text file for describing structured data. \n",
    "import json\n",
    "## we will need to put delays in between our requests to web pages.  Popular web-pages\n",
    "## will block your access if you request too much data too quickly.\n",
    "import time \n",
    "\n",
    "WAPI = \"enter your key here\"\n",
    "## the string between api/ and /geolookup is the API key.  Some webpages require you to\n",
    "## register with them to allow for automated scraping.  The key below is my personal one. \n",
    "## If you wish to scrape on your own, you can apply for your own API key. Weather Underground\n",
    "## allows for 500 free \"scrapes\" per day. \n",
    "\n",
    "## the format for requests from the weather underground service is \n",
    "##    http://api.wunderground.com/api/YOUR-API-CODE/FEATURE/SETTING/q/QUERY.FORMAT\n",
    "##\n",
    "## See the website for details.  Each such query gives you back a webpage of your choosing. \n",
    "## FEATURE can be: conditions, forecast, geolookup, ...\n",
    "## SETTING can be: lang, pws, bestfct\n",
    "## QUERY can be: various location codes\n",
    "## FORMAT can be: json or xml, two standard ASCII text formats for exchanging structured data.\n",
    "\n",
    "f=urlopen(\"http://api.wunderground.com/api/\"+WAPI+\"/geolookup/conditions/q/Canada/Victoria.json\")\n",
    "json_string = f.read().decode('utf-8')"
   ]
  },
  {
   "cell_type": "code",
   "execution_count": null,
   "metadata": {
    "collapsed": false
   },
   "outputs": [],
   "source": [
    "print(json_string)"
   ]
  },
  {
   "cell_type": "code",
   "execution_count": null,
   "metadata": {
    "collapsed": false
   },
   "outputs": [],
   "source": [
    "print(\"json_string type: \", type(json_string))\n",
    "parsed_json1 = json.loads(json_string)\n",
    "print(\"parsed string type: \", type(parsed_json1))\n",
    "location = parsed_json1['location']['city']\n",
    "temp_f = parsed_json1['current_observation']['temp_f']\n",
    "print(\"Current temperature in %s is: %.2f\" % (location, (float(temp_f)-32.0)*5.0/9.0), \"c\")"
   ]
  },
  {
   "cell_type": "code",
   "execution_count": null,
   "metadata": {
    "collapsed": false
   },
   "outputs": [],
   "source": [
    "print \"Temperature (c): \", parsed_json1['current_observation']['temp_c']\n",
    "print \"Dewpoint (c): \", parsed_json1['current_observation']['dewpoint_c']\n",
    "print \"Recorded rain today (mm): \", parsed_json1['current_observation']['precip_today_metric']\n",
    "print \"Current conditions: \", parsed_json1['current_observation']['weather']\n",
    "print \"Wind is from the\", parsed_json1['current_observation']['wind_dir'], \"direction at\",parsed_json1['current_observation']['wind_kph'], \"kph\"\n",
    "print \"Station is at\", parsed_json1['current_observation']['observation_location']['latitude'], \"(lat) by\", parsed_json1['current_observation']['observation_location']['longitude'], \"(long) at\", parsed_json1['current_observation']['observation_location']['elevation'], \"above sea level.\"\n",
    "adj_stations = parsed_json1['location']['nearby_weather_stations']['pws']['station']\n",
    "print \"Adjacent station object is type: \", type(adj_stations), \" with \", len(adj_stations), \" elements. Listed: \"\n",
    "for x in range(0, len(adj_stations)):\n",
    "    print adj_stations[x]['id']\n",
    "    \n",
    "    "
   ]
  },
  {
   "cell_type": "code",
   "execution_count": null,
   "metadata": {
    "collapsed": true
   },
   "outputs": [],
   "source": [
    "f=urlopen(\"http://api.wunderground.com/api/\"+WAPI+\"/geolookup/conditions/q/pws:IBRITISH479.json\")\n",
    "json_string = f.read().decode('utf-8')\n",
    "parsed_json2 = json.loads(json_string)"
   ]
  },
  {
   "cell_type": "code",
   "execution_count": null,
   "metadata": {
    "collapsed": false,
    "scrolled": true
   },
   "outputs": [],
   "source": [
    "location = parsed_json2['location']['city']\n",
    "temp_f = parsed_json2['current_observation']['temp_f']\n",
    "print(\"Current temperature in %s is: %.2f\" % (location, (float(temp_f)-32.0)*5.0/9.0), \n",
    "      \"c converted from f\")\n",
    "print(\"Station is at\", parsed_json2['current_observation']['observation_location']['latitude'], \n",
    "      \"(lat) by\", parsed_json2['current_observation']['observation_location']['longitude'], \n",
    "      \"(long) at\", parsed_json2['current_observation']['observation_location']['elevation'], \n",
    "      \"above sea level.\")\n",
    "print(parsed_json2['current_observation']['display_location']['elevation'])\n",
    "\n"
   ]
  },
  {
   "cell_type": "code",
   "execution_count": null,
   "metadata": {
    "collapsed": true
   },
   "outputs": [],
   "source": []
  },
  {
   "cell_type": "code",
   "execution_count": null,
   "metadata": {
    "collapsed": false
   },
   "outputs": [],
   "source": []
  },
  {
   "cell_type": "code",
   "execution_count": null,
   "metadata": {
    "collapsed": true
   },
   "outputs": [],
   "source": []
  }
 ],
 "metadata": {
  "kernelspec": {
   "display_name": "Python 3",
   "language": "python",
   "name": "python3"
  },
  "language_info": {
   "codemirror_mode": {
    "name": "ipython",
    "version": 3
   },
   "file_extension": ".py",
   "mimetype": "text/x-python",
   "name": "python",
   "nbconvert_exporter": "python",
   "pygments_lexer": "ipython3",
   "version": "3.4.3"
  }
 },
 "nbformat": 4,
 "nbformat_minor": 0
}
