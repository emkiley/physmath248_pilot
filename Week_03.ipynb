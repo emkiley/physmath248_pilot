{
 "cells": [
  {
   "cell_type": "markdown",
   "metadata": {},
   "source": [
    "# Week 3\n",
    "\n",
    "## A little more numerical analysis: \n",
    "\n",
    "- Approximating integrals. \n",
    "- Midpoint method\n",
    "- 3/8 method\n",
    "- Cubic spline method sketch (is part of your homework)\n",
    "\n",
    "# Data acquisition\n",
    "\n",
    "- Using libraries to scrape the internet for data.\n",
    "- urllib and json libraries for scraping WUnderground and Google sites\n",
    "\n",
    "# Simple analysis of data. \n",
    "\n",
    "- Basic statistical analysis of data. How to find trends. \n",
    "- 2d plots can be a good way to spot trends \"by eye\"\n",
    "- Linear regression is a method to spot linear relationships in data.\n",
    "- Clustering is a method to discover some non-linear relationships in data.\n",
    "\n",
    "# Tutorial This Week : \n",
    "- Start working on your first homework assignment. \n",
    "- The assignment is due at 9am on Tuesday January 26th. \n",
    "- Work in group of 2 or 3. \n",
    "\n",
    "# First graded homework assignment (in groups)\n",
    "\n",
    "See the assignments directory: [Assignment 1](https://github.com/fherwig/physmath248_pilot/blob/master/assignments/Assignment%201.ipynb)"
   ]
  }
 ],
 "metadata": {
  "kernelspec": {
   "display_name": "Python 2",
   "language": "python",
   "name": "python2"
  },
  "language_info": {
   "codemirror_mode": {
    "name": "ipython",
    "version": 2
   },
   "file_extension": ".py",
   "mimetype": "text/x-python",
   "name": "python",
   "nbconvert_exporter": "python",
   "pygments_lexer": "ipython2",
   "version": "2.7.9"
  }
 },
 "nbformat": 4,
 "nbformat_minor": 0
}
