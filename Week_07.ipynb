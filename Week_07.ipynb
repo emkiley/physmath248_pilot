{
 "cells": [
  {
   "cell_type": "markdown",
   "metadata": {},
   "source": [
    "# Week 7"
   ]
  },
  {
   "cell_type": "markdown",
   "metadata": {},
   "source": [
    "## Session 1\n",
    "\n",
    "* [Midterm](assignments/exams.and.quizzes)"
   ]
  },
  {
   "cell_type": "markdown",
   "metadata": {},
   "source": [
    "## Session 2\n",
    "\n",
    "* [Implicit solver for ODEs](./numerical.analysis/ImplicitODE.ipynb)\n",
    "    - introduce the Newton-Raphson method\n",
    "    - apply it to the sky diver problem\n",
    "    - expand the sky diver problem to two dimensions\n",
    "* [Solving ODEs with Sympy](./numerical.analysis/sympy.ODEs.ipynb)"
   ]
  },
  {
   "cell_type": "markdown",
   "metadata": {},
   "source": [
    "### Basic plotting in python\n",
    "\n",
    "\n",
    "### Resources\n",
    "* Plotting in python is provided by the matplotlib package: <http://matplotlib.org>. \n",
    "* A quick google search will reveal [many useful resources and examples](<http://nbviewer.ipython.org/github/jrjohansson/scientific-python-lectures/blob/master/Lecture-4-Matplotlib.ipynb>).\n",
    "\n",
    "**Discussion:**\n",
    "- the `plot` command\n",
    "- what makes a good plot:\n",
    "    * legend\n",
    "    * lines distinguished by shape, color and glyphs\n",
    "    * axis labels\n",
    "    * appropriate use of ranges (make sure that the interesting part takes the most plotting canvas)\n",
    "    * proper use of scaling and log\n",
    "- example 2D plots\n",
    "\n",
    "\n",
    "### Homework\n",
    " * [Problem 1](https://github.com/fherwig/physmath248_pilot/tree/master/assignments/A3P1.ipynb)\n",
    "\n",
    " \n",
    "## Tutorials this week\n",
    "\n",
    "### Tuesday:\n",
    "* any left over home work from last week\n",
    "* [Pendulum animation example](http://matplotlib.org/examples/animation/double_pendulum_animated.html)\n",
    "    - go through this example and make sure you understand every single line\n",
    "    - add appropriate comments and docstrings\n",
    "    - create markdown cells that describe what equation this example solves, and how it is different from the midterm exam (or not)\n",
    "    - how can you break this example?\n",
    "    \n",
    "### Wednesday:\n",
    "* homework skydiver\n",
    "* homework Newton-Raphson method\n",
    "* homework implicit ODE solver\n",
    "* compare behaviour of implicit and explicit solver for skydiver problem\n",
    "* generalize for 2D skydiver problem with wind from the side"
   ]
  },
  {
   "cell_type": "code",
   "execution_count": null,
   "metadata": {
    "collapsed": true
   },
   "outputs": [],
   "source": []
  }
 ],
 "metadata": {
  "kernelspec": {
   "display_name": "Python 3",
   "language": "python",
   "name": "python3"
  },
  "language_info": {
   "codemirror_mode": {
    "name": "ipython",
    "version": 3
   },
   "file_extension": ".py",
   "mimetype": "text/x-python",
   "name": "python",
   "nbconvert_exporter": "python",
   "pygments_lexer": "ipython3",
   "version": "3.5.1"
  }
 },
 "nbformat": 4,
 "nbformat_minor": 0
}
