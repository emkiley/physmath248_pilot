{
 "cells": [
  {
   "cell_type": "markdown",
   "metadata": {},
   "source": [
    "# Week 4"
   ]
  },
  {
   "cell_type": "markdown",
   "metadata": {},
   "source": [
    "## 1. Introduction to linear algebra\n",
    "\n",
    "The goal of this section an [introduction to linear algebra](https://github.com/fherwig/physmath248_pilot/blob/master/linear.algebra/Intro%20to%20linear%20algebra.ipynb) is to introduce vectors and matrices that can be used to solve numerous problems, in physics and math. We will use these to solve systems of equatuions. In this section we will\n",
    "\n",
    "1. introduce to vectors as numpy arrays and matrices as arrays of arrays\n",
    "2. how are arrays created\n",
    "3. operation between arrays that represent operations between matrices and vectors\n",
    "4. use these techniques to implement the Gaussian elimination scheme to solve set of linear equations"
   ]
  },
  {
   "cell_type": "markdown",
   "metadata": {},
   "source": [
    "### Resources: \n",
    "\n",
    "_Reference numbers refer to the list given in the Week_01 notebook in the section **Literature and online resources**_\n",
    "\n",
    "* Linear Algebra:\n",
    "    * Chapter 6 in [1]\n",
    "    * Chapter 4.4 in [6]\n",
    "* [Array creation in Python](http://docs.scipy.org/doc/numpy-1.10.1/user/basics.creation.html)\n",
    "* more Python programming with arrays for example in Chapter 5 in [3]"
   ]
  },
  {
   "cell_type": "markdown",
   "metadata": {},
   "source": [
    "### Gaussian elimination\n",
    "\n",
    "The equation $\\vec{u} = {\\bf A} \\cdot \\vec{v}$ represents a  set of linear equations. For example, with\n",
    "\n",
    "$$\n",
    "\\matrix{A} = \\pmatrix{ 2 & 2 & 3 \\\\ \n",
    "                       4 & 5 & 5 \\\\\n",
    "                       1 & 2 & 1 }\n",
    "$$\n",
    "and $$\\vec{u} = \\pmatrix{1\\\\4\\\\2}$$ \n",
    "\n",
    "we have the linear set of equations\n",
    "\n",
    "$$\\begin{eqnarray*}\n",
    " 2 v_1 + 2 v_2 + 3 v_3 &= 1 \\\\ \n",
    " 4 v_1 + 5 v_2 + 5 v_3 &= 4 \\\\\n",
    " v_1 + 2 v_2 + v_3 &= 2\n",
    "\\end{eqnarray*}$$\n",
    "\n",
    "Let's solve the set of equations and find $\\vec{v}$.\n",
    "\n",
    "Note that the solution will not change if\n",
    "\n",
    "* we multiply an equation by any number, or if\n",
    "* we add and substract equations from each other \n",
    "\n",
    "How can we devise a scheme that finds numerically $vec{v}$ by using these rules?\n",
    "\n",
    "1. divide 1$^\\mathrm{st}$ equation by $a_{11} (= 2)$:\n",
    "\n",
    "$$\\begin{eqnarray*}\n",
    " v_1 + v_2 + \\frac{3}{2} v_3 &= \\frac{1}{2} \\\\ \n",
    " 4 v_1 + 5 v_2 + 5 v_3 &= 4 \\\\\n",
    " v_1 + 2 v_2 +  v_3 &= 2\n",
    "\\end{eqnarray*}$$\n",
    "\n",
    "2. substract $a_{21} (= 4)$ times 1$^\\mathrm{st}$ equation from 2$^\\mathrm{nd}$ equation:\n",
    "\n",
    "$$\\begin{eqnarray*}\n",
    " v_1 + 1 v_2 + \\frac{3}{2} v_3 &= \\frac{1}{2} \\\\ \n",
    "                   1 v_2 - 1 v_3 &= 2 \\\\\n",
    " v_1 + 2 v_2 + 1 v_3 &= 2\n",
    "\\end{eqnarray*}$$\n",
    "\n",
    "3. substract $a_{31} (= 1)$ times 1$^\\mathrm{st}$ equation from 3$^\\mathrm{rd}$ equation:\n",
    "\n",
    "$$\\begin{eqnarray*}\n",
    " v_1 + v_2 + \\frac{3}{2} v_3 &= \\frac{1}{2} \\\\ \n",
    "       v_2 -             v_3 &= 2 \\\\\n",
    "       v_2 - \\frac{1}{2} v_3 &= \\frac{3}{2}\n",
    "\\end{eqnarray*}$$\n",
    "\n",
    "the result is that the first column disappeared in all but the first row\n",
    "\n",
    "4. repeat for remaining set of equations excluding first row\n",
    "\n",
    "$$\\begin{eqnarray*}\n",
    " v_1 + v_2 + \\frac{3}{2} v_3 &= \\frac{1}{2} \\\\ \n",
    "       v_2 -             v_3 &= 2 \\\\\n",
    "           - \\frac{3}{2} v_3 &= -\\frac{1}{2}\n",
    "\\end{eqnarray*}$$\n",
    "\n",
    "5. repeat until entire set of equations is in triangular form and last equation has only one variable\n",
    "\n",
    "6. backsubstitution: solve last equation, substitute into last-but-one, solve, substitute etc.\n",
    "\n",
    "The solution should be $$\\vec{v} = \\pmatrix{-\\frac{7}{3} \\\\ \\frac{7}{3}\\\\ \\frac{1}{3}}$$ \n",
    "\n",
    "*** Challenge: *** Who would like to submit their Gaussian elimination code as pull-request here?"
   ]
  },
  {
   "cell_type": "code",
   "execution_count": null,
   "metadata": {
    "collapsed": true
   },
   "outputs": [],
   "source": [
    "def gausselim(A,u):\n",
    "    '''Gaussian elimination with backsubstution\n",
    "    \n",
    "    This function solves the equation u = A * v, where v, u vectors \n",
    "    of length N and A a NxN matrix.\n",
    "    \n",
    "    input: A, u\n",
    "    output solution vector v\n",
    "    '''\n",
    "    \n",
    "    your code here ....\n",
    "\n",
    "    return v"
   ]
  },
  {
   "cell_type": "markdown",
   "metadata": {},
   "source": [
    "***Homework: ***\n",
    "\n",
    "1. Implement a function for the dot and cross product to your my_lib module.\n",
    "2. Implement a function that takes as input an array and a matrix (as an array of arrays) and returns the product of the vector and the matrix. Consider what checks would have to be considered so that user errors are prevented. Also remember documentation.\n",
    "2. Implement a function that takes a matrix (again as an array of arrays) and a vector that represent a set of equations ($\\vec{u} = {\\bf A} \\cdot \\vec{v}$) and solves the equations, i.e. returns $\\vec{v}$."
   ]
  },
  {
   "cell_type": "markdown",
   "metadata": {},
   "source": [
    "## 2. Applications and examples for linear algebra\n",
    "\n",
    "\n",
    "In the previous section we have seen how we can use arrays to code up simple tasks in linear algebra, such as the Gaussian elimination. In this section  \n",
    "* random numbers\n",
    "* the resistor problem"
   ]
  },
  {
   "cell_type": "markdown",
   "metadata": {},
   "source": [
    "## 3. Theory and examples of least-squares interpolation using linear algebra\n",
    "* a flexible and general presentation of least squares\n",
    "* and how one solves (quite flexibly) for functions that interpolate a wide variety of data\n",
    "* see [interpolation example](https://github.com/fherwig/physmath248_pilot/blob/master/stats/least-squares.sketch.ipynb)\n",
    "* moments of distributions. "
   ]
  },
  {
   "cell_type": "markdown",
   "metadata": {
    "collapsed": true
   },
   "source": [
    "## Tutorials this week\n",
    "\n",
    "1. work through homework of session 1\n",
    "2. with the TAs go over the material presented in session 3 so that you are able to apply it in an assignment\n"
   ]
  },
  {
   "cell_type": "code",
   "execution_count": null,
   "metadata": {
    "collapsed": true
   },
   "outputs": [],
   "source": []
  }
 ],
 "metadata": {
  "kernelspec": {
   "display_name": "Python 2",
   "language": "python",
   "name": "python2"
  },
  "language_info": {
   "codemirror_mode": {
    "name": "ipython",
    "version": 2
   },
   "file_extension": ".py",
   "mimetype": "text/x-python",
   "name": "python",
   "nbconvert_exporter": "python",
   "pygments_lexer": "ipython2",
   "version": "2.7.9"
  }
 },
 "nbformat": 4,
 "nbformat_minor": 0
}
