{
 "cells": [
  {
   "cell_type": "markdown",
   "metadata": {},
   "source": [
    "* let's start with a list or two of length 3"
   ]
  },
  {
   "cell_type": "code",
   "execution_count": null,
   "metadata": {
    "collapsed": true
   },
   "outputs": [],
   "source": []
  },
  {
   "cell_type": "markdown",
   "metadata": {},
   "source": [
    "* create some vectors using numpy, and try operations"
   ]
  },
  {
   "cell_type": "code",
   "execution_count": null,
   "metadata": {
    "collapsed": true
   },
   "outputs": [],
   "source": []
  },
  {
   "cell_type": "markdown",
   "metadata": {},
   "source": [
    "* array creation\n",
    "    - zeros\n",
    "    - `range` -> array, `arange`\n",
    "    - `np.arange(10), np.arange(2, 10, dtype=np.float), np.arange(2, 3, 0.1)`\n",
    "    - `linspace`\n",
    "    - special function: `np.random.randn(10)`"
   ]
  },
  {
   "cell_type": "code",
   "execution_count": null,
   "metadata": {
    "collapsed": true
   },
   "outputs": [],
   "source": []
  },
  {
   "cell_type": "markdown",
   "metadata": {},
   "source": [
    "* properties of arrays, length, dtype\n",
    "* splicing: take only parts of your arrays\n",
    "    - range\n",
    "    - index array\n",
    "    - negative indices"
   ]
  },
  {
   "cell_type": "code",
   "execution_count": null,
   "metadata": {
    "collapsed": true
   },
   "outputs": [],
   "source": []
  },
  {
   "cell_type": "markdown",
   "metadata": {},
   "source": [
    "* combining arrays into arrays (2D data structures)\n",
    "    - looks like a matrix\n",
    "    - indexing, this is a 2x3 matrix"
   ]
  },
  {
   "cell_type": "code",
   "execution_count": null,
   "metadata": {
    "collapsed": true
   },
   "outputs": [],
   "source": []
  },
  {
   "cell_type": "markdown",
   "metadata": {},
   "source": [
    "* add a row and make it a 3x3 matrix"
   ]
  },
  {
   "cell_type": "code",
   "execution_count": null,
   "metadata": {
    "collapsed": true
   },
   "outputs": [],
   "source": []
  },
  {
   "cell_type": "markdown",
   "metadata": {},
   "source": [
    "* creating a matrix - vector operation\n",
    "    - create vector `v` of length 3\n",
    "    - write a function that receives a vector $\\vec{v}$ and matrix $\\bf{A}$ and returns the vector $\\vec{u} = {\\bf A} \\cdot \\vec{v}$"
   ]
  },
  {
   "cell_type": "code",
   "execution_count": null,
   "metadata": {
    "collapsed": true
   },
   "outputs": [],
   "source": []
  },
  {
   "cell_type": "markdown",
   "metadata": {},
   "source": [
    "* the equation $\\vec{u} = {\\bf A} \\cdot \\vec{v}$ represents a  set of linear equations\n",
    "* imagine we know $\\vec{u}$ instead of $\\vec{v}$ - let's solve the set of equations and find $\\vec{u}$\n",
    "\n",
    "**Gaussian elimination**\n",
    "Note that the solution will not change if\n",
    "\n",
    "* we can multiply an equation by any number, or \n",
    "* we can add and substract equations from each other \n",
    "\n",
    "How can we devise a scheme that allows for the numerical solution of this problem?"
   ]
  },
  {
   "cell_type": "code",
   "execution_count": null,
   "metadata": {
    "collapsed": true
   },
   "outputs": [],
   "source": []
  },
  {
   "cell_type": "code",
   "execution_count": null,
   "metadata": {
    "collapsed": true
   },
   "outputs": [],
   "source": []
  }
 ],
 "metadata": {
  "kernelspec": {
   "display_name": "Python 2",
   "language": "python",
   "name": "python2"
  },
  "language_info": {
   "codemirror_mode": {
    "name": "ipython",
    "version": 2
   },
   "file_extension": ".py",
   "mimetype": "text/x-python",
   "name": "python",
   "nbconvert_exporter": "python",
   "pygments_lexer": "ipython2",
   "version": "2.7.9"
  }
 },
 "nbformat": 4,
 "nbformat_minor": 0
}
