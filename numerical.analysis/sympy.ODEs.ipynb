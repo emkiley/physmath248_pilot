{
 "cells": [
  {
   "cell_type": "markdown",
   "metadata": {},
   "source": [
    "## Workbook on solving ODEs with sympy\n",
    "\n",
    "Recall our ODE from the [skydiver problem](https://github.com/fherwig/physmath248_pilot/tree/master/examples/Skydiver.ipynb). \n"
   ]
  },
  {
   "cell_type": "code",
   "execution_count": 13,
   "metadata": {
    "collapsed": false
   },
   "outputs": [
    {
     "name": "stdout",
     "output_type": "stream",
     "text": [
      "We wish to get sympy to solve the differential equation: \n",
      "d                  2   \n",
      "──(v(x)) = -g + k⋅v (x)\n",
      "dx                     \n"
     ]
    }
   ],
   "source": [
    "## Analytic Solution in implicit form, using SymPy.\n",
    "import sympy as sp\n",
    "\n",
    "f=sp.Function('v')\n",
    "x=sp.Symbol('x')\n",
    "\n",
    "g,k=sp.symbols('g k')\n",
    "ODE = sp.Eq( sp.Derivative(f(x), x), k*f(x)**2 - g )\n",
    "\n",
    "print(\"We wish to get sympy to solve the differential equation: \")\n",
    "sp.pprint(ODE)\n"
   ]
  },
  {
   "cell_type": "code",
   "execution_count": 9,
   "metadata": {
    "collapsed": false
   },
   "outputs": [
    {
     "name": "stdout",
     "output_type": "stream",
     "text": [
      "It is perfectly acceptable to ask sympy to solve an ODE given in the traditional form above.\n",
      "        _____    ⎛        _____       ⎞       _____    ⎛      _____       ⎞   \n",
      "       ╱  1      ⎜       ╱  1         ⎟      ╱  1      ⎜     ╱  1         ⎟   \n",
      "      ╱  ─── ⋅log⎜- g⋅  ╱  ───  + v(x)⎟     ╱  ─── ⋅log⎜g⋅  ╱  ───  + v(x)⎟   \n",
      "    ╲╱   g⋅k     ⎝    ╲╱   g⋅k        ⎠   ╲╱   g⋅k     ⎝  ╲╱   g⋅k        ⎠   \n",
      "x - ─────────────────────────────────── + ───────────────────────────────── = \n",
      "                     2                                    2                   \n",
      "\n",
      "  \n",
      "  \n",
      "  \n",
      "  \n",
      "C₁\n",
      "  \n"
     ]
    }
   ],
   "source": [
    "print(\"It is perfectly acceptable to ask sympy to solve an ODE given in the traditional form above.\")\n",
    "sp.pprint(sp.dsolve(ODE))"
   ]
  },
  {
   "cell_type": "code",
   "execution_count": 10,
   "metadata": {
    "collapsed": false
   },
   "outputs": [
    {
     "name": "stdout",
     "output_type": "stream",
     "text": [
      "Or to rewrite it more traditionally: \n",
      "       2      d           \n",
      "g - k⋅v (x) + ──(v(x)) = 0\n",
      "              dx          \n",
      "        _____    ⎛        _____       ⎞       _____    ⎛      _____       ⎞   \n",
      "       ╱  1      ⎜       ╱  1         ⎟      ╱  1      ⎜     ╱  1         ⎟   \n",
      "      ╱  ─── ⋅log⎜- g⋅  ╱  ───  + v(x)⎟     ╱  ─── ⋅log⎜g⋅  ╱  ───  + v(x)⎟   \n",
      "    ╲╱   g⋅k     ⎝    ╲╱   g⋅k        ⎠   ╲╱   g⋅k     ⎝  ╲╱   g⋅k        ⎠   \n",
      "x - ─────────────────────────────────── + ───────────────────────────────── = \n",
      "                     2                                    2                   \n",
      "\n",
      "  \n",
      "  \n",
      "  \n",
      "  \n",
      "C₁\n",
      "  \n"
     ]
    }
   ],
   "source": [
    "print(\"Or to rewrite it more traditionally: \")\n",
    "ODE = sp.Eq( sp.Derivative(f(x), x) - k*f(x)**2 + g, 0 )\n",
    "sp.pprint(ODE)\n",
    "sp.pprint(sp.dsolve(ODE))"
   ]
  },
  {
   "cell_type": "code",
   "execution_count": 14,
   "metadata": {
    "collapsed": false
   },
   "outputs": [
    {
     "name": "stdout",
     "output_type": "stream",
     "text": [
      "Or even to neglect the equality on the right-hand side...\n",
      "       2      d       \n",
      "g - k⋅v (x) + ──(v(x))\n",
      "              dx      \n",
      "In this case, sympy **assumes** the =0 on the right hand side.\n",
      "        _____    ⎛        _____       ⎞       _____    ⎛      _____       ⎞   \n",
      "       ╱  1      ⎜       ╱  1         ⎟      ╱  1      ⎜     ╱  1         ⎟   \n",
      "      ╱  ─── ⋅log⎜- g⋅  ╱  ───  + v(x)⎟     ╱  ─── ⋅log⎜g⋅  ╱  ───  + v(x)⎟   \n",
      "    ╲╱   g⋅k     ⎝    ╲╱   g⋅k        ⎠   ╲╱   g⋅k     ⎝  ╲╱   g⋅k        ⎠   \n",
      "x - ─────────────────────────────────── + ───────────────────────────────── = \n",
      "                     2                                    2                   \n",
      "\n",
      "  \n",
      "  \n",
      "  \n",
      "  \n",
      "C₁\n",
      "  \n"
     ]
    }
   ],
   "source": [
    "print(\"Or even to neglect the equality on the right-hand side...\")\n",
    "ODE= sp.Derivative(f(x), x) - k*f(x)**2 + g\n",
    "sp.pprint(ODE)\n",
    "print(\"In this case, sympy **assumes** the =0 on the right hand side.\")\n",
    "sp.pprint(sp.dsolve(ODE))"
   ]
  },
  {
   "cell_type": "code",
   "execution_count": 17,
   "metadata": {
    "collapsed": false
   },
   "outputs": [],
   "source": [
    "## Let's plot some solution curves. \n",
    "\n",
    "SOL = sp.dsolve(ODE)\n",
    "\n",
    "## We have too many variables for v to depend directly on x.\n",
    "## Let's replace g and k with something reasonable. \n",
    "\n",
    "#SOL.subs\n"
   ]
  },
  {
   "cell_type": "markdown",
   "metadata": {},
   "source": [
    "## Solving ODES with sympy\n",
    "\n",
    "At present, sympy's ode solving algorithm is basically a big database or *cookbook*-style database of formulas... that sympy can work with as it has algorithms to find anti-derivatives of functions.  \n",
    "\n",
    "**Sympy has algorithms to solve:**\n",
    "\n",
    "* First order ODEs that are: \n",
    "     - separable differential equations\n",
    "     - differential equations whose coefficients homogeneous of the same order.\n",
    "     - exact differential equations.\n",
    "     - linear differential equations\n",
    "     - Bernoulli differential equations.\n",
    "\n",
    "* Second order ODEs that are:\n",
    "    - Liouville differential equations.\n",
    "\n",
    "* n-th order ODEs that are:\n",
    "    - linear homogeneous differential equation with constant coefficients.\n",
    "    - linear inhomogeneous differential equation with constant coefficients using the method of undetermined coefficients.\n",
    "    - linear inhomogeneous differential equation with constant coefficients using the method of variation of parameters.\n",
    "\n",
    "Sympy also has algorithms to solve some [PDEs](http://docs.sympy.org/latest/modules/solvers/pde.html), Delay Differential Equations [DDEs](http://users.ox.ac.uk/~clme1073/python/PyDDE/) and pretty much any other kind of differential equation you can imagine. \n",
    "\n",
    "A key issue to solving differential equations is *determining what kind of differential equation* one is trying to solve. Once you *know* a differential equation is in (or can be put in) **form $X$**, and if sympy has an algorithm to solve differential equations of **form $X$**, then sympy can quickly give the answer.  \n",
    "\n",
    "**example: **\n",
    "\n",
    "*Exact differential equations* are of the form:\n",
    "$$ f(x,y) \\frac{dy}{dx} + g(x,y) = 0$$\n",
    "with \n",
    "$$ \\frac{\\partial f}{\\partial x} = \\frac{\\partial g}{\\partial y} $$\n",
    "\n",
    "Sympy has a routine that uses heuristics, based on its algorithms to solve algebraic equations, that check to see if your differential equation is of a type that it knows how to solve.  These tests can be sophisticated or not, and depends on the ease-of-applicability of the method.  For example, things like linear or separable ODEs are relatively easy to recognise, but exact differential equations can sometimes be subtle, due to the flexibility of the *integrating factor* technique. \n",
    "\n",
    "$$y' = - \\frac{3xy+y^2}{x^2+xy}$$\n",
    "\n",
    "is an exact ODE... or at least, it can be made to be exact with an integrating factor. \n",
    "\n"
   ]
  },
  {
   "cell_type": "code",
   "execution_count": 25,
   "metadata": {
    "collapsed": false
   },
   "outputs": [
    {
     "data": {
      "text/plain": [
       "('1st_homogeneous_coeff_best',\n",
       " '1st_homogeneous_coeff_subs_indep_div_dep',\n",
       " '1st_homogeneous_coeff_subs_dep_div_indep',\n",
       " 'lie_group',\n",
       " '1st_homogeneous_coeff_subs_indep_div_dep_Integral',\n",
       " '1st_homogeneous_coeff_subs_dep_div_indep_Integral')"
      ]
     },
     "execution_count": 25,
     "metadata": {},
     "output_type": "execute_result"
    }
   ],
   "source": [
    "y=sp.Function('y')\n",
    "\n",
    "sp.classify_ode( sp.Eq( y(x).diff(x) + ((3*x*y(x)+y(x)**2)/(x**2+x*y(x))), 0 ), y(x) )"
   ]
  },
  {
   "cell_type": "markdown",
   "metadata": {},
   "source": [
    "The *classify_ode* routine returns the list of \"types\" of ODEs that the differential equation satisfies, which sympy knows how to solve.  If you find the default solution that sympy gives you is not satisfactory (perhaps the algebra is too complicated) you can ask sympy to solve your differential equation using another method, using the *hint* argument."
   ]
  },
  {
   "cell_type": "code",
   "execution_count": 27,
   "metadata": {
    "collapsed": false
   },
   "outputs": [
    {
     "name": "stdout",
     "output_type": "stream",
     "text": [
      "            x                            x                     \n",
      "           ────                         ────                   \n",
      "           y(x)                         y(x)                   \n",
      "            ⌠                            ⌠                     \n",
      "            ⎮         -1                 ⎮       -3            \n",
      "            ⎮   ─────────────── d(u₂) +  ⎮   ──────────── d(u₂)\n",
      "            ⎮   2⋅u₂⋅(2⋅u₂ + 1)          ⎮   2⋅(2⋅u₂ + 1)      \n",
      "            ⌡                            ⌡                     \n",
      "                                                               \n",
      "y(x) = C₁⋅ℯ                                                    \n"
     ]
    }
   ],
   "source": [
    "sp.pprint(sp.dsolve(sp.Eq( y(x).diff(x) + ((3*x*y(x)+y(x)**2)/(x**2+x*y(x))), 0 ), \n",
    "                    hint=\"1st_homogeneous_coeff_subs_indep_div_dep_Integral\"))"
   ]
  },
  {
   "cell_type": "code",
   "execution_count": 29,
   "metadata": {
    "collapsed": false
   },
   "outputs": [
    {
     "name": "stdout",
     "output_type": "stream",
     "text": [
      "              y(x)                      \n",
      "              ────                      \n",
      "               x                        \n",
      "               ⌠                        \n",
      "               ⎮         -1             \n",
      "log(x) = C₁ +  ⎮   ─────────────── d(u₁)\n",
      "               ⎮      ⎛    u₁ + 3⎞      \n",
      "               ⎮   u₁⋅⎜1 + ──────⎟      \n",
      "               ⎮      ⎝    u₁ + 1⎠      \n",
      "               ⌡                        \n",
      "                                        \n"
     ]
    }
   ],
   "source": [
    "sp.pprint(sp.dsolve(sp.Eq( y(x).diff(x) + ((3*x*y(x)+y(x)**2)/(x**2+x*y(x))), 0 ), \n",
    "                    hint=\"1st_homogeneous_coeff_subs_dep_div_indep_Integral\"))"
   ]
  },
  {
   "cell_type": "code",
   "execution_count": 30,
   "metadata": {
    "collapsed": false
   },
   "outputs": [
    {
     "name": "stdout",
     "output_type": "stream",
     "text": [
      "⎡               ______________                 ______________⎤\n",
      "⎢              ╱  2 ⎛      4⎞                 ╱  2 ⎛      4⎞ ⎥\n",
      "⎢            ╲╱  x ⋅⎝C₁ + x ⎠               ╲╱  x ⋅⎝C₁ + x ⎠ ⎥\n",
      "⎢y(x) = -x - ─────────────────, y(x) = -x + ─────────────────⎥\n",
      "⎢                     2                              2       ⎥\n",
      "⎣                    x                              x        ⎦\n"
     ]
    }
   ],
   "source": [
    "sp.pprint(sp.dsolve(sp.Eq( y(x).diff(x) + ((3*x*y(x)+y(x)**2)/(x**2+x*y(x))), 0 ), \n",
    "                    hint=\"1st_homogeneous_coeff_subs_indep_div_dep\"))"
   ]
  },
  {
   "cell_type": "markdown",
   "metadata": {},
   "source": [
    "Generally sympy puts the technique considered to give the *most pleasant to work with* solutions at the top of the *classify_ode* list. "
   ]
  },
  {
   "cell_type": "code",
   "execution_count": 32,
   "metadata": {
    "collapsed": false
   },
   "outputs": [
    {
     "data": {
      "text/plain": [
       "('separable', '1st_power_series', 'lie_group', 'separable_Integral')"
      ]
     },
     "execution_count": 32,
     "metadata": {},
     "output_type": "execute_result"
    }
   ],
   "source": [
    "## Let's go back to the skydiver problem\n",
    "ODE = sp.Derivative(f(x), x) - k*f(x)**2 + g\n",
    "sp.classify_ode( ODE, f(x))"
   ]
  },
  {
   "cell_type": "code",
   "execution_count": 36,
   "metadata": {
    "collapsed": false
   },
   "outputs": [
    {
     "name": "stdout",
     "output_type": "stream",
     "text": [
      "                         3                            2  5            ⎛    2  \n",
      "                      k⋅x ⋅(C₁⋅k - g)⋅(3⋅C₁⋅k - g)   k ⋅x ⋅(C₁⋅k - g)⋅⎝2⋅C₁ ⋅k\n",
      "v(x) = x⋅(C₁⋅k - g) + ──────────────────────────── + ─────────────────────────\n",
      "                                   3                                          \n",
      "\n",
      "                                           ⎞                                 2\n",
      "⋅(3⋅C₁⋅k - 2⋅g) + (C₁⋅k - g)⋅(9⋅C₁⋅k - 2⋅g)⎠              2              C₁⋅k \n",
      "──────────────────────────────────────────── + C₁ + C₁⋅k⋅x ⋅(C₁⋅k - g) + ─────\n",
      "         15                                                                   \n",
      "\n",
      "  4                                  \n",
      "⋅x ⋅(C₁⋅k - g)⋅(3⋅C₁⋅k - 2⋅g)    ⎛ 6⎞\n",
      "───────────────────────────── + O⎝x ⎠\n",
      "           3                         \n"
     ]
    }
   ],
   "source": [
    "sp.pprint(sp.dsolve( ODE, hint=\"1st_power_series\"))"
   ]
  },
  {
   "cell_type": "code",
   "execution_count": 37,
   "metadata": {
    "collapsed": false
   },
   "outputs": [
    {
     "name": "stdout",
     "output_type": "stream",
     "text": [
      "v(x)                             \n",
      " ⌠                               \n",
      " ⎮       1                ⌠      \n",
      " ⎮   ────────── dy = C₁ + ⎮ -1 dx\n",
      " ⎮      2                 ⌡      \n",
      " ⎮   - y ⋅k + g                  \n",
      " ⌡                               \n",
      "                                 \n"
     ]
    }
   ],
   "source": [
    "sp.pprint(sp.dsolve( ODE, hint=\"separable_Integral\"))"
   ]
  },
  {
   "cell_type": "code",
   "execution_count": 39,
   "metadata": {
    "collapsed": false
   },
   "outputs": [
    {
     "name": "stdout",
     "output_type": "stream",
     "text": [
      "      _____    ⎛        _____       ⎞       _____    ⎛      _____       ⎞     \n",
      "     ╱  1      ⎜       ╱  1         ⎟      ╱  1      ⎜     ╱  1         ⎟     \n",
      "    ╱  ─── ⋅log⎜- g⋅  ╱  ───  + v(x)⎟     ╱  ─── ⋅log⎜g⋅  ╱  ───  + v(x)⎟     \n",
      "  ╲╱   g⋅k     ⎝    ╲╱   g⋅k        ⎠   ╲╱   g⋅k     ⎝  ╲╱   g⋅k        ⎠     \n",
      "- ─────────────────────────────────── + ───────────────────────────────── = C₁\n",
      "                   2                                    2                     \n",
      "\n",
      "    \n",
      "    \n",
      "    \n",
      "    \n",
      " - x\n",
      "    \n"
     ]
    }
   ],
   "source": [
    "sp.pprint(sp.dsolve( ODE, hint=\"separable_Integral\").doit() )"
   ]
  },
  {
   "cell_type": "code",
   "execution_count": null,
   "metadata": {
    "collapsed": true
   },
   "outputs": [],
   "source": []
  }
 ],
 "metadata": {
  "kernelspec": {
   "display_name": "Python 3",
   "language": "python",
   "name": "python3"
  },
  "language_info": {
   "codemirror_mode": {
    "name": "ipython",
    "version": 3
   },
   "file_extension": ".py",
   "mimetype": "text/x-python",
   "name": "python",
   "nbconvert_exporter": "python",
   "pygments_lexer": "ipython3",
   "version": "3.4.3"
  }
 },
 "nbformat": 4,
 "nbformat_minor": 0
}
