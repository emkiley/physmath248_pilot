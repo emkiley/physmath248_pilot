{
 "cells": [
  {
   "cell_type": "markdown",
   "metadata": {},
   "source": [
    "## Workbook on solving ODEs with sympy\n",
    "\n",
    "Recall our ODE from the [skydiver problem](https://github.com/fherwig/physmath248_pilot/tree/master/examples/Skydiver.ipynb). \n",
    "\n",
    "$$ v' = kv^2 -g $$"
   ]
  },
  {
   "cell_type": "code",
   "execution_count": null,
   "metadata": {
    "collapsed": false
   },
   "outputs": [],
   "source": [
    "## Analytic Solution in implicit form, using SymPy.\n",
    "import sympy as sp\n",
    "\n",
    "f=sp.Function('v')\n",
    "x=sp.Symbol('x', real=True)\n",
    "            \n",
    "g,k=sp.symbols('g k')\n",
    "ODE = sp.Eq( sp.Derivative(f(x), x), k*f(x)**2 - g )\n",
    "\n",
    "print(\"We wish to get sympy to solve the differential equation: \")\n",
    "sp.pprint(ODE)\n"
   ]
  },
  {
   "cell_type": "code",
   "execution_count": null,
   "metadata": {
    "collapsed": false
   },
   "outputs": [],
   "source": [
    "print(\"It is perfectly acceptable to ask sympy to solve an ODE given in the traditional form above.\")\n",
    "sp.pprint(sp.dsolve(ODE))"
   ]
  },
  {
   "cell_type": "markdown",
   "metadata": {},
   "source": [
    "Sympy is happy with the ode in the above form.  It is also happy with it in the more traditional form\n",
    "$$v' + g - kv^2 = 0$$\n",
    "moreover, this allows us to omit the equality when calling *dsolve*."
   ]
  },
  {
   "cell_type": "code",
   "execution_count": null,
   "metadata": {
    "collapsed": false
   },
   "outputs": [],
   "source": [
    "ODE = sp.Derivative(f(x), x) - k*f(x)**2 + g\n",
    "sp.pprint(ODE)\n",
    "sp.pprint(sp.dsolve(ODE))"
   ]
  },
  {
   "cell_type": "code",
   "execution_count": null,
   "metadata": {
    "collapsed": false
   },
   "outputs": [],
   "source": [
    "## Let's plot some solution curves. \n",
    "\n",
    "SOL = sp.dsolve(ODE)\n",
    "\n",
    "SOLt = SOL.subs([(g, 9), (k,1)])\n",
    "print(\"With g=9 and k=1 our solution curves are: \\n\")\n",
    "sp.pprint(SOLt)\n",
    "\n",
    "## We have too many variables for v to depend directly on x.\n",
    "## Let's replace g and k with something reasonable. "
   ]
  },
  {
   "cell_type": "markdown",
   "metadata": {},
   "source": [
    "Notice sympy has inadvertently found the \"wrong\" solution, or something that looks like the wrong solution.  Since it did not take the absolute value when computing the anti-derivatives of \n",
    "$$\\frac{1}{v-3}$$\n",
    "i.e. it is using $\\log(v-3)$ rather than $\\log|v-3|$ this would appear to be the **wrong** answer.  \n",
    "\n",
    "In a technical sense sympy is not making this exact mistake as sympy is considering the function $\\frac{1}{z}$ to be a function on the complex plane, so its anti-derivative is a certain well-defined *branch of the logarithm* function.  Unfortunately, branches require choices and sympy is making the **wrong** choice of branch in the above expression! "
   ]
  },
  {
   "cell_type": "code",
   "execution_count": null,
   "metadata": {
    "collapsed": false
   },
   "outputs": [],
   "source": [
    "print(\"log of -1\")\n",
    "sp.pprint(sp.log(-1))\n",
    "\n",
    "print(\"\\nlog of -i\")\n",
    "sp.pprint(sp.log(-sp.I))"
   ]
  },
  {
   "cell_type": "markdown",
   "metadata": {},
   "source": [
    "This tells us sympy is using what is called as the *principal branch* of the logarithm function.\n",
    "\n",
    "One way to fix this is to is to manipulate the symbolic expression directly, for example replacing the $v-3$ expression with $3-v$. We can do this with the *xreplace* call. \n",
    "\n",
    "Another (more systematic, requiring a knowledge of complex analysis) way to fix this problem would be to replace all occurances of $\\log$ by the real part, i.e. $\\log \\longmapsto Re(\\log)$. "
   ]
  },
  {
   "cell_type": "code",
   "execution_count": null,
   "metadata": {
    "collapsed": false
   },
   "outputs": [],
   "source": [
    "## this expression still depends on a constant.  We need to extract the functional expression in (v,x) \n",
    "## to form a plot. So let's extract the left-hand side of the equation. \n",
    "sp.pprint(SOLt)\n",
    "print(\"\\nPerforming the replacement:\")\n",
    "repl_dict = {f(x)-3: 3-f(x)}\n",
    "sp.pprint(SOLt.xreplace(repl_dict))\n",
    "print(\"Ta da!\")\n",
    "SOLt = SOLt.xreplace(repl_dict)"
   ]
  },
  {
   "cell_type": "code",
   "execution_count": null,
   "metadata": {
    "collapsed": false
   },
   "outputs": [],
   "source": [
    "print(\"Recall how sympy thinks about symbolic expressions: \")\n",
    "print(sp.srepr(SOLt))\n",
    "print(\"\\n\")\n",
    "sp.pprint(SOLt.args[0])\n",
    "print(\"\\nReplacing v(x) with y\")\n",
    "\n",
    "y = sp.Symbol('y')\n",
    "SOLp = SOLt.args[0].subs(f(x), y)\n",
    "sp.pprint(SOLp)\n"
   ]
  },
  {
   "cell_type": "code",
   "execution_count": null,
   "metadata": {
    "collapsed": false
   },
   "outputs": [],
   "source": [
    "from sympy.plotting import plot_implicit\n",
    "from matplotlib import *\n",
    "import matplotlib.pyplot as plt\n",
    "import matplotlib.patches as patches\n",
    "%matplotlib inline \n",
    "\n",
    "res = 2.9999999\n",
    "\n",
    "curve1 = plot_implicit(sp.Eq(SOLp, 0), (x,-5,5), (y,-res,res), \n",
    "              adaptive=False, points=1800, \n",
    "              xlabel=\"time-axis\", ylabel=\"v-axis\", show=False)\n",
    "\n",
    "curve2 = plot_implicit(sp.Eq(SOLp, 2), (x,-5,5), (y,-res,res), \n",
    "              adaptive=False, points=1800, \n",
    "              show=False)\n",
    "\n",
    "curve3 = plot_implicit(sp.Eq(SOLp, -2), (x,-5,5), (y,-res,res), \n",
    "              adaptive=False, points=1800, \n",
    "              show=False)\n",
    "\n",
    "\n",
    "curve1.extend(curve2)\n",
    "curve1.extend(curve3)\n",
    "curve1.show()"
   ]
  },
  {
   "cell_type": "code",
   "execution_count": null,
   "metadata": {
    "collapsed": false
   },
   "outputs": [],
   "source": [
    "## Or we could realize we could solve for x or y, rather than using the implicit plot. \n",
    "sp.pprint(SOLp)\n",
    "\n",
    "print(\"Solve for x: \\n\")\n",
    "sp.pprint(sp.solve(sp.Eq(SOLp, sp.Symbol('c')), x))\n",
    "print(\"\\nSolve for y: \\n\")\n",
    "sp.pprint(sp.solve(sp.Eq(SOLp, sp.Symbol('c')), y))\n",
    "\n",
    "Gy = sp.solve(sp.Eq(SOLp, sp.Symbol('c')), x)[0]\n",
    "Fx = sp.solve(sp.Eq(SOLp, sp.Symbol('c')), y)[0]"
   ]
  },
  {
   "cell_type": "code",
   "execution_count": null,
   "metadata": {
    "collapsed": false
   },
   "outputs": [],
   "source": [
    "## this allows us to plot y as a function of x. \n",
    "sp.pprint(Gy)\n",
    "\n",
    "G1 = Gy.subs(sp.Symbol('c'), 1)\n",
    "print(\"After substitution: \\n\")\n",
    "sp.pprint(G1)\n"
   ]
  },
  {
   "cell_type": "code",
   "execution_count": null,
   "metadata": {
    "collapsed": false
   },
   "outputs": [],
   "source": [
    "## plot x as a function of y\n",
    "import numpy as np\n",
    "res=2.9999\n",
    "Ly = np.linspace(-res, res, 200)\n",
    "G1n = sp.lambdify(y, G1, 'numpy')\n",
    "plt.plot( G1n(Ly), Ly, 'b-')"
   ]
  },
  {
   "cell_type": "code",
   "execution_count": null,
   "metadata": {
    "collapsed": false
   },
   "outputs": [],
   "source": [
    "## plot y as a function of x\n",
    "res = 3\n",
    "F1 = Fx.subs(sp.Symbol('c'), 1)\n",
    "sp.pprint(F1)\n",
    "F1n = sp.lambdify(x, F1, 'numpy')\n",
    "\n",
    "Lx = np.linspace(-5, 5, 200)\n",
    "plt.plot( Lx, F1n(Lx), 'b-')"
   ]
  },
  {
   "cell_type": "markdown",
   "metadata": {},
   "source": [
    "## More Generally -- Solving ODES with sympy\n",
    "\n",
    "At present, sympy's ode solving algorithm is basically a big *cookbook*-style database of formulas.  The key computational task sympy must perform is to recognise what type of differential equation you have provided it.  \n",
    "\n",
    "Once it recognises the form from its cookbook, it follows standard procedures, which usually amount to either computing anti-derivatives, Fourier transforms, power series, etc. \n",
    "\n",
    "**Sympy has algorithms to solve:**\n",
    "\n",
    "* First order ODEs that are: \n",
    "     - separable differential equations\n",
    "     - differential equations whose coefficients homogeneous of the same order.\n",
    "     - exact differential equations.\n",
    "     - linear differential equations\n",
    "     - Bernoulli differential equations.\n",
    "\n",
    "* Second order ODEs that are:\n",
    "    - Liouville differential equations.\n",
    "\n",
    "* n-th order ODEs that are:\n",
    "    - linear homogeneous differential equation with constant coefficients.\n",
    "    - linear inhomogeneous differential equation with constant coefficients using the method of undetermined coefficients.\n",
    "    - linear inhomogeneous differential equation with constant coefficients using the method of variation of parameters.\n",
    "\n",
    "Sympy also has algorithms to solve some [PDEs](http://docs.sympy.org/latest/modules/solvers/pde.html), Delay Differential Equations [DDEs](http://users.ox.ac.uk/~clme1073/python/PyDDE/) and pretty much any other kind of differential equation you can imagine. \n",
    "\n",
    "A key issue to solving differential equations is *determining what kind of differential equation* one is trying to solve. Once you *know* a differential equation is in (or can be put in) **form $X$**, and if sympy has an algorithm to solve differential equations of **form $X$**, then sympy can quickly give the answer.  \n",
    "\n",
    "**example: **\n",
    "\n",
    "*Exact differential equations* are of the form:\n",
    "$$ f(x,y) \\frac{dy}{dx} + g(x,y) = 0$$\n",
    "with \n",
    "$$ \\frac{\\partial f}{\\partial x} = \\frac{\\partial g}{\\partial y} $$\n",
    "\n",
    "Sympy has a routine that uses heuristics, based on its algorithms to solve algebraic equations, that check to see if your differential equation is of a type that it knows how to solve.  These tests can be sophisticated or not, and depends on the ease-of-applicability of the method.  For example, things like linear or separable ODEs are relatively easy to recognise, but exact differential equations can sometimes be subtle, due to the flexibility of the *integrating factor* technique. \n",
    "\n",
    "$$y' = - \\frac{3xy+y^2}{x^2+xy}$$\n",
    "\n",
    "is an exact ODE... or at least, it can be made to be exact with an integrating factor. \n",
    "\n"
   ]
  },
  {
   "cell_type": "code",
   "execution_count": null,
   "metadata": {
    "collapsed": false
   },
   "outputs": [],
   "source": [
    "y=sp.Function('y')\n",
    "\n",
    "sp.classify_ode( sp.Eq( y(x).diff(x) + ((3*x*y(x)+y(x)**2)/(x**2+x*y(x))), 0 ), y(x) )"
   ]
  },
  {
   "cell_type": "markdown",
   "metadata": {},
   "source": [
    "The *classify_ode* routine returns the list of \"types\" of ODEs that the differential equation satisfies, which sympy knows how to solve.  If you find the default solution that sympy gives you is not satisfactory (perhaps the algebra is too complicated) you can ask sympy to solve your differential equation using another method, using the *hint* argument."
   ]
  },
  {
   "cell_type": "code",
   "execution_count": null,
   "metadata": {
    "collapsed": false
   },
   "outputs": [],
   "source": [
    "sp.pprint(sp.dsolve(sp.Eq( y(x).diff(x) + ((3*x*y(x)+y(x)**2)/(x**2+x*y(x))), 0 ), \n",
    "                    hint=\"1st_homogeneous_coeff_subs_indep_div_dep_Integral\"))"
   ]
  },
  {
   "cell_type": "code",
   "execution_count": null,
   "metadata": {
    "collapsed": false
   },
   "outputs": [],
   "source": [
    "sp.pprint(sp.dsolve(sp.Eq( y(x).diff(x) + ((3*x*y(x)+y(x)**2)/(x**2+x*y(x))), 0 ), \n",
    "                    hint=\"1st_homogeneous_coeff_subs_dep_div_indep_Integral\"))"
   ]
  },
  {
   "cell_type": "code",
   "execution_count": null,
   "metadata": {
    "collapsed": false
   },
   "outputs": [],
   "source": [
    "sp.pprint(sp.dsolve(sp.Eq( y(x).diff(x) + ((3*x*y(x)+y(x)**2)/(x**2+x*y(x))), 0 ), \n",
    "                    hint=\"1st_homogeneous_coeff_subs_indep_div_dep\"))"
   ]
  },
  {
   "cell_type": "markdown",
   "metadata": {},
   "source": [
    "Generally sympy puts the technique considered to give the *most pleasant to work with* solutions at the top of the *classify_ode* list. "
   ]
  },
  {
   "cell_type": "code",
   "execution_count": null,
   "metadata": {
    "collapsed": false
   },
   "outputs": [],
   "source": [
    "sp.pprint(sp.dsolve( ODE, hint=\"1st_power_series\"))"
   ]
  },
  {
   "cell_type": "code",
   "execution_count": null,
   "metadata": {
    "collapsed": false
   },
   "outputs": [],
   "source": [
    "sp.pprint(sp.dsolve( ODE, hint=\"separable_Integral\"))"
   ]
  },
  {
   "cell_type": "code",
   "execution_count": null,
   "metadata": {
    "collapsed": false
   },
   "outputs": [],
   "source": [
    "sp.pprint(sp.dsolve( ODE, hint=\"separable_Integral\").doit() )"
   ]
  },
  {
   "cell_type": "markdown",
   "metadata": {
    "collapsed": true
   },
   "source": [
    "## More on exact ODEs\n",
    "\n",
    "While Sympy did not recognise our ODE as exact (since it is not *literally* exact), we can still use sympy to look for an integrating factor -- something to turn it into an exact ODE... giving us another method to find solutions. \n",
    "\n",
    "Recall, *exact* ODEs are the ones that can be thought of as the gradient of a smooth function defined on the plane.  Any first-order $1$-dimensional ODE can be thought of as the flow lines of a vector field in the plane.  So we re-scale this vector field and try to show it is a gradient.\n",
    "\n",
    "Our differential equation is:"
   ]
  },
  {
   "cell_type": "code",
   "execution_count": null,
   "metadata": {
    "collapsed": false
   },
   "outputs": [],
   "source": [
    "import sympy as sp\n",
    "y=sp.Function('y')\n",
    "x=sp.Symbol('x')\n",
    "\n",
    "sp.pprint(sp.Eq( y(x).diff(x) + ((3*x*y(x)+y(x)**2)/(x**2+x*y(x))), 0 ) )"
   ]
  },
  {
   "cell_type": "markdown",
   "metadata": {},
   "source": [
    "Differential equations of the form \n",
    "\n",
    "$$\\frac{dy}{dx} + \\frac{f(x,y)}{g(x,y)} = 0$$\n",
    "\n",
    "have solutions that are orthogonal to the vector field\n",
    "\n",
    "$$\\vec F(x,y) = (f(x,y), g(x,y))$$\n",
    "\n",
    "perhaps this is most easily seen by rewriting the differential equation as\n",
    "\n",
    "$$ g(x,y) dy + f(x,y)dx = 0.$$\n",
    "\n",
    "So if $\\vec F$ was a gradient vector field, our solutions would be parametrizations of the level-sets of the potential function.  \n",
    "\n",
    "In our case $\\frac{\\partial f}{\\partial y} - \\frac{\\partial g}{\\partial x} = x+y$ so $\\vec F$ is *not* a gradient.  But we can modify the length of $\\vec F$ and potentialls that new vector field would be a gradient.  This is the method of *integrating factors*. \n",
    "\n",
    "Let $u(x,y)$ be a positive function in the plane, and consider the problem of determining whether or not \n",
    "$$ u \\vec F$$ \n",
    "\n",
    "is a gradient.  When the domain of $\\vec F$ is *simply connected* (like a disc or a rectangle) this is equivalent to checking that the mixed partials agree. \n",
    "\n",
    "So we need to check that\n",
    "\n",
    "$$\\frac{\\partial u}{\\partial x} g - \\frac{\\partial u}{\\partial y} f = u \\left( \\frac{\\partial f}{\\partial y} - \\frac{\\partial g}{\\partial x} \\right)$$"
   ]
  },
  {
   "cell_type": "code",
   "execution_count": null,
   "metadata": {
    "collapsed": true
   },
   "outputs": [],
   "source": [
    "## We implement the above. \n",
    "\n",
    "u = sp.Function('u')\n",
    "y = sp.Symbol('y')\n",
    "newEQ = sp.Eq( sp.diff(u(x,y)*(3*x*y+y**2), y) - sp.diff(u(x,y)*(x**2+x*y), x))\n",
    "sp.pprint(newEQ)"
   ]
  },
  {
   "cell_type": "code",
   "execution_count": null,
   "metadata": {
    "collapsed": false
   },
   "outputs": [],
   "source": [
    "## Some standard ideas is to make u a function of only x or y.  Let's see what happens.\n",
    "print(\"\\nu(x) only.\\n\")\n",
    "eqx = sp.Eq( sp.diff(u(x)*(3*x*y+y**2), y) - sp.diff(u(x)*(x**2+x*y), x))\n",
    "sp.pprint(eqx)\n",
    "sp.pprint(sp.solve(eqx, sp.diff(u(x), x) ))\n",
    "eqx = sp.Eq( sp.diff(u(x), x), sp.solve(eqx, sp.diff(u(x), x) )[0] )\n",
    "sp.pprint(eqx)"
   ]
  },
  {
   "cell_type": "code",
   "execution_count": null,
   "metadata": {
    "collapsed": false
   },
   "outputs": [],
   "source": [
    "print(\"\\nu(y) only.\\n\")\n",
    "eqy = sp.Eq( sp.diff(u(y)*(3*x*y+y**2), y) - sp.diff(u(y)*(x**2+x*y), x))\n",
    "eqy = sp.Eq( sp.diff(u(y), y), sp.solve(eqy, sp.diff(u(y), y) )[0] )\n",
    "sp.pprint(eqy)"
   ]
  },
  {
   "cell_type": "code",
   "execution_count": null,
   "metadata": {
    "collapsed": false
   },
   "outputs": [],
   "source": [
    "## let's see if sympy can solve either!\n",
    "\n",
    "print(\"ODE types for eqx:\")\n",
    "sp.classify_ode( eqx, u(x) )"
   ]
  },
  {
   "cell_type": "code",
   "execution_count": null,
   "metadata": {
    "collapsed": false
   },
   "outputs": [],
   "source": [
    "print(\"\\nODE types for eqy:\")\n",
    "sp.classify_ode( eqy, u(y) )"
   ]
  },
  {
   "cell_type": "code",
   "execution_count": null,
   "metadata": {
    "collapsed": false
   },
   "outputs": [],
   "source": [
    "## okay, so eqy it is!\n",
    "sol = sp.dsolve(eqx, u(x))\n",
    "sp.pprint(sol)"
   ]
  },
  {
   "cell_type": "code",
   "execution_count": null,
   "metadata": {
    "collapsed": false
   },
   "outputs": [],
   "source": [
    "## we don't need the c_1 term\n",
    "sol = sol.subs( sp.Symbol('C1'), 1)\n",
    "sp.pprint(sol)"
   ]
  },
  {
   "cell_type": "code",
   "execution_count": null,
   "metadata": {
    "collapsed": false
   },
   "outputs": [],
   "source": [
    "y=sp.Function('y')\n",
    "## let's treat y as a function variable again...\n",
    "sol = sol.subs(sp.Symbol('y'), y(x) )\n",
    "#sp.pprint(sol)\n",
    "u = sol.args[1]\n",
    "#sp.pprint(u)\n",
    "newODE = sp.Eq( u*(x**2+x*y(x))*sp.diff(y(x), x) + u*(3*x*y(x)+y(x)**2), 0 )\n",
    "print(\"The new ODE is:\\n\")\n",
    "sp.pprint(newODE)\n",
    "\n",
    "sp.classify_ode( newODE, y(x) )\n"
   ]
  },
  {
   "cell_type": "code",
   "execution_count": null,
   "metadata": {
    "collapsed": false
   },
   "outputs": [],
   "source": [
    "sp.pprint( sp.dsolve( newODE, y(x) ) )"
   ]
  },
  {
   "cell_type": "code",
   "execution_count": null,
   "metadata": {
    "collapsed": false
   },
   "outputs": [],
   "source": []
  },
  {
   "cell_type": "code",
   "execution_count": null,
   "metadata": {
    "collapsed": true
   },
   "outputs": [],
   "source": []
  }
 ],
 "metadata": {
  "kernelspec": {
   "display_name": "Python 3",
   "language": "python",
   "name": "python3"
  },
  "language_info": {
   "codemirror_mode": {
    "name": "ipython",
    "version": 3
   },
   "file_extension": ".py",
   "mimetype": "text/x-python",
   "name": "python",
   "nbconvert_exporter": "python",
   "pygments_lexer": "ipython3",
   "version": "3.4.3"
  }
 },
 "nbformat": 4,
 "nbformat_minor": 0
}
