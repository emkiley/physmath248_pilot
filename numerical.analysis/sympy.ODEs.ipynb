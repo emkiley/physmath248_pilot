{
 "cells": [
  {
   "cell_type": "markdown",
   "metadata": {},
   "source": [
    "## Workbook on solving ODEs with sympy\n",
    "\n",
    "Recall our ODE from the [skydiver problem](https://github.com/fherwig/physmath248_pilot/tree/master/examples/Skydiver.ipynb). \n",
    "\n",
    "$$ v' = kv^2 -g $$"
   ]
  },
  {
   "cell_type": "code",
   "execution_count": null,
   "metadata": {
    "collapsed": false
   },
   "outputs": [],
   "source": [
    "## Analytic Solution in implicit form, using SymPy.\n",
    "import sympy as sp\n",
    "\n",
    "f=sp.Function('v')\n",
    "x=sp.Symbol('x')\n",
    "\n",
    "g,k=sp.symbols('g k')\n",
    "ODE = sp.Eq( sp.Derivative(f(x), x), k*f(x)**2 - g )\n",
    "\n",
    "print(\"We wish to get sympy to solve the differential equation: \")\n",
    "sp.pprint(ODE)\n"
   ]
  },
  {
   "cell_type": "code",
   "execution_count": null,
   "metadata": {
    "collapsed": false
   },
   "outputs": [],
   "source": [
    "print(\"It is perfectly acceptable to ask sympy to solve an ODE given in the traditional form above.\")\n",
    "sp.pprint(sp.dsolve(ODE))"
   ]
  },
  {
   "cell_type": "code",
   "execution_count": null,
   "metadata": {
    "collapsed": false
   },
   "outputs": [],
   "source": [
    "print(\"Or to rewrite it more traditionally: \")\n",
    "ODE = sp.Eq( sp.Derivative(f(x), x) - k*f(x)**2 + g, 0 )\n",
    "sp.pprint(ODE)\n",
    "sp.pprint(sp.dsolve(ODE))"
   ]
  },
  {
   "cell_type": "code",
   "execution_count": null,
   "metadata": {
    "collapsed": false
   },
   "outputs": [],
   "source": [
    "print(\"Or even to neglect the equality on the right-hand side...\")\n",
    "ODE= sp.Derivative(f(x), x) - k*f(x)**2 + g\n",
    "sp.pprint(ODE)\n",
    "print(\"In this case, sympy **assumes** the =0 on the right hand side.\")\n",
    "sp.pprint(sp.dsolve(ODE))"
   ]
  },
  {
   "cell_type": "code",
   "execution_count": null,
   "metadata": {
    "collapsed": false
   },
   "outputs": [],
   "source": [
    "## Let's plot some solution curves. \n",
    "\n",
    "SOL = sp.dsolve(ODE)\n",
    "\n",
    "SOLt = SOL.subs([(g, 9), (k,1)])\n",
    "print(\"With g=9 and k=1 our solution curves are: \\n\")\n",
    "sp.pprint(SOLt)\n",
    "\n",
    "## We have too many variables for v to depend directly on x.\n",
    "## Let's replace g and k with something reasonable. \n"
   ]
  },
  {
   "cell_type": "code",
   "execution_count": null,
   "metadata": {
    "collapsed": false
   },
   "outputs": [],
   "source": [
    "## this expression still depends on a constant.  We need to extract the functional expression in (v,x) \n",
    "## to form a plot. So let's extract the left-hand side of the equation.  Recall how sympy thinks of the\n",
    "## expression in a tree.\n",
    "y = sp.Symbol('y', real=True)\n",
    "print(sp.srepr(SOLt))\n",
    "## We can see that the left-hand side is in the \"Add\" expression in the equality expression.  Let's see if we\n",
    "## can access it. \n",
    "print(\"\\nThe left-hand side of the equation: \\n\")\n",
    "sp.pprint(SOLt.args[0])\n",
    "\n",
    "SOLp = SOLt.args[0] ## this is what we will plot.\n",
    "print(\"\\nAnd replacing the functional expression f(x) by a variable y:\\n\")\n",
    "SOLp = SOLp.subs(f(x), y)\n",
    "sp.pprint(SOLp)\n",
    "print(\"Hmm, sympy does not want to write the anti-derivative of 1/y as log(|y|)... we can fix this problem... \")"
   ]
  },
  {
   "cell_type": "code",
   "execution_count": null,
   "metadata": {
    "collapsed": false
   },
   "outputs": [],
   "source": [
    "## let's bring to a common denominator\n",
    "SOLp = sp.together(SOLp)\n",
    "sp.pprint(SOLp)\n",
    "\n",
    "## and combine the logarithms\n",
    "SOLp = sp.logcombine(SOLp, force=True)\n",
    "sp.pprint(SOLp)\n",
    "\n",
    "## you can find all the simplification routines described, here:\n",
    "##  http://docs.sympy.org/dev/tutorial/simplification.html\n",
    "\n",
    "print(\"Now we can plot!\")"
   ]
  },
  {
   "cell_type": "code",
   "execution_count": null,
   "metadata": {
    "collapsed": false
   },
   "outputs": [],
   "source": [
    "from sympy.plotting import plot_implicit\n",
    "\n",
    "curve1 = plot_implicit(sp.Eq(SOLp, 0), (x,-2,2), (y,-2,2), \n",
    "              adaptive=False, points=200, \n",
    "              xlabel=\"time-axis\", ylabel=\"v-axis\", show=False)\n",
    "\n",
    "curve2 = plot_implicit(sp.Eq(SOLp, 1), (x,-2,2), (y,-2,2), \n",
    "              adaptive=False, points=200, \n",
    "              xlabel=\"time-axis\", ylabel=\"v-axis\", show=False)\n",
    "\n",
    "curve1.extend(curve2)\n",
    "curve1.show()"
   ]
  },
  {
   "cell_type": "code",
   "execution_count": null,
   "metadata": {
    "collapsed": false
   },
   "outputs": [],
   "source": [
    "## Or we could realize we could solve for x or y, rather than using the implicit plot. \n",
    "print(\"Solve for x: \")\n",
    "print(sp.solve(sp.Eq(SOLp, sp.Symbol('c')), x))\n",
    "print(\"Solve for y: \")\n",
    "print(sp.solve(sp.Eq(SOLp, sp.Symbol('c')), y))\n",
    "\n",
    "F = sp.solve(sp.Eq(SOLp, sp.Symbol('c')), y)[0]"
   ]
  },
  {
   "cell_type": "code",
   "execution_count": null,
   "metadata": {
    "collapsed": false
   },
   "outputs": [],
   "source": [
    "## this allows us to plot y as a function of x. \n",
    "sp.pprint(F)\n",
    "\n",
    "F2 = F.subs(sp.Symbol('c'), 2)\n",
    "print(\"After substitution: \\n\")\n",
    "sp.pprint(F2)"
   ]
  },
  {
   "cell_type": "code",
   "execution_count": null,
   "metadata": {
    "collapsed": false
   },
   "outputs": [],
   "source": [
    "from matplotlib import *\n",
    "import matplotlib.pyplot as plt\n",
    "import matplotlib.patches as patches\n",
    "%matplotlib inline \n",
    "\n",
    "import numpy as np\n",
    "Lx = np.linspace(0, 5, 200)\n",
    "F2n = sp.lambdify(x, F2, 'numpy')\n",
    "plt.plot(Lx, F2n(Lx), 'r-')"
   ]
  },
  {
   "cell_type": "markdown",
   "metadata": {},
   "source": [
    "## Solving ODES with sympy\n",
    "\n",
    "At present, sympy's ode solving algorithm is basically a big database or *cookbook*-style database of formulas... that sympy can work with as it has algorithms to find anti-derivatives of functions.  \n",
    "\n",
    "**Sympy has algorithms to solve:**\n",
    "\n",
    "* First order ODEs that are: \n",
    "     - separable differential equations\n",
    "     - differential equations whose coefficients homogeneous of the same order.\n",
    "     - exact differential equations.\n",
    "     - linear differential equations\n",
    "     - Bernoulli differential equations.\n",
    "\n",
    "* Second order ODEs that are:\n",
    "    - Liouville differential equations.\n",
    "\n",
    "* n-th order ODEs that are:\n",
    "    - linear homogeneous differential equation with constant coefficients.\n",
    "    - linear inhomogeneous differential equation with constant coefficients using the method of undetermined coefficients.\n",
    "    - linear inhomogeneous differential equation with constant coefficients using the method of variation of parameters.\n",
    "\n",
    "Sympy also has algorithms to solve some [PDEs](http://docs.sympy.org/latest/modules/solvers/pde.html), Delay Differential Equations [DDEs](http://users.ox.ac.uk/~clme1073/python/PyDDE/) and pretty much any other kind of differential equation you can imagine. \n",
    "\n",
    "A key issue to solving differential equations is *determining what kind of differential equation* one is trying to solve. Once you *know* a differential equation is in (or can be put in) **form $X$**, and if sympy has an algorithm to solve differential equations of **form $X$**, then sympy can quickly give the answer.  \n",
    "\n",
    "**example: **\n",
    "\n",
    "*Exact differential equations* are of the form:\n",
    "$$ f(x,y) \\frac{dy}{dx} + g(x,y) = 0$$\n",
    "with \n",
    "$$ \\frac{\\partial f}{\\partial x} = \\frac{\\partial g}{\\partial y} $$\n",
    "\n",
    "Sympy has a routine that uses heuristics, based on its algorithms to solve algebraic equations, that check to see if your differential equation is of a type that it knows how to solve.  These tests can be sophisticated or not, and depends on the ease-of-applicability of the method.  For example, things like linear or separable ODEs are relatively easy to recognise, but exact differential equations can sometimes be subtle, due to the flexibility of the *integrating factor* technique. \n",
    "\n",
    "$$y' = - \\frac{3xy+y^2}{x^2+xy}$$\n",
    "\n",
    "is an exact ODE... or at least, it can be made to be exact with an integrating factor. \n",
    "\n"
   ]
  },
  {
   "cell_type": "code",
   "execution_count": null,
   "metadata": {
    "collapsed": false
   },
   "outputs": [],
   "source": [
    "y=sp.Function('y')\n",
    "\n",
    "sp.classify_ode( sp.Eq( y(x).diff(x) + ((3*x*y(x)+y(x)**2)/(x**2+x*y(x))), 0 ), y(x) )"
   ]
  },
  {
   "cell_type": "markdown",
   "metadata": {},
   "source": [
    "The *classify_ode* routine returns the list of \"types\" of ODEs that the differential equation satisfies, which sympy knows how to solve.  If you find the default solution that sympy gives you is not satisfactory (perhaps the algebra is too complicated) you can ask sympy to solve your differential equation using another method, using the *hint* argument."
   ]
  },
  {
   "cell_type": "code",
   "execution_count": null,
   "metadata": {
    "collapsed": false
   },
   "outputs": [],
   "source": [
    "sp.pprint(sp.dsolve(sp.Eq( y(x).diff(x) + ((3*x*y(x)+y(x)**2)/(x**2+x*y(x))), 0 ), \n",
    "                    hint=\"1st_homogeneous_coeff_subs_indep_div_dep_Integral\"))"
   ]
  },
  {
   "cell_type": "code",
   "execution_count": null,
   "metadata": {
    "collapsed": false
   },
   "outputs": [],
   "source": [
    "sp.pprint(sp.dsolve(sp.Eq( y(x).diff(x) + ((3*x*y(x)+y(x)**2)/(x**2+x*y(x))), 0 ), \n",
    "                    hint=\"1st_homogeneous_coeff_subs_dep_div_indep_Integral\"))"
   ]
  },
  {
   "cell_type": "code",
   "execution_count": null,
   "metadata": {
    "collapsed": false
   },
   "outputs": [],
   "source": [
    "sp.pprint(sp.dsolve(sp.Eq( y(x).diff(x) + ((3*x*y(x)+y(x)**2)/(x**2+x*y(x))), 0 ), \n",
    "                    hint=\"1st_homogeneous_coeff_subs_indep_div_dep\"))"
   ]
  },
  {
   "cell_type": "markdown",
   "metadata": {},
   "source": [
    "Generally sympy puts the technique considered to give the *most pleasant to work with* solutions at the top of the *classify_ode* list. "
   ]
  },
  {
   "cell_type": "code",
   "execution_count": null,
   "metadata": {
    "collapsed": false
   },
   "outputs": [],
   "source": [
    "## Let's go back to the skydiver problem\n",
    "ODE = sp.Derivative(f(x), x) - k*f(x)**2 + g\n",
    "sp.classify_ode( ODE, f(x))"
   ]
  },
  {
   "cell_type": "code",
   "execution_count": null,
   "metadata": {
    "collapsed": false
   },
   "outputs": [],
   "source": [
    "sp.pprint(sp.dsolve( ODE, hint=\"1st_power_series\"))"
   ]
  },
  {
   "cell_type": "code",
   "execution_count": null,
   "metadata": {
    "collapsed": false
   },
   "outputs": [],
   "source": [
    "sp.pprint(sp.dsolve( ODE, hint=\"separable_Integral\"))"
   ]
  },
  {
   "cell_type": "code",
   "execution_count": null,
   "metadata": {
    "collapsed": false
   },
   "outputs": [],
   "source": [
    "sp.pprint(sp.dsolve( ODE, hint=\"separable_Integral\").doit() )"
   ]
  },
  {
   "cell_type": "code",
   "execution_count": null,
   "metadata": {
    "collapsed": true
   },
   "outputs": [],
   "source": []
  }
 ],
 "metadata": {
  "kernelspec": {
   "display_name": "Python 3",
   "language": "python",
   "name": "python3"
  },
  "language_info": {
   "codemirror_mode": {
    "name": "ipython",
    "version": 3
   },
   "file_extension": ".py",
   "mimetype": "text/x-python",
   "name": "python",
   "nbconvert_exporter": "python",
   "pygments_lexer": "ipython3",
   "version": "3.4.3"
  }
 },
 "nbformat": 4,
 "nbformat_minor": 0
}
