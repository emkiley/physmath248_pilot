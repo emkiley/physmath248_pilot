{
 "cells": [
  {
   "cell_type": "code",
   "execution_count": null,
   "metadata": {
    "collapsed": false
   },
   "outputs": [],
   "source": [
    "import numpy as np\n",
    "\n",
    "import matplotlib as mpl\n",
    "import matplotlib.pyplot as plt\n",
    "import matplotlib.patches as patches\n",
    "import numpy as np\n",
    "%matplotlib inline\n",
    "\n",
    "from mpl_toolkits.mplot3d import Axes3D\n",
    "\n",
    "fig = plt.figure(figsize=(12,12))\n",
    "\n",
    "ax = fig.add_subplot(111, projection='3d')\n",
    "\n",
    "t1 = np.linspace(0, 2*np.pi, 100)\n",
    "t2 = np.linspace(0, 2*np.pi, 100)\n",
    "\n",
    "## we use outer to form a doubly-indexed list of numbers.\n",
    "## alternatively one could form the doubly-index list\n",
    "## beforehand...\n",
    "bigR = 1.0\n",
    "smR = 0.2\n",
    "x1 = np.outer( (bigR+smR*np.cos(t1)), np.cos(t2) )\n",
    "y1 = np.outer( (bigR+smR*np.cos(t1)), np.sin(t2) )\n",
    "z1 = np.outer( smR*np.sin(t1), np.ones(np.size(t2)) ) \n",
    "\n",
    "ax.set_title('A more pleasant view of the tire tube.', fontsize=14)\n",
    "ax.plot_surface(x1, y1, z1, rstride=5,cstride=5, color='r', shade=True)\n",
    "\n",
    "## here is a fairly nice way to set a common aspect ratio\n",
    "scl = np.array([getattr(ax,'get_{}lim'.format(dim))() for dim in 'xyz'])\n",
    "ax.auto_scale_xyz(*[[np.min(scl),np.max(scl)]]*3)\n",
    "\n",
    "## elev sets how far up from the xy-plane we arein.\n",
    "## azim is the angle from the xz-plane\n",
    "ax.view_init(elev=30,azim=45)\n",
    "plt.show()"
   ]
  },
  {
   "cell_type": "markdown",
   "metadata": {},
   "source": [
    "You might say *that's nice* **but** it's also a little primitive.  If you would like to get serious about creating pleasing plots in Python, there are some more serious visualization libraries.\n",
    "\n",
    " * Mayavi (http://docs.enthought.com/mayavi/mayavi) available with apt-get install mayavi2\n",
    " * VPython (http://www.vpython.org) available with apt-get install python-visual\n",
    " * VisPy (http://vispy.org)\n",
    " * Python SciTools (https://github.com/hplgit/scitools) available with apt-get install python-scitools\n",
    " * Visualization Toolkit VTK (http://www.vtk.org/) available with apt-get install python-vtk (for version 5) and  python-vtk6 for version 6.  \n",
    " \n",
    "My initial impression is VTK, Mayavi and Python SciTools have the most pleasant and flexible rendering engine.  All three use the VTK library.  The VTK library has good documentation on-line but it is something of a *power user* visualization toolkit, where one might have to write a significant amount of code to get your displays *just right*.  The other libraries strive more for convenience, rather than flexibility and precision.  In my initial explorations I've found Mayavi the best compromise between ease-of-use and informative graphics. \n"
   ]
  },
  {
   "cell_type": "code",
   "execution_count": null,
   "metadata": {
    "collapsed": true
   },
   "outputs": [],
   "source": [
    "## A VPython sample.  This appears to be much like a basic rendering package\n",
    "## unfortunately, you need to be running ipython with the Python 2 engine \n",
    "## to use this toolbox -- it has not been ported to Python 3 yet. \n",
    "import visual as v\n",
    "redbox = v.box(pos=v.vector(4,2,3),size=(8,4,6),color=v.color.red)\n",
    "ball=v.sphere(pos=v.vector(4,7,3),radius=2,color=v.color.green)"
   ]
  },
  {
   "cell_type": "code",
   "execution_count": null,
   "metadata": {
    "collapsed": true
   },
   "outputs": [],
   "source": [
    "## A Mayavi sample. This appears far more sophisticated.\n",
    "##  grabbed from the above Mayavi website\n",
    "\n",
    "## This library also only works for Python 2. \n",
    "\n",
    "import numpy as np\n",
    "from mayavi import mlab\n",
    "\n",
    "## increments pi/250.\n",
    "dphi, dtheta = np.pi/250.0, np.pi/250.0\n",
    "## this specifies a 2-dimensional grid. It takes a list of elements of the\n",
    "## form ak:bk:sk the length of which is the dimension of the grid.  ak is\n",
    "## the left endpoint, bk the right, sk the step size.\n",
    "[phi,theta] = np.mgrid[0:np.pi+dphi*1.5:dphi,0:2*np.pi+dtheta*1.5:dtheta]\n",
    "m0 = 4; m1 = 3; m2 = 2; m3 = 3; m4 = 6; m5 = 2; m6 = 6; m7 = 4;\n",
    "r = np.sin(m0*phi)**m1 + np.cos(m2*phi)**m3 + np.sin(m4*theta)**m5 + np.cos(m6*theta)**m7\n",
    "x = r*np.sin(phi)*np.cos(theta)\n",
    "y = r*np.cos(phi)\n",
    "z = r*np.sin(phi)*np.sin(theta)\n",
    "\n",
    "# View it.\n",
    "s = mlab.mesh(x, y, z)\n",
    "mlab.show()"
   ]
  },
  {
   "cell_type": "code",
   "execution_count": null,
   "metadata": {
    "collapsed": true
   },
   "outputs": [],
   "source": []
  }
 ],
 "metadata": {
  "kernelspec": {
   "display_name": "Python 2",
   "language": "python",
   "name": "python2"
  },
  "language_info": {
   "codemirror_mode": {
    "name": "ipython",
    "version": 2
   },
   "file_extension": ".py",
   "mimetype": "text/x-python",
   "name": "python",
   "nbconvert_exporter": "python",
   "pygments_lexer": "ipython2",
   "version": "2.7.6"
  }
 },
 "nbformat": 4,
 "nbformat_minor": 0
}
