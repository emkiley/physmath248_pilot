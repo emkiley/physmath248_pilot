{
 "cells": [
  {
   "cell_type": "markdown",
   "metadata": {
    "collapsed": true
   },
   "source": [
    "## Compute pi using various integral approximations.\n",
    "\n",
    "We compute $\\pi$ using various standard integral approximations.  $\\pi$ is the area of a unit-radius circle.  \n",
    "It is also half the circumference of the same circle.  This gives us two standard integral expressions for $\\pi$.\n",
    "\n",
    "$$\\pi = 2 \\int_{-1}^1 \\sqrt{1-x^2} dx$$\n",
    "\n",
    "$$\\pi = \\int_{-1}^1 \\sqrt{\\frac{1}{1-x^2}} dx$$"
   ]
  },
  {
   "cell_type": "code",
   "execution_count": null,
   "metadata": {
    "collapsed": false
   },
   "outputs": [
    {
     "name": "stdout",
     "output_type": "stream",
     "text": [
      "('Approximation of pi is ', 3.1454305886790395, ' using ', 40, 'intervals.')\n",
      "('Approximation of pi is ', 3.142731955187368, ' using ', 90, 'intervals.')\n",
      "('Approximation of pi is ', 3.1420736124317656, ' using ', 160, 'intervals.')\n",
      "('Approximation of pi is ', 3.141838979455954, ' using ', 250, 'intervals.')\n",
      "('Approximation of pi is ', 3.141735226847267, ' using ', 360, 'intervals.')\n",
      "('Approximation of pi is ', 3.1416824462824264, ' using ', 490, 'intervals.')\n",
      "('Approximation of pi is ', 3.1416528115709483, ' using ', 640, 'intervals.')\n",
      "('Approximation of pi is ', 3.1416349063369973, ' using ', 810, 'intervals.')\n",
      "('Approximation of pi is ', 3.141623456819913, ' using ', 1000, 'intervals.')\n",
      "('Approximation of pi is ', 3.1416157970558465, ' using ', 1210, 'intervals.')\n",
      "('Approximation of pi is ', 3.14161048027, ' using ', 1440, 'intervals.')\n",
      "('Approximation of pi is ', 3.141606674951418, ' using ', 1690, 'intervals.')\n",
      "('Approximation of pi is ', 3.1416038800005763, ' using ', 1960, 'intervals.')\n",
      "('Approximation of pi is ', 3.141601781158747, ' using ', 2250, 'intervals.')\n",
      "('Approximation of pi is ', 3.141600174529623, ' using ', 2560, 'intervals.')\n",
      "('Approximation of pi is ', 3.1415989238839903, ' using ', 2890, 'intervals.')\n",
      "('Approximation of pi is ', 3.1415979358447914, ' using ', 3240, 'intervals.')\n",
      "('Approximation of pi is ', 3.141597144950495, ' using ', 3610, 'intervals.')\n",
      "('Arclength pi approx ', 3.0560686161783583, ' using ', 200, 'intervals.')\n",
      "('Arclength pi approx ', 3.084568643904281, ' using ', 450, 'intervals.')\n",
      "('Arclength pi approx ', 3.0988225519181123, ' using ', 800, 'intervals.')\n",
      "('Arclength pi approx ', 3.1073757969465854, ' using ', 1250, 'intervals.')\n",
      "('Arclength pi approx ', 3.1130782554750076, ' using ', 1800, 'intervals.')\n",
      "('Arclength pi approx ', 3.11715155957244, ' using ', 2450, 'intervals.')\n",
      "('Arclength pi approx ', 3.120206593340849, ' using ', 3200, 'intervals.')\n",
      "('Arclength pi approx ', 3.1225827594991653, ' using ', 4050, 'intervals.')\n",
      "('Arclength pi approx ', 3.124483708507618, ' using ', 5000, 'intervals.')\n",
      "('Arclength pi approx ', 3.1260390399774627, ' using ', 6050, 'intervals.')\n",
      "('Arclength pi approx ', 3.1273351554996776, ' using ', 7200, 'intervals.')\n",
      "('Arclength pi approx ', 3.128431872512248, ' using ', 8450, 'intervals.')\n",
      "('Arclength pi approx ', 3.1293719182759996, ' using ', 9800, 'intervals.')\n",
      "('Arclength pi approx ', 3.130186626413277, ' using ', 11250, 'intervals.')\n",
      "('Arclength pi approx ', 3.1308994973186555, ' using ', 12800, 'intervals.')\n",
      "('Arclength pi approx ', 3.1315285019922987, ' using ', 14450, 'intervals.')\n",
      "('Arclength pi approx ', 3.1320876179491197, ' using ', 16200, 'intervals.')\n",
      "('Arclength pi approx ', 3.132587880115453, ' using ', 18050, 'intervals.')\n"
     ]
    }
   ],
   "source": [
    "## We compute using the first integral...\n",
    "\n",
    "from math import *\n",
    "\n",
    "## Use k subintervals of the interval I, to integrate the function f. \n",
    "def midpt_integral(f, I, k): \n",
    "    sum = 0.0\n",
    "    deltax = (I[1]-I[0])/float(k)\n",
    "    for i in range (0, k): ## x is mid-point of i-th interval. \n",
    "        x = ((i/float(k))*I[1]) + ((1.0-(i/float(k)))*I[0]) + deltax/2\n",
    "        sum += f(x)*deltax\n",
    "    return sum\n",
    "\n",
    "def yval(x):\n",
    "    return sqrt(1-x*x)\n",
    "\n",
    "def aval(x):\n",
    "    return sqrt(1/(1-x*x))\n",
    "\n",
    "\n",
    "#for i in range (0, P): \n",
    "#    x = 2*(i / float(P)) - 1\n",
    "#    sum = sum + sqrt(1-x*x)*(2 / float(P) )\n",
    "\n",
    "for i in range (2, 20):\n",
    "    print(\"Approximation of pi is \", 2*midpt_integral(yval, [-1.0, 1.0], 10*i*i), \" using \", 10*i*i, \"intervals.\")\n",
    "\n",
    "for i in range (2, 20):\n",
    "    print(\"Arclength pi approx \", midpt_integral(aval, [-1.0, 1.0], 50*i*i), \" using \", 50*i*i, \"intervals.\")\n",
    "\n",
    "    "
   ]
  },
  {
   "cell_type": "code",
   "execution_count": null,
   "metadata": {
    "collapsed": false
   },
   "outputs": [],
   "source": [
    "## TODO: let's create a little visualization to get a sense for what is going on\n",
    "##       for example in the midpoint integral for the area. \n",
    "\n",
    "from matplotlib import *\n",
    "import matplotlib.pyplot as plt\n",
    "import matplotlib.patches as patches\n",
    "import numpy as np\n",
    "from sympy import *\n",
    "var_x = Symbol('x')\n",
    "\n",
    "## let's plot the function as a curve, and the\n",
    "## Riemann sum as rectangles. \n",
    "CA = plt.gca()\n",
    "\n",
    "def midpt_plot(f, I, k):\n",
    "    xax = np.arange(I[0], I[1], (I[1]-I[0])/((k*30))) ## use higher resolution on the function graph\n",
    "    yax = f(xax) ## list of y-values\n",
    "    plt.plot(xax,yax, color=\"black\")## graph of the function\n",
    "    delta = (I[1]-I[0])/float(k)\n",
    "    for i in range(0,k): ## plots the rectangles\n",
    "        CA.add_patch(patches.Rectangle( (I[0]+delta*i, 0.0), delta, f(I[0]+delta*(float(i)+0.5)), facecolor=\"pink\") )\n",
    "\n",
    "## matplotlib requires the usage of numpy-library functions.  These functions are a variant\n",
    "## in that they allow list inputs.  A numpy function, such as np.sin performs an element-wise\n",
    "## evaluation of the function, i.e.\n",
    "## np.sin([a,b,c]) = [sin(a), sin(b), sin(c)].  Thus in order to use numpy on sympy functions\n",
    "## we need to `cast' our sympy functions into numpy function.  We do it much like how we\n",
    "## converted sympy expressions into mpmath functions:\n",
    "\n",
    "yval_sympy = (1-var_x**2)**0.5\n",
    "yval_numpy = lambdify(var_x, yval_sympy, \"numpy\")\n",
    "        \n",
    "midpt_plot(yval_numpy, [-1.0, 1.0], 15)\n",
    "CA.text(0.5, 0.96, 2*midpt_integral(yval, [-1.0, 1.0], 15)) \n",
    "CA.text(0.5, 0.9, \"pi = %s\" % np.pi)\n",
    "\n",
    "plt.show()"
   ]
  },
  {
   "cell_type": "code",
   "execution_count": null,
   "metadata": {
    "collapsed": false
   },
   "outputs": [],
   "source": [
    "## and again with the arclength integral. We have to shrink the interval because\n",
    "## the graph in the midpt_plot function runs into a data type limitation, resulting\n",
    "## in the 1-x^2 expression being zero (as a float) even though it is non-zero as a \n",
    "## real number. \n",
    "\n",
    "plt.close()\n",
    "CA = plt.gca()\n",
    "\n",
    "yval_sympy = (1/(1-var_x**2))**0.5\n",
    "yval_numpy = lambdify(var_x, yval_sympy, \"numpy\")\n",
    "midpt_plot(yval_numpy, [-0.99999, 0.99999], 200)\n",
    "CA.text(0.5, 100.0, midpt_integral(aval, [-0.99999, 0.99999], 200))\n",
    "CA.text(0.5, 80.0, \"pi = %s\" % np.pi)\n",
    "\n",
    "plt.show()"
   ]
  },
  {
   "cell_type": "code",
   "execution_count": null,
   "metadata": {
    "collapsed": false
   },
   "outputs": [],
   "source": [
    "## We compute the integrals again using Simpson's 3/8 rule, also called \"Simpson's 2nd rule\". \n",
    "\n",
    "from math import *\n",
    "\n",
    "def yval(x):\n",
    "    return sqrt(1-x*x)\n",
    "\n",
    "## Use 3k subintervals of the interval I, to integrate the function f. \n",
    "## this method requires the number of intervals to be divisible by 3. \n",
    "def threeeight_integral(f, I, k): \n",
    "    sum = 0\n",
    "    deltax = (I[1]-I[0])/k\n",
    "    for i in range (0, k):\n",
    "        xa = ((i/float(k))*I[1]) + ((1-i/float(k))*I[0]) \n",
    "        xb = ((i/float(k))*I[1]) + ((1-i/float(k))*I[0]) + deltax/3 \n",
    "        xc = ((i/float(k))*I[1]) + ((1-i/float(k))*I[0]) + (2*deltax)/3\n",
    "        xd = ((i/float(k))*I[1]) + ((1-i/float(k))*I[0]) + deltax\n",
    "        sum = sum + ( f(xa) + 3*f(xb) + 3*f(xc) + f(xd) )*deltax/8\n",
    "    return sum\n",
    "\n",
    "for i in range (2,10):\n",
    "    print(\"Simpson 3/8 approximation is \", 2*threeeight_integral(yval, [-1.0,1.0], 10*i*i), \" using \", 10*i*i, \" intervals.\")\n",
    "    "
   ]
  },
  {
   "cell_type": "code",
   "execution_count": null,
   "metadata": {
    "collapsed": false
   },
   "outputs": [],
   "source": [
    "## We compute pi using probabilistic method.  Compute n points (uniformly) randomly in the box [-1,1]x[-1,1]\n",
    "## using a random number generator.  Consider the number k of them that are in the unit circle.  4*k/n \n",
    "## should be close to pi.\n",
    "\n",
    "from numpy import *\n",
    "\n",
    "def randomPi( n ):\n",
    "    count = 0\n",
    "    for i in range (0,n):\n",
    "        p = [2*random.random_sample()-1.0, 2*random.random_sample()-1.0]\n",
    "        if p[0]*p[0] + p[1]*p[1] < 1: \n",
    "            count += 1\n",
    "    return 4*count / float(n)\n",
    "\n",
    "for i in range (10, 20):\n",
    "    print(\"Random computation of pi using \", i*i*i, \" points: \", randomPi(i*i*i))\n",
    "    \n",
    "    "
   ]
  },
  {
   "cell_type": "code",
   "execution_count": null,
   "metadata": {
    "collapsed": false
   },
   "outputs": [],
   "source": [
    "## Let's check to see if these points in [-1,1]x[-1,1] really appear to be evenly distributed. \n",
    "numpoints = 1000\n",
    "list1 = [2.0*random.random()-1.0 for _ in range(0,numpoints)]\n",
    "list2 = [2.0*random.random()-1.0 for _ in range(0,numpoints)]\n",
    "ax = plt.gca() ## gca() means 'get current axis' -- this is an object one uses to append many things to plots. \n",
    "  ## gcf() is `get current figure' \n",
    "ax.add_patch(plt.Circle((0,0), 1.0, color='black', alpha=0.8, lw=10, fill=False))\n",
    "plt.plot(list1, list2, 'ro')\n",
    "plt.show()"
   ]
  },
  {
   "cell_type": "code",
   "execution_count": null,
   "metadata": {
    "collapsed": true
   },
   "outputs": [],
   "source": []
  }
 ],
 "metadata": {
  "kernelspec": {
   "display_name": "Python 2",
   "language": "python",
   "name": "python2"
  },
  "language_info": {
   "codemirror_mode": {
    "name": "ipython",
    "version": 2
   },
   "file_extension": ".py",
   "mimetype": "text/x-python",
   "name": "python",
   "nbconvert_exporter": "python",
   "pygments_lexer": "ipython2",
   "version": "2.7.6"
  }
 },
 "nbformat": 4,
 "nbformat_minor": 0
}
