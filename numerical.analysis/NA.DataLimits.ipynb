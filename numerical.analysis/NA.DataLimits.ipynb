{
 "cells": [
  {
   "cell_type": "code",
   "execution_count": null,
   "metadata": {
    "collapsed": true
   },
   "outputs": [],
   "source": [
    "## We describe some of the limitations of the native data types, and how one can circumvent these using extensions."
   ]
  },
  {
   "cell_type": "markdown",
   "metadata": {},
   "source": [
    "Floating point numbers are (presented as) numbers of the form \n",
    "$A\\cdot 10^B$ where $A$ and $B$ are integers.\n",
    "For example, to represent the number $$1.0324=10324 \\cdot 10^{-4}$$ \n",
    "Python would store this as a pair of integers $(10324, -4)$. \n",
    "The first integer, $10324$ is called the *significand*.  \n",
    "The second integer $-4$ is called the *exponent*.  \n",
    "$10$ is called the *base*.  \n",
    "Since integers are in a fixed amount of system memory \n",
    "(typically one $64$-bit or $32$-bit register) they are of \n",
    "limited size. This means that floating point numbers have \n",
    "limits on what kinds of numbers they can describe. It also means that even the\n",
    "addition and multiplication operation for floating point numbers are subject to usually small, but sometimes large errors. \n",
    "\n",
    "To determine how many decimal-places of precision your Python interface has, we compute $1.0 + 10^k$ for $k$ various negative integers.\n",
    "On my laptop $k=-11$ is the limit of precision.\n"
   ]
  },
  {
   "cell_type": "code",
   "execution_count": 2,
   "metadata": {
    "collapsed": false
   },
   "outputs": [
    {
     "name": "stdout",
     "output_type": "stream",
     "text": [
      "1.0 + 10^-11 =  1.00000000001\n",
      "1.0 + 10^-12 =  1.0\n"
     ]
    }
   ],
   "source": [
    "print(\"1.0 + 10^-11 = \", 1.0 + pow(10,-11))\n",
    "print(\"1.0 + 10^-12 = \", 1.0 + pow(10,-12))"
   ]
  },
  {
   "cell_type": "markdown",
   "metadata": {},
   "source": [
    "This indicates we have $11$ decimal places of accuracy in our number system.  Technically floating point types are stored as $A \\cdot 2^B$ with $A$ and $B$ stored in binary.  It is only when floating point numbers are presented to users as text strings that they are converted to the $A \\cdot 10^B$ format.  \n",
    "\n",
    "We repeat the test again in binary."
   ]
  },
  {
   "cell_type": "code",
   "execution_count": 1,
   "metadata": {
    "collapsed": false
   },
   "outputs": [
    {
     "name": "stdout",
     "output_type": "stream",
     "text": [
      "1.0 + 2^-37 =  1.00000000001\n",
      "1.0 + 2^-38 =  1.0 \n",
      "\n"
     ]
    }
   ],
   "source": [
    "print(\"1.0 + 2^-37 = \", 1.0 + pow(2, -37))\n",
    "print(\"1.0 + 2^-38 = \", 1.0 + pow(2, -38), \"\\n\")"
   ]
  },
  {
   "cell_type": "markdown",
   "metadata": {
    "collapsed": false
   },
   "source": [
    "This indicates that Python uses (roughly) $37$ bits for the significand and the remaining bits for the sign and exponent.\n"
   ]
  },
  {
   "cell_type": "code",
   "execution_count": null,
   "metadata": {
    "collapsed": true
   },
   "outputs": [],
   "source": []
  }
 ],
 "metadata": {
  "kernelspec": {
   "display_name": "Python 2",
   "language": "python",
   "name": "python2"
  },
  "language_info": {
   "codemirror_mode": {
    "name": "ipython",
    "version": 2
   },
   "file_extension": ".py",
   "mimetype": "text/x-python",
   "name": "python",
   "nbconvert_exporter": "python",
   "pygments_lexer": "ipython2",
   "version": "2.7.6"
  }
 },
 "nbformat": 4,
 "nbformat_minor": 0
}
