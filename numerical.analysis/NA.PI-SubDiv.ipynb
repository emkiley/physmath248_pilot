{
 "cells": [
  {
   "cell_type": "markdown",
   "metadata": {
    "collapsed": true
   },
   "source": [
    "We compute π using the subdivision method. "
   ]
  },
  {
   "cell_type": "code",
   "execution_count": null,
   "metadata": {
    "collapsed": false
   },
   "outputs": [],
   "source": [
    "## Algorithm to find π using subdivision, and the intermediate value theorem.\n",
    "\n",
    "## OI_Subdivision returns a 2-element list (the endpoints of an interval) if executes \n",
    "## successfully, with the root being a point in that interval. This assumes\n",
    "## f is a continuous function on the interval [x,y], and x<y.  It returns an empty\n",
    "## list if one supplies invalid endpoints to the procedure.  \n",
    "\n",
    "## The sole prerequisite is that f is a real-valued continuous function on the interval [x,y] and\n",
    "## and f(x) and f(y) are not of the same sign. Returns a 1-element list if \n",
    "## exact solution found.\n",
    "\n",
    "import numpy as np\n"
   ]
  },
  {
   "cell_type": "code",
   "execution_count": null,
   "metadata": {
    "collapsed": false
   },
   "outputs": [],
   "source": [
    "## f is an input function.  I is an interval, i.e. 2-element list. \n",
    "def OI_Subdivision( f, I ):\n",
    "    sl = f(I[0])\n",
    "    sr = f(I[1])\n",
    "    if ( sl==0 ): return [I[0]]\n",
    "    if ( sr==0 ): return [I[1]]\n",
    "    if ( sl*sr > 0 ): ## error, invalid input.\n",
    "        print(\"Error, your input interval is invalid.\")\n",
    "        return []\n",
    "    ## we know sl and sr are opposite signs\n",
    "    m = (I[0]+I[1])/2\n",
    "    sm = f(m)\n",
    "    if (sm==0): return [m]\n",
    "    if (sm * sl < 0): \n",
    "        return [I[0], m]\n",
    "    else: \n",
    "        return [m, I[1]]\n",
    "    \n",
    "I = [3.1, 3.2]\n",
    "print(\"First interval\", (I[0:2]))\n",
    "\n",
    "for i in range(0, 8):\n",
    "        I = OI_Subdivision( np.sin, I )\n",
    "        print(\"Iterate \", i, I[0:2])\n",
    "        \n",
    "print(\"done.\")"
   ]
  },
  {
   "cell_type": "code",
   "execution_count": null,
   "metadata": {
    "collapsed": false
   },
   "outputs": [],
   "source": [
    "## With arbitrary precision, using the mpmath library.\n",
    "\n",
    "import mpmath as mp\n",
    "mp.mp.dps = 100  ## decimal precision (display)\n",
    "mp.mp.prec = mp.dps*3.34 ## internal storage space\n",
    "mp.mp.pretty = True\n",
    "print(mp.mp)\n",
    "    \n",
    "I = [mp.mpf('2.8'), mp.mpf('3.2')]\n",
    "print(\"First interval\", (I[0:2]))\n",
    "\n",
    "for i in range(0, 8):\n",
    "        I = OI_Subdivision( mp.sin, I )\n",
    "        print(\"Iterate \", i, I[0:2])\n",
    "        \n",
    "print(\"done.\")"
   ]
  },
  {
   "cell_type": "markdown",
   "metadata": {},
   "source": [
    "Similarly, we can use this method to compute the square root of two. "
   ]
  },
  {
   "cell_type": "code",
   "execution_count": null,
   "metadata": {
    "collapsed": false
   },
   "outputs": [],
   "source": [
    "import sympy as sp\n",
    "\n",
    "x=sp.Symbol(\"x\")\n",
    "\n",
    "## We revise our algorithm to use x^2 - 2.  To define this we need to invoke\n",
    "## sympy symbolic expressions, then convert the expression to a standard\n",
    "## python function.\n",
    "   \n",
    "f_expr = x**2 - 2 ## simpy algebraic expression. \n",
    "print(f_expr)"
   ]
  },
  {
   "cell_type": "code",
   "execution_count": null,
   "metadata": {
    "collapsed": false
   },
   "outputs": [],
   "source": [
    "f_func = sp.lambdify(x, f_expr, \"mpmath\")\n",
    "\n",
    "I = [mp.mpf('1.0'), mp.mpf('2.0')]\n",
    "print(\"First interval\", (I[0:2]))\n",
    "\n",
    "for i in range(0, 8):\n",
    "        I = OI_Subdivision( f_func, I )\n",
    "        print(\"Iterate \", i, I)\n",
    "        \n",
    "print(\"done.\")"
   ]
  },
  {
   "cell_type": "code",
   "execution_count": null,
   "metadata": {
    "collapsed": true
   },
   "outputs": [],
   "source": []
  }
 ],
 "metadata": {
  "kernelspec": {
   "display_name": "Python 3",
   "language": "python",
   "name": "python3"
  },
  "language_info": {
   "codemirror_mode": {
    "name": "ipython",
    "version": 3
   },
   "file_extension": ".py",
   "mimetype": "text/x-python",
   "name": "python",
   "nbconvert_exporter": "python",
   "pygments_lexer": "ipython3",
   "version": "3.4.3"
  }
 },
 "nbformat": 4,
 "nbformat_minor": 0
}
