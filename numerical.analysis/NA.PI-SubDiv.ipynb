{
 "cells": [
  {
   "cell_type": "markdown",
   "metadata": {
    "collapsed": true
   },
   "source": [
    "We compute π using the subdivision method. "
   ]
  },
  {
   "cell_type": "code",
   "execution_count": 2,
   "metadata": {
    "collapsed": false
   },
   "outputs": [],
   "source": [
    "## Algorithm to find π using subdivision, and the intermediate value theorem.\n",
    "\n",
    "## OI_Subdivision returns a 2-element list (the endpoints of an interval) if executes \n",
    "## successfully, with the root being a point in that interval. This assumes\n",
    "## f is a continuous function on the interval [x,y], and x<y.  It returns an empty\n",
    "## list if one supplies invalid endpoints to the procedure.  \n",
    "\n",
    "## The sole prerequisite is that f is a real-valued continuous function on the interval [x,y] and\n",
    "## and f(x) and f(y) are not of the same sign. Returns a 1-element list if \n",
    "## exact solution found.\n",
    "\n",
    "from math import *\n",
    "\n"
   ]
  },
  {
   "cell_type": "code",
   "execution_count": 3,
   "metadata": {
    "collapsed": false
   },
   "outputs": [
    {
     "name": "stdout",
     "output_type": "stream",
     "text": [
      "First interval [3.1, 3.2]\n",
      "Iterate  0 [3.1, 3.1500000000000004]\n",
      "Iterate  1 [3.125, 3.1500000000000004]\n",
      "Iterate  2 [3.1375, 3.1500000000000004]\n",
      "Iterate  3 [3.1375, 3.1437500000000003]\n",
      "Iterate  4 [3.140625, 3.1437500000000003]\n",
      "Iterate  5 [3.140625, 3.1421875000000004]\n",
      "Iterate  6 [3.14140625, 3.1421875000000004]\n",
      "Iterate  7 [3.14140625, 3.1417968750000003]\n",
      "done.\n"
     ]
    }
   ],
   "source": [
    "## f is an input function.  I is an interval, i.e. 2-element list. \n",
    "def OI_Subdivision( f, I ):\n",
    "    sl = f(I[0])\n",
    "    sr = f(I[1])\n",
    "    if ( sl==0 ): return [I[0]]\n",
    "    if ( sr==0 ): return [I[1]]\n",
    "    if ( sl*sr > 0 ): ## error, invalid input.\n",
    "        print \"Error, your input interval is invalid.\"\n",
    "        return []\n",
    "    ## we know sl and sr are opposite signs\n",
    "    m = (I[0]+I[1])/2\n",
    "    sm = f(m)\n",
    "    if (sm==0): return [m]\n",
    "    if (sm * sl < 0): \n",
    "        return [I[0], m]\n",
    "    else: \n",
    "        return [m, I[1]]\n",
    "    \n",
    "I = [3.1, 3.2]\n",
    "print \"First interval\", (I[0:2])\n",
    "\n",
    "for i in range(0, 8):\n",
    "        I = OI_Subdivision( sin, I )\n",
    "        print \"Iterate \", i, I[0:2]\n",
    "        \n",
    "print \"done.\""
   ]
  },
  {
   "cell_type": "code",
   "execution_count": 7,
   "metadata": {
    "collapsed": false
   },
   "outputs": [
    {
     "name": "stdout",
     "output_type": "stream",
     "text": [
      "Mpmath settings:\n",
      "  mp.prec = 334               [default: 53]\n",
      "  mp.dps = 100                [default: 15]\n",
      "  mp.trap_complex = False     [default: False]\n",
      "First interval [2.8, 3.2]\n",
      "Iterate  0 [3.0, 3.2]\n",
      "Iterate  1 [3.1, 3.2]\n",
      "Iterate  2 [3.1, 3.15]\n",
      "Iterate  3 [3.125, 3.15]\n",
      "Iterate  4 [3.1375, 3.15]\n",
      "Iterate  5 [3.1375, 3.14375]\n",
      "Iterate  6 [3.140625, 3.14375]\n",
      "Iterate  7 [3.140625, 3.1421875]\n",
      "done.\n"
     ]
    }
   ],
   "source": [
    "## With arbitrary precision, using the mpmath library.\n",
    "\n",
    "from mpmath import *\n",
    "mp.dps = 100  ## decimal precision (display)\n",
    "mp.prec = mp.dps*3.34 ## internal storage space\n",
    "mp.pretty = True\n",
    "print mp\n",
    "    \n",
    "I = [mpf('2.8'), mpf('3.2')]\n",
    "print \"First interval\", (I[0:2])\n",
    "\n",
    "for i in range(0, 8):\n",
    "        I = OI_Subdivision( sin, I )\n",
    "        print \"Iterate \", i, I[0:2]\n",
    "        \n",
    "print \"done.\""
   ]
  },
  {
   "cell_type": "markdown",
   "metadata": {},
   "source": [
    "Similarly, we can use this method to compute the square root of two. "
   ]
  },
  {
   "cell_type": "code",
   "execution_count": 5,
   "metadata": {
    "collapsed": false
   },
   "outputs": [
    {
     "name": "stdout",
     "output_type": "stream",
     "text": [
      "x**2 - 2\n"
     ]
    }
   ],
   "source": [
    "from sympy import *\n",
    "\n",
    "x=Symbol(\"x\")\n",
    "\n",
    "## We revise our algorithm to use x^2 - 2.  To define this we need to invoke\n",
    "## sympy symbolic expressions, then convert the expression to a standard\n",
    "## python function.\n",
    "   \n",
    "f_expr = x**2 - 2 ## simpy algebraic expression. \n",
    "print f_expr"
   ]
  },
  {
   "cell_type": "code",
   "execution_count": 8,
   "metadata": {
    "collapsed": false
   },
   "outputs": [
    {
     "name": "stdout",
     "output_type": "stream",
     "text": [
      "First interval [1.0, 2.0]\n",
      "Iterate  0 [1.0, 1.5]\n",
      "Iterate  1 [1.25, 1.5]\n",
      "Iterate  2 [1.375, 1.5]\n",
      "Iterate  3 [1.375, 1.4375]\n",
      "Iterate  4 [1.40625, 1.4375]\n",
      "Iterate  5 [1.40625, 1.421875]\n",
      "Iterate  6 [1.4140625, 1.421875]\n",
      "Iterate  7 [1.4140625, 1.41796875]\n",
      "done.\n"
     ]
    }
   ],
   "source": [
    "f_func = lambdify(x, f_expr, \"mpmath\")\n",
    "\n",
    "I = [mpf('1.0'), mpf('2.0')]\n",
    "print \"First interval\", (I[0:2])\n",
    "\n",
    "for i in range(0, 8):\n",
    "        I = OI_Subdivision( f_func, I )\n",
    "        print \"Iterate \", i, I\n",
    "        \n",
    "print \"done.\""
   ]
  },
  {
   "cell_type": "code",
   "execution_count": null,
   "metadata": {
    "collapsed": true
   },
   "outputs": [],
   "source": []
  }
 ],
 "metadata": {
  "kernelspec": {
   "display_name": "Python 2",
   "language": "python",
   "name": "python2"
  },
  "language_info": {
   "codemirror_mode": {
    "name": "ipython",
    "version": 2
   },
   "file_extension": ".py",
   "mimetype": "text/x-python",
   "name": "python",
   "nbconvert_exporter": "python",
   "pygments_lexer": "ipython2",
   "version": "2.7.6"
  }
 },
 "nbformat": 4,
 "nbformat_minor": 0
}
