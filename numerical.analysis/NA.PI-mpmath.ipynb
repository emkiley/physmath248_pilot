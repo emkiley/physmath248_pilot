{
 "cells": [
  {
   "cell_type": "code",
   "execution_count": null,
   "metadata": {
    "collapsed": true
   },
   "outputs": [],
   "source": [
    "##Straight-up mpmath pi computation. "
   ]
  },
  {
   "cell_type": "code",
   "execution_count": 6,
   "metadata": {
    "collapsed": false
   },
   "outputs": [
    {
     "name": "stdout",
     "output_type": "stream",
     "text": [
      "3.14159265358979323846264338327950288419716939937510582097494459230781640628620899862803482534211706797927919371152266920859494654905487098390602092316\n"
     ]
    }
   ],
   "source": [
    "## Using plain mpmath -- almost cheating!  This is a black box and unless we read the mpmath source code\n",
    "## we will not discover how the digits of pi are computed.\n",
    "\n",
    "from mpmath import *\n",
    "print mpmath.nstr(pi, 150)"
   ]
  }
 ],
 "metadata": {
  "kernelspec": {
   "display_name": "Python 2",
   "language": "python",
   "name": "python2"
  },
  "language_info": {
   "codemirror_mode": {
    "name": "ipython",
    "version": 2
   },
   "file_extension": ".py",
   "mimetype": "text/x-python",
   "name": "python",
   "nbconvert_exporter": "python",
   "pygments_lexer": "ipython2",
   "version": "2.7.6"
  }
 },
 "nbformat": 4,
 "nbformat_minor": 0
}
