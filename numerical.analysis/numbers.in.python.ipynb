{
 "cells": [
  {
   "cell_type": "markdown",
   "metadata": {},
   "source": [
    "# Numbers, numbers in Python, and the libraries:\n",
    " * math (integer and float-transcendental functions, exponentiation...)\n",
    " * cmath (float-type complex functions: exp, trig, etc)\n",
    " * fractions (data type for ratios of integers)\n",
    " * mpmath (arbitrary-precision floats, complex numbers, etc)\n",
    " * sympy (symbolic expressions: exact treatment of sqrt(2), polynomials, etc)\n",
    " * numpy (vectors, matrices, linear algebra...)"
   ]
  },
  {
   "cell_type": "markdown",
   "metadata": {},
   "source": [
    "## Numbers\n",
    "\n",
    "Before talking about complex numbers, we should perhaps review the purpose of more familiar numbers.  Historically, the first notion of number is what we now call the **natural numbers**, denoted $\\mathbb N$, also called the *counting numbers* \n",
    "\n",
    "$$\\mathbb N = \\{ 1, 2, 3, 4, \\cdots \\}.$$\n",
    "\n",
    "There is a philosophical *cheat* at the heart of these numbers.  The *purpose* of the counting numbers is to consider various things *the same* when they are *not the same*.  For example, if I say \"Bob has three pigs\" it is to say he has an animal that we call a pig, *another* completely different animal that we also call a pig, and yet *an entirely different* animal that we also call a pig. \n",
    "\n",
    "Even though the animals are all different, we consider them the *same* in their pig-ness.   So we say there are three pigs.\n",
    "\n",
    "<div style=\"display: inline-block; margin-right: 12px; margin-left: 100px\">\n",
    "<img src=\"pig1.png\" width=\"50\" height=\"50\" class=\"alignleft\"/> </div>\n",
    "<div style=\"display: inline-block; margin-right: 12px\">\n",
    "<img src=\"pig2.png\" width=\"50\" height=\"50\" class=\"alignleft\" /> </div>\n",
    "<div style=\"display: inline-block\">\n",
    "<img src=\"pig3.png\" width=\"50\" height=\"50\" class=\"alignleft\"/>\n",
    "</div>\n",
    "\n",
    "Numbers enable systematic commercial transactions -- *fairness* in commerce was one of the initial reasons for having numbers.  \n",
    "\n",
    "Bob wants to sell his pigs.  So he canvasses the local butchers and discovers one butcher (his brother) will give him $\\$40$ per pig, while another butcher will give him $\\$48$ per pig. Bob needs to purchase a plow for his farm that costs $\\$130$, so while Bob would like to support his brother the inequality \n",
    "$$\\$40 \\cdot 3 = \\$120 < \\$130 < \\$48 \\cdot 3 = \\$148$$\n",
    "forces his decision. \n",
    "\n",
    "## Algebra\n",
    "\n",
    "If the symbol $P$ represents my pigs, and the symbol $G$ represents my geese, the symbol\n",
    "$$ P \\cup G $$\n",
    "is the mathematical symbol for set-theoretic *union*.  It means the collection consisting of all my pigs *and* all my geese.  Since collections can be put-together in unions, there is a corresponding operation on numbers... which we call *addition*. \n",
    "\n",
    "Given two natural numbers $n,m \\in \\mathbb N$ the symbol $n+m$ is a natural number.  If we have a collection $A$ with $n$ objects, and a collection $B$ with $m$ objects, provided $A$ and $B$ have nothing in common, $n+m$ is the number of objects in $A \\cup B$, the union.  \n",
    "\n",
    "One *other* element of algebra that is frequently used in $\\mathbb N$ is *multiplication*. The product $n \\times m$ means the outcome of adding $n$ to itself $m$ *times*.  Multiplication has at its core the idea of *repetition*, repeatedly adding the same amount.  If my chickens produce $5$ eggs *every day*, in a week they will produce $5\\cdot 7$ eggs. "
   ]
  },
  {
   "cell_type": "code",
   "execution_count": null,
   "metadata": {
    "collapsed": false
   },
   "outputs": [],
   "source": [
    "## Arithmetic of the counting numbers.  These are \"int\" types in Python.\n",
    "print(\"12 is of \"+str(type(12)))\n",
    "print(\"Any Python is happy to do integer arithmetic: 12*6 == \"+str(12*6)+\"\\n\")\n",
    "print(\"Back to the pigs: 3*40 == \"+str(3*40)+\" == 40 + 40 + 40 == \"+str(40+40+40))\n",
    "print(\"Is 3*40 > 130 ? \" + str(3*40 > 130))\n",
    "print(\"Is 3*48 > 130 ? \" + str(3*48 > 130)+\"\\n\")\n",
    "print(\"Chickens 5*7 == \"+str(5*7))"
   ]
  },
  {
   "cell_type": "markdown",
   "metadata": {
    "collapsed": false
   },
   "source": [
    "Python's integers are what is called **arbitrary precision**, meaning Python is willing to devote as much of your computer's memory to an integer as it takes to store it.  Working with arbitrary-precision integers tends to be slower than working with integers that are native to your CPU, especially if they are large.  "
   ]
  },
  {
   "cell_type": "markdown",
   "metadata": {},
   "source": [
    "## Numbers with sophistication\n",
    "\n",
    "As civilization developed more sophisticated tools, we came to need more sophisticated numbers.  People stored water for human consumption, for cleaning, as well as to irrigate their crops.   Water was stored in tanks (jugs, urns, pools...).  Knowing *how much* water you have is an important issue. \n",
    "\n",
    "The terminology of *fractions* came into play.  \n",
    "\n",
    "<img src=\"bucket2.5.png\" width=\"200\" height=\"200\" align=\"middle\"/> \n",
    "\n",
    "This picture is meant to represent a bucket containing some water. We have *graduated* the bucket on the right hand side, this is to indicate that the bucket is partitioned into $5$ parts, each containing the *same* volume.  Since two of these five blocks are full, we have the notation $2/5$ and say the bucket is two-fifths full. \n",
    "\n",
    "But just like with counting numbers, we can combine fractions.  If I have a bucket that is $2/5$-full, and a bucket that is $3/5$-full, I could pour them into one common bucket and it would be full.  This operation of addition has a rather intuitive formalism.  Notice that $\\frac{p}{q} = \\frac{pn}{qn}$ for any $n$.  Multiplying the numerator and denominator by $n$ is in effect the operation of *refining* the graduation on the bucket -- it does not change the actual quantity of water in the bucket.  So we compute the sum:\n",
    "\n",
    "$$\\frac{p}{q} + \\frac{a}{b} = \\frac{pb}{qb} + \\frac{qa}{qb} = \\frac{pb+qa}{qb}$$\n",
    "\n",
    "\n",
    "Similarly one can define multiplication of fractions, $a \\frac{p}{q} = \\frac{ap}{q}$ and $\\frac{1}{b} \\frac{p}{q} = \\frac{p}{bq}$, and more generally\n",
    "$$\\frac{a}{b} \\cdot \\frac{p}{q} = \\frac{ap}{bq}$$\n",
    "Thus if we combine three buckets that are $2/5$-ths full, we get\n",
    "$$3 \\cdot \\frac{2}{5} = \\frac{6}{5} = \\frac{5+1}{5} = \\frac{5}{5} + \\frac{1}{5} = 1 + \\frac{1}{5}$$\n",
    "\n",
    "i.e. three $2/5$-ths full buckets have the equivalent volume of water as a full bucket, and a $1/5$-ths full bucket. \n",
    "\n",
    "The set of fractions, together with the operations of addition and multiplication are a *number system* ([*ring* and *field*](https://en.wikipedia.org/wiki/Field_(mathematics)) are the terms mathematicians commonly use for these variety of objects).  Mathematicians call the set of fractions the **rational numbers**, and denote them $\\mathbb Q$. \n"
   ]
  },
  {
   "cell_type": "code",
   "execution_count": null,
   "metadata": {
    "collapsed": false
   },
   "outputs": [],
   "source": [
    "## Exact fractions are implemented with the Fraction library in Python.  This\n",
    "## implements numbers of the form p/q exactly, provided p is an integer (int)\n",
    "## and q is also an integer type.  \n",
    "##\n",
    "## If you are content with floating point approximations, you can use floats, \n",
    "## but be aware they have (usually small) errors. \n",
    "\n",
    "from fractions import Fraction\n",
    "third = Fraction(1,3)\n",
    "print(\"A fraction: \"+str(third)+\" with type \"+str(type(third))+\"\\n\")\n",
    "\n",
    "print(\"Multiplication: 3 * 2/5 == \"+str(3*Fraction(2,5))+\",   3/2 * 2/7 == \"+str(Fraction(3,2)*Fraction(2,7))+\"\\n\")\n",
    "\n",
    "third = 1/float(3)\n",
    "print(\"A fraction with floats. 1/3 == \" +str(third)+\" \"+str(type(third))+\"\\n\")\n",
    "print(\"Notice this data type makes errors.\\nIn the \"+str(type(third))+\" data type, does 4*(1/3) - 1 == 1/3 ? \"+str(third*4 - 1 == third))\n",
    "print(\"But these errors are (usually) small!\\n4*(1/3) - 1 - 1/3 == \"+str(4*third - 1 - third)+\"\\n\")\n",
    "\n",
    "print(\"Python allows fraction data types that do not make such mistakes.\\nThe fraction data type allows for error-free fractions.\")\n",
    "print(\"4*(1/3) - 1 - 1/3 == \"+str( (4*Fraction(1,3)) - Fraction(1,3) - 1 ) + \" \" + str(type(Fraction(1,3))))\n"
   ]
  },
  {
   "cell_type": "markdown",
   "metadata": {},
   "source": [
    "The *Fraction* data type in Python is also an arbitrary-precision data type.  So it can represent every number a *float* can represent, but it usually takes far more memory to do so.  Python floats occupy a fixed amount of system memory, while a Fraction has no limits on how much system memory they may use.  \n",
    "\n",
    "## The number line\n",
    "\n",
    "Our way of *graduating* using fractions puts a natural **ordering** on fractions. \n",
    "\n",
    "<div style=\"display: inline-block; margin-right: 12px; margin-left: 100px\">\n",
    "<img src=\"fraction_line.png\" width=\"250\" height=\"250\" class=\"alignleft\"/></div>\n",
    "<div style=\"display: inline-block; margin-right: 12px; margin-left: 50px\">\n",
    "<img src=\"fraction_line.2.png\" width=\"300\" height=\"300\" class=\"alignleft\"/></div> \n",
    "\n",
    "<!-- Too math-y? \n",
    "The ordering *can* be expressed entirely in terms of integers. \n",
    "\n",
    "$$ \\frac{p}{q} < \\frac{a}{b} \\Longleftrightarrow pb < aq $$\n",
    "\n",
    "This is assuming the denominators $q$ and $b$ are positive -- there is never any need for negative denominators, since $\\frac{p}{-q} = \\frac{(-1)p}{(-1)(-q)} = \\frac{-p}{q}$. One might have even dismissed the idea of a negative denominator as nonsense -- after all, we had considered the denominator as the base of our graduation.  But negative denominators do no harm, so they are fine to consider. -->\n",
    "\n",
    "From this perspective, the rational numbers appear to be a *marking* on a line with infinite extent in both directions.  The centre is $0$.  \n",
    "\n",
    "For a significant portion of human history, rational numbers were thought to be all the numbers we would ever need.  But Pythagoras (570-492 BCE) came across an argument that shows rational numbers miss an essential phenomenon.  It is his formula for the side lengths of a right triangle. \n",
    "\n",
    "$$a^2 + b^2 = c^2$$\n",
    "<img src=\"260px-Pythagorean.svg.png\" align=\"middle\"/>\n",
    "\n",
    "<div style=\"display: inline-block; margin-right: 12px; margin-left: 100px\">\n",
    "<img src=\"Pythag_anim.gif\" width=\"250\" height=\"250\" class=\"alignleft\"/></div>\n",
    "<div style=\"display: inline-block; margin-right: 12px; margin-left: 50px\">\n",
    "<img src=\"Pythagoras-2a.gif\" width=\"300\" height=\"300\" class=\"alignleft\"/></div> \n",
    "\n",
    "This tells us that the length of a diagonal of a unit square is\n",
    "$$ \\sqrt{1+1} = \\sqrt{2}.$$\n",
    "\n",
    "One can readily argue that $\\sqrt{2}$ is not a rational number.\n",
    "$$ \\sqrt{2} = \\frac{p}{q} \\Longrightarrow 2 q^2 = p^2 $$\n",
    "\n",
    " * If $p$ and $q$ were integers, the above formula tells us that $2$ divides $p^2$. \n",
    " * So $p$ is divisible by $2$.\n",
    " * Write $p = 2 p_2$, so $q^2 = 2p_2^2$. \n",
    " * So $q^2$ is divisible by $2$.\n",
    " * So $q$ is divisible by $2$. \n",
    " * And on and on...\n",
    " \n",
    "Floating point numbers can provide a good approximation to numbers like $\\sqrt{2}$, but they do not represent them with complete precision. To represent such numbers accurately, one has to use a library like sympy. "
   ]
  },
  {
   "cell_type": "code",
   "execution_count": null,
   "metadata": {
    "collapsed": false
   },
   "outputs": [],
   "source": [
    "## approximations of sqrt(2) with floats\n",
    "from math import *\n",
    "print(\"The square root of 2: \"+str(sqrt(2))+\" as a \"+str(type(sqrt(2))))\n",
    "print(\"... squared == %.16f\" % sqrt(2)**2)"
   ]
  },
  {
   "cell_type": "code",
   "execution_count": null,
   "metadata": {
    "collapsed": false
   },
   "outputs": [],
   "source": [
    "## symbolic representation of sqrt(2)\n",
    "import sympy as sp\n",
    "st = sp.sqrt(2)\n",
    "print(\"\\nThe square root of 2: \"+str(st)+\" \"+str(type(st)))\n",
    "print(\"Squared: \"+str(st*st)+\" \"+str(type(st*st)))"
   ]
  },
  {
   "cell_type": "code",
   "execution_count": null,
   "metadata": {
    "collapsed": false
   },
   "outputs": [],
   "source": [
    "## let's make the output more pleasant.\n",
    "print(\"\\nSympy has a variety of output formats including ASCII, unicode, and latex:\")\n",
    "sp.pprint(st, use_unicode=False)\n",
    "sp.pprint(st, use_unicode=True)\n",
    "print(sp.latex(st))"
   ]
  },
  {
   "cell_type": "code",
   "execution_count": null,
   "metadata": {
    "collapsed": false
   },
   "outputs": [],
   "source": [
    "print(\"\\nNotice we can not use sqrt(2) in a Fraction.\")\n",
    "#print(Fraction(st,2))\n",
    "print(\"\\nTo implement sqrt(2)/2 we would continue to use sympy.\")\n",
    "sp.pprint(st/2, use_unicode=True)"
   ]
  },
  {
   "cell_type": "code",
   "execution_count": null,
   "metadata": {
    "collapsed": false
   },
   "outputs": [],
   "source": [
    "print(\"\\nWith Sympy, checking equality can be more involved than one expects.\")\n",
    "print(\"For example, lets check if sqrt(2)/2 is the same as 1/sqrt(2).\\n\")\n",
    "print(\"Sympy equality: \"+str( (st/2) == 1/st )+\"\\n\")"
   ]
  },
  {
   "cell_type": "code",
   "execution_count": null,
   "metadata": {
    "collapsed": false
   },
   "outputs": [],
   "source": [
    "print(\"But how about the two expressions: \")\n",
    "sp.pprint(1/(1+st))\n",
    "sp.pprint(st-1)\n",
    "print(\"\\nSympy equality? \"+str( (1/(1+st)) == (st-1) )+\"\\n\")"
   ]
  },
  {
   "cell_type": "code",
   "execution_count": null,
   "metadata": {
    "collapsed": false
   },
   "outputs": [],
   "source": [
    "print(\"The sympy.simplify call can be used to check equality of expressions such as this.\\n\")\n",
    "print(\"Simplification verifies equality? \"+str( sp.simplify((1/(1+st))-(st-1))==0  ))"
   ]
  },
  {
   "cell_type": "markdown",
   "metadata": {},
   "source": [
    "When one uses the double-equals symbol for sympy objects, it is checking if the expressions are *identical* from the perspective of *how sympy stores that data*.  \n",
    "\n",
    "The reason $\\frac{\\sqrt{2}}{2}$ and $\\frac{1}{\\sqrt{2}}$ are deemed equal is they are stored as literally the same expression by sympy."
   ]
  },
  {
   "cell_type": "code",
   "execution_count": null,
   "metadata": {
    "collapsed": false
   },
   "outputs": [],
   "source": [
    "print(\"1/sqrt(2) : \")\n",
    "sp.pprint(1/st)\n",
    "print(\"sqrt(2)/2 : \")\n",
    "sp.pprint(st/2)"
   ]
  },
  {
   "cell_type": "markdown",
   "metadata": {},
   "source": [
    "When one defines objects like $\\sqrt{2}/2$ in sympy, it observes that you are dividing two objects that are powers of $\\sqrt{2}$ so it simplifies both rapidly to a power of $\\sqrt{2}$.  \n",
    "\n",
    "The double equals symbol has *limited* utility for sympy objects.  So please **use with care.**  You can get a hint as to how useful the double equals symbol is, by determining the data type sympy is using to store your object. "
   ]
  },
  {
   "cell_type": "code",
   "execution_count": null,
   "metadata": {
    "collapsed": false
   },
   "outputs": [],
   "source": [
    "print(\"Type for sqrt(2) : \"+str(type(st)))\n",
    "print(\"Type for 1/(1+sqrt(2)) : \"+str(type(1/(1+st))))\n",
    "print(\"Type for sqrt(2)-1 : \"+str(type(st-1)))"
   ]
  },
  {
   "cell_type": "markdown",
   "metadata": {},
   "source": [
    "This is a *clue* as to how sympy thinks.  A sympy algebraic expression is stored internally in what is known as a **rooted tree**. \n",
    "\n",
    "<div style=\"display: inline-block; margin-right: 12px; margin-left: 50px\">\n",
    "<img src=\"tree1.png\" width=\"150\" height=\"150\" class=\"alignleft\" title=\"sqrt(2)\"/></div>\n",
    "<div style=\"display: inline-block; margin-right: 12px; margin-left: 50px\">\n",
    "<img src=\"tree2.png\" width=\"250\" height=\"250\" class=\"alignleft\" title=\"sqrt(2)-1\"/></div>\n",
    "<div style=\"display: inline-block; margin-right: 12px; margin-left: 50px\">\n",
    "<img src=\"tree3.png\" width=\"300\" height=\"300\" class=\"alignleft\" title=\"1/(1+sqrt(2))\"/></div>\n",
    "\n",
    "The **final** operation in the expression is the **base** or **root** of the tree.  When one calls the double-equal operation for sympy expressions in Python, what Python does is it checks to see if the roots are identical.  If the roots of the trees are identical, it recursively moves *up* the tree, to check if all the sub-trees are identical.  \n",
    "\n",
    "Sympy will perform the most *elementary* simplifications automatically, such as $\\frac{\\sqrt{2}}{2} = \\frac{1}{\\sqrt{2}}$. The term *elementary* should be taken to mean the simplifications that cost Python essentially no time to check -- sympy would only attempt this for objects where a *canonical form* is known. \n",
    "\n",
    "Checking equality of more complicated expressions involves more computation, quite often because there is *no* canonical form available (often they do not exist)."
   ]
  },
  {
   "cell_type": "markdown",
   "metadata": {},
   "source": [
    "## Vectors and complex numbers\n",
    "\n",
    "With vectors we extend arithmetic as we know it for numbers to lists of numbers. The two operations on numbers become the operations of **addition** and **scalar multiplication** for vectors. \n",
    "\n",
    "$$ (x_1,x_2,\\cdots,x_n) + (y_1,y_2,\\cdots,y_n) = (x_1+y_1,x_2+y_2,\\cdots,x_n+y_n)$$\n",
    "$$c(x_1,x_2,\\cdots,x_n) = (cx_1,cx_2, \\cdots,cx_n)$$"
   ]
  },
  {
   "cell_type": "code",
   "execution_count": null,
   "metadata": {
    "collapsed": false
   },
   "outputs": [],
   "source": [
    "## numpy does not have a dedicated class for vectors.  It has a\n",
    "## array (list) class that is a very close simulation of a vector class.\n",
    "import numpy as np\n",
    "v=np.array([0.2, 1.1])\n",
    "w=np.array([3.1, -0.2])\n",
    "print(\"v==\"+str(v)+\"    2v == \"+str(2*v))\n",
    "print(\"w==\"+str(w)+\"   v+w == \"+str(v+w))"
   ]
  },
  {
   "cell_type": "markdown",
   "metadata": {},
   "source": [
    "The library *numpy* has an array class that behaves fairly similarly to the Python list class.  It has *significant* differences.  For example, the scalar multiplication operation is an instance of a fairly general operation defined for numpy arrays. "
   ]
  },
  {
   "cell_type": "code",
   "execution_count": null,
   "metadata": {
    "collapsed": false
   },
   "outputs": [],
   "source": [
    "print(1+v)"
   ]
  },
  {
   "cell_type": "code",
   "execution_count": null,
   "metadata": {
    "collapsed": false
   },
   "outputs": [],
   "source": [
    "print(v+w)"
   ]
  },
  {
   "cell_type": "code",
   "execution_count": null,
   "metadata": {
    "collapsed": false
   },
   "outputs": [],
   "source": [
    "print(v/2)"
   ]
  },
  {
   "cell_type": "code",
   "execution_count": null,
   "metadata": {
    "collapsed": false
   },
   "outputs": [],
   "source": [
    "print(v**2)"
   ]
  },
  {
   "cell_type": "markdown",
   "metadata": {},
   "source": [
    "Say one has a binary operation that takes as input two objects, $x$ and $y$.  Let's call the result of the binary operation $f(x,y)$.  If $v$ is a numpy array, numpy automatically defines the object $f(v,y)$ to be the numpy array containing $f(x,y)$ for every $x$ in $v$. \n",
    "\n",
    "Technically, numpy has defined these operations on numpy arrays for *most* binary operations.  If you as a user generate your own binary operation, you might have to create a numpy version of your operation.  One would use the *lambdify* operation for such tasks. "
   ]
  },
  {
   "cell_type": "code",
   "execution_count": null,
   "metadata": {
    "collapsed": false
   },
   "outputs": [],
   "source": [
    "## For example, even the absolute value is defined for numpy arrays. \n",
    "print(w, abs(w))"
   ]
  },
  {
   "cell_type": "markdown",
   "metadata": {},
   "source": [
    "When using numpy one has to be careful to determine whether one is using the operation one expects.  In mathematics, the vertical bars $|x|$ and $|\\vec v|$ are used to describe the magnitude of a number and vector respectively.  The former is often called the *absolute value* function, while the latter is the *length* of the vector.  Clearly the numpy *abs* call is not giving the length of the vector.  It is taking the vector of magnitudes. \n",
    "\n",
    "Numpy array manipulation makes is rather easy to visualize operations.  For example, consider the rational numbers in the interval $[0,1]$ having denominator $16$. "
   ]
  },
  {
   "cell_type": "code",
   "execution_count": null,
   "metadata": {
    "collapsed": false
   },
   "outputs": [],
   "source": [
    "I = np.array([i/float(16) for i in range(17)])\n",
    "print(I)"
   ]
  },
  {
   "cell_type": "markdown",
   "metadata": {},
   "source": [
    "Let's visualize them. "
   ]
  },
  {
   "cell_type": "code",
   "execution_count": null,
   "metadata": {
    "collapsed": false
   },
   "outputs": [],
   "source": [
    "from matplotlib import *\n",
    "import matplotlib.pyplot as plt\n",
    "#import matplotlib.patches as patches\n",
    "%matplotlib inline \n",
    "\n",
    "plt.plot(I, np.zeros_like(I), 'ro')"
   ]
  },
  {
   "cell_type": "code",
   "execution_count": null,
   "metadata": {
    "collapsed": false
   },
   "outputs": [],
   "source": [
    "plt.plot(I, np.zeros_like(I), 'ro')\n",
    "plt.plot(I+0.1, np.zeros_like(I)+0.02, 'bo')\n",
    "plt.plot(I+0.2, np.zeros_like(I)+0.04, 'yo')\n"
   ]
  },
  {
   "cell_type": "code",
   "execution_count": null,
   "metadata": {
    "collapsed": false
   },
   "outputs": [],
   "source": [
    "plt.plot(I, np.zeros_like(I), 'ro')\n",
    "plt.plot(I*1.4, np.zeros_like(I)+0.08, 'bo')\n",
    "plt.plot(I*(1.4**2), np.zeros_like(I)+0.15, 'yo')"
   ]
  },
  {
   "cell_type": "markdown",
   "metadata": {},
   "source": [
    "These plots allow us to see the basics of the geometry of numbers:\n",
    "\n",
    " * Addition can be thought of as the operation of **translation** or *sliding*\n",
    " * Scalar multiplication is the operation of **scaling** or *zooming*\n",
    " \n",
    " The same is true for vectors. Let's do a similar visualization.\n",
    " \n",
    " ## Vector operations in 2-d"
   ]
  },
  {
   "cell_type": "code",
   "execution_count": null,
   "metadata": {
    "collapsed": false
   },
   "outputs": [],
   "source": [
    "import itertools as it\n",
    "DAT = np.array([[i/float(12), j/float(12)] for i,j in it.product(range(12), range(12)) ]).T\n",
    "plt.plot(DAT[0], DAT[1], 'ro')"
   ]
  },
  {
   "cell_type": "code",
   "execution_count": null,
   "metadata": {
    "collapsed": false
   },
   "outputs": [],
   "source": [
    "## Visualize addition (translation)\n",
    "DATtrans = (DAT.T + np.array([0.3,0.8])).T\n",
    "plt.plot(DAT[0], DAT[1], 'ro')\n",
    "plt.plot(DATtrans[0], DATtrans[1], 'bs')\n"
   ]
  },
  {
   "cell_type": "code",
   "execution_count": null,
   "metadata": {
    "collapsed": false
   },
   "outputs": [],
   "source": [
    "## visualize scalar multiplication (scaling)\n",
    "DATscl = (DAT.T *0.8).T\n",
    "plt.plot(DAT[0], DAT[1], 'ro')\n",
    "plt.plot(DATscl[0], DATscl[1], 'bs')"
   ]
  },
  {
   "cell_type": "markdown",
   "metadata": {},
   "source": [
    "A more philosophical understanding of the two operations on numbers, $+$ addition and $\\cdot$ multiplication is that the numbers line, as a *geometric object* has two pricipal symmetries: **translation** and **scaling**.  \n",
    "\n",
    "Since the Cartesian plane has the further symmetry of **rotation** one might expect there to be a similarly enhanced number system for the plane. This is precisely what **complex numbers** do. \n",
    "\n"
   ]
  },
  {
   "cell_type": "code",
   "execution_count": null,
   "metadata": {
    "collapsed": false
   },
   "outputs": [],
   "source": [
    "import cmath as cm\n",
    "z = 5.0+3.0j\n",
    "print(str(z)+\" \"+str(type(z)))"
   ]
  },
  {
   "cell_type": "markdown",
   "metadata": {},
   "source": [
    "Traditionally in mathematics, complex numbers are written in the form\n",
    "$$x+iy$$\n",
    "where $x$ and $y$ are real numbers.  Since the variable $i$ is so heavily used in programming, Python has adopted $j$ as the corresponding symbol. \n",
    "\n",
    "We call $x+jy$ a complex number, but it is perfectly valid to call it a point in the plane, or a vector.  The complex numbers, like the real numbers, have operations of addition and multiplication:\n",
    "\n",
    "$$(x_1+jy_1) + (x_2+jy_2) = (x_1+x_2) + j(y_1+y_2)$$\n",
    "$$(x_1+jy_1) \\cdot (x_2+jy_2) = (x_1x_2-y_1y_2)+j(x_1y_2+x_2y_1)$$\n",
    "\n",
    "With these rules, complex numbers satisfy all the <a href=\"https://en.wikipedia.org/wiki/Field_(mathematics)\">*field axioms*</a>, meaning the operations are commutative, associative, there is a multiplicative inverse for non-zero complex numbers, and so on. Algebraically one can treat complex numbers just line real numbers, with the two exceptions:\n",
    "\n",
    " * $j^2 = -1$\n",
    " * The expression $x_1+jy_1 < x_2+jy_2$ *makes no sense* for complex numbers. There is no order relation. \n",
    " \n",
    "We can see why $j^2 = -1$ directly from the definition: $j^2 = (0+j1)\\cdot (0+j1) = (0-1)+j(0 \\cdot 1 + 0 \\cdot 1) = -1 + j0 = -1$."
   ]
  },
  {
   "cell_type": "code",
   "execution_count": null,
   "metadata": {
    "collapsed": false
   },
   "outputs": [],
   "source": [
    "## Let's repeat the above using python complex numbers\n",
    "print(\"j**2 == \"+str((0.0+1.0j)**2))"
   ]
  },
  {
   "cell_type": "markdown",
   "metadata": {},
   "source": [
    "## Caution with j !\n",
    "\n",
    "Notice, if we had used the raw variable $j$ before, reference to $j$ without a float in front of it will give us back that variable. "
   ]
  },
  {
   "cell_type": "code",
   "execution_count": null,
   "metadata": {
    "collapsed": false
   },
   "outputs": [],
   "source": [
    "j=\"blah\"\n",
    "print(j)\n",
    "print(1.1j)\n",
    "print(1.0j*1.0j)"
   ]
  },
  {
   "cell_type": "code",
   "execution_count": null,
   "metadata": {
    "collapsed": false
   },
   "outputs": [],
   "source": [
    "## One can also define complex numbers explicity by their x and y (real and imaginary) coordinates\n",
    "z = complex(0, 1)\n",
    "print(\"z == \"+str(z))\n",
    "print(\"z^2 == \"+str(z**2))"
   ]
  },
  {
   "cell_type": "code",
   "execution_count": null,
   "metadata": {
    "collapsed": false
   },
   "outputs": [],
   "source": [
    "print(\"The complex conjugate of z is: \"+str(z.conjugate()))"
   ]
  },
  {
   "cell_type": "markdown",
   "metadata": {},
   "source": [
    "If you wish to test whether or not a complex number is real"
   ]
  },
  {
   "cell_type": "code",
   "execution_count": null,
   "metadata": {
    "collapsed": false
   },
   "outputs": [],
   "source": [
    "print(\"z^2 is real: \"+str((z**2).imag == 0.0))"
   ]
  },
  {
   "cell_type": "code",
   "execution_count": null,
   "metadata": {
    "collapsed": false
   },
   "outputs": [],
   "source": [
    "#But if you want it to be considered as a real number you must explicitly construct such.\n",
    "print(\"z^2 is of type: \"+str(type(z**2)))\n",
    "zr = (z**2).real\n",
    "print(\"Its real part is \"+str(zr)+\" and of type \"+str(type(zr)))"
   ]
  },
  {
   "cell_type": "markdown",
   "metadata": {},
   "source": [
    "If $z=x+jy$ then $\\overline{z} = x-jy$ is called the *complex conjugate*.  It satisfies the convenient property that\n",
    "$$ z \\cdot \\overline{z} = x^2 + y^2 = |z|^2 $$\n",
    "and allows for the description of $z^{-1}$, i.e. the number such that\n",
    "$$z \\cdot z^{-1} = 1$$\n",
    "as \n",
    "$$z^{-1} = \\frac{\\overline{z}}{|z|^2}$$"
   ]
  },
  {
   "cell_type": "markdown",
   "metadata": {},
   "source": [
    "## Rotation with complex numbers\n",
    "The *polar form* of complex numbers is a very helpful way of visualizing complex multiplication.\n",
    "$$ z = x+jy = r(\\cos \\theta + j\\sin \\theta) $$\n",
    "\n",
    "Let $z_1 = r_1(\\cos \\theta_1 + j\\sin \\theta_1)$ and $z_2 = r_2(\\cos \\theta_2 + j\\sin \\theta_2)$ then,\n",
    "\n",
    "**FACT**\n",
    "\n",
    "$$z_1 \\cdot z_2 = r_1r_2\\left( \\cos(\\theta_1+\\theta_2)+j\\sin(\\theta_1+\\theta_2)\\right)$$\n",
    "\n",
    "so complex multiplication by $z_1$ is the act of *scaling* by $r_1 = |z_1|$, and rotation counter-clockwise by the angle $\\theta_1$. \n",
    "\n",
    "Let's plot some examples. "
   ]
  },
  {
   "cell_type": "code",
   "execution_count": null,
   "metadata": {
    "collapsed": false
   },
   "outputs": [],
   "source": [
    "## Let's define the data as an array of complex numbers.\n",
    "DAT = np.array([complex(i/float(12),j/float(12)) for i,j in it.product(range(12), range(12)) ])\n",
    "plt.plot(DAT.real, DAT.imag, 'ro')\n",
    "plt.plot((DAT*(1.0+0.5j)).real, (DAT*(1.0+0.5j)).imag, 'bo')\n",
    "plt.plot((DAT+(0.5+0.3j)).real, (DAT+(0.5+0.3j)).imag, 'yo')\n"
   ]
  },
  {
   "cell_type": "markdown",
   "metadata": {},
   "source": [
    "The **cmath** library supplies a variety of standard definitions for complex numbers. \n",
    "\n",
    "For example, we have the identities for the functions:\n",
    "\n",
    "$$e^x = 1 + x + \\frac{1}{2}x^2 + \\frac{1}{3!}x^3 + \\cdots = \\sum_{i=0}^\\infty \\frac{1}{i!}x^i$$\n",
    "$$\\sin(x) = \\sum_{i=0}^\\infty \\frac{(-1)^i}{(2i+1)!} x^{2i+1}$$\n",
    "$$\\cos(x) = \\sum_{i=0}^\\infty \\frac{(-1)^i}{(2i)!} x^{2i}$$\n",
    "\n",
    "These are how the analogous complex-valued functions are defined. \n",
    "\n",
    "$$e^z = 1 + z + \\frac{1}{2}z^2 + \\frac{1}{3!}z^3 + \\cdots = \\sum_{i=0}^\\infty \\frac{1}{i!}z^i$$\n",
    "$$\\sin(z) = \\sum_{i=0}^\\infty \\frac{(-1)^i}{(2i+1)!} z^{2i+1}$$\n",
    "$$\\cos(z) = \\sum_{i=0}^\\infty \\frac{(-1)^i}{(2i)!} z^{2i}$$\n",
    "\n"
   ]
  },
  {
   "cell_type": "code",
   "execution_count": null,
   "metadata": {
    "collapsed": false
   },
   "outputs": [],
   "source": [
    "import cmath as cm\n",
    "print(\"e^j == \"+str(cm.exp(1.0j)))\n",
    "print(\"e^{π j} == \"+str(cm.exp(cm.pi*complex(0,1))))\n",
    "print(\"sin(j) == \"+str(cm.sin(1.0j)))"
   ]
  },
  {
   "cell_type": "markdown",
   "metadata": {},
   "source": [
    "The middle identity there is an approximation to the (perhaps mysterious-looking) identity\n",
    "$$e^{\\pi i} = -1.$$\n",
    "This identity is a manifestation of some lovely geometry hidden in complex functions.  Let's plot some examples. \n",
    "\n",
    "First, a grid made by hand in Gimp. \n",
    "\n",
    "<div style=\"display: inline-block; margin-right: 12px; margin-left: 100px\">\n",
    "<img src=\"grid1.png\" width=\"300\" height=\"300\" class=\"alignleft\"/></div>\n",
    "\n",
    "Let's try multiplying this grid by a complex number, and looking at the image and pre-image of this grid through various complex functions. \n",
    "\n",
    "We will build a function call that transforms an image via a complex function.  Specifically, we think of the original image as sitting in the complex plane.  Given a pixel with complex coordinates $z$, the colour assigned to that location (in the new image) will be the colour assigned to $f(z)$ in the old image. \n",
    "\n",
    "First, we use *scipy* to load up the image as a *numpy* array. "
   ]
  },
  {
   "cell_type": "code",
   "execution_count": null,
   "metadata": {
    "collapsed": false
   },
   "outputs": [],
   "source": [
    "## scipy's image processing library\n",
    "import scipy.ndimage as ndi\n",
    "import scipy.misc as misc\n",
    "grid = misc.imread('grid1.png')\n",
    "print(\"grid is \"+ str(type(grid))) ## grid[i,j] is the RGB array for pixel i,j.\n",
    "print(\"grid has dimensions: \"+str(grid.shape))\n",
    "\n",
    "fig, ax = plt.subplots(figsize=(8,8))\n",
    "plt.imshow(grid, extent=[-2,2,-2,2])\n",
    "plt.show()\n"
   ]
  },
  {
   "cell_type": "code",
   "execution_count": null,
   "metadata": {
    "collapsed": false
   },
   "outputs": [],
   "source": [
    "## distance between two complex numbers\n",
    "def dist(z1,z2):\n",
    "    return sqrt( ((z1-z2)*((z1-z2).conjugate())).real )\n",
    "\n",
    "## pre-image function.  \n",
    "## takes as input:\n",
    "##\n",
    "## grid is a 3-dimensional numpy array, the last index having 3-elements, i.e. an image file.\n",
    "## bounds is a 2-dimensional float array, giving the lower and upper bounds of the x and y coordinates in the grid.\n",
    "## domain is a 2-dimensional float array indicating the rectangular domain you wish to use for your complex function\n",
    "## res is a 2-dimensional array, giving the resolution of your new image x and y coordinates.\n",
    "## f is your complex function to consider.  At present cmath functions are good.\n",
    "## sing is a list of the singularities of the function -- used to avoid bad calls to f. \n",
    "##\n",
    "## returns an the pre-image of grid under your complex function f\n",
    "def pre_image( grid, imbounds, domain, res, f, sing ):\n",
    "    blankCol = np.array([40, 40, 40])\n",
    "    outCol = np.array([80, 80, 80])\n",
    "    thres = min( [ (domain[0][1]-domain[0][0])/res[0], (domain[1][1]-domain[1][0])/res[1] ])\n",
    "    gridi = np.zeros( (res[0], res[1], 3), dtype=np.uint8 )\n",
    "    for i in range(res[0]):\n",
    "        x = RS(i, domain[0], res[0])\n",
    "        for j in range(res[1]):\n",
    "            y = RS(j, domain[1], res[1])\n",
    "            domZ = complex(x,y)\n",
    "            ## put in check here to avoid evaluating function outside of its domain.\n",
    "            if (len(sing)!=0):\n",
    "                if (min([dist(domZ, z) for z in sing]) < thres):\n",
    "                    gridi[i,j] = blankCol\n",
    "                    continue\n",
    "            ranZ = f(domZ) ## our complex function. \n",
    "            fi = US(ranZ.real, imbounds[0], grid.shape[0])\n",
    "            fj = US(ranZ.imag, imbounds[1], grid.shape[1])\n",
    "            if (fi not in range(grid.shape[0])) or (fj not in range(grid.shape[1])): \n",
    "                gridi[i,j] = outCol\n",
    "            else: \n",
    "                gridi[i,j] = grid[fi,fj]\n",
    "    return gridi\n",
    "\n",
    "## Requests the [x,y] coordinates for pixel [i,j] given an n-by-m rectangular array, \n",
    "## where the xbounds are xb=[xb[0],xb[1]] and the ybounds are yb=[yb[0],yb[1]]. \n",
    "## x = (i/n)*(xb[1]-xb[0])+xb[0]\n",
    "\n",
    "## rescale a range 0...n to interval [b[0],b[1]] linearly\n",
    "def RS(i, b, n):\n",
    "    return (i/float(n))*(b[1]-b[0])+b[0]\n",
    "## The reverse of xyfromij. Rounds. \n",
    "def US(x, b, n):\n",
    "    return int(n*(x-b[0])/(b[1]-b[0]))"
   ]
  },
  {
   "cell_type": "code",
   "execution_count": null,
   "metadata": {
    "collapsed": false
   },
   "outputs": [],
   "source": [
    "## The plot for the sin function\n",
    "\n",
    "fig, ax = plt.subplots(figsize=(8,8))\n",
    "\n",
    "xbounds = [-2.0, 2.0]\n",
    "ybounds = [-2.0, 2.0] ## these are the window of the **domain**\n",
    "#def pre_image( grid, imbounds, domain, res, f, sing ):\n",
    "plt.imshow(pre_image(grid, [[-2.0, 2.0], [-2.0, 2.0]], ## grid's complex x-bounds, y-bounds\n",
    "                     [xbounds, ybounds], ## x-bounds y-bounds of domain\n",
    "                     [400,400], cm.sin, []), ## image resolution, function, singlist\n",
    "                     extent=(xbounds+ybounds)) ## same as domain x-bounds, y-bounds\n",
    "plt.show()"
   ]
  },
  {
   "cell_type": "code",
   "execution_count": null,
   "metadata": {
    "collapsed": false
   },
   "outputs": [],
   "source": [
    "## try f(z) = 1/z\n",
    "import sympy as sp\n",
    "sym_z=sp.Symbol(\"z\")\n",
    "Sym_func = sym_z**(-1)\n",
    "invF = sp.lambdify(sym_z, Sym_func, \"numpy\")\n",
    "fig, ax = plt.subplots(figsize=(8,8))\n",
    "\n",
    "xbounds = [-3.0, 3.0]\n",
    "ybounds = [-3.0, 3.0] ## these are the window of the **domain**\n",
    "#def pre_image( grid, imbounds, domain, res, f, sing ):\n",
    "plt.imshow(pre_image(grid, [[-2.0, 2.0], [-2.0, 2.0]], ## grid's complex x-bounds, y-bounds\n",
    "                     [xbounds, ybounds], ## x-bounds y-bounds of domain\n",
    "                     [400,400], invF, [complex(0.0,0.0)]), ## image resolution, function, singlist\n",
    "                     extent=(xbounds+ybounds)) ## same as domain x-bounds, y-bounds\n",
    "plt.show()"
   ]
  },
  {
   "cell_type": "code",
   "execution_count": null,
   "metadata": {
    "collapsed": false
   },
   "outputs": [],
   "source": [
    "Sym_func = sym_z**2\n",
    "sF = sp.lambdify(sym_z, Sym_func, \"numpy\")\n",
    "fig, ax = plt.subplots(figsize=(8,8))\n",
    "\n",
    "xbounds = [-1.6, 1.6]\n",
    "ybounds = [-1.6, 1.6] ## these are the window of the **domain**\n",
    "#def pre_image( grid, imbounds, domain, res, f, sing ):\n",
    "plt.imshow(pre_image(grid, [[-2.0, 2.0], [-2.0, 2.0]], ## grid's complex x-bounds, y-bounds\n",
    "                     [xbounds, ybounds], ## x-bounds y-bounds of domain\n",
    "                     [400,400], sF, []), ## image resolution, function, singlist\n",
    "                     extent=(xbounds+ybounds)) ## same as domain x-bounds, y-bounds\n",
    "plt.show()"
   ]
  },
  {
   "cell_type": "markdown",
   "metadata": {},
   "source": [
    "As you can see in the images above, if we transform the Cartesian grid by the function $f(z)= \\frac{1}{z}$, or with $f(z)=\\sin(z)$ we get a deformed grid.  But the curves remain at right angles to each other, even though they are no longer themselves straight.  Mappings that preserve angles between curves are called *conformal maps*.  All the natural complex mappings turn out to have this property. "
   ]
  },
  {
   "cell_type": "code",
   "execution_count": null,
   "metadata": {
    "collapsed": true
   },
   "outputs": [],
   "source": []
  }
 ],
 "metadata": {
  "kernelspec": {
   "display_name": "Python 2",
   "language": "python",
   "name": "python2"
  },
  "language_info": {
   "codemirror_mode": {
    "name": "ipython",
    "version": 2
   },
   "file_extension": ".py",
   "mimetype": "text/x-python",
   "name": "python",
   "nbconvert_exporter": "python",
   "pygments_lexer": "ipython2",
   "version": "2.7.6"
  }
 },
 "nbformat": 4,
 "nbformat_minor": 0
}
