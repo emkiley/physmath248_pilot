{
 "cells": [
  {
   "cell_type": "markdown",
   "metadata": {},
   "source": [
    "## Doubling example\n",
    "\n",
    "*Iteration* of a function, is the process of repeatedly replacing\n",
    "a number $x$ by $f(x)$ where $f$ is some function.  This process is\n",
    "denoted by $x \\longmapsto f(x)$.  \n",
    "\n",
    "Computers make iteration *easy* and so it is often done.  But iteration\n",
    "has limitations, especially when using a floating-point data type. \n",
    "This example is a demonstration of how iteration can quickly lead to \n",
    "unreliable results. \n",
    "\n",
    "Consider the function:\n",
    "$$ f(x) = 2x - \\lfloor 2x \\rfloor $$\n",
    "\n",
    "here $\\lfloor x \\rfloor$ is the largest integer less than or equal to $2x$, i.e. $f(x)$ is the process\n",
    "of doubling $x$, then removing the integer part.  $0 \\leq f(x) < 1$ always. \n",
    "\n",
    "We define $f$ in Python:\n"
   ]
  },
  {
   "cell_type": "code",
   "execution_count": 1,
   "metadata": {
    "collapsed": true
   },
   "outputs": [],
   "source": [
    "def f(x):\n",
    "    x = 2.0 * x\n",
    "    while (x>=1.0): x = x - 1.0\n",
    "    while (x<0.0): x = x + 1.0\n",
    "    return x\n",
    "    "
   ]
  },
  {
   "cell_type": "code",
   "execution_count": 2,
   "metadata": {
    "collapsed": false
   },
   "outputs": [
    {
     "ename": "SyntaxError",
     "evalue": "Missing parentheses in call to 'print' (<ipython-input-2-69407c4435af>, line 4)",
     "output_type": "error",
     "traceback": [
      "\u001b[1;36m  File \u001b[1;32m\"<ipython-input-2-69407c4435af>\"\u001b[1;36m, line \u001b[1;32m4\u001b[0m\n\u001b[1;33m    print pi\u001b[0m\n\u001b[1;37m           ^\u001b[0m\n\u001b[1;31mSyntaxError\u001b[0m\u001b[1;31m:\u001b[0m Missing parentheses in call to 'print'\n"
     ]
    }
   ],
   "source": [
    "## Let's consider what happens to π under f.\n",
    "from math import *\n",
    "x = pi\n",
    "print pi"
   ]
  },
  {
   "cell_type": "code",
   "execution_count": 4,
   "metadata": {
    "collapsed": false
   },
   "outputs": [
    {
     "name": "stdout",
     "output_type": "stream",
     "text": [
      "0.28318530718\n",
      "0.566370614359\n",
      "0.132741228718\n",
      "0.265482457437\n",
      "0.530964914873\n",
      "0.0619298297468\n",
      "0.123859659494\n",
      "0.247719318987\n",
      "0.495438637974\n",
      "0.990877275948\n",
      "0.981754551896\n",
      "0.963509103793\n",
      "0.927018207585\n",
      "0.85403641517\n",
      "0.708072830341\n",
      "0.416145660682\n",
      "0.832291321363\n",
      "0.664582642727\n",
      "0.329165285453\n",
      "0.658330570906\n",
      "0.316661141813\n",
      "0.633322283626\n",
      "0.266644567251\n",
      "0.533289134502\n",
      "0.0665782690048\n",
      "0.13315653801\n",
      "0.266313076019\n",
      "0.532626152039\n",
      "0.0652523040771\n",
      "0.130504608154\n",
      "0.261009216309\n",
      "0.522018432617\n",
      "0.0440368652344\n",
      "0.0880737304688\n",
      "0.176147460938\n",
      "0.352294921875\n",
      "0.70458984375\n",
      "0.4091796875\n",
      "0.818359375\n",
      "0.63671875\n",
      "0.2734375\n",
      "0.546875\n",
      "0.09375\n",
      "0.1875\n",
      "0.375\n",
      "0.75\n",
      "0.5\n",
      "0.0\n",
      "0.0\n",
      "0.0\n"
     ]
    }
   ],
   "source": [
    "for i in range (0, 50):\n",
    "    x = f(x)\n",
    "    print x"
   ]
  },
  {
   "cell_type": "markdown",
   "metadata": {
    "collapsed": true
   },
   "source": [
    "So in less than $50$ iterations, $f$ converts π to $0$.  \n",
    "\n",
    "*Fact*: if π was represented accurately, the above sequence should *never* terminate. \n",
    "\n",
    "Denote $f(f(f(\\cdots f(x) \\cdots )))$ by $f^{(n)}(x)$, i.e. applying $f$ $n$-times, iteratively, to $x$.  \n",
    "\n",
    "*Observation*: The only real numbers $x \\mathbb R$ such that for some integer $n \\in \\{0,1,2,3,\\cdots\\}$ $f^{(n)}(x) = 0$ are:\n",
    "$$ \\{ \\frac{p}{2^k} : p \\in \\mathbb Z, k \\in \\{0,1,2,3,\\cdots\\} \\}$$\n",
    "i.e. $x$ has to be a *rational* number, numerator an integer, and denominator a power of $2$. \n"
   ]
  },
  {
   "cell_type": "markdown",
   "metadata": {},
   "source": [
    "So even for rational numbers like $\\frac{1}{3}$, the sequence $f^{(n)}(1/3)$ should never terminate at $0$.  For rational numbers this sequence turns out to be always *periodic*, for example:\n",
    "$$ f(1/3) = \\lfloor 2/3 \\rfloor = 2/3$$\n",
    "$$ f(2/3) = \\lfloor 4/3 \\rfloor = 1/3$$\n",
    "$$ f(1/3) = \\lfloor 2/3 \\rfloor = 2/3$$\n",
    "so the sequence $f^{(n)}(1/3)$ is $1/3, 2/3, 1/3, 2/3, \\cdots $. \n",
    "\n",
    "*But* if we make $1/3$ a floating point number, look what happens:"
   ]
  },
  {
   "cell_type": "code",
   "execution_count": 4,
   "metadata": {
    "collapsed": false
   },
   "outputs": [
    {
     "name": "stdout",
     "output_type": "stream",
     "text": [
      "0.6666666666666666\n",
      "0.33333333333333326\n",
      "0.6666666666666665\n",
      "0.33333333333333304\n",
      "0.6666666666666661\n",
      "0.33333333333333215\n",
      "0.6666666666666643\n",
      "0.3333333333333286\n",
      "0.6666666666666572\n",
      "0.3333333333333144\n",
      "0.6666666666666288\n",
      "0.33333333333325754\n",
      "0.6666666666665151\n",
      "0.33333333333303017\n",
      "0.6666666666660603\n",
      "0.3333333333321207\n",
      "0.6666666666642413\n",
      "0.3333333333284827\n",
      "0.6666666666569654\n",
      "0.3333333333139308\n",
      "0.6666666666278616\n",
      "0.3333333332557231\n",
      "0.6666666665114462\n",
      "0.3333333330228925\n",
      "0.666666666045785\n",
      "0.3333333320915699\n",
      "0.6666666641831398\n",
      "0.3333333283662796\n",
      "0.6666666567325592\n",
      "0.3333333134651184\n",
      "0.6666666269302368\n",
      "0.33333325386047363\n",
      "0.6666665077209473\n",
      "0.33333301544189453\n",
      "0.6666660308837891\n",
      "0.3333320617675781\n",
      "0.6666641235351562\n",
      "0.3333282470703125\n",
      "0.666656494140625\n",
      "0.33331298828125\n",
      "0.6666259765625\n",
      "0.333251953125\n",
      "0.66650390625\n",
      "0.3330078125\n",
      "0.666015625\n",
      "0.33203125\n",
      "0.6640625\n",
      "0.328125\n",
      "0.65625\n",
      "0.3125\n",
      "0.625\n",
      "0.25\n",
      "0.5\n",
      "0.0\n",
      "0.0\n"
     ]
    }
   ],
   "source": [
    "x=1.0/3.0\n",
    "for i in range (0, 55):\n",
    "    x = f(x)\n",
    "    print(x)"
   ]
  },
  {
   "cell_type": "markdown",
   "metadata": {},
   "source": [
    "This is one of the dangers of floating point numbers.  In cases where you do need to perform iterations like this and you are looking for *absolute* precision, Python has various other data types you could consider.  For example, the rational number data type. "
   ]
  },
  {
   "cell_type": "code",
   "execution_count": 5,
   "metadata": {
    "collapsed": false
   },
   "outputs": [
    {
     "name": "stdout",
     "output_type": "stream",
     "text": [
      "1/3\n"
     ]
    }
   ],
   "source": [
    "from fractions import Fraction\n",
    "x = Fraction(1, 3)\n",
    "print(x)\n"
   ]
  },
  {
   "cell_type": "markdown",
   "metadata": {},
   "source": [
    "Notice our $f(x)$ definition uses objects such as $1.0$ which Python interprets as a floating point data type.  Python's default behaviour when it encounters numbers like $1.0 + Fraction(1,3)$ is to convert the expression to a float.  So we re-write $f(x)$ to make it Fraction-safe. "
   ]
  },
  {
   "cell_type": "code",
   "execution_count": 7,
   "metadata": {
    "collapsed": false
   },
   "outputs": [
    {
     "name": "stdout",
     "output_type": "stream",
     "text": [
      "2/3\n",
      "1/3\n",
      "2/3\n",
      "1/3\n",
      "2/3\n"
     ]
    }
   ],
   "source": [
    "## fraction-safe version of f. We've turned all the numbers that were\n",
    "## floats, like 2.0 and 1.0 and converted them to numbers interpreted\n",
    "## as integers. The Fraction data type turns expressions such as\n",
    "## Fraction(1,3) + 1 into Fraction(4,3). \n",
    "def f(x):\n",
    "    x = 2 * x\n",
    "    while (x>=1): x = x - 1\n",
    "    while (x<0): x = x + 1\n",
    "    return x\n",
    "\n",
    "for i in range (0, 5):\n",
    "    x = f(x)\n",
    "    print(x)"
   ]
  },
  {
   "cell_type": "markdown",
   "metadata": {},
   "source": [
    "Now we have $f$ simulated accurately on our computers.  The unfortunate side-effect \n",
    "of this is that numbers like $\\pi$ are not rational numbers.  \n",
    "\n",
    "There are a variety of ways to further simulate irrational numbers.  One could use arbitrary-precision \n",
    "floating point numbers, but this only pushes off the round-off error problem a little\n",
    "further. \n",
    "\n",
    "There are further ideas from *algebra* that allow one to accurately manipulate algebraic expressions\n",
    "like $$ 1 + 23\\pi - \\pi^2 + \\pi^{201} - 100\\pi^{198}.$$\n",
    "The tools in algebra are called *polynomial rings*, *quotient rings* and *Groebner basis* and we have access to these tools through the\n",
    "sympy library, as well as others.  We will discuss this later in the course. "
   ]
  },
  {
   "cell_type": "code",
   "execution_count": null,
   "metadata": {
    "collapsed": true
   },
   "outputs": [],
   "source": []
  }
 ],
 "metadata": {
  "kernelspec": {
   "display_name": "Python 3",
   "language": "python",
   "name": "python3"
  },
  "language_info": {
   "codemirror_mode": {
    "name": "ipython",
    "version": 3
   },
   "file_extension": ".py",
   "mimetype": "text/x-python",
   "name": "python",
   "nbconvert_exporter": "python",
   "pygments_lexer": "ipython3",
   "version": "3.4.3"
  }
 },
 "nbformat": 4,
 "nbformat_minor": 0
}
