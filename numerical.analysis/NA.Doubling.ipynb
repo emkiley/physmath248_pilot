{
 "cells": [
  {
   "cell_type": "code",
   "execution_count": 7,
   "metadata": {
    "collapsed": true
   },
   "outputs": [],
   "source": [
    "def DoubleModOne(x):\n",
    "    x = 2.0 * x\n",
    "    while (x>=1.0): x = x - 1.0\n",
    "    while (x<0.0): x = x + 1.0\n",
    "    return x\n",
    "    "
   ]
  },
  {
   "cell_type": "code",
   "execution_count": 16,
   "metadata": {
    "collapsed": false
   },
   "outputs": [
    {
     "name": "stdout",
     "output_type": "stream",
     "text": [
      "3.14159265359\n"
     ]
    }
   ],
   "source": [
    "from math import *\n",
    "x = pi\n",
    "print pi"
   ]
  },
  {
   "cell_type": "code",
   "execution_count": 17,
   "metadata": {
    "collapsed": false
   },
   "outputs": [
    {
     "name": "stdout",
     "output_type": "stream",
     "text": [
      "0.28318530718\n",
      "0.566370614359\n",
      "0.132741228718\n",
      "0.265482457437\n",
      "0.530964914873\n",
      "0.0619298297468\n",
      "0.123859659494\n",
      "0.247719318987\n",
      "0.495438637974\n",
      "0.990877275948\n",
      "0.981754551896\n",
      "0.963509103793\n",
      "0.927018207585\n",
      "0.85403641517\n",
      "0.708072830341\n",
      "0.416145660682\n",
      "0.832291321363\n",
      "0.664582642727\n",
      "0.329165285453\n",
      "0.658330570906\n",
      "0.316661141813\n",
      "0.633322283626\n",
      "0.266644567251\n",
      "0.533289134502\n",
      "0.0665782690048\n",
      "0.13315653801\n",
      "0.266313076019\n",
      "0.532626152039\n",
      "0.0652523040771\n",
      "0.130504608154\n",
      "0.261009216309\n",
      "0.522018432617\n",
      "0.0440368652344\n",
      "0.0880737304688\n",
      "0.176147460938\n",
      "0.352294921875\n",
      "0.70458984375\n",
      "0.4091796875\n",
      "0.818359375\n",
      "0.63671875\n",
      "0.2734375\n",
      "0.546875\n",
      "0.09375\n",
      "0.1875\n",
      "0.375\n",
      "0.75\n",
      "0.5\n",
      "0.0\n",
      "0.0\n",
      "0.0\n",
      "0.0\n",
      "0.0\n",
      "0.0\n",
      "0.0\n",
      "0.0\n",
      "0.0\n",
      "0.0\n",
      "0.0\n",
      "0.0\n",
      "0.0\n"
     ]
    }
   ],
   "source": [
    "for i in range (0, 60):\n",
    "    x = DoubleModOne(x)\n",
    "    print x"
   ]
  },
  {
   "cell_type": "code",
   "execution_count": null,
   "metadata": {
    "collapsed": true
   },
   "outputs": [],
   "source": []
  }
 ],
 "metadata": {
  "kernelspec": {
   "display_name": "Python 2",
   "language": "python",
   "name": "python2"
  },
  "language_info": {
   "codemirror_mode": {
    "name": "ipython",
    "version": 2
   },
   "file_extension": ".py",
   "mimetype": "text/x-python",
   "name": "python",
   "nbconvert_exporter": "python",
   "pygments_lexer": "ipython2",
   "version": "2.7.6"
  }
 },
 "nbformat": 4,
 "nbformat_minor": 0
}
