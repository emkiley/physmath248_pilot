{
 "cells": [
  {
   "cell_type": "markdown",
   "metadata": {
    "collapsed": true
   },
   "source": [
    "# Symbolic computation in Python\n",
    "\n",
    "We have seen a few examples of symbolic computation in Python. \n",
    "\n",
    " * Defining symbolic expressions, such as:\n",
    "     - Polynomials\n",
    "     - Algebraic expressions involving addition, multiplication, and standard mathematical functions like $\\sin(x)$ and $e^x$.\n",
    "     - [Symbolic expressions](numbers.in.python.ipynb) for algebraic number types, such as $\\frac{1}{\\sqrt{2}+1}$\n",
    " * [Differentiation](NA.PI-Newton.ipynb) of symbolic functional expressions. \n",
    " \n",
    "In these notes we will explore the sympy library a little further, getting an idea for what it can do, how sympy works, and what its limitations are.  \n"
   ]
  },
  {
   "cell_type": "markdown",
   "metadata": {},
   "source": [
    "## Features of Sympy\n",
    "\n",
    "The [features](http://www.sympy.org/en/features.html) of Sympy are vast and the scope of the library is changing rather quickly. It aims to be able to accomplish all forms of symbolic computation that *can* in principle be done by a computer. \n",
    "\n",
    "The qualifier in the above sentence is rather important. There are many basic algebraic tasks that are *non-computable*, in the sense that we have proofs that it is *impossible* to write a computer program that computes the answer to certain algebraic problems.  A closely related fact is that many differential equations do not have closed-form solutions, i.e. their solutions are not expressible in terms of *elementary functions*. \n",
    "\n",
    "These issues lead to certain unavoidable issues or problems in symbolic computation.  \n",
    " * For certain kinds of requests, sympy will try to answer your query, but there are *no* estimates for how long it might take, *nor* how much system memory it will require to complete the task you have asked of it.  In effect sympy may or may not give you an answer to these kinds of requests. \n",
    " * But sympy *also* has various highly-effective algorithms with solid run-time and memory-usage estimates, meaning many tasks can be accomplished reliably.  \n",
    " \n",
    "We will talk a little about both sorts of algorithms available in sympy.\n",
    " \n",
    " * * * \n",
    "\n",
    "### Calculus: derivatives and anti-derivatives\n",
    "\n",
    "Sympy can compute derivatives of symbolic functions, using exactly the same tools we use: \n",
    " * The chain rule \n",
    " * The product rule\n",
    " * A table of derivaties of elementary functions, such as $x^n$, $e^x$ and $\\sin(x)$. "
   ]
  },
  {
   "cell_type": "code",
   "execution_count": null,
   "metadata": {
    "collapsed": false
   },
   "outputs": [],
   "source": [
    "## 1) calculus, differentiation, integration, limits.\n",
    "import sympy as sp\n",
    "x = sp.Symbol('x')\n",
    "f = x**3 + sp.sin(x)\n",
    "print(sp.diff(f,x))"
   ]
  },
  {
   "cell_type": "code",
   "execution_count": null,
   "metadata": {
    "collapsed": false
   },
   "outputs": [],
   "source": [
    "## We can ask sympy to give a more pleasant presentation\n",
    "sp.pprint(sp.diff(f,x))"
   ]
  },
  {
   "cell_type": "code",
   "execution_count": null,
   "metadata": {
    "collapsed": false
   },
   "outputs": [],
   "source": [
    "## Check a function is a solution to a differential equation.\n",
    "\n",
    "f = 1/(1 + sp.exp(-x))\n",
    "fp = sp.diff(f,x)\n",
    "print(\"f == \"+str(f))\n",
    "print(\"f' == \"+str(fp)+\"\\n\")"
   ]
  },
  {
   "cell_type": "code",
   "execution_count": null,
   "metadata": {
    "collapsed": false
   },
   "outputs": [],
   "source": [
    "## f' = f(1-f) is an example of a logistic de.  Let's check that the above is a solution\n",
    "print(\"Solution to logistic de f'=f(1-f) if: \")\n",
    "print(str(f*(1-f))+\" == \"+str(fp)+\"\\n\")\n",
    "\n",
    "## They do not look equal! Let's ask sympy to check\n",
    "\n",
    "print(\"Sympy thinks they are equal: \"+str(fp == f*(1-f))+\"\\n\")\n",
    "\n",
    "## As we saw before, Sympy's \"==\" operator does not investigate our \n",
    "## concern very carefully -- it is essentially telling us whether or not\n",
    "## the expressions look syntactically the same.  We already know they do not!\n",
    "## Let's try asking sympy to think a little harder about this.\n",
    "\n",
    "ode = fp - f*(1-f)\n",
    "print(\"Before simplification: f'-f*(1-f) == \")\n",
    "sp.pprint(ode)\n",
    "print(\"After simplification: \")\n",
    "ode_reduced = sp.simplify(ode)\n",
    "sp.pprint(ode_reduced)\n",
    "print(\"\\nsp.simplify applied to the difference is zero, so the expressions are equal.\")"
   ]
  },
  {
   "cell_type": "markdown",
   "metadata": {},
   "source": [
    "Sympy also has the capacity to compute anti-derivatives. This is perhaps surprising since there are many functions in mathematics that *do not* have anti-derivatives that are expressable in terms of *elementary functions*.   For example,\n",
    "\n",
    "$$f(x) = e^{-x^2}$$\n",
    "\n",
    "can not be expressed as a finite combination (sums, products, powers, quotients) of polynomials or trig functions.  "
   ]
  },
  {
   "cell_type": "code",
   "execution_count": null,
   "metadata": {
    "collapsed": false
   },
   "outputs": [],
   "source": [
    "## let's start with some examples\n",
    "\n",
    "f = x**5\n",
    "sp.pprint(f)"
   ]
  },
  {
   "cell_type": "code",
   "execution_count": null,
   "metadata": {
    "collapsed": false
   },
   "outputs": [],
   "source": [
    "af = sp.integrate(f, x)\n",
    "sp.pprint(af)"
   ]
  },
  {
   "cell_type": "markdown",
   "metadata": {},
   "source": [
    "One does not need to give concrete instances of functions to sympy -- one can ask for general rules as well.  For example."
   ]
  },
  {
   "cell_type": "code",
   "execution_count": null,
   "metadata": {
    "collapsed": false
   },
   "outputs": [],
   "source": [
    "a,b,c = sp.symbols('a b c')\n",
    "f = a*x**b+c\n",
    "sp.pprint(f)\n",
    "print(\"\")\n",
    "af = sp.integrate(f,x)\n",
    "sp.pprint(af)"
   ]
  },
  {
   "cell_type": "markdown",
   "metadata": {},
   "source": [
    "sympy is perfectly content giving *complicated* answers.  This is a feature of its underlying data type -- a tree.  Notice the type that $\\int f$ is."
   ]
  },
  {
   "cell_type": "code",
   "execution_count": null,
   "metadata": {
    "collapsed": false
   },
   "outputs": [],
   "source": [
    "print(\"The anti-derivative is of type: \"+str(type(af)))"
   ]
  },
  {
   "cell_type": "code",
   "execution_count": null,
   "metadata": {
    "collapsed": false
   },
   "outputs": [],
   "source": [
    "## right!  the last operation is addition. Let's ask it about the anti-derivative of x^b\n",
    "print(\"The anti-derivative of x**b is of type: \"+str(type(sp.integrate(x**b,x))))"
   ]
  },
  {
   "cell_type": "markdown",
   "metadata": {},
   "source": [
    "Let's be mean and ask sympy about $\\int e^{-x^2} dx$"
   ]
  },
  {
   "cell_type": "code",
   "execution_count": null,
   "metadata": {
    "collapsed": false
   },
   "outputs": [],
   "source": [
    "f1 = sp.exp(-x**2)\n",
    "sp.pprint(f1)\n",
    "fi = sp.integrate(f1, x)\n",
    "sp.pprint(fi)"
   ]
  },
  {
   "cell_type": "markdown",
   "metadata": {},
   "source": [
    "This is better than no information at all. sympy is telling us that (a rescaling) of this is called the $erf$ or <a href=\"http://docs.sympy.org/0.7.1/modules/mpmath/functions/expintegrals.html#erf\">*error function*</a>.  Sympy can work with this function. "
   ]
  },
  {
   "cell_type": "code",
   "execution_count": null,
   "metadata": {
    "collapsed": false
   },
   "outputs": [],
   "source": [
    "f2 = (x**2)*fi\n",
    "sp.pprint(f2)\n",
    "sp.pprint(sp.integrate(f2,x))"
   ]
  },
  {
   "cell_type": "markdown",
   "metadata": {},
   "source": [
    "We can similarly ask for definite integrals. \n",
    "\n",
    "We will request $\\int_{-\\infty}^\\infty e^{-x^2} dx$ below."
   ]
  },
  {
   "cell_type": "code",
   "execution_count": null,
   "metadata": {
    "collapsed": false
   },
   "outputs": [],
   "source": [
    "defint = sp.integrate( f1, (x,-sp.oo,sp.oo))\n",
    "sp.pprint(defint)\n",
    "## \"oo\" -- two letter o's -- is sympy's notation for infinity"
   ]
  },
  {
   "cell_type": "markdown",
   "metadata": {},
   "source": [
    "Let's also request $\\int_{-1}^1 e^{-x^2} dx$"
   ]
  },
  {
   "cell_type": "code",
   "execution_count": null,
   "metadata": {
    "collapsed": false
   },
   "outputs": [],
   "source": [
    "defint = sp.integrate( f1,(x,-1,1))\n",
    "sp.pprint(defint)\n",
    "## and if we are not content with such abstract stuff, we can request a float approximation\n",
    "print(\"To 40 decimal places: \"+str(defint.evalf(40)))"
   ]
  },
  {
   "cell_type": "code",
   "execution_count": null,
   "metadata": {
    "collapsed": false
   },
   "outputs": [],
   "source": [
    "## Let's plot erf.\n",
    "import matplotlib as mpl\n",
    "import matplotlib.pyplot as plt\n",
    "import matplotlib.patches as patches\n",
    "import numpy as np\n",
    "%matplotlib inline\n",
    "\n",
    "## notice we can not use \"numpy\" here as the erf function\n",
    "## is not defined in that library.  We could also use\n",
    "## mpmath here.\n",
    "FI = sp.lambdify(x, fi, \"math\")\n",
    "fig, ax1 = plt.subplots(nrows=1, figsize=(10,10))\n",
    "res = 1000\n",
    "dom = [4.0*(float(i)/res-1.0) for i in range(2*res)]\n",
    "ax1.plot(dom, [FI(p) for p in dom], color=\"black\")\n",
    "plt.show()"
   ]
  },
  {
   "cell_type": "code",
   "execution_count": null,
   "metadata": {
    "collapsed": false
   },
   "outputs": [],
   "source": [
    "# A small variant on the above, let's try to graph the anti-derivative of sin(x^2)\n",
    "f3 = sp.sin(x**2)\n",
    "fi = sp.integrate(f3,x)\n",
    "sp.pprint(fi)"
   ]
  },
  {
   "cell_type": "code",
   "execution_count": null,
   "metadata": {
    "collapsed": false
   },
   "outputs": [],
   "source": [
    "fig, ax1 = plt.subplots(nrows=1, figsize=(10,10))\n",
    "res = 1000\n",
    "dom = [8.0*(float(i)/res-1.0) for i in range(2*res)]\n",
    "## the fresnel function is not implement in numpy or math, so\n",
    "## we need to use mpmath\n",
    "FI = sp.lambdify(x, fi, \"mpmath\")\n",
    "ax1.plot(dom, [FI(p) for p in dom], color=\"black\")\n",
    "plt.show()"
   ]
  },
  {
   "cell_type": "markdown",
   "metadata": {},
   "source": [
    "From the above graph it would appear the Fresnel function has a pair of horizontal\n",
    "asymptotes. We can ask sympy to check this. \n"
   ]
  },
  {
   "cell_type": "code",
   "execution_count": null,
   "metadata": {
    "collapsed": false
   },
   "outputs": [],
   "source": [
    "lim = sp.limit(fi,x, sp.oo)\n",
    "print( lim )\n",
    "## pretty?\n",
    "sp.pprint( lim )\n",
    "## and a float?\n",
    "print(\"As a float (mpf): \"+str(lim.evalf(40)))"
   ]
  },
  {
   "cell_type": "markdown",
   "metadata": {},
   "source": [
    "### Keep in mind sympy can fail!  Let's look at what that looks like.\n",
    "\n",
    "We will ask it to evaluate a slightly more complicated integral:\n",
    "\n",
    "$$ \\int e^{e^{-x^2}} dx $$"
   ]
  },
  {
   "cell_type": "code",
   "execution_count": null,
   "metadata": {
    "collapsed": false
   },
   "outputs": [],
   "source": [
    "sp.pprint( sp.integrate(sp.exp(sp.exp(-x**2)),x) )"
   ]
  },
  {
   "cell_type": "markdown",
   "metadata": {},
   "source": [
    "i.e. when sympy fails on these kinds of requests, it **gives up** and returns your original input, *unchanged*. \n",
    "\n",
    "What is going on *under the hood* is that sympy is using something called the <a href=\"https://en.wikipedia.org/wiki/Risch_algorithm\">**Risch algorithm**</a>. Technically sympy has developed an extension of the Risch algorithm. . . and sympy's extension what is known as a *semi-algorithm*.  As far as I am aware, every software package that can compute symbolic integrals (Mathematical, Matlab, Maple, etc) all use variants of the Risch algorithm, which similarly boils-down to a careful application of <a href=\"https://en.wikipedia.org/wiki/Liouville%27s_theorem_(differential_algebra)\">Liouville's Theorem in differential algebra</a>. \n",
    "\n",
    "The **Liouville Theorem** states that if $f(x)$ has an anti-derivative that is *elementary* (a sum, product, quotient, composite involving exponential or logarithm, polynomials or trig functions *recursively*) then there is and expression for the function $F$ with $F'=f$ of the form:\n",
    "\n",
    "$$ F(x) = v(x) + \\sum_{i=1}^n c_i \\ln(g_i(x)) $$\n",
    "\n",
    "where $v(x)$ and the functions $g_1(x),\\cdots,g_n(x)$ are elementary function expressible entirely in terms of sums, product, and quotients of $f(x)$, and polynomials.  \n",
    "\n",
    "eg: $$\\frac{e^{x^2+2}+2}{\\ln(x)+x^8+\\sin(e^x+x^2)}$$\n",
    "is an elementary function.\n",
    "\n",
    "The Risch algorithm goes one step further and reduces the number of possibilities one has to consider to a finite number.  In Risch's original paper he confined himself to a fairly simple class of elementary functions on which his work provides a genuine algorithm. Sympy, on the other hand, has looser constraints than Risch's original paper and so it does not know how to solve this problem for every possible input. Sympy can fail, which is why it is called a semi-algorithm.\n",
    "\n",
    "When you provide sympy with a *difficult* integral that it does not know how to handle immediately, it spends some time *searching* for an answer, but if it does not find one quickly it gives up. \n",
    "\n",
    "Sympy's extensions to the Risch algorithm are some of the most commonly-used anti-derivatives, such as $erf$ and the Fresnel function.\n",
    "\n",
    "## Asking sympy to solve equations\n",
    "\n",
    "Sympy has some fairly sophisticated algorithms to solve polynomial equations. It uses this intelligence for solving polynomial equations to build tools to solve (symbolically) a wide array of equations, even ones that are not polynomial. \n",
    "\n",
    "Sympy can:\n",
    "\n",
    " * Factor polynomials.\n",
    " * Find roots of polynomials, symbolically as well as numerically. \n",
    " * Solve (symbolically as well as numerically) simultaneous polynomial equations.\n",
    " * Solve simultaneous equations that are not polynomial\n",
    "     - sympy can *sometimes* do this symbolically\n",
    "     - can usually do this numerically, using a variety of methods, including the multi-variable Newton's method.  The numeric methods are not always guanteed to find all solutions. If you *need* all solutions you might have to use more specialized methods. \n",
    " * Sympy's polynomial equation solvers, on the other hand, will always find good approximations to all the solutions.\n"
   ]
  },
  {
   "cell_type": "code",
   "execution_count": null,
   "metadata": {
    "collapsed": false
   },
   "outputs": [],
   "source": [
    "## Let's give an example of factoring polynomials\n",
    "\n",
    "p = x**2 - 2*x + 1\n",
    "sp.factor(p)"
   ]
  },
  {
   "cell_type": "code",
   "execution_count": null,
   "metadata": {
    "collapsed": false
   },
   "outputs": [],
   "source": [
    "## Sympy is okay with multi-variable polynomials\n",
    "y = sp.Symbol('y')\n",
    "\n",
    "p = x*y - x - y + 1\n",
    "sp.factor(p)"
   ]
  },
  {
   "cell_type": "code",
   "execution_count": null,
   "metadata": {
    "collapsed": false
   },
   "outputs": [],
   "source": [
    "## We can also ask to factor in a variety of ways\n",
    "\n",
    "p = x*x - 2\n",
    "sp.pprint(sp.factor(p))\n",
    "## the above is factoring using rational numbers i.e. the output is telling us you can \n",
    "## not factor this polynomial into a product of two polynomials with rational coefficients.\n",
    "\n",
    "sp.pprint(sp.factor(p, extension=sp.sqrt(2)))\n",
    "## here we have allowed simpy to use the square root of 2 in the coefficients,\n",
    "## so it gives us what we expect."
   ]
  },
  {
   "cell_type": "code",
   "execution_count": null,
   "metadata": {
    "collapsed": false
   },
   "outputs": [],
   "source": [
    "## a few more examples of sympy's factoring code\n",
    "p = x*x + 2\n",
    "sp.pprint(sp.factor(p))\n",
    "## here we allow sqrt(2)i in the coefficients\n",
    "sp.pprint(sp.factor(p, extension=sp.sqrt(-2)))\n",
    "p = x*x + 1\n",
    "## and here we allow \"Gaussian integers\" i.e. complex\n",
    "## numbers of the form a+bi with a and b integers.\n",
    "sp.pprint(sp.factor(p, gaussian=True))"
   ]
  },
  {
   "cell_type": "markdown",
   "metadata": {},
   "source": [
    "The nice thing about the previous algorithms is they always work.  The weak aspect is it is not particularly flexible if your goal is to know the roots of the polynomial in the real line or complex plane. To find the roots, we can use sympy's solve function."
   ]
  },
  {
   "cell_type": "code",
   "execution_count": null,
   "metadata": {
    "collapsed": false
   },
   "outputs": [],
   "source": [
    "p = x*x - 2\n",
    "sp.pprint(sp.solve(p,x))\n",
    "\n",
    "p = x*x + 2\n",
    "sp.pprint(sp.solve(p,x))"
   ]
  },
  {
   "cell_type": "markdown",
   "metadata": {},
   "source": [
    "### sympy solve\n",
    "\n",
    "The general format is to call $solve(f,x)$ where $f$ is a sympy expression -- a function -- and $x$ is the variable used by that function.  Sympy will attempt to find all the solutions to the equation\n",
    "$$f(x) = 0$$\n",
    "\n",
    "The solve algorithm runs out of steam fairly quickly. See the next three computations.\n"
   ]
  },
  {
   "cell_type": "code",
   "execution_count": null,
   "metadata": {
    "collapsed": false
   },
   "outputs": [],
   "source": [
    "p = a*x**2 + b*x + c\n",
    "sp.pprint(p)\n",
    "sp.pprint(sp.solve(p,x))"
   ]
  },
  {
   "cell_type": "code",
   "execution_count": null,
   "metadata": {
    "collapsed": false
   },
   "outputs": [],
   "source": [
    "## a general cubic\n",
    "d,e = sp.symbols('d e')\n",
    "p = a*x**3 + b*x**2 + c*x + d\n",
    "sp.pprint(p, use_unicode=True)\n",
    "sp.pprint(sp.solve(p,x), use_unicode=True)"
   ]
  },
  {
   "cell_type": "code",
   "execution_count": null,
   "metadata": {
    "collapsed": false
   },
   "outputs": [],
   "source": [
    "## a general quartic. \n",
    "\n",
    "## Warning: on my less powerful laptop running Python 2, this request terminates\n",
    "##  in failure quickly.  On my powerful laptop running Python 3, this request \n",
    "##  is taken \"seriously\" and consumes significant processor time. \n",
    "p = a*x**4 + b*x**3 + c*x**2 + d*x + e\n",
    "sp.pprint(p)\n",
    "sp.pprint(sp.solve(p,x))"
   ]
  },
  {
   "cell_type": "markdown",
   "metadata": {},
   "source": [
    "While there is a closed-form solution to the roots of a degree 4 polynomial, sympy's *solve* routine can not derive it.  \n",
    "\n",
    "On the other hand it is known there is no *closed form* for the roots of a degree $5$ or higher polynomial.  So one has to resort to other methods."
   ]
  },
  {
   "cell_type": "code",
   "execution_count": null,
   "metadata": {
    "collapsed": false
   },
   "outputs": [],
   "source": [
    "## let's leave sympy and find the roots numerically\n",
    "p = x**3 + x**2 - x - 1\n",
    "P = sp.Poly(p,x).coeffs()\n",
    "print(\"The extracted coefficients: \"+str(P))\n",
    "P=[1, -12,48,-64, 0]"
   ]
  },
  {
   "cell_type": "code",
   "execution_count": null,
   "metadata": {
    "collapsed": false
   },
   "outputs": [],
   "source": [
    "## Both numpy and mpmath have such algorithms\n",
    "print(str(np.roots(P))+\"\\n\")\n",
    "\n",
    "## mpmath's\n",
    "import sympy.mpmath as mp\n",
    "## this command works in Python 2... strangely it has problems in Python 3\n",
    "#print(str(mp.polyroots(P))+\"\\n\")\n",
    "\n",
    "## this appears to be an error in the current sympy.mpmath implementation, \n",
    "## so we bypass it and use the most recent mpmath library. \n",
    "import mpmath as mp2\n",
    "print(str(mp2.polyroots(P))+\"\\n\")\n",
    "\n",
    "## clean up the output\n",
    "mp2.mp.pretty = True\n",
    "print(str(mp2.polyroots(P))+\"\\n\")\n",
    "\n",
    "## up the precision\n",
    "mp2.mp.prec += 3 ## dps should be approximately at least 3.33 times prec\n",
    "mp2.mp.dps += 10\n",
    "print(str(mp2.polyroots(P))+\"\\n\")"
   ]
  },
  {
   "cell_type": "markdown",
   "metadata": {},
   "source": [
    "## roots\n",
    "\n",
    "The sympy *polyroots* and numpy *roots* functions are guanteed to find all the solutions of your polynomial equation.  \n",
    "\n",
    "* * * \n",
    "\n",
    "While we're at it, notice mpmath can be used to solve multi-variable equations.\n",
    "\n",
    "Here we ask mpmath to solve\n",
    "$$(x^2+y^2, xy) = (4, 1)$$\n",
    "\n",
    "It is using a multi-variable Newton method."
   ]
  },
  {
   "cell_type": "code",
   "execution_count": null,
   "metadata": {
    "collapsed": false
   },
   "outputs": [],
   "source": [
    "f = [lambda x,y: x**2 + y**2 - 4, lambda x, y: x*y-1.0 ]\n",
    "## The mpmath findroot algorithm can take lists of multi-variable functions. \n",
    "## i.e. it prefers to think of a vector-valued function as a list of functions\n",
    "## and solving the equation f(x,y) = (0,0) it thinks as solving the list of\n",
    "## equations simultaneously. \n",
    "\n",
    "#print(f[0](1,1),f[1](1,1))\n",
    "# as it looks, f is a list of callable 2-variable functions\n",
    "\n",
    "## and the findroot call\n",
    "roots = mp2.findroot(f,(0.2,0.1))\n",
    "print(\"roots: \"+str(roots))\n",
    "## let's check it is a solution\n",
    "print(\"check sol: \"+str(f[0](roots[0],roots[1])) + \", \" +str(f[1](roots[0],roots[1])) )\n",
    "print(\"yes!\")"
   ]
  },
  {
   "cell_type": "markdown",
   "metadata": {},
   "source": [
    "We can similarly ask sympy to solve families of equations."
   ]
  },
  {
   "cell_type": "code",
   "execution_count": null,
   "metadata": {
    "collapsed": false
   },
   "outputs": [],
   "source": [
    "sol = sp.solve([x**2 + y**2 - 4, x*y-1 ])\n",
    "print(type(sol))\n",
    "print(len(sol))"
   ]
  },
  {
   "cell_type": "code",
   "execution_count": null,
   "metadata": {
    "collapsed": false
   },
   "outputs": [],
   "source": [
    "for i in range(len(sol)): \n",
    "    print(\"Solution \" + str(i))\n",
    "    sp.pprint(sol[i])\n",
    "    print(\"\\n\")\n",
    "## sol[i] is a dict object\n",
    "print(\"Solutions are dictionary type: \"+str(type(sol[0])))"
   ]
  },
  {
   "cell_type": "code",
   "execution_count": null,
   "metadata": {
    "collapsed": false
   },
   "outputs": [],
   "source": [
    "## This is how we can access them. \n",
    "print(\"x-coord of solution 0: \"+str(sol[0][x].evalf(10)))\n",
    "print(\"y-coord of solution 0: \"+str(sol[0][y].evalf(10)))"
   ]
  },
  {
   "cell_type": "code",
   "execution_count": null,
   "metadata": {
    "collapsed": false
   },
   "outputs": [],
   "source": [
    "## And we can visualize the solutions with matplotlib\n",
    "fig, ax = plt.subplots(figsize=(10,10))\n",
    "circle = plt.Circle( (0,0), 2, color='r', fill=False)\n",
    "\n",
    "x1 = np.linspace(0.2, 4)\n",
    "y1 = x1**(-1)\n",
    "ax.plot(x1, y1,'-')\n",
    "\n",
    "x2 = np.linspace(-4,-0.2)\n",
    "y2 = x2**(-1)\n",
    "ax.plot(x2, y2,'-')\n",
    "\n",
    "ax.set_title('Visualizing the above solutions', fontsize=18)\n",
    "\n",
    "## the root we found with Newton's method, a big black x.\n",
    "ax.plot([roots[0]], [roots[1]], 'bx', markersize=28)\n",
    "\n",
    "## the roots we found with sympy, yellow dots.\n",
    "ax.plot([sol[i][x].evalf(10) for i in range(len(sol))], [sol[i][y].evalf(10) for i in range(len(sol))],'yo', markersize=10)\n",
    "\n",
    "fig.gca().add_artist(circle)\n",
    "ax.set_xlim(-3,3)\n",
    "ax.set_ylim(-3,3)\n",
    "plt.show()"
   ]
  },
  {
   "cell_type": "markdown",
   "metadata": {},
   "source": [
    "The next example gives you a sense for how simpy solves complicated algebraic equations. \n",
    "\n",
    "Notice the equation below is basically the previous equation but with $x$ replaced by $\\cos(x)$ and $y$ replaced by $\\sin(y)$. \n",
    "\n",
    "This gives you a key insight into how sympy solves equations. It has strong *core* routines for solving polynomial equations, which is uses as a fundamental building-block for solving more complicated algebraic equations."
   ]
  },
  {
   "cell_type": "code",
   "execution_count": null,
   "metadata": {
    "collapsed": true
   },
   "outputs": [],
   "source": [
    "sol = sp.solve([sp.cos(x)**2 + sp.sin(y)**2 - 4, sp.cos(x)*sp.sin(y)-1 ])\n",
    "print(type(sol))\n",
    "print(len(sol))\n",
    "for i in range(len(sol)): \n",
    "    print(\"Solution \" + str(i))\n",
    "    sp.pprint(sol[i])\n",
    "    print(\"\\n\")  "
   ]
  },
  {
   "cell_type": "markdown",
   "metadata": {},
   "source": [
    "## Summary\n",
    "\n",
    "Sympy has a systematic way of solving algebraic equations.  \n",
    "\n",
    " * At its core is a strong semi-algorithm to solve systems of polynomial equations.\n",
    "     - An example system: $x^3+3xy+1=0 = y^4-x^2y+x+4 $\n",
    "     - To solve such equations it uses a **Groebner basis algorithm** to convert such systems of *multi-variable polynomial* equations into systems of *single-variable* polynomial equations. This is a reliable algorithm, although it can be slow (double-exponential run-time estimates).\n",
    "     - Sympy does not know how to write \"closed-form\" solutions to all single variable polynomial equations, but it has a significant repository of closed-form solutions, as we have seen. \n",
    "     - As a side-note, it is known that the solutions to a general degree $5$ polynomial equation $a_5x^5+a_4x^4+a_3x^3+a_2x^2+a_1x+a_0=0$ can not be expressed (as in the degree 1 through 4 cases) as a rational polynomial in rational powers (recursively) of $a_5,\\cdots,a_0$.   So one can not hope for simple formulas for such roots.\n",
    "\n",
    " * For more complicated systems, such as $\\sin(x)^3+3\\sin(x)\\cos(y)+1=0=\\sin(y)^4-\\cos(x)^2+\\cos(x)+4$ sympy thinks of the system as a polynomial equation in the variables $\\sin(x), \\cos(y)$ and computes $\\sin^{-1}$ and $\\cos^{-1}$ of the solutions.\n",
    " \n",
    " * Sympy also has adapted versions of the above algorithms to find closed-form solutions to some differential equations.  We will talk more about this when we discuss simulating solutions to differential equations.  One particularly simple case appears below."
   ]
  },
  {
   "cell_type": "markdown",
   "metadata": {},
   "source": [
    "### Sympy and linear algebra\n",
    "\n",
    "We've seen how one can solve systems of linear equations using numpy's matrix facilities. Sympy has the same abilities but it can also do a few things numpy can not. \n",
    "\n",
    "For instance, a standard family of ODEs that arise are called **linear first-order differential equations**. They have the form:\n",
    "\n",
    "$$\\vec v'(t) = A \\vec v(t)$$\n",
    "\n",
    "here $\\vec v : \\mathbb R \\to \\mathbb R^n$ is a time-varying vector.  $A$ is an $n \\times n$ matrix.  The solutions to these differential equations are:\n",
    "\n",
    "$$\\vec v(t) = exp(A) \\vec v_0$$\n",
    "where $\\vec v_0 = \\vec v(0)$ and the matrix exponential $exp(A)$ is \n",
    "$$\\exp(A) = \\sum_{k=0}^\\infty \\frac{1}{k!} A^k$$\n",
    "\n",
    "Sympy is perfectly happy computing this matrix exponentials in closed-form.  In *math 342* we teach students how to do this by using *ideas*. "
   ]
  },
  {
   "cell_type": "code",
   "execution_count": null,
   "metadata": {
    "collapsed": false
   },
   "outputs": [],
   "source": [
    "t=sp.Symbol('t')\n",
    "\n",
    "A=sp.Matrix(2,2,[1,0,0,1])\n",
    "print(\"A == \"+str(A)+\"\\n\")\n",
    "eA = sp.exp(t*A)\n",
    "print(\"exp(tA)\\n\")\n",
    "sp.pprint(eA)\n",
    "\n",
    "A=sp.Matrix(2,2,[-1,0,1,-1])\n",
    "print(\"A == \"+str(A)+\"\\n\")\n",
    "eA = sp.exp(t*A)\n",
    "print(\"exp(tA)\\n\")\n",
    "sp.pprint(eA)\n"
   ]
  },
  {
   "cell_type": "code",
   "execution_count": null,
   "metadata": {
    "collapsed": false
   },
   "outputs": [],
   "source": [
    "## we need to tell sympy t is a real variable otherwise...\n",
    "t=sp.Symbol('t',real=True)\n",
    "#t=sp.Symbol('t')\n",
    "B=sp.Matrix(4,4,[1,0,0,0, 1,1,0,0, 0,0,1,1, 0,0,-1,1])\n",
    "eB = sp.exp(t*B)\n",
    "print(\"B == \"+str(B)+\"\\n\")\n",
    "## when we expand e^(x+iy) = cos(x) + i sin(y) in the argument\n",
    "## on the nextline, it thinks t might have both a real and an imaginary part,\n",
    "## resulting in a true but not-fully-informative expression.\n",
    "sp.init_printing(use_latex=True)\n",
    "\n",
    "eB=sp.simplify(eB).expand(complex=True)\n",
    "sp.pprint(eB)"
   ]
  },
  {
   "cell_type": "markdown",
   "metadata": {},
   "source": [
    "## Plotting in sympy\n",
    "\n",
    "Sympy has a variety of 2d and 3d plotting tools.  We demonstrate a few below. \n",
    "\n",
    "My first impression is they are not as well-developed as one might hope. "
   ]
  },
  {
   "cell_type": "code",
   "execution_count": null,
   "metadata": {
    "collapsed": false
   },
   "outputs": [],
   "source": [
    "## Parametric surfaces\n",
    "from sympy.plotting import plot3d_parametric_surface\n",
    "plot3d_parametric_surface(x*sp.cos(t), x*sp.sin(t), t, \n",
    "                          (x,0.5,1.5), (t, 0, 20),\n",
    "                          title=\"spiral\")"
   ]
  },
  {
   "cell_type": "code",
   "execution_count": null,
   "metadata": {
    "collapsed": false
   },
   "outputs": [],
   "source": [
    "## implicit curves in the plane. \n",
    "## here we plot two curves together, \n",
    "## we call the individual plots, set them to the variables\n",
    "## curve1 and curve2, and we ask sympy not to display them when\n",
    "## they are created. We then merge them with the \"extend\" command, \n",
    "## and display\n",
    "from sympy.plotting import plot_implicit\n",
    "curve1 = plot_implicit(x**12+y**12 - 1,(x,-1,1),(y,-1,1), \n",
    "              adaptive=False, points=1600, \n",
    "              xlabel=\"1st axis\", ylabel=\"2nd axis\", show=False)\n",
    "curve2 = plot_implicit(x**2+y**2 - 1,(x,-1,1),(y,-1,1), \n",
    "              adaptive=False, points=1600, \n",
    "              xlabel=\"1st axis\", ylabel=\"2nd axis\", show=False)\n",
    "curve1.extend(curve2)\n",
    "curve1.show()"
   ]
  },
  {
   "cell_type": "code",
   "execution_count": null,
   "metadata": {
    "collapsed": false
   },
   "outputs": [],
   "source": [
    "## Let's plot a tire tube...\n",
    "bigR = 1.0\n",
    "smR = 0.2\n",
    "plot3d_parametric_surface(\n",
    "    (bigR+smR*sp.cos(x))*sp.cos(t),     (bigR+smR*sp.cos(x))*sp.sin(t),     smR*sp.sin(x), \n",
    "    (x,0, 6.3), (t, 0, 6.3), \n",
    "    title=\"Tire Tube\", xlabel=\"1st axis\", ylabel=\"2nd axis\")"
   ]
  },
  {
   "cell_type": "markdown",
   "metadata": {
    "collapsed": true
   },
   "source": [
    "## My impression is sympy's plotting routines are (at present) a little primitive and you are better off plotting with matplotlib, or other more sophisticated libraries. \n",
    "\n",
    "See the [visualization](visualization.ipynb) notebook for more information on data visualization libraries."
   ]
  },
  {
   "cell_type": "code",
   "execution_count": null,
   "metadata": {
    "collapsed": true
   },
   "outputs": [],
   "source": []
  }
 ],
 "metadata": {
  "kernelspec": {
   "display_name": "Python 2",
   "language": "python",
   "name": "python2"
  },
  "language_info": {
   "codemirror_mode": {
    "name": "ipython",
    "version": 2
   },
   "file_extension": ".py",
   "mimetype": "text/x-python",
   "name": "python",
   "nbconvert_exporter": "python",
   "pygments_lexer": "ipython2",
   "version": "2.7.6"
  }
 },
 "nbformat": 4,
 "nbformat_minor": 0
}
