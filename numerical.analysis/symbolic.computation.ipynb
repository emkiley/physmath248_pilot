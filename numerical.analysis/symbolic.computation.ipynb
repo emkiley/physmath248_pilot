{
 "cells": [
  {
   "cell_type": "markdown",
   "metadata": {
    "collapsed": true
   },
   "source": [
    "# Symbolic computation in Python\n",
    "\n",
    "We have seen a few examples of symbolic computation in Python. \n",
    "\n",
    " * Defining symbolic expressions, such as:\n",
    "     - Polynomials\n",
    "     - Algebraic expressions involving addition, multiplication, and standard mathematical functions like $\\sin(x)$ and $e^x$.\n",
    "     - [Symbolic expressions](numbers.in.python.ipynb) for algebraic number types, such as $\\frac{1}{\\sqrt{2}+1}$\n",
    " * [Differentiation](NA.PI-Newton.ipynb) of symbolic functional expressions. \n",
    " \n",
    "In these notes we will explore the sympy library a little further, getting an idea for what it can do, how sympy works, and what its limitations are.  \n"
   ]
  },
  {
   "cell_type": "markdown",
   "metadata": {},
   "source": [
    "## Features of Sympy\n",
    "\n",
    "The [features](http://www.sympy.org/en/features.html) of Sympy are vast and the scope of the library is changing rather quickly. It aims to be able to accomplish all forms of symbolic computation that *can* in principle be done by a computer. \n",
    "\n",
    "The qualifier in the above sentence is rather important. There are many basic algebraic tasks that are *non-computable*, in the sense that we have proofs that it is *impossible* to write a computer program that computes the answer to certain algebraic problems.  A closely related fact is that many differential equations do not have closed-form solutions, i.e. their solutions are not expressible in terms of *elementary functions*. \n",
    "\n",
    "These facts lead to certain unavoidable issues or problems in symbolic computation.  \n",
    " * For certain kinds of requests, sympy will try to answer your query, but there are estimates for how long it might take, nor how much system memory it will require to complete the task you have asked of it.  In effect sympy may or may not give you an answer.\n",
    " * But sympy *also* has various highly-effective algorithms with solid run-time and memory-usage estimates, meaning many tasks can be accomplished reliably.  \n",
    " \n",
    "We will talk a little about both sorts of algorithms available in sympy.\n",
    "\n",
    "### Calculus: derivatives and anti-derivatives\n",
    "\n",
    "Sympy can compute derivatives of symbolic functions, using exactly the same tools we use: \n",
    " * The chain rule \n",
    " * The product rule\n",
    " * A table of derivaties of elementary functions, such as $x^n$, $e^x$ and $\\sin(x)$. "
   ]
  },
  {
   "cell_type": "code",
   "execution_count": 77,
   "metadata": {
    "collapsed": false
   },
   "outputs": [
    {
     "name": "stdout",
     "output_type": "stream",
     "text": [
      "3*x**2 + cos(x)\n"
     ]
    }
   ],
   "source": [
    "## 1) calculus, differentiation, integration, limits.\n",
    "import sympy as sp\n",
    "x = sp.Symbol('x')\n",
    "f = x**3 + sp.sin(x)\n",
    "print(sp.diff(f,x))"
   ]
  },
  {
   "cell_type": "code",
   "execution_count": 78,
   "metadata": {
    "collapsed": false
   },
   "outputs": [
    {
     "name": "stdout",
     "output_type": "stream",
     "text": [
      "   2         \n",
      "3⋅x  + cos(x)\n"
     ]
    }
   ],
   "source": [
    "## We can ask sympy to give a more pleasant presentation\n",
    "sp.pprint(sp.diff(f,x))"
   ]
  },
  {
   "cell_type": "code",
   "execution_count": 80,
   "metadata": {
    "collapsed": false
   },
   "outputs": [
    {
     "name": "stdout",
     "output_type": "stream",
     "text": [
      "f == 1/(1 + exp(-x))\n",
      "f' == exp(-x)/(1 + exp(-x))**2\n",
      "\n",
      "Solution to logistic de f'=f(1-f) if: \n",
      "(1 - 1/(1 + exp(-x)))/(1 + exp(-x)) == exp(-x)/(1 + exp(-x))**2\n",
      "\n",
      "Sympy thinks they are equal: False\n",
      "\n",
      "Before simplification: \n",
      "         1                \n",
      "  1 - ───────             \n",
      "           -x       -x    \n",
      "      1 + ℯ        ℯ      \n",
      "- ─────────── + ──────────\n",
      "         -x              2\n",
      "    1 + ℯ       ⎛     -x⎞ \n",
      "                ⎝1 + ℯ  ⎠ \n",
      "After simplification: \n",
      "0\n",
      "sp.simplify applied to the difference is zero, so the expressions are equal.\n"
     ]
    }
   ],
   "source": [
    "## Check a function is a solution to a differential equation.\n",
    "\n",
    "f = 1/(1 + sp.exp(-x))\n",
    "fp = sp.diff(f,x)\n",
    "print(\"f == \"+str(f))\n",
    "print(\"f' == \"+str(fp)+\"\\n\")\n",
    "\n",
    "## f' = f(1-f) is an example of a logistic de.  Let's check that the above is a solution\n",
    "print(\"Solution to logistic de f'=f(1-f) if: \")\n",
    "print(str(f*(1-f))+\" == \"+str(fp)+\"\\n\")\n",
    "\n",
    "## They do not look equal! Let's ask sympy to check\n",
    "\n",
    "print(\"Sympy thinks they are equal: \"+str(fp == f*(1-f))+\"\\n\")\n",
    "\n",
    "## As we saw before, Sympy's \"==\" operator does not investigate our \n",
    "## concern very carefully -- it is essentially telling us whether or not\n",
    "## the expressions look syntactically the same.  We already know they do not!\n",
    "## Let's try asking sympy to think a little harder about this.\n",
    "\n",
    "ode = fp - f*(1-f)\n",
    "print(\"Before simplification: \")\n",
    "sp.pprint(ode)\n",
    "print(\"After simplification: \")\n",
    "ode_reduced = sp.simplify(ode)\n",
    "sp.pprint(ode_reduced)\n",
    "print(\"sp.simplify applied to the difference is zero, so the expressions are equal.\")"
   ]
  },
  {
   "cell_type": "markdown",
   "metadata": {},
   "source": [
    "Sympy also has the capacity to compute anti-derivatives. This is perhaps surprising since there are many functions in mathematics that *do not* have anti-derivatives that are expressable in terms of *elementary functions*.   For example,\n",
    "\n",
    "$$f(x) = e^{-x^2}$$\n",
    "\n",
    "can not be expressed as a finite combination (sums, products, powers, quotients) of polynomials or trig functions.  "
   ]
  },
  {
   "cell_type": "code",
   "execution_count": 4,
   "metadata": {
    "collapsed": false
   },
   "outputs": [
    {
     "name": "stdout",
     "output_type": "stream",
     "text": [
      " 5\n",
      "x \n"
     ]
    }
   ],
   "source": [
    "## let's start with some examples\n",
    "\n",
    "f = x**5\n",
    "sp.pprint(f)"
   ]
  },
  {
   "cell_type": "code",
   "execution_count": 5,
   "metadata": {
    "collapsed": false
   },
   "outputs": [
    {
     "name": "stdout",
     "output_type": "stream",
     "text": [
      " 6\n",
      "x \n",
      "──\n",
      "6 \n"
     ]
    }
   ],
   "source": [
    "af = sp.integrate(f, x)\n",
    "sp.pprint(af)"
   ]
  },
  {
   "cell_type": "markdown",
   "metadata": {},
   "source": [
    "One does not need to give concrete instances of functions to sympy -- one can ask for general rules as well.  For example."
   ]
  },
  {
   "cell_type": "code",
   "execution_count": 6,
   "metadata": {
    "collapsed": false
   },
   "outputs": [
    {
     "name": "stdout",
     "output_type": "stream",
     "text": [
      "   b    \n",
      "a⋅x  + c\n",
      "\n",
      "  ⎛⎧log(x)  for b = -1⎞      \n",
      "  ⎜⎪                  ⎟      \n",
      "  ⎜⎪ b + 1            ⎟      \n",
      "a⋅⎜⎨x                 ⎟ + c⋅x\n",
      "  ⎜⎪──────  otherwise ⎟      \n",
      "  ⎜⎪b + 1             ⎟      \n",
      "  ⎝⎩                  ⎠      \n"
     ]
    }
   ],
   "source": [
    "a,b,c = sp.symbols('a b c')\n",
    "f = a*x**b+c\n",
    "sp.pprint(f)\n",
    "print(\"\")\n",
    "af = sp.integrate(f,x)\n",
    "sp.pprint(af)"
   ]
  },
  {
   "cell_type": "markdown",
   "metadata": {},
   "source": [
    "sympy is perfectly content giving *complicated* answers.  This is a feature of its underlying data type -- a tree.  Notice the type that $\\int f$ is."
   ]
  },
  {
   "cell_type": "code",
   "execution_count": 7,
   "metadata": {
    "collapsed": false
   },
   "outputs": [
    {
     "name": "stdout",
     "output_type": "stream",
     "text": [
      "The anti-derivative is of type: <class 'sympy.core.add.Add'>\n"
     ]
    }
   ],
   "source": [
    "print(\"The anti-derivative is of type: \"+str(type(af)))"
   ]
  },
  {
   "cell_type": "code",
   "execution_count": 8,
   "metadata": {
    "collapsed": false
   },
   "outputs": [
    {
     "name": "stdout",
     "output_type": "stream",
     "text": [
      "The anti-derivative of x**b is of type: Piecewise\n"
     ]
    }
   ],
   "source": [
    "## right!  the last operation is addition. Let's ask it about the anti-derivative of x^b\n",
    "print(\"The anti-derivative of x**b is of type: \"+str(type(sp.integrate(x**b,x))))"
   ]
  },
  {
   "cell_type": "markdown",
   "metadata": {},
   "source": [
    "Let's be mean and ask sympy about $\\int e^{-x^2} dx$"
   ]
  },
  {
   "cell_type": "code",
   "execution_count": 9,
   "metadata": {
    "collapsed": false
   },
   "outputs": [
    {
     "name": "stdout",
     "output_type": "stream",
     "text": [
      "   2\n",
      " -x \n",
      "ℯ   \n",
      "  ___       \n",
      "╲╱ π ⋅erf(x)\n",
      "────────────\n",
      "     2      \n"
     ]
    }
   ],
   "source": [
    "f = sp.exp(-x**2)\n",
    "sp.pprint(f)\n",
    "fi = sp.integrate(f, x)\n",
    "sp.pprint(fi)"
   ]
  },
  {
   "cell_type": "markdown",
   "metadata": {},
   "source": [
    "This is better than no information at all. sympy is telling us that (a rescaling) of this is called the $erf$ or <a href=\"http://docs.sympy.org/0.7.1/modules/mpmath/functions/expintegrals.html#erf\">*error function*</a>.  Sympy can work with this function. "
   ]
  },
  {
   "cell_type": "code",
   "execution_count": 10,
   "metadata": {
    "collapsed": false
   },
   "outputs": [
    {
     "name": "stdout",
     "output_type": "stream",
     "text": [
      "  ___  2       \n",
      "╲╱ π ⋅x ⋅erf(x)\n",
      "───────────────\n",
      "       2       \n",
      "      ⎛                  2        2 ⎞\n",
      "      ⎜ 3           2  -x       -x  ⎟\n",
      "  ___ ⎜x ⋅erf(x)   x ⋅ℯ        ℯ    ⎟\n",
      "╲╱ π ⋅⎜───────── + ─────── + ───────⎟\n",
      "      ⎜    3           ___       ___⎟\n",
      "      ⎝            3⋅╲╱ π    3⋅╲╱ π ⎠\n",
      "─────────────────────────────────────\n",
      "                  2                  \n"
     ]
    }
   ],
   "source": [
    "f = (x**2)*fi\n",
    "sp.pprint(f)\n",
    "sp.pprint(sp.integrate(f,x))"
   ]
  },
  {
   "cell_type": "markdown",
   "metadata": {},
   "source": [
    "We can similarly ask for definite integrals. \n",
    "\n",
    "We will request $\\int_{-\\infty}^\\infty e^{-x^2} dx$ below."
   ]
  },
  {
   "cell_type": "code",
   "execution_count": 29,
   "metadata": {
    "collapsed": false
   },
   "outputs": [
    {
     "name": "stdout",
     "output_type": "stream",
     "text": [
      "  ___   ___\n",
      "╲╱ 2 ⋅╲╱ π \n",
      "───────────\n",
      "     2     \n"
     ]
    }
   ],
   "source": [
    "defint = sp.integrate( f, (x,-sp.oo,sp.oo))\n",
    "sp.pprint(defint)\n",
    "## \"oo\" -- two letter o's -- is sympy's notation for infinity"
   ]
  },
  {
   "cell_type": "markdown",
   "metadata": {},
   "source": [
    "Let's also request $\\int_{-1}^1 e^{-x^2} dx$"
   ]
  },
  {
   "cell_type": "code",
   "execution_count": 30,
   "metadata": {
    "collapsed": false
   },
   "outputs": [
    {
     "name": "stdout",
     "output_type": "stream",
     "text": [
      "                      ⎛  ___⎞       \n",
      "    ___   ___         ⎜╲╱ 2 ⎟       \n",
      "3⋅╲╱ 2 ⋅╲╱ π ⋅fresnels⎜─────⎟⋅Γ(3/4)\n",
      "                      ⎜  ___⎟       \n",
      "                      ⎝╲╱ π ⎠       \n",
      "────────────────────────────────────\n",
      "              4⋅Γ(7/4)              \n",
      "To 40 decimal places: 0.6205366034467622036163048463307930151490\n"
     ]
    }
   ],
   "source": [
    "defint = sp.integrate( f,(x,-1,1))\n",
    "sp.pprint(defint)\n",
    "## and if we are not content with such abstract stuff, we can request a float approximation\n",
    "print(\"To 40 decimal places: \"+str(defint.evalf(40)))"
   ]
  },
  {
   "cell_type": "code",
   "execution_count": 13,
   "metadata": {
    "collapsed": false
   },
   "outputs": [
    {
     "data": {
      "image/png": "[encoded data removed]",
      "text/plain": [
       "<matplotlib.figure.Figure at 0x7f939f1a0790>"
      ]
     },
     "metadata": {},
     "output_type": "display_data"
    }
   ],
   "source": [
    "## Let's plot erf.\n",
    "import matplotlib as mpl\n",
    "import matplotlib.pyplot as plt\n",
    "import matplotlib.patches as patches\n",
    "import numpy as np\n",
    "%matplotlib inline\n",
    "\n",
    "## notice we can not use \"numpy\" here as the erf function\n",
    "## is not defined in that library.  We could also use\n",
    "## mpmath here.\n",
    "FI = sp.lambdify(x, fi, \"math\")\n",
    "fig, ax1 = plt.subplots(nrows=1, figsize=(10,10))\n",
    "res = 1000\n",
    "dom = [4.0*(float(i)/res-1.0) for i in range(2*res)]\n",
    "ax1.plot(dom, [FI(p) for p in dom], color=\"black\")\n",
    "plt.show()"
   ]
  },
  {
   "cell_type": "code",
   "execution_count": 14,
   "metadata": {
    "collapsed": false
   },
   "outputs": [
    {
     "name": "stdout",
     "output_type": "stream",
     "text": [
      "                      ⎛  ___  ⎞       \n",
      "    ___   ___         ⎜╲╱ 2 ⋅x⎟       \n",
      "3⋅╲╱ 2 ⋅╲╱ π ⋅fresnels⎜───────⎟⋅Γ(3/4)\n",
      "                      ⎜   ___ ⎟       \n",
      "                      ⎝ ╲╱ π  ⎠       \n",
      "──────────────────────────────────────\n",
      "               8⋅Γ(7/4)               \n"
     ]
    }
   ],
   "source": [
    "# A small variant on the above, let's try to graph the anti-derivative of sin(x^2)\n",
    "f = sp.sin(x**2)\n",
    "fi = sp.integrate(f,x)\n",
    "sp.pprint(fi)"
   ]
  },
  {
   "cell_type": "code",
   "execution_count": 15,
   "metadata": {
    "collapsed": false
   },
   "outputs": [
    {
     "data": {
      "image/png": "[encoded data removed]",
      "text/plain": [
       "<matplotlib.figure.Figure at 0x7f939ead1050>"
      ]
     },
     "metadata": {},
     "output_type": "display_data"
    }
   ],
   "source": [
    "fig, ax1 = plt.subplots(nrows=1, figsize=(10,10))\n",
    "res = 1000\n",
    "dom = [8.0*(float(i)/res-1.0) for i in range(2*res)]\n",
    "## the fresnel function is not implement in numpy or math, so\n",
    "## we need to use mpmath\n",
    "FI = sp.lambdify(x, fi, \"mpmath\")\n",
    "ax1.plot(dom, [FI(p) for p in dom], color=\"black\")\n",
    "plt.show()"
   ]
  },
  {
   "cell_type": "markdown",
   "metadata": {},
   "source": [
    "From the above graph it would appear the Fresnel function has a pair of horizontal\n",
    "asymptotes. We can ask sympy to check this. \n"
   ]
  },
  {
   "cell_type": "code",
   "execution_count": 31,
   "metadata": {
    "collapsed": false
   },
   "outputs": [
    {
     "name": "stdout",
     "output_type": "stream",
     "text": [
      "3*sqrt(2)*sqrt(pi)*gamma(3/4)/(16*gamma(7/4))\n",
      "    ___   ___       \n",
      "3⋅╲╱ 2 ⋅╲╱ π ⋅Γ(3/4)\n",
      "────────────────────\n",
      "     16⋅Γ(7/4)      \n",
      "As a float (mpf): 0.6266570686577501256039413212027613132517\n"
     ]
    }
   ],
   "source": [
    "lim = sp.limit(fi,x, sp.oo)\n",
    "print( lim )\n",
    "## pretty?\n",
    "sp.pprint( lim )\n",
    "## and a float?\n",
    "print(\"As a float (mpf): \"+str(lim.evalf(40)))"
   ]
  },
  {
   "cell_type": "markdown",
   "metadata": {},
   "source": [
    "### Keep in mind sympy can fail!  Let's look at what that looks like.\n",
    "\n",
    "We will ask it to evaluate a slightly more complicated integral:\n",
    "\n",
    "$$ \\int e^{e^{-x^2}} dx $$"
   ]
  },
  {
   "cell_type": "code",
   "execution_count": 17,
   "metadata": {
    "collapsed": false
   },
   "outputs": [
    {
     "name": "stdout",
     "output_type": "stream",
     "text": [
      "⌠           \n",
      "⎮  ⎛   2⎞   \n",
      "⎮  ⎜ -x ⎟   \n",
      "⎮  ⎝ℯ   ⎠   \n",
      "⎮ ℯ       dx\n",
      "⌡           \n"
     ]
    }
   ],
   "source": [
    "sp.pprint( sp.integrate(sp.exp(sp.exp(-x**2)),x) )"
   ]
  },
  {
   "cell_type": "markdown",
   "metadata": {},
   "source": [
    "i.e. when sympy fails on these kinds of requests, it **gives up** and returns your original input, *unchanged*. \n",
    "\n",
    "What is going on *under the hood* is that sympy is using something called the <a href=\"https://en.wikipedia.org/wiki/Risch_algorithm\">**Risch algorithm**</a>. Technically sympy has developed an extension of it. . . and sympy's extension what is known as a *semi-algorithm*.  As far as I am aware, every software package that can compute symbolic integrals (Mathematical, Matlab, Maple, etc) all use variants of the Risch algorithm. \n",
    "\n",
    "The Risch algorithm converts an integration problem into a problem of determining equality of elements in something called a *differential algebra*.  In Risch's original paper he confined himself to a fairly simple class of elementary functions on which his work provides a genuine algorithm. Sympy, on the other hand, has looser constraints than Risch's original paper and so it does not know how to solve this problem for every possible input. Sympy can fail, which is why it is called a semi-algorithm.\n",
    "\n",
    "When you provide sympy with a *difficult* integral that it does not know how to handle immediately, it spends some time *searching* for an answer, but if it does not find one quickly it gives up. \n",
    "\n",
    "Sympy's extensions to the Risch algorithm are some of the most commonly-used anti-derivatives, such as $erf$ and the Fresnel function.\n",
    "\n",
    "## Asking sympy to solve equations\n",
    "\n",
    "Sympy has some fairly sophisticated algorithms to solve polynomial equations. It uses this intelligence for solving polynomial equations to build tools to solve (symbolically) a wide array of equations, even ones that are not polynomial. \n",
    "\n",
    "Sympy can:\n",
    "\n",
    " * Factor polynomials.\n",
    " * Find roots of polynomials, symbolically as well as numerically. \n",
    " * Solve (symbolically as well as numerically) simultaneous polynomial equations.\n",
    " * Solve simultaneous equations that are not polynomial\n",
    "     - sympy can *sometimes* do this symbolically\n",
    "     - can usually do this numerically, using a variety of methods, including the multi-variable Newton's method.  The numeric methods are not always guanteed to find all solutions. If you *need* all solutions you might have to use more specialized methods. \n",
    " * Sympy's polynomial equation solvers, on the other hand, will always find good approximations to all the solutions.\n"
   ]
  },
  {
   "cell_type": "code",
   "execution_count": 18,
   "metadata": {
    "collapsed": false
   },
   "outputs": [
    {
     "data": {
      "text/plain": [
       "(x - 1)**2"
      ]
     },
     "execution_count": 18,
     "metadata": {},
     "output_type": "execute_result"
    }
   ],
   "source": [
    "## Let's give an example of factoring polynomials\n",
    "\n",
    "p = x**2 - 2*x + 1\n",
    "sp.factor(p)"
   ]
  },
  {
   "cell_type": "code",
   "execution_count": 19,
   "metadata": {
    "collapsed": false
   },
   "outputs": [
    {
     "data": {
      "text/plain": [
       "(x - 1)*(y - 1)"
      ]
     },
     "execution_count": 19,
     "metadata": {},
     "output_type": "execute_result"
    }
   ],
   "source": [
    "## Sympy is okay with multi-variable polynomials\n",
    "y = sp.Symbol('y')\n",
    "\n",
    "p = x*y - x - y + 1\n",
    "sp.factor(p)"
   ]
  },
  {
   "cell_type": "code",
   "execution_count": 20,
   "metadata": {
    "collapsed": false
   },
   "outputs": [
    {
     "name": "stdout",
     "output_type": "stream",
     "text": [
      " 2    \n",
      "x  - 2\n",
      "⎛      ___⎞ ⎛      ___⎞\n",
      "⎝x - ╲╱ 2 ⎠⋅⎝x + ╲╱ 2 ⎠\n"
     ]
    }
   ],
   "source": [
    "## We can also ask to factor in a variety of ways\n",
    "\n",
    "p = x*x - 2\n",
    "sp.pprint(sp.factor(p))\n",
    "## the above is factoring using rational numbers i.e. the output is telling us you can \n",
    "## not factor this polynomial into a product of two polynomials with rational coefficients.\n",
    "\n",
    "sp.pprint(sp.factor(p, extension=sp.sqrt(2)))\n",
    "## here we have allowed simpy to use the square root of 2 in the coefficients,\n",
    "## so it gives us what we expect."
   ]
  },
  {
   "cell_type": "code",
   "execution_count": 88,
   "metadata": {
    "collapsed": false
   },
   "outputs": [
    {
     "name": "stdout",
     "output_type": "stream",
     "text": [
      " 2    \n",
      "x  + 2\n",
      "⎛      ___  ⎞ ⎛      ___  ⎞\n",
      "⎝x - ╲╱ 2 ⋅ⅈ⎠⋅⎝x + ╲╱ 2 ⋅ⅈ⎠\n",
      "(x - ⅈ)⋅(x + ⅈ)\n"
     ]
    }
   ],
   "source": [
    "## a few more examples of sympy's factoring code\n",
    "p = x*x + 2\n",
    "sp.pprint(sp.factor(p))\n",
    "## here we allow sqrt(2)i in the coefficients\n",
    "sp.pprint(sp.factor(p, extension=sp.sqrt(-2)))\n",
    "p = x*x + 1\n",
    "## and here we allow \"Gaussian integers\" i.e. complex\n",
    "## numbers of the form a+bi with a and b integers.\n",
    "sp.pprint(sp.factor(p, gaussian=True))"
   ]
  },
  {
   "cell_type": "markdown",
   "metadata": {},
   "source": [
    "The nice thing about the previous algorithms is they always work.  The weak aspect is it is not particularly flexible if your goal is to know the roots of the polynomial. To find the roots, we can use sympy's solve function."
   ]
  },
  {
   "cell_type": "code",
   "execution_count": 89,
   "metadata": {
    "collapsed": false
   },
   "outputs": [
    {
     "name": "stdout",
     "output_type": "stream",
     "text": [
      "⎡   ___    ___⎤\n",
      "⎣-╲╱ 2 , ╲╱ 2 ⎦\n",
      "⎡   ___      ___  ⎤\n",
      "⎣-╲╱ 2 ⋅ⅈ, ╲╱ 2 ⋅ⅈ⎦\n"
     ]
    }
   ],
   "source": [
    "p = x*x - 2\n",
    "sp.pprint(sp.solve(p,x))\n",
    "\n",
    "p = x*x + 2\n",
    "sp.pprint(sp.solve(p,x))"
   ]
  },
  {
   "cell_type": "markdown",
   "metadata": {},
   "source": [
    "### sympy solve\n",
    "\n",
    "The general format is to call $solve(f,x)$ where $f$ is a sympy expression -- a function -- and $x$ is the variable used by that function.  Sympy will attempt to find all the solutions to the equation\n",
    "$$f(x) = 0$$\n",
    "\n",
    "The solve algorithm runs out of steam fairly quickly. See the next three computations.\n"
   ]
  },
  {
   "cell_type": "code",
   "execution_count": 22,
   "metadata": {
    "collapsed": false
   },
   "outputs": [
    {
     "name": "stdout",
     "output_type": "stream",
     "text": [
      "   2          \n",
      "a⋅x  + b⋅x + c\n",
      "⎡        _____________   ⎛       _____________⎞ ⎤\n",
      "⎢       ╱           2    ⎜      ╱           2 ⎟ ⎥\n",
      "⎢-b + ╲╱  -4⋅a⋅c + b    -⎝b + ╲╱  -4⋅a⋅c + b  ⎠ ⎥\n",
      "⎢─────────────────────, ────────────────────────⎥\n",
      "⎣         2⋅a                     2⋅a           ⎦\n"
     ]
    }
   ],
   "source": [
    "p = a*x**2 + b*x + c\n",
    "sp.pprint(p)\n",
    "sp.pprint(sp.solve(p,x))"
   ]
  },
  {
   "cell_type": "code",
   "execution_count": 23,
   "metadata": {
    "collapsed": false
   },
   "outputs": [
    {
     "name": "stdout",
     "output_type": "stream",
     "text": [
      "   3      2          \n",
      "a⋅x  + b⋅x  + c⋅x + d\n",
      "⎡                                                                             \n",
      "⎢                                                                             \n",
      "⎢                                                                             \n",
      "⎢                                            2                                \n",
      "⎢                                     c     b                                 \n",
      "⎢                                    ─── - ────                               \n",
      "⎢                                    3⋅a      2                               \n",
      "⎢                                          9⋅a                                \n",
      "⎢─────────────────────────────────────────────────────────────────────────────\n",
      "⎢           __________________________________________________________________\n",
      "⎢          ╱           _____________________________________                  \n",
      "⎢         ╱           ╱                                   2                   \n",
      "⎢        ╱           ╱                  ⎛               3⎞                    \n",
      "⎢       ╱           ╱                   ⎜d   b⋅c     2⋅b ⎟                    \n",
      "⎢      ╱           ╱                3   ⎜─ - ──── + ─────⎟                    \n",
      "⎢     ╱           ╱     ⎛        2 ⎞    ⎜a      2       3⎟                    \n",
      "⎢    ╱           ╱      ⎜ c     b  ⎟    ⎝    3⋅a    27⋅a ⎠      d    b⋅c      \n",
      "⎢   ╱           ╱       ⎜─── - ────⎟  + ───────────────────  + ─── - ──── + ──\n",
      "⎢3 ╱           ╱        ⎜3⋅a      2⎟             4             2⋅a      2     \n",
      "⎣╲╱          ╲╱         ⎝      9⋅a ⎠                                 6⋅a    27\n",
      "\n",
      "                  ____________________________________________________________\n",
      "                 ╱           _____________________________________            \n",
      "                ╱           ╱                                   2             \n",
      "               ╱           ╱                  ⎛               3⎞              \n",
      "              ╱           ╱                   ⎜d   b⋅c     2⋅b ⎟              \n",
      "             ╱           ╱                3   ⎜─ - ──── + ─────⎟              \n",
      "            ╱           ╱     ⎛        2 ⎞    ⎜a      2       3⎟              \n",
      "           ╱           ╱      ⎜ c     b  ⎟    ⎝    3⋅a    27⋅a ⎠      d    b⋅c\n",
      "──── -    ╱           ╱       ⎜─── - ────⎟  + ───────────────────  + ─── - ───\n",
      "____   3 ╱           ╱        ⎜3⋅a      2⎟             4             2⋅a      \n",
      "       ╲╱          ╲╱         ⎝      9⋅a ⎠                                 6⋅a\n",
      "                                                                              \n",
      "                                                                              \n",
      "                                                                              \n",
      "                                                                              \n",
      " 3                                                                            \n",
      "b                                                                             \n",
      "───                                                                           \n",
      "  3                                                                           \n",
      "⋅a                                                                            \n",
      "\n",
      "__________                                                                    \n",
      "                                                                              \n",
      "                                                                              \n",
      "                                                                      2       \n",
      "                                                               c     b        \n",
      "                                                              ─── - ────      \n",
      "       3                                                      3⋅a      2      \n",
      "      b       b                                                     9⋅a       \n",
      "─ + ─────  - ───, ────────────────────────────────────────────────────────────\n",
      "2       3    3⋅a                             _________________________________\n",
      "    27⋅a                                    ╱           ______________________\n",
      "                                           ╱           ╱                      \n",
      "                                          ╱           ╱                  ⎛    \n",
      "                                         ╱           ╱                   ⎜d   \n",
      "                                        ╱           ╱                3   ⎜─ - \n",
      "                  ⎛        ___  ⎞      ╱           ╱     ⎛        2 ⎞    ⎜a   \n",
      "                  ⎜  1   ╲╱ 3 ⋅ⅈ⎟     ╱           ╱      ⎜ c     b  ⎟    ⎝    \n",
      "                  ⎜- ─ - ───────⎟⋅   ╱           ╱       ⎜─── - ────⎟  + ─────\n",
      "                  ⎝  2      2   ⎠ 3 ╱           ╱        ⎜3⋅a      2⎟         \n",
      "                                  ╲╱          ╲╱         ⎝      9⋅a ⎠         \n",
      "\n",
      "                                                                   ___________\n",
      "                                                                  ╱           \n",
      "                                                                 ╱           ╱\n",
      "                                                                ╱           ╱ \n",
      "                                                               ╱           ╱  \n",
      "                                                              ╱           ╱   \n",
      "                                        ⎛        ___  ⎞      ╱           ╱    \n",
      "                                        ⎜  1   ╲╱ 3 ⋅ⅈ⎟     ╱           ╱     \n",
      "───────────────────────────────────── - ⎜- ─ - ───────⎟⋅   ╱           ╱      \n",
      "_____________________________________   ⎝  2      2   ⎠ 3 ╱           ╱       \n",
      "_______________                                         ╲╱          ╲╱        \n",
      "             2                                                                \n",
      "           3⎞                                                                 \n",
      "b⋅c     2⋅b ⎟                                                                 \n",
      "──── + ─────⎟                                                                 \n",
      "   2       3⎟                     3                                           \n",
      "3⋅a    27⋅a ⎠      d    b⋅c      b                                            \n",
      "──────────────  + ─── - ──── + ─────                                          \n",
      "    4             2⋅a      2       3                                          \n",
      "                        6⋅a    27⋅a                                           \n",
      "\n",
      "___________________________________________________________                   \n",
      "_____________________________________                                         \n",
      "                                   2                                          \n",
      "                 ⎛               3⎞                                           \n",
      "                 ⎜d   b⋅c     2⋅b ⎟                                           \n",
      "             3   ⎜─ - ──── + ─────⎟                                           \n",
      " ⎛        2 ⎞    ⎜a      2       3⎟                     3                     \n",
      " ⎜ c     b  ⎟    ⎝    3⋅a    27⋅a ⎠      d    b⋅c      b       b              \n",
      " ⎜─── - ────⎟  + ───────────────────  + ─── - ──── + ─────  - ───, ───────────\n",
      " ⎜3⋅a      2⎟             4             2⋅a      2       3    3⋅a             \n",
      " ⎝      9⋅a ⎠                                 6⋅a    27⋅a                     \n",
      "                                                                              \n",
      "                                                                              \n",
      "                                                                              \n",
      "                                                                              \n",
      "                                                                   ⎛        __\n",
      "                                                                   ⎜  1   ╲╱ 3\n",
      "                                                                   ⎜- ─ + ────\n",
      "                                                                   ⎝  2      2\n",
      "                                                                              \n",
      "\n",
      "                                                                              \n",
      "                                                                              \n",
      "                                                                              \n",
      "                                         2                                    \n",
      "                                  c     b                                     \n",
      "                                 ─── - ────                                   \n",
      "                                 3⋅a      2                                   \n",
      "                                       9⋅a                                    \n",
      "──────────────────────────────────────────────────────────────────────────────\n",
      "                ______________________________________________________________\n",
      "               ╱           _____________________________________              \n",
      "              ╱           ╱                                   2               \n",
      "             ╱           ╱                  ⎛               3⎞                \n",
      "            ╱           ╱                   ⎜d   b⋅c     2⋅b ⎟                \n",
      "           ╱           ╱                3   ⎜─ - ──── + ─────⎟                \n",
      "_  ⎞      ╱           ╱     ⎛        2 ⎞    ⎜a      2       3⎟                \n",
      " ⋅ⅈ⎟     ╱           ╱      ⎜ c     b  ⎟    ⎝    3⋅a    27⋅a ⎠      d    b⋅c  \n",
      "───⎟⋅   ╱           ╱       ⎜─── - ────⎟  + ───────────────────  + ─── - ──── \n",
      "   ⎠ 3 ╱           ╱        ⎜3⋅a      2⎟             4             2⋅a      2 \n",
      "     ╲╱          ╲╱         ⎝      9⋅a ⎠                                 6⋅a  \n",
      "\n",
      "                                      ________________________________________\n",
      "                                     ╱           _____________________________\n",
      "                                    ╱           ╱                             \n",
      "                                   ╱           ╱                  ⎛           \n",
      "                                  ╱           ╱                   ⎜d   b⋅c    \n",
      "                                 ╱           ╱                3   ⎜─ - ──── + \n",
      "           ⎛        ___  ⎞      ╱           ╱     ⎛        2 ⎞    ⎜a      2   \n",
      "           ⎜  1   ╲╱ 3 ⋅ⅈ⎟     ╱           ╱      ⎜ c     b  ⎟    ⎝    3⋅a    \n",
      "──────── - ⎜- ─ + ───────⎟⋅   ╱           ╱       ⎜─── - ────⎟  + ────────────\n",
      "________   ⎝  2      2   ⎠ 3 ╱           ╱        ⎜3⋅a      2⎟             4  \n",
      "                           ╲╱          ╲╱         ⎝      9⋅a ⎠                \n",
      "                                                                              \n",
      "                                                                              \n",
      "                                                                              \n",
      "                                                                              \n",
      "     3                                                                        \n",
      "    b                                                                         \n",
      "+ ─────                                                                       \n",
      "      3                                                                       \n",
      "  27⋅a                                                                        \n",
      "\n",
      "______________________________      ⎤\n",
      "________                            ⎥\n",
      "      2                             ⎥\n",
      "    3⎞                              ⎥\n",
      " 2⋅b ⎟                              ⎥\n",
      "─────⎟                              ⎥\n",
      "    3⎟                     3        ⎥\n",
      "27⋅a ⎠      d    b⋅c      b       b ⎥\n",
      "───────  + ─── - ──── + ─────  - ───⎥\n",
      "           2⋅a      2       3    3⋅a⎥\n",
      "                 6⋅a    27⋅a        ⎥\n",
      "                                    ⎥\n",
      "                                    ⎥\n",
      "                                    ⎥\n",
      "                                    ⎥\n",
      "                                    ⎥\n",
      "                                    ⎥\n",
      "                                    ⎥\n",
      "                                    ⎥\n",
      "                                    ⎦\n"
     ]
    }
   ],
   "source": [
    "## a general cubic\n",
    "d,e = sp.symbols('d e')\n",
    "p = a*x**3 + b*x**2 + c*x + d\n",
    "sp.pprint(p)\n",
    "sp.pprint(sp.solve(p,x))"
   ]
  },
  {
   "cell_type": "code",
   "execution_count": 24,
   "metadata": {
    "collapsed": false
   },
   "outputs": [
    {
     "name": "stdout",
     "output_type": "stream",
     "text": [
      "   4      3      2          \n",
      "a⋅x  + b⋅x  + c⋅x  + d⋅x + e\n"
     ]
    },
    {
     "ename": "PolynomialError",
     "evalue": "cannot return general quartic solution",
     "output_type": "error",
     "traceback": [
      "\u001b[1;31m---------------------------------------------------------------------------\u001b[0m",
      "\u001b[1;31mPolynomialError\u001b[0m                           Traceback (most recent call last)",
      "\u001b[1;32m<ipython-input-24-7232c1697825>\u001b[0m in \u001b[0;36m<module>\u001b[1;34m()\u001b[0m\n\u001b[0;32m      2\u001b[0m \u001b[0mp\u001b[0m \u001b[1;33m=\u001b[0m \u001b[0ma\u001b[0m\u001b[1;33m*\u001b[0m\u001b[0mx\u001b[0m\u001b[1;33m**\u001b[0m\u001b[1;36m4\u001b[0m \u001b[1;33m+\u001b[0m \u001b[0mb\u001b[0m\u001b[1;33m*\u001b[0m\u001b[0mx\u001b[0m\u001b[1;33m**\u001b[0m\u001b[1;36m3\u001b[0m \u001b[1;33m+\u001b[0m \u001b[0mc\u001b[0m\u001b[1;33m*\u001b[0m\u001b[0mx\u001b[0m\u001b[1;33m**\u001b[0m\u001b[1;36m2\u001b[0m \u001b[1;33m+\u001b[0m \u001b[0md\u001b[0m\u001b[1;33m*\u001b[0m\u001b[0mx\u001b[0m \u001b[1;33m+\u001b[0m \u001b[0me\u001b[0m\u001b[1;33m\u001b[0m\u001b[0m\n\u001b[0;32m      3\u001b[0m \u001b[0msp\u001b[0m\u001b[1;33m.\u001b[0m\u001b[0mpprint\u001b[0m\u001b[1;33m(\u001b[0m\u001b[0mp\u001b[0m\u001b[1;33m)\u001b[0m\u001b[1;33m\u001b[0m\u001b[0m\n\u001b[1;32m----> 4\u001b[1;33m \u001b[0msp\u001b[0m\u001b[1;33m.\u001b[0m\u001b[0mpprint\u001b[0m\u001b[1;33m(\u001b[0m\u001b[0msp\u001b[0m\u001b[1;33m.\u001b[0m\u001b[0msolve\u001b[0m\u001b[1;33m(\u001b[0m\u001b[0mp\u001b[0m\u001b[1;33m,\u001b[0m\u001b[0mx\u001b[0m\u001b[1;33m)\u001b[0m\u001b[1;33m)\u001b[0m\u001b[1;33m\u001b[0m\u001b[0m\n\u001b[0m",
      "\u001b[1;32m/usr/lib/python2.7/dist-packages/sympy/solvers/solvers.pyc\u001b[0m in \u001b[0;36msolve\u001b[1;34m(f, *symbols, **flags)\u001b[0m\n\u001b[0;32m    898\u001b[0m     \u001b[1;31m###########################################################################\u001b[0m\u001b[1;33m\u001b[0m\u001b[1;33m\u001b[0m\u001b[0m\n\u001b[0;32m    899\u001b[0m     \u001b[1;32mif\u001b[0m \u001b[0mbare_f\u001b[0m\u001b[1;33m:\u001b[0m\u001b[1;33m\u001b[0m\u001b[0m\n\u001b[1;32m--> 900\u001b[1;33m         \u001b[0msolution\u001b[0m \u001b[1;33m=\u001b[0m \u001b[0m_solve\u001b[0m\u001b[1;33m(\u001b[0m\u001b[0mf\u001b[0m\u001b[1;33m[\u001b[0m\u001b[1;36m0\u001b[0m\u001b[1;33m]\u001b[0m\u001b[1;33m,\u001b[0m \u001b[1;33m*\u001b[0m\u001b[0msymbols\u001b[0m\u001b[1;33m,\u001b[0m \u001b[1;33m**\u001b[0m\u001b[0mflags\u001b[0m\u001b[1;33m)\u001b[0m\u001b[1;33m\u001b[0m\u001b[0m\n\u001b[0m\u001b[0;32m    901\u001b[0m     \u001b[1;32melse\u001b[0m\u001b[1;33m:\u001b[0m\u001b[1;33m\u001b[0m\u001b[0m\n\u001b[0;32m    902\u001b[0m         \u001b[0msolution\u001b[0m \u001b[1;33m=\u001b[0m \u001b[0m_solve_system\u001b[0m\u001b[1;33m(\u001b[0m\u001b[0mf\u001b[0m\u001b[1;33m,\u001b[0m \u001b[0msymbols\u001b[0m\u001b[1;33m,\u001b[0m \u001b[1;33m**\u001b[0m\u001b[0mflags\u001b[0m\u001b[1;33m)\u001b[0m\u001b[1;33m\u001b[0m\u001b[0m\n",
      "\u001b[1;32m/usr/lib/python2.7/dist-packages/sympy/solvers/solvers.pyc\u001b[0m in \u001b[0;36m_solve\u001b[1;34m(f, *symbols, **flags)\u001b[0m\n\u001b[0;32m   1369\u001b[0m                         \u001b[0mpoly\u001b[0m \u001b[1;33m=\u001b[0m \u001b[0mPoly\u001b[0m\u001b[1;33m(\u001b[0m\u001b[0mpoly\u001b[0m\u001b[1;33m.\u001b[0m\u001b[0mas_expr\u001b[0m\u001b[1;33m(\u001b[0m\u001b[1;33m)\u001b[0m\u001b[1;33m,\u001b[0m \u001b[0mpoly\u001b[0m\u001b[1;33m.\u001b[0m\u001b[0mgen\u001b[0m\u001b[1;33m,\u001b[0m \u001b[0mcomposite\u001b[0m\u001b[1;33m=\u001b[0m\u001b[0mTrue\u001b[0m\u001b[1;33m)\u001b[0m\u001b[1;33m\u001b[0m\u001b[0m\n\u001b[0;32m   1370\u001b[0m                         soln = list(roots(poly, cubics=True, quartics=True,\n\u001b[1;32m-> 1371\u001b[1;33m                                                              quintics=True).keys())\n\u001b[0m\u001b[0;32m   1372\u001b[0m \u001b[1;33m\u001b[0m\u001b[0m\n\u001b[0;32m   1373\u001b[0m                         \u001b[1;32mif\u001b[0m \u001b[0mlen\u001b[0m\u001b[1;33m(\u001b[0m\u001b[0msoln\u001b[0m\u001b[1;33m)\u001b[0m \u001b[1;33m<\u001b[0m \u001b[0mdeg\u001b[0m\u001b[1;33m:\u001b[0m\u001b[1;33m\u001b[0m\u001b[0m\n",
      "\u001b[1;32m/usr/lib/python2.7/dist-packages/sympy/polys/polyroots.pyc\u001b[0m in \u001b[0;36mroots\u001b[1;34m(f, *gens, **flags)\u001b[0m\n\u001b[0;32m    882\u001b[0m                                 \u001b[0m_update_dict\u001b[0m\u001b[1;33m(\u001b[0m\u001b[0mresult\u001b[0m\u001b[1;33m,\u001b[0m \u001b[0mroot\u001b[0m\u001b[1;33m,\u001b[0m \u001b[1;36m1\u001b[0m\u001b[1;33m)\u001b[0m\u001b[1;33m\u001b[0m\u001b[0m\n\u001b[0;32m    883\u001b[0m                 \u001b[1;32melse\u001b[0m\u001b[1;33m:\u001b[0m\u001b[1;33m\u001b[0m\u001b[0m\n\u001b[1;32m--> 884\u001b[1;33m                     \u001b[1;32mfor\u001b[0m \u001b[0mroot\u001b[0m \u001b[1;32min\u001b[0m \u001b[0m_try_decompose\u001b[0m\u001b[1;33m(\u001b[0m\u001b[0mf\u001b[0m\u001b[1;33m)\u001b[0m\u001b[1;33m:\u001b[0m\u001b[1;33m\u001b[0m\u001b[0m\n\u001b[0m\u001b[0;32m    885\u001b[0m                         \u001b[0m_update_dict\u001b[0m\u001b[1;33m(\u001b[0m\u001b[0mresult\u001b[0m\u001b[1;33m,\u001b[0m \u001b[0mroot\u001b[0m\u001b[1;33m,\u001b[0m \u001b[1;36m1\u001b[0m\u001b[1;33m)\u001b[0m\u001b[1;33m\u001b[0m\u001b[0m\n\u001b[0;32m    886\u001b[0m             \u001b[1;32melse\u001b[0m\u001b[1;33m:\u001b[0m\u001b[1;33m\u001b[0m\u001b[0m\n",
      "\u001b[1;32m/usr/lib/python2.7/dist-packages/sympy/polys/polyroots.pyc\u001b[0m in \u001b[0;36m_try_decompose\u001b[1;34m(f)\u001b[0m\n\u001b[0;32m    785\u001b[0m         \u001b[0mfactors\u001b[0m\u001b[1;33m,\u001b[0m \u001b[0mroots\u001b[0m \u001b[1;33m=\u001b[0m \u001b[0mf\u001b[0m\u001b[1;33m.\u001b[0m\u001b[0mdecompose\u001b[0m\u001b[1;33m(\u001b[0m\u001b[1;33m)\u001b[0m\u001b[1;33m,\u001b[0m \u001b[1;33m[\u001b[0m\u001b[1;33m]\u001b[0m\u001b[1;33m\u001b[0m\u001b[0m\n\u001b[0;32m    786\u001b[0m \u001b[1;33m\u001b[0m\u001b[0m\n\u001b[1;32m--> 787\u001b[1;33m         \u001b[1;32mfor\u001b[0m \u001b[0mroot\u001b[0m \u001b[1;32min\u001b[0m \u001b[0m_try_heuristics\u001b[0m\u001b[1;33m(\u001b[0m\u001b[0mfactors\u001b[0m\u001b[1;33m[\u001b[0m\u001b[1;36m0\u001b[0m\u001b[1;33m]\u001b[0m\u001b[1;33m)\u001b[0m\u001b[1;33m:\u001b[0m\u001b[1;33m\u001b[0m\u001b[0m\n\u001b[0m\u001b[0;32m    788\u001b[0m             \u001b[0mroots\u001b[0m\u001b[1;33m.\u001b[0m\u001b[0mappend\u001b[0m\u001b[1;33m(\u001b[0m\u001b[0mroot\u001b[0m\u001b[1;33m)\u001b[0m\u001b[1;33m\u001b[0m\u001b[0m\n\u001b[0;32m    789\u001b[0m \u001b[1;33m\u001b[0m\u001b[0m\n",
      "\u001b[1;32m/usr/lib/python2.7/dist-packages/sympy/polys/polyroots.pyc\u001b[0m in \u001b[0;36m_try_heuristics\u001b[1;34m(f)\u001b[0m\n\u001b[0;32m    831\u001b[0m             \u001b[0mresult\u001b[0m \u001b[1;33m+=\u001b[0m \u001b[0mroots_cubic\u001b[0m\u001b[1;33m(\u001b[0m\u001b[0mf\u001b[0m\u001b[1;33m)\u001b[0m\u001b[1;33m\u001b[0m\u001b[0m\n\u001b[0;32m    832\u001b[0m         \u001b[1;32melif\u001b[0m \u001b[0mn\u001b[0m \u001b[1;33m==\u001b[0m \u001b[1;36m4\u001b[0m \u001b[1;32mand\u001b[0m \u001b[0mquartics\u001b[0m\u001b[1;33m:\u001b[0m\u001b[1;33m\u001b[0m\u001b[0m\n\u001b[1;32m--> 833\u001b[1;33m             \u001b[0mresult\u001b[0m \u001b[1;33m+=\u001b[0m \u001b[0mroots_quartic\u001b[0m\u001b[1;33m(\u001b[0m\u001b[0mf\u001b[0m\u001b[1;33m)\u001b[0m\u001b[1;33m\u001b[0m\u001b[0m\n\u001b[0m\u001b[0;32m    834\u001b[0m         \u001b[1;32melif\u001b[0m \u001b[0mn\u001b[0m \u001b[1;33m==\u001b[0m \u001b[1;36m5\u001b[0m \u001b[1;32mand\u001b[0m \u001b[0mquintics\u001b[0m\u001b[1;33m:\u001b[0m\u001b[1;33m\u001b[0m\u001b[0m\n\u001b[0;32m    835\u001b[0m             \u001b[0mresult\u001b[0m \u001b[1;33m+=\u001b[0m \u001b[0mroots_quintic\u001b[0m\u001b[1;33m(\u001b[0m\u001b[0mf\u001b[0m\u001b[1;33m)\u001b[0m\u001b[1;33m\u001b[0m\u001b[0m\n",
      "\u001b[1;32m/usr/lib/python2.7/dist-packages/sympy/polys/polyroots.pyc\u001b[0m in \u001b[0;36mroots_quartic\u001b[1;34m(f)\u001b[0m\n\u001b[0;32m    293\u001b[0m                 \u001b[0my\u001b[0m \u001b[1;33m=\u001b[0m \u001b[1;33m-\u001b[0m\u001b[1;36m5\u001b[0m\u001b[1;33m*\u001b[0m\u001b[0me\u001b[0m\u001b[1;33m/\u001b[0m\u001b[1;36m6\u001b[0m \u001b[1;33m+\u001b[0m \u001b[0mu\u001b[0m \u001b[1;33m-\u001b[0m \u001b[0mp\u001b[0m\u001b[1;33m/\u001b[0m\u001b[0mu\u001b[0m\u001b[1;33m/\u001b[0m\u001b[1;36m3\u001b[0m\u001b[1;33m\u001b[0m\u001b[0m\n\u001b[0;32m    294\u001b[0m             \u001b[1;32melse\u001b[0m\u001b[1;33m:\u001b[0m\u001b[1;33m\u001b[0m\u001b[0m\n\u001b[1;32m--> 295\u001b[1;33m                 \u001b[1;32mraise\u001b[0m \u001b[0mPolynomialError\u001b[0m\u001b[1;33m(\u001b[0m\u001b[1;34m'cannot return general quartic solution'\u001b[0m\u001b[1;33m)\u001b[0m\u001b[1;33m\u001b[0m\u001b[0m\n\u001b[0m\u001b[0;32m    296\u001b[0m             \u001b[0mw\u001b[0m \u001b[1;33m=\u001b[0m \u001b[0msqrt\u001b[0m\u001b[1;33m(\u001b[0m\u001b[0me\u001b[0m \u001b[1;33m+\u001b[0m \u001b[1;36m2\u001b[0m\u001b[1;33m*\u001b[0m\u001b[0my\u001b[0m\u001b[1;33m)\u001b[0m\u001b[1;33m\u001b[0m\u001b[0m\n\u001b[0;32m    297\u001b[0m             \u001b[0marg1\u001b[0m \u001b[1;33m=\u001b[0m \u001b[1;36m3\u001b[0m\u001b[1;33m*\u001b[0m\u001b[0me\u001b[0m \u001b[1;33m+\u001b[0m \u001b[1;36m2\u001b[0m\u001b[1;33m*\u001b[0m\u001b[0my\u001b[0m\u001b[1;33m\u001b[0m\u001b[0m\n",
      "\u001b[1;31mPolynomialError\u001b[0m: cannot return general quartic solution"
     ]
    }
   ],
   "source": [
    "## a general quartic. \n",
    "p = a*x**4 + b*x**3 + c*x**2 + d*x + e\n",
    "sp.pprint(p)\n",
    "sp.pprint(sp.solve(p,x))"
   ]
  },
  {
   "cell_type": "markdown",
   "metadata": {},
   "source": [
    "While there is a closed-form solution to the roots of a degree 4 polynomial, sympy's *solve* routine can not derive it.  \n",
    "\n",
    "On the other hand it is known there is no *closed form* for the roots of a degree $5$ or higher polynomial.  So one has to resort to other methods."
   ]
  },
  {
   "cell_type": "code",
   "execution_count": 32,
   "metadata": {
    "collapsed": false
   },
   "outputs": [
    {
     "name": "stdout",
     "output_type": "stream",
     "text": [
      "The extracted coefficients: [1, 1, -1, -1]\n"
     ]
    }
   ],
   "source": [
    "## let's leave sympy and find the roots numerically\n",
    "p = x**3 + x**2 - x - 1\n",
    "P = sp.Poly(p,x).coeffs()\n",
    "print(\"The extracted coefficients: \"+str(P))\n",
    "P=[1, -12,48,-64, 0]"
   ]
  },
  {
   "cell_type": "code",
   "execution_count": 28,
   "metadata": {
    "collapsed": false
   },
   "outputs": [
    {
     "name": "stdout",
     "output_type": "stream",
     "text": [
      "[ 4.000021 +3.63759237e-05j  4.000021 -3.63759237e-05j\n",
      "  3.999958 +0.00000000e+00j  0.000000 +0.00000000e+00j]\n",
      "\n",
      "[-1.956900190841893261617e-31, (3.9999999975825139634193 + 7.8110601685038604800699e-10j), (4.0000000026732335135902 - 1.5102489811480045947119e-9j), (3.9999999995397004119895 + 1.3411824332007288203794e-8j)]\n",
      "\n",
      "[-1.956900190841893261617e-31, (3.9999999975825139634193 + 7.8110601685038604800699e-10j), (4.0000000026732335135902 - 1.5102489811480045947119e-9j), (3.9999999995397004119895 + 1.3411824332007288203794e-8j)]\n",
      "\n",
      "[-4.433784025372954969908392235236119e-44, (4.000000000016828878304623263547906 - 6.639006126578153803338059987427709e-12j), (3.999999999983232653012337146110706 - 1.382058276773290423911123908606283e-11j), (3.999999999998048809029032298445315 + 1.493509366453125559535586531804227e-11j)]\n",
      "\n"
     ]
    }
   ],
   "source": [
    "## Both numpy and mpmath have such algorithms\n",
    "print(str(np.roots(P))+\"\\n\")\n",
    "## mpmath's\n",
    "import sympy.mpmath as mp\n",
    "print(str(mp.polyroots(P))+\"\\n\")\n",
    "## clean up the output\n",
    "mp.mp.pretty = True\n",
    "print(str(mp.polyroots(P))+\"\\n\")\n",
    "## up the precision\n",
    "mp.mp.prec += 3 ## dps should be approximately at least 3.33 times prec\n",
    "mp.mp.dps += 10\n",
    "print(str(mp.polyroots(P))+\"\\n\")\n"
   ]
  },
  {
   "cell_type": "markdown",
   "metadata": {},
   "source": [
    "## roots\n",
    "\n",
    "The sympy *polyroots* and numpy *roots* functions are guanteed to find all the solutions of your polynomial equation.  \n",
    "\n",
    "* * * \n",
    "\n",
    "While we're at it, notice mpmath can be used to solve multi-variable equations.\n",
    "\n",
    "Here we ask mpmath to solve\n",
    "$$(x^2+y^2, xy) = (4, 1)$$\n",
    "\n",
    "It is using a multi-variable Newton method."
   ]
  },
  {
   "cell_type": "code",
   "execution_count": 76,
   "metadata": {
    "collapsed": false
   },
   "outputs": [
    {
     "name": "stdout",
     "output_type": "stream",
     "text": [
      "roots: [ 1.931851652578136573499486399457795]\n",
      "[0.5176380902050415246977976752480967]\n",
      "check sol: 0.0, 0.0\n",
      "yes!\n"
     ]
    }
   ],
   "source": [
    "f = [lambda x,y: x**2 + y**2 - 4, lambda x, y: x*y-1.0 ]\n",
    "## The mpmath findroot algorithm can take lists of multi-variable functions. \n",
    "## i.e. it prefers to think of a vector-valued function as a list of functions\n",
    "## and solving the equation f(x,y) = (0,0) it thinks as solving the list of\n",
    "## equations simultaneously. \n",
    "\n",
    "#print(f[0](1,1),f[1](1,1))\n",
    "# as it looks, f is a list of callable 2-variable functions\n",
    "\n",
    "## and the findroot call\n",
    "roots = mp.findroot(f,(0.2,0.1))\n",
    "print(\"roots: \"+str(roots))\n",
    "## let's check it is a solution\n",
    "print(\"check sol: \"+str(f[0](roots[0],roots[1])) + \", \" +str(f[1](roots[0],roots[1])) )\n",
    "print(\"yes!\")"
   ]
  },
  {
   "cell_type": "markdown",
   "metadata": {},
   "source": [
    "We can similarly ask sympy to solve families of equations."
   ]
  },
  {
   "cell_type": "code",
   "execution_count": 62,
   "metadata": {
    "collapsed": false
   },
   "outputs": [
    {
     "name": "stdout",
     "output_type": "stream",
     "text": [
      "4\n"
     ]
    }
   ],
   "source": [
    "sol = sp.solve([x**2 + y**2 - 4, x*y-1 ])\n",
    "print(type(sol))\n",
    "print(len(sol))"
   ]
  },
  {
   "cell_type": "code",
   "execution_count": 68,
   "metadata": {
    "collapsed": false
   },
   "outputs": [
    {
     "name": "stdout",
     "output_type": "stream",
     "text": [
      "Solution 0\n",
      "⎧   ⎛        _____________⎞    _____________ ⎛     _____________    ⎞         \n",
      "⎨   ⎜       ╱     ___     ⎟   ╱     ___      ⎜    ╱     ___         ⎟        ╱\n",
      "⎩x: ⎝-2 - ╲╱  - ╲╱ 3  + 2 ⎠⋅╲╱  - ╲╱ 3  + 2 ⋅⎝- ╲╱  - ╲╱ 3  + 2  + 2⎠, y: -╲╱ \n",
      "\n",
      "_____________⎫\n",
      "     ___     ⎬\n",
      " - ╲╱ 3  + 2 ⎭\n",
      "\n",
      "\n",
      "Solution 1\n",
      "⎧    ⎛        _____________⎞    _____________ ⎛   _____________    ⎞        __\n",
      "⎨    ⎜       ╱     ___     ⎟   ╱     ___      ⎜  ╱     ___         ⎟       ╱  \n",
      "⎩x: -⎝-2 + ╲╱  - ╲╱ 3  + 2 ⎠⋅╲╱  - ╲╱ 3  + 2 ⋅⎝╲╱  - ╲╱ 3  + 2  + 2⎠, y: ╲╱  -\n",
      "\n",
      "___________⎫\n",
      "   ___     ⎬\n",
      " ╲╱ 3  + 2 ⎭\n",
      "\n",
      "\n",
      "Solution 2\n",
      "⎧   ⎛        ___________⎞    ___________ ⎛     ___________    ⎞         ______\n",
      "⎨   ⎜       ╱   ___     ⎟   ╱   ___      ⎜    ╱   ___         ⎟        ╱   ___\n",
      "⎩x: ⎝-2 - ╲╱  ╲╱ 3  + 2 ⎠⋅╲╱  ╲╱ 3  + 2 ⋅⎝- ╲╱  ╲╱ 3  + 2  + 2⎠, y: -╲╱  ╲╱ 3 \n",
      "\n",
      "_____⎫\n",
      "     ⎬\n",
      " + 2 ⎭\n",
      "\n",
      "\n",
      "Solution 3\n",
      "⎧    ⎛        ___________⎞    ___________ ⎛   ___________    ⎞        ________\n",
      "⎨    ⎜       ╱   ___     ⎟   ╱   ___      ⎜  ╱   ___         ⎟       ╱   ___  \n",
      "⎩x: -⎝-2 + ╲╱  ╲╱ 3  + 2 ⎠⋅╲╱  ╲╱ 3  + 2 ⋅⎝╲╱  ╲╱ 3  + 2  + 2⎠, y: ╲╱  ╲╱ 3  +\n",
      "\n",
      "___⎫\n",
      "   ⎬\n",
      " 2 ⎭\n",
      "\n",
      "\n"
     ]
    }
   ],
   "source": [
    "for i in range(len(sol)): \n",
    "    print(\"Solution \" + str(i))\n",
    "    sp.pprint(sol[i])\n",
    "    print(\"\\n\")"
   ]
  },
  {
   "cell_type": "markdown",
   "metadata": {},
   "source": [
    "The next example gives you a sense for how simpy solves complicated algebraic equations. \n",
    "\n",
    "Notice the equation below is basically the previous equation but with $x$ replaced by $\\cos(x)$ and $y$ replaced by $\\sin(y)$. "
   ]
  },
  {
   "cell_type": "code",
   "execution_count": 92,
   "metadata": {
    "collapsed": false
   },
   "outputs": [
    {
     "name": "stdout",
     "output_type": "stream",
     "text": [
      "<type 'list'>\n",
      "16\n",
      "Solution 0\n",
      "⎧                                        ⎛   _____________⎞    ⎫\n",
      "⎪             ⎛      -1        ⎞         ⎜  ╱     ___     ⎟    ⎪\n",
      "⎪x: 2⋅π - acos⎜────────────────⎟, y: asin⎝╲╱  - ╲╱ 3  + 2 ⎠ + π⎪\n",
      "⎨             ⎜   _____________⎟                               ⎬\n",
      "⎪             ⎜  ╱     ___     ⎟                               ⎪\n",
      "⎪             ⎝╲╱  - ╲╱ 3  + 2 ⎠                               ⎪\n",
      "⎩                                                              ⎭\n",
      "\n",
      "\n",
      "Solution 1\n",
      "⎧                                         ⎛   _____________⎞⎫\n",
      "⎪             ⎛      -1        ⎞          ⎜  ╱     ___     ⎟⎪\n",
      "⎪x: 2⋅π - acos⎜────────────────⎟, y: -asin⎝╲╱  - ╲╱ 3  + 2 ⎠⎪\n",
      "⎨             ⎜   _____________⎟                            ⎬\n",
      "⎪             ⎜  ╱     ___     ⎟                            ⎪\n",
      "⎪             ⎝╲╱  - ╲╱ 3  + 2 ⎠                            ⎪\n",
      "⎩                                                           ⎭\n",
      "\n",
      "\n",
      "Solution 2\n",
      "⎧                                          ⎛   _____________⎞    ⎫\n",
      "⎪             ⎛       1        ⎞           ⎜  ╱     ___     ⎟    ⎪\n",
      "⎪x: 2⋅π - acos⎜────────────────⎟, y: - asin⎝╲╱  - ╲╱ 3  + 2 ⎠ + π⎪\n",
      "⎨             ⎜   _____________⎟                                 ⎬\n",
      "⎪             ⎜  ╱     ___     ⎟                                 ⎪\n",
      "⎪             ⎝╲╱  - ╲╱ 3  + 2 ⎠                                 ⎪\n",
      "⎩                                                                ⎭\n",
      "\n",
      "\n",
      "Solution 3\n",
      "⎧                                        ⎛   _____________⎞⎫\n",
      "⎪             ⎛       1        ⎞         ⎜  ╱     ___     ⎟⎪\n",
      "⎪x: 2⋅π - acos⎜────────────────⎟, y: asin⎝╲╱  - ╲╱ 3  + 2 ⎠⎪\n",
      "⎨             ⎜   _____________⎟                           ⎬\n",
      "⎪             ⎜  ╱     ___     ⎟                           ⎪\n",
      "⎪             ⎝╲╱  - ╲╱ 3  + 2 ⎠                           ⎪\n",
      "⎩                                                          ⎭\n",
      "\n",
      "\n",
      "Solution 4\n",
      "⎧                                            ⎛   ___________⎞⎫\n",
      "⎪         ⎛     -1       ⎞                   ⎜  ╱   ___     ⎟⎪\n",
      "⎪x: - acos⎜──────────────⎟ + 2⋅π, y: π + asin⎝╲╱  ╲╱ 3  + 2 ⎠⎪\n",
      "⎨         ⎜   ___________⎟                                   ⎬\n",
      "⎪         ⎜  ╱   ___     ⎟                                   ⎪\n",
      "⎪         ⎝╲╱  ╲╱ 3  + 2 ⎠                                   ⎪\n",
      "⎩                                                            ⎭\n",
      "\n",
      "\n",
      "Solution 5\n",
      "⎧                                         ⎛   ___________⎞⎫\n",
      "⎪         ⎛     -1       ⎞                ⎜  ╱   ___     ⎟⎪\n",
      "⎪x: - acos⎜──────────────⎟ + 2⋅π, y: -asin⎝╲╱  ╲╱ 3  + 2 ⎠⎪\n",
      "⎨         ⎜   ___________⎟                                ⎬\n",
      "⎪         ⎜  ╱   ___     ⎟                                ⎪\n",
      "⎪         ⎝╲╱  ╲╱ 3  + 2 ⎠                                ⎪\n",
      "⎩                                                         ⎭\n",
      "\n",
      "\n",
      "Solution 6\n",
      "⎧                                            ⎛   ___________⎞⎫\n",
      "⎪         ⎛      1       ⎞                   ⎜  ╱   ___     ⎟⎪\n",
      "⎪x: - acos⎜──────────────⎟ + 2⋅π, y: π - asin⎝╲╱  ╲╱ 3  + 2 ⎠⎪\n",
      "⎨         ⎜   ___________⎟                                   ⎬\n",
      "⎪         ⎜  ╱   ___     ⎟                                   ⎪\n",
      "⎪         ⎝╲╱  ╲╱ 3  + 2 ⎠                                   ⎪\n",
      "⎩                                                            ⎭\n",
      "\n",
      "\n",
      "Solution 7\n",
      "⎧                                        ⎛   ___________⎞⎫\n",
      "⎪         ⎛      1       ⎞               ⎜  ╱   ___     ⎟⎪\n",
      "⎪x: - acos⎜──────────────⎟ + 2⋅π, y: asin⎝╲╱  ╲╱ 3  + 2 ⎠⎪\n",
      "⎨         ⎜   ___________⎟                               ⎬\n",
      "⎪         ⎜  ╱   ___     ⎟                               ⎪\n",
      "⎪         ⎝╲╱  ╲╱ 3  + 2 ⎠                               ⎪\n",
      "⎩                                                        ⎭\n",
      "\n",
      "\n",
      "Solution 8\n",
      "⎧                                  ⎛   _____________⎞    ⎫\n",
      "⎪       ⎛      -1        ⎞         ⎜  ╱     ___     ⎟    ⎪\n",
      "⎪x: acos⎜────────────────⎟, y: asin⎝╲╱  - ╲╱ 3  + 2 ⎠ + π⎪\n",
      "⎨       ⎜   _____________⎟                               ⎬\n",
      "⎪       ⎜  ╱     ___     ⎟                               ⎪\n",
      "⎪       ⎝╲╱  - ╲╱ 3  + 2 ⎠                               ⎪\n",
      "⎩                                                        ⎭\n",
      "\n",
      "\n",
      "Solution 9\n",
      "⎧                                   ⎛   _____________⎞⎫\n",
      "⎪       ⎛      -1        ⎞          ⎜  ╱     ___     ⎟⎪\n",
      "⎪x: acos⎜────────────────⎟, y: -asin⎝╲╱  - ╲╱ 3  + 2 ⎠⎪\n",
      "⎨       ⎜   _____________⎟                            ⎬\n",
      "⎪       ⎜  ╱     ___     ⎟                            ⎪\n",
      "⎪       ⎝╲╱  - ╲╱ 3  + 2 ⎠                            ⎪\n",
      "⎩                                                     ⎭\n",
      "\n",
      "\n",
      "Solution 10\n",
      "⎧                                    ⎛   _____________⎞    ⎫\n",
      "⎪       ⎛       1        ⎞           ⎜  ╱     ___     ⎟    ⎪\n",
      "⎪x: acos⎜────────────────⎟, y: - asin⎝╲╱  - ╲╱ 3  + 2 ⎠ + π⎪\n",
      "⎨       ⎜   _____________⎟                                 ⎬\n",
      "⎪       ⎜  ╱     ___     ⎟                                 ⎪\n",
      "⎪       ⎝╲╱  - ╲╱ 3  + 2 ⎠                                 ⎪\n",
      "⎩                                                          ⎭\n",
      "\n",
      "\n",
      "Solution 11\n",
      "⎧                                  ⎛   _____________⎞⎫\n",
      "⎪       ⎛       1        ⎞         ⎜  ╱     ___     ⎟⎪\n",
      "⎪x: acos⎜────────────────⎟, y: asin⎝╲╱  - ╲╱ 3  + 2 ⎠⎪\n",
      "⎨       ⎜   _____________⎟                           ⎬\n",
      "⎪       ⎜  ╱     ___     ⎟                           ⎪\n",
      "⎪       ⎝╲╱  - ╲╱ 3  + 2 ⎠                           ⎪\n",
      "⎩                                                    ⎭\n",
      "\n",
      "\n",
      "Solution 12\n",
      "⎧                                    ⎛   ___________⎞⎫\n",
      "⎪       ⎛     -1       ⎞             ⎜  ╱   ___     ⎟⎪\n",
      "⎪x: acos⎜──────────────⎟, y: π + asin⎝╲╱  ╲╱ 3  + 2 ⎠⎪\n",
      "⎨       ⎜   ___________⎟                             ⎬\n",
      "⎪       ⎜  ╱   ___     ⎟                             ⎪\n",
      "⎪       ⎝╲╱  ╲╱ 3  + 2 ⎠                             ⎪\n",
      "⎩                                                    ⎭\n",
      "\n",
      "\n",
      "Solution 13\n",
      "⎧                                 ⎛   ___________⎞⎫\n",
      "⎪       ⎛     -1       ⎞          ⎜  ╱   ___     ⎟⎪\n",
      "⎪x: acos⎜──────────────⎟, y: -asin⎝╲╱  ╲╱ 3  + 2 ⎠⎪\n",
      "⎨       ⎜   ___________⎟                          ⎬\n",
      "⎪       ⎜  ╱   ___     ⎟                          ⎪\n",
      "⎪       ⎝╲╱  ╲╱ 3  + 2 ⎠                          ⎪\n",
      "⎩                                                 ⎭\n",
      "\n",
      "\n",
      "Solution 14\n",
      "⎧                                    ⎛   ___________⎞⎫\n",
      "⎪       ⎛      1       ⎞             ⎜  ╱   ___     ⎟⎪\n",
      "⎪x: acos⎜──────────────⎟, y: π - asin⎝╲╱  ╲╱ 3  + 2 ⎠⎪\n",
      "⎨       ⎜   ___________⎟                             ⎬\n",
      "⎪       ⎜  ╱   ___     ⎟                             ⎪\n",
      "⎪       ⎝╲╱  ╲╱ 3  + 2 ⎠                             ⎪\n",
      "⎩                                                    ⎭\n",
      "\n",
      "\n",
      "Solution 15\n",
      "⎧                                ⎛   ___________⎞⎫\n",
      "⎪       ⎛      1       ⎞         ⎜  ╱   ___     ⎟⎪\n",
      "⎪x: acos⎜──────────────⎟, y: asin⎝╲╱  ╲╱ 3  + 2 ⎠⎪\n",
      "⎨       ⎜   ___________⎟                         ⎬\n",
      "⎪       ⎜  ╱   ___     ⎟                         ⎪\n",
      "⎪       ⎝╲╱  ╲╱ 3  + 2 ⎠                         ⎪\n",
      "⎩                                                ⎭\n",
      "\n",
      "\n"
     ]
    }
   ],
   "source": [
    "sol = sp.solve([sp.cos(x)**2 + sp.sin(y)**2 - 4, sp.cos(x)*sp.sin(y)-1 ])\n",
    "print(type(sol))\n",
    "print(len(sol))\n",
    "for i in range(len(sol)): \n",
    "    print(\"Solution \" + str(i))\n",
    "    sp.pprint(sol[i])\n",
    "    print(\"\\n\")"
   ]
  },
  {
   "cell_type": "markdown",
   "metadata": {},
   "source": [
    "## Sympy and linear algebra\n",
    "\n",
    "We've seen how one can solve systems of linear equations using numpy's matrix facilities. Sympy has the same abilities but it can also do a few things numpy can not. \n",
    "\n",
    "For instance, a standard family of ODEs that arise are called **linear first-order differential equations**. They have the form:\n",
    "\n",
    "$$\\vec v'(t) = A \\vec v(t)$$\n",
    "\n",
    "here $\\vec v : \\mathbb R \\to \\mathbb R^n$ is a time-varying vector.  $A$ is an $n \\times n$ matrix.  The solutions to these differential equations are:\n",
    "\n",
    "$$\\vec v(t) = exp(A) \\vec v_0$$\n",
    "where $\\vec v_0 = \\vec v(0)$ and the matrix exponential $exp(A)$ is \n",
    "$$\\exp(A) = \\sum_{k=0}^\\infty \\frac{1}{k!} A^k$$\n",
    "\n",
    "Sympy is perfectly happy computing this matrix exponentials in closed-form.  In *math 342* we teach students how to do this by using *ideas*. "
   ]
  },
  {
   "cell_type": "code",
   "execution_count": 115,
   "metadata": {
    "collapsed": false
   },
   "outputs": [
    {
     "name": "stdout",
     "output_type": "stream",
     "text": [
      "A == Matrix([[1, 0], [0, 1]])\n",
      "\n",
      "exp(tA)\n",
      "\n",
      "⎡ t    ⎤\n",
      "⎢ℯ   0 ⎥\n",
      "⎢      ⎥\n",
      "⎢     t⎥\n",
      "⎣0   ℯ ⎦\n",
      "A == Matrix([[-1, 0], [1, -1]])\n",
      "\n",
      "exp(tA)\n",
      "\n",
      "⎡  -t      ⎤\n",
      "⎢ ℯ      0 ⎥\n",
      "⎢          ⎥\n",
      "⎢   -t   -t⎥\n",
      "⎣t⋅ℯ    ℯ  ⎦\n"
     ]
    }
   ],
   "source": [
    "t=sp.Symbol('t')\n",
    "\n",
    "A=sp.Matrix(2,2,[1,0,0,1])\n",
    "print(\"A == \"+str(A)+\"\\n\")\n",
    "eA = sp.exp(t*A)\n",
    "print(\"exp(tA)\\n\")\n",
    "sp.pprint(eA)\n",
    "\n",
    "A=sp.Matrix(2,2,[-1,0,1,-1])\n",
    "print(\"A == \"+str(A)+\"\\n\")\n",
    "eA = sp.exp(t*A)\n",
    "print(\"exp(tA)\\n\")\n",
    "sp.pprint(eA)\n"
   ]
  },
  {
   "cell_type": "code",
   "execution_count": 133,
   "metadata": {
    "collapsed": false
   },
   "outputs": [
    {
     "name": "stdout",
     "output_type": "stream",
     "text": [
      "B == Matrix([[1, 0, 0, 0], [1, 1, 0, 0], [0, 0, 1, 1], [0, 0, -1, 1]])\n",
      "\n",
      "⎡  t                            ⎤\n",
      "⎢ ℯ    0       0           0    ⎥\n",
      "⎢                               ⎥\n",
      "⎢   t   t                       ⎥\n",
      "⎢t⋅ℯ   ℯ       0           0    ⎥\n",
      "⎢                               ⎥\n",
      "⎢           t           t       ⎥\n",
      "⎢ 0    0   ℯ ⋅cos(t)   ℯ ⋅sin(t)⎥\n",
      "⎢                               ⎥\n",
      "⎢            t          t       ⎥\n",
      "⎣ 0    0   -ℯ ⋅sin(t)  ℯ ⋅cos(t)⎦\n"
     ]
    }
   ],
   "source": [
    "## we need to tell sympy t is a real variable otherwise...\n",
    "t=sp.Symbol('t',real=True)\n",
    "B=sp.Matrix(4,4,[1,0,0,0, 1,1,0,0, 0,0,1,1, 0,0,-1,1])\n",
    "eB = sp.exp(t*B)\n",
    "print(\"B == \"+str(B)+\"\\n\")\n",
    "## when we expand e^(x+iy) = cos(x) + i sin(y) in the argument\n",
    "## on the nextline, it thinks t might have both a real and an imaginary part,\n",
    "## resulting in a true but not-fully-informative expression.\n",
    "sp.init_printing(use_latex=True)\n",
    "\n",
    "eB=sp.simplify(eB).expand(complex=True)\n",
    "sp.pprint(eB)"
   ]
  },
  {
   "cell_type": "markdown",
   "metadata": {},
   "source": [
    "## Plotting in sympy\n",
    "\n",
    "Sympy has a variety of 2d and 3d plotting tools.  We demonstrate a few below. \n",
    "\n",
    "My first impression is they are not as well-developed as one might hope. "
   ]
  },
  {
   "cell_type": "code",
   "execution_count": 209,
   "metadata": {
    "collapsed": false
   },
   "outputs": [
    {
     "data": {
      "image/png": "[encoded data removed]",
      "text/plain": [
       "<matplotlib.figure.Figure at 0x7f938e7b64d0>"
      ]
     },
     "metadata": {},
     "output_type": "display_data"
    },
    {
     "data": {
      "text/plain": [
       "<sympy.plotting.plot.Plot at 0x7f938e7b6a90>"
      ]
     },
     "execution_count": 209,
     "metadata": {},
     "output_type": "execute_result"
    }
   ],
   "source": [
    "## Parametric surfaces\n",
    "from sympy.plotting import plot3d_parametric_surface\n",
    "plot3d_parametric_surface(x*sp.cos(t), x*sp.sin(t), t, \n",
    "                          (x,0.5,1.5), (t, 0, 20),\n",
    "                          title=\"spiral\")"
   ]
  },
  {
   "cell_type": "code",
   "execution_count": 174,
   "metadata": {
    "collapsed": false
   },
   "outputs": [
    {
     "data": {
      "image/png": "[encoded data removed]",
      "text/plain": [
       "<matplotlib.figure.Figure at 0x7f93961c3890>"
      ]
     },
     "metadata": {},
     "output_type": "display_data"
    }
   ],
   "source": [
    "## implicit curves in the plane. \n",
    "## here we plot two curves together, \n",
    "## we call the individual plots, set them to the variables\n",
    "## curve1 and curve2, and we ask sympy not to display them when\n",
    "## they are created. We then merge them with the \"extend\" command, \n",
    "## and display\n",
    "from sympy.plotting import plot_implicit\n",
    "curve1 = plot_implicit(x**12+y**12 - 1,(x,-1,1),(y,-1,1), \n",
    "              adaptive=False, points=1600, \n",
    "              xlabel=\"1st axis\", ylabel=\"2nd axis\", show=False)\n",
    "curve2 = plot_implicit(x**2+y**2 - 1,(x,-1,1),(y,-1,1), \n",
    "              adaptive=False, points=1600, \n",
    "              xlabel=\"1st axis\", ylabel=\"2nd axis\", show=False)\n",
    "curve1.extend(curve2)\n",
    "curve1.show()"
   ]
  },
  {
   "cell_type": "code",
   "execution_count": 170,
   "metadata": {
    "collapsed": false
   },
   "outputs": [
    {
     "data": {
      "image/png": "[encoded data removed]",
      "text/plain": [
       "<matplotlib.figure.Figure at 0x7f93964cf710>"
      ]
     },
     "metadata": {},
     "output_type": "display_data"
    },
    {
     "data": {
      "text/plain": [
       "<sympy.plotting.plot.Plot at 0x7f93964cf810>"
      ]
     },
     "execution_count": 170,
     "metadata": {},
     "output_type": "execute_result"
    }
   ],
   "source": [
    "## Let's plot a tire tube...\n",
    "bigR = 1.0\n",
    "smR = 0.2\n",
    "plot3d_parametric_surface(\n",
    "    (bigR+smR*sp.cos(x))*sp.cos(t),     (bigR+smR*sp.cos(x))*sp.sin(t),     smR*sp.sin(x), \n",
    "    (x,0, 6.3), (t, 0, 6.3), \n",
    "    title=\"Tire Tube\", xlabel=\"1st axis\", ylabel=\"2nd axis\")"
   ]
  },
  {
   "cell_type": "code",
   "execution_count": null,
   "metadata": {
    "collapsed": true
   },
   "outputs": [],
   "source": []
  }
 ],
 "metadata": {
  "kernelspec": {
   "display_name": "Python 2",
   "language": "python",
   "name": "python2"
  },
  "language_info": {
   "codemirror_mode": {
    "name": "ipython",
    "version": 2
   },
   "file_extension": ".py",
   "mimetype": "text/x-python",
   "name": "python",
   "nbconvert_exporter": "python",
   "pygments_lexer": "ipython2",
   "version": "2.7.6"
  }
 },
 "nbformat": 4,
 "nbformat_minor": 0
}
