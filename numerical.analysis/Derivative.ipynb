{
 "cells": [
  {
   "cell_type": "markdown",
   "metadata": {},
   "source": [
    "# Derivatives, errors and multi-processing\n",
    "\n",
    "In this notebook we demonstrate an example of taking a very simple numerical derivative, explore the round-off error, and in passing introduce multi-processing.\n",
    "\n",
    "## Numerical derivatives\n",
    "\n",
    "**Literature:** Numerical Recipies, Ch. 5.7\n",
    "\n",
    "\n",
    "The derivative $\\frac{df}{dx}$ of a function $y=f(x)$ can be approximated by the difference equation \n",
    "$$ f'(x) \\approx \\frac{f(x+h) -f(x)}{h}.$$\n",
    "\n",
    "Say we have the following function:"
   ]
  },
  {
   "cell_type": "code",
   "execution_count": 6,
   "metadata": {
    "collapsed": false
   },
   "outputs": [],
   "source": [
    "def func1(x):\n",
    "    return x**2"
   ]
  },
  {
   "cell_type": "markdown",
   "metadata": {},
   "source": [
    "We can plot this function:"
   ]
  },
  {
   "cell_type": "code",
   "execution_count": 7,
   "metadata": {
    "collapsed": false
   },
   "outputs": [
    {
     "name": "stdout",
     "output_type": "stream",
     "text": [
      "Populating the interactive namespace from numpy and matplotlib\n"
     ]
    },
    {
     "data": {
      "text/plain": [
       "[<matplotlib.lines.Line2D at 0x107e562d0>]"
      ]
     },
     "execution_count": 7,
     "metadata": {},
     "output_type": "execute_result"
    },
    {
     "data": {
      "image/png": "[encoded data removed]",
      "text/plain": [
       "<matplotlib.figure.Figure at 0x10692b150>"
      ]
     },
     "metadata": {},
     "output_type": "display_data"
    }
   ],
   "source": [
    "%pylab inline\n",
    "x=linspace(0,3,10)\n",
    "plot(x,func1(x))"
   ]
  },
  {
   "cell_type": "markdown",
   "metadata": {},
   "source": [
    "Now, we create a function for the derivative:"
   ]
  },
  {
   "cell_type": "code",
   "execution_count": 8,
   "metadata": {
    "collapsed": false
   },
   "outputs": [],
   "source": [
    "def deriv1(f,x,h):\n",
    "    dfdx = (f(x+h) - f(x))/h\n",
    "    return dfdx"
   ]
  },
  {
   "cell_type": "markdown",
   "metadata": {},
   "source": [
    "You should try the deriv function call below with different values of h. At which h does round-off error dominate?"
   ]
  },
  {
   "cell_type": "code",
   "execution_count": 9,
   "metadata": {
    "collapsed": false
   },
   "outputs": [
    {
     "data": {
      "text/plain": [
       "2.000099999999172"
      ]
     },
     "execution_count": 9,
     "metadata": {},
     "output_type": "execute_result"
    }
   ],
   "source": [
    "deriv1(func1,1,0.0001)"
   ]
  },
  {
   "cell_type": "code",
   "execution_count": 11,
   "metadata": {
    "collapsed": false
   },
   "outputs": [
    {
     "data": {
      "text/plain": [
       "((0, -16),\n",
       " <matplotlib.text.Text at 0x107d4a190>,\n",
       " <matplotlib.text.Text at 0x108091910>)"
      ]
     },
     "execution_count": 11,
     "metadata": {},
     "output_type": "execute_result"
    },
    {
     "data": {
      "image/png": "[encoded data removed]",
      "text/plain": [
       "<matplotlib.figure.Figure at 0x107faee10>"
      ]
     },
     "metadata": {},
     "output_type": "display_data"
    }
   ],
   "source": [
    "def hdev(h):                   # in order to vectorize wrap the function to isolate the \n",
    "    return deriv1(func1,1,h)   # variable over which we should loop\n",
    "vhdev=vectorize(hdev)        # turn a scalar function into a vectorized function\n",
    "h_pow = range(0,-16,-1)\n",
    "h = 10**array(h_pow,dtype=float)\n",
    "plot(h_pow,log10(abs(vhdev(h)-2.)),'o')\n",
    "xlim(0,-16), ylabel('$ \\log$ ( $df/dx - 2.0 ) $'),xlabel('$\\log h$')"
   ]
  },
  {
   "cell_type": "markdown",
   "metadata": {},
   "source": [
    "##### This way of vectorizing is just done for convenience, but it will not help performance. The following introduces an actual multiprocessing approach that will use multiple of your cpu cores. The work is too small to notice any difference in performance though. "
   ]
  },
  {
   "cell_type": "code",
   "execution_count": 68,
   "metadata": {
    "collapsed": false
   },
   "outputs": [],
   "source": [
    "from multiprocessing import Pool"
   ]
  },
  {
   "cell_type": "code",
   "execution_count": 82,
   "metadata": {
    "collapsed": false
   },
   "outputs": [
    {
     "name": "stdout",
     "output_type": "stream",
     "text": [
      "[ 3.          2.1         2.01        2.001       2.0001      2.00001\n",
      "  2.000001    2.0000001   1.99999999  2.00000017  2.00000017  2.00000017\n",
      "  2.0001778   1.99840144  1.99840144  2.22044605]\n"
     ]
    },
    {
     "data": {
      "text/plain": [
       "((0, -16),\n",
       " <matplotlib.text.Text at 0x1186ea6d0>,\n",
       " <matplotlib.text.Text at 0x11871c790>)"
      ]
     },
     "execution_count": 82,
     "metadata": {},
     "output_type": "execute_result"
    },
    {
     "data": {
      "image/png": "[encoded data removed]",
      "text/plain": [
       "<matplotlib.figure.Figure at 0x1194286d0>"
      ]
     },
     "metadata": {},
     "output_type": "display_data"
    }
   ],
   "source": [
    "p = Pool(3)\n",
    "h_error = array(p.map(hdev,h))\n",
    "print h_error\n",
    "plot(h_pow,log10(abs(h_error-2.)),'o')\n",
    "xlim(0,-16), ylabel('$ \\log$ $df/dx - 2.0 $'),xlabel('$\\log h$')\n"
   ]
  },
  {
   "cell_type": "markdown",
   "metadata": {},
   "source": [
    "## Errors\n",
    "What are the errors associated with evaluating the derivative this way? There are two basic sources of error! They have to do with accuracy and with precision.\n",
    "\n",
    "**Accuracy:** How well does the discretized equation represent the original mathematical equation?\n",
    "This is the truncation error. \n",
    "\n",
    "**Precision:** How well is the solution satisfying the discretised equation? This is limited by the roundoff error.\n"
   ]
  }
 ],
 "metadata": {
  "kernelspec": {
   "display_name": "Python 2",
   "language": "python",
   "name": "python2"
  },
  "language_info": {
   "codemirror_mode": {
    "name": "ipython",
    "version": 2
   },
   "file_extension": ".py",
   "mimetype": "text/x-python",
   "name": "python",
   "nbconvert_exporter": "python",
   "pygments_lexer": "ipython2",
   "version": "2.7.9"
  }
 },
 "nbformat": 4,
 "nbformat_minor": 0
}
