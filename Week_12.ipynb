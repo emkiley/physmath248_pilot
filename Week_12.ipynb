{
 "cells": [
  {
   "cell_type": "markdown",
   "metadata": {},
   "source": [
    "# Week 12 outline\n"
   ]
  },
  {
   "cell_type": "markdown",
   "metadata": {},
   "source": [
    "## Tuesday\n",
    "\n",
    "- A look back at [crime data](stats/visualize.Crime-Data.2.ipynb). \n",
    "- Make sure you get a good night's sleep! "
   ]
  },
  {
   "cell_type": "markdown",
   "metadata": {},
   "source": [
    "## Wednesday\n",
    "\n",
    " - We will have a [40-minute quiz](assignments/exams.and.quizzes/quiz2.ipynb).  [One solution set](assignments/exams.and.quizzes/quiz2.sol.ipynb), but this is not particularly efficient!\n",
    " - Will spend the remainder of the class discussing the quiz and coding strategies. "
   ]
  },
  {
   "cell_type": "markdown",
   "metadata": {},
   "source": [
    "## Friday\n",
    "\n",
    "As a final example we will investigate the [LIGO gravitional wave detection GW150914](examples/LIGO/GW150914_intro.ipynb)."
   ]
  },
  {
   "cell_type": "markdown",
   "metadata": {},
   "source": [
    "**Tuesday Tutorial** - Try a novel PCA analysis of the crime data. "
   ]
  },
  {
   "cell_type": "markdown",
   "metadata": {},
   "source": [
    "**Wednesday Tutorial** - Have an attempt at re-doing the quiz.  But now allow yourself to insert both $+$ and $-$ signs between the digits.  How many ways can you write $100$ as the sum (with signs) of $123456789$ ?   Can you find relatively fast algorithm, or do you have to sift through an exponential number of cases? "
   ]
  },
  {
   "cell_type": "code",
   "execution_count": null,
   "metadata": {
    "collapsed": true
   },
   "outputs": [],
   "source": []
  }
 ],
 "metadata": {
  "kernelspec": {
   "display_name": "Python 2",
   "language": "python",
   "name": "python2"
  },
  "language_info": {
   "codemirror_mode": {
    "name": "ipython",
    "version": 2
   },
   "file_extension": ".py",
   "mimetype": "text/x-python",
   "name": "python",
   "nbconvert_exporter": "python",
   "pygments_lexer": "ipython2",
   "version": "2.7.9"
  }
 },
 "nbformat": 4,
 "nbformat_minor": 0
}
