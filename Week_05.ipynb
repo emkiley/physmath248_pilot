{
 "cells": [
  {
   "cell_type": "markdown",
   "metadata": {},
   "source": [
    "# Week 5"
   ]
  },
  {
   "cell_type": "markdown",
   "metadata": {},
   "source": [
    "## Session 1\n",
    "We have already seen how to do least-square fits and integrals by coding up some functions. There are several libraries available that we can use as well. In the first sesssion we will go over some additional example in\n",
    "\n",
    "* [integrating using libraries](numerical.analysis/Integrate_using_library.ipynb) and \n",
    "* [doing least-square fits using libraries](stats/Least-square_curve_fitting.ipynb)\n",
    "\n",
    "Finally we will do an example that involves\n",
    "* [Sympy](examples/Sympy_units.ipynb) and learn how to use \n",
    "* [Units](examples/Sympy_units.ipynb) "
   ]
  },
  {
   "cell_type": "markdown",
   "metadata": {},
   "source": [
    "## Session 2 & 3\n",
    "\n",
    "The second and third session in this week will largely focus on numerical data types in Python.  We will talk briefly about what numbers *are*, or more precisely what their *purpose* is, and how one might need to use them. Depending on how you need to use numbers, one chooses the Python data type accordingly. \n",
    "\n",
    "This will bring in a somewhat elaborate discussion of the sympy (symbolic mathematics) library, which we will continue to explore. \n",
    "\n",
    "### Notebooks\n",
    "\n",
    " * [Numbers in Python](numerical.analysis/numbers.in.python.short.ipynb)\n",
    " * [Symbolic computation in Python](numerical.analysis/symbolic.computation.ipynb)\n",
    "\n",
    "### Resources\n",
    "\n",
    " * Complex numbers $\\S 1.6$ in [3]\n",
    " * Symbolic expressions $\\S 1.7$ in [3]\n",
    " \n",
    "## Tutorials this week\n",
    "\n",
    " * Work on your homework assignment. \n"
   ]
  },
  {
   "cell_type": "code",
   "execution_count": null,
   "metadata": {
    "collapsed": true
   },
   "outputs": [],
   "source": []
  }
 ],
 "metadata": {
  "kernelspec": {
   "display_name": "Python 2",
   "language": "python",
   "name": "python2"
  },
  "language_info": {
   "codemirror_mode": {
    "name": "ipython",
    "version": 2
   },
   "file_extension": ".py",
   "mimetype": "text/x-python",
   "name": "python",
   "nbconvert_exporter": "python",
   "pygments_lexer": "ipython2",
   "version": "2.7.6"
  }
 },
 "nbformat": 4,
 "nbformat_minor": 0
}
