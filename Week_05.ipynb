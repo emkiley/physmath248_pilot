{
 "cells": [
  {
   "cell_type": "markdown",
   "metadata": {},
   "source": [
    "# Week 5"
   ]
  },
  {
   "cell_type": "markdown",
   "metadata": {},
   "source": [
    "This week will largely focus on numerical data types in Python.  We will talk briefly about what numbers *are*, or more precisely what their *purpose* is.  We will talk about various ways in which Python implements these data types, their advantages and disadvantages.  We will spend some time plotting examples, to demonstrate the geometry involved in these number systems.\n",
    "\n",
    "## Notebooks\n",
    "\n",
    " * [Numbers in Python](numerical.analysis/numbers.in.python.short.ipynb)\n",
    " * [Symbolic computation in Python](numerical.analysis/symbolic.computation.ipynb)\n",
    "\n",
    "## Resources\n",
    "\n",
    " * Complex numbers $\\S 1.6$ in [3]\n",
    " * Symbolic expressions $\\S 1.7$ in [3]\n",
    " \n",
    "## Tutorials this week\n",
    "\n",
    " * Work on your homework assignment. \n"
   ]
  },
  {
   "cell_type": "code",
   "execution_count": null,
   "metadata": {
    "collapsed": true
   },
   "outputs": [],
   "source": []
  }
 ],
 "metadata": {
  "kernelspec": {
   "display_name": "Python 2",
   "language": "python",
   "name": "python2"
  },
  "language_info": {
   "codemirror_mode": {
    "name": "ipython",
    "version": 2
   },
   "file_extension": ".py",
   "mimetype": "text/x-python",
   "name": "python",
   "nbconvert_exporter": "python",
   "pygments_lexer": "ipython2",
   "version": "2.7.6"
  }
 },
 "nbformat": 4,
 "nbformat_minor": 0
}
