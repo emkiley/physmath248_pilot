{
 "cells": [
  {
   "cell_type": "markdown",
   "metadata": {},
   "source": [
    "## Other libraries\n",
    "\n",
    "There are a variety of libraries that are either built on-top of matplotlib, or provide similar functionality.  Often these libraries are built directly on-top of matplotlib, and their primary goal is to reduce the flexibility of matplotlib, in exchange for making some basic tasks simpler. "
   ]
  },
  {
   "cell_type": "markdown",
   "metadata": {},
   "source": [
    "### 2d plotting libraries\n",
    "\n",
    " * Seaborn (http://stanford.edu/~mwaskom/software/seaborn/) available with pip install seaborn\n",
    " * ggplot (http://ggplot.yhathq.com/) available with pip install ggplot\n",
    " * pygal (http://www.pygal.org/) available with pip install pygal\n",
    " * plotly (http://plot.ly/) available with pip install plotly\n",
    "\n",
    "Seaborn is a library built on-top of matplotlib, and is a high-level library for drawing attractive statistical graphics. \n",
    "\n",
    "<a href=\"http://stanford.edu/~mwaskom/software/seaborn/examples/index.html#example-gallery\">\n",
    "<img height=400 width=400 src=\"http://stanford.edu/~mwaskom/software/seaborn/_images/structured_heatmap.png\">\n",
    "</a>\n",
    "\n",
    "ggplot is also a library built on-top of matplotlib.  Like Seaborn, it's intention is making pleasant and \"standard\" plotting features  to be done with relative ease. \n",
    "\n",
    "<a href=\"http://ggplot.yhathq.com/how-it-works.html\"> <img height=400 width=400 src=\"http://ggplot.yhathq.com/static/img/layers4.png\"> </a>\n",
    "\n",
    "<a href=\"http://www.pygal.org/\">pygal</a> is a library designed to ease the production of vector graphics (.svg) images, suitable for webpages.  These are the kinds of mildly-interactive graphical displays one might see on The Economist or the New York Times website, where pop-up details appear when you hover over details in the image. \n",
    "\n",
    "<a href=\"http://www.pygal.org/en/latest/documentation/types/funnel.html\"> "
   ]
  },
  {
   "cell_type": "code",
   "execution_count": null,
   "metadata": {
    "collapsed": false
   },
   "outputs": [],
   "source": [
    "## Attempt to render a pygal demo\n",
    "\n",
    "import pygal\n",
    "funnel_chart = pygal.Funnel()\n",
    "funnel_chart.title = 'V8 benchmark results'\n",
    "funnel_chart.x_labels = ['Richards', 'DeltaBlue', 'Crypto', 'RayTrace', 'EarleyBoyer', 'RegExp', 'Splay', 'NavierStokes']\n",
    "funnel_chart.add('Opera', [3472, 2933, 4203, 5229, 5810, 1828, 9013, 4669])\n",
    "funnel_chart.add('Firefox', [7473, 8099, 11700, 2651, 6361, 1044, 3797, 9450])\n",
    "funnel_chart.add('Chrome', [6395, 8212, 7520, 7218, 12464, 1660, 2123, 8607])\n",
    "\n",
    "output_file=open(\"folium_eg.html\", \"w\")\n",
    "output_file.write(html_pygal.format(pygal_render=funnel_chart.render()))\n",
    "output_file.close()\n",
    "\n",
    "## alternatively, it can load a different window to render.\n",
    "#funnel_chart.render_in_browser()"
   ]
  },
  {
   "cell_type": "code",
   "execution_count": null,
   "metadata": {
    "collapsed": false
   },
   "outputs": [],
   "source": [
    "%%HTML\n",
    "<iframe width=\"100%\" height=\"450\" src=\"folium_eg.html\"></iframe>"
   ]
  },
  {
   "cell_type": "markdown",
   "metadata": {},
   "source": [
    "## plotly\n",
    "\n",
    "plotly is a library for plotting both 2d and 3d graphics, and it has the intention of making it easy to put *interactive* graphics on-line, i.e. the library makes the transition to on-line interactive graphics relatively seamless.\n",
    "\n",
    " * On the positive side, the interface appears to be easy to use and uses a largely-consistent interface with matplotlib.  \n",
    "\n",
    " * You can render your data locally, but if you wish to share your interactive graphics on-line, plotly demands that it hosts all on-line graphics, i.e. you can not set up the means of delivery yourself. This means that plotly is responsible for ensuring your graphics render properly.  But it also means if their website goes down, your plots will not render.\n",
    " \n",
    " * On the negative side, if you wish for your on-line graphics to not be available to the general public, you need to pay for the service.  But public posts are free. \n",
    " \n",
    "It is a rather effective library.  We provide a couple examples below. See the [getting started](https://plot.ly/python/getting-started/) page for details of how to set it up in Python. The [overview](https://plot.ly/python/overview/) page is also helpful. "
   ]
  },
  {
   "cell_type": "code",
   "execution_count": null,
   "metadata": {
    "collapsed": false
   },
   "outputs": [],
   "source": [
    "import plotly\n",
    "plotly.offline.init_notebook_mode() # run at the start of every notebook\n",
    "plotly.offline.iplot({\"data\": [{\n",
    "                \"x\": [1, 2, 3],\n",
    "                \"y\": [4, 2, 5] }],\n",
    "                \"layout\": {\n",
    "                \"title\": \"hello world\"\n",
    "                }\n",
    "                })"
   ]
  },
  {
   "cell_type": "code",
   "execution_count": null,
   "metadata": {
    "collapsed": false
   },
   "outputs": [],
   "source": [
    "import plotly as py\n",
    "import plotly.graph_objs as go\n",
    "\n",
    "import numpy as np\n",
    "py.offline.init_notebook_mode() # run at the start of every notebook\n",
    "\n",
    "s = np.linspace(0, 2 * np.pi, 240)\n",
    "t = np.linspace(0, np.pi, 240)\n",
    "tGrid, sGrid = np.meshgrid(s, t)\n",
    "\n",
    "r = 2 + np.sin(7 * sGrid + 5 * tGrid)  # r = 2 + sin(7s+5t)\n",
    "x = r * np.cos(sGrid) * np.sin(tGrid)  # x = r*cos(s)*sin(t)\n",
    "y = r * np.sin(sGrid) * np.sin(tGrid)  # y = r*sin(s)*sin(t)\n",
    "z = r * np.cos(tGrid)                  # z = r*cos(t)\n",
    "\n",
    "surface = go.Surface(x=x, y=y, z=z)\n",
    "data = [surface]\n",
    "\n",
    "layout = go.Layout(\n",
    "    title='Parametric Plot',\n",
    "    scene=dict(\n",
    "        xaxis=dict(\n",
    "            gridcolor='rgb(255, 255, 255)',\n",
    "            zerolinecolor='rgb(255, 255, 255)',\n",
    "            showbackground=True,\n",
    "            backgroundcolor='rgb(230, 230,230)'\n",
    "        ),\n",
    "        yaxis=dict(\n",
    "            gridcolor='rgb(255, 255, 255)',\n",
    "            zerolinecolor='rgb(255, 255, 255)',\n",
    "            showbackground=True,\n",
    "            backgroundcolor='rgb(230, 230,230)'\n",
    "        ),\n",
    "        zaxis=dict(\n",
    "            gridcolor='rgb(255, 255, 255)',\n",
    "            zerolinecolor='rgb(255, 255, 255)',\n",
    "            showbackground=True,\n",
    "            backgroundcolor='rgb(230, 230,230)'\n",
    "        )\n",
    "    )\n",
    ")\n",
    "\n",
    "fig = go.Figure(data=data, layout=layout)\n",
    "## convert \"offline\" to \"plotly\" to upload the plot to the plot.ly page\n",
    "##  convert iplot to plot for a seperate page\n",
    "##  filename='initial_demo.html'\n",
    "py.offline.iplot(fig)"
   ]
  },
  {
   "cell_type": "markdown",
   "metadata": {},
   "source": [
    "You should be able to load the above plot up in any browser, by clicking [this link](https://plot.ly/~Ryan.Budney/48/parametric-plot/). I uploaded this earlier. \n",
    "\n",
    "There is an excellent demo of plotly integration in the i-python notebook available [here](https://plot.ly/python/ipython-notebook-tutorial/).  We conclude with an example from that notebook. "
   ]
  },
  {
   "cell_type": "code",
   "execution_count": null,
   "metadata": {
    "collapsed": false
   },
   "outputs": [],
   "source": [
    "import pandas as pd\n",
    "\n",
    "df = pd.read_csv('https://plot.ly/~Dreamshot/5718/electoral-college-votes-by-us-state/.csv')\n",
    "\n",
    "for col in df.columns:\n",
    "    df[col] = df[col].astype(str)\n",
    "    \n",
    "df.head()"
   ]
  },
  {
   "cell_type": "code",
   "execution_count": null,
   "metadata": {
    "collapsed": false
   },
   "outputs": [],
   "source": [
    "df.columns=[\"state\", \"votes\"]\n",
    "df.head(1)"
   ]
  },
  {
   "cell_type": "code",
   "execution_count": null,
   "metadata": {
    "collapsed": false
   },
   "outputs": [],
   "source": [
    "scl = [[0.0, 'rgb(242,240,247)'],[0.2, 'rgb(218,218,235)'],[0.4, 'rgb(188,189,220)'],\\\n",
    "            [0.6, 'rgb(158,154,200)'],[0.8, 'rgb(117,107,177)'],[1.0, 'rgb(84,39,143)']]\n",
    "\n",
    "df['text'] = df['state'] \n",
    "    \n",
    "data = [dict(\n",
    "    type='choropleth',\n",
    "    colorscale = scl,\n",
    "    autocolorscale = False,\n",
    "    locations = df['state'],\n",
    "    z = df['votes'].astype(float),\n",
    "    locationmode = 'USA-states',\n",
    "    text = df['text'],\n",
    "    hoverinfo = 'location+z',\n",
    "    marker = dict(\n",
    "        line = dict (\n",
    "            color = 'rgb(255,255,255)',\n",
    "            width = 2\n",
    "        )\n",
    "    ),\n",
    "    colorbar = dict(\n",
    "        title = \"Votes\"\n",
    "    )\n",
    ")]\n",
    "\n",
    "layout = dict(\n",
    "    title = '2016 Electoral College Votes<br>(Hover for breakdown)',\n",
    "    geo = dict(\n",
    "        scope='usa',\n",
    "        projection=dict( type='albers usa' ),\n",
    "        showlakes = True,\n",
    "        lakecolor = 'rgb(255, 255, 255)'\n",
    "    )\n",
    ")\n",
    "    \n",
    "fig = dict(data=data, layout=layout)\n",
    "##  filename='d3-electoral-map' removed from the original plotly call\n",
    "##   \"offline\" was \"plotly\" originally\n",
    "py.offline.iplot(fig, validate=False)"
   ]
  },
  {
   "cell_type": "markdown",
   "metadata": {},
   "source": [
    "  * * * \n",
    "\n",
    "### 2d interactive on on-line graphics\n",
    " * Bokeh (http://bokeh.pydata.org/) available with pip install bokeh\n",
    " * mpld3 (http://mpld3.github.io/) available with pip install mpld3\n",
    "\n",
    "First impressions is Bokeh is very useful for setting up on-line graphical displays.  In some regards it is like a two-dimensional version of plotly, but bokeh allows you to host and serve your own webpage.  Do not be discouraged -- anything you can do in bokeh you can do in plotly, so if you prefer the plotly server, just use plotly.  A simple example is below.  See the [bokeh gallery](http://bokeh.pydata.org/en/latest/docs/gallery.html) for many similar demonstrations. \n",
    "\n",
    "mpld3 uses a java interface to convert interactive i-python notebooks into html-ready apps.  This allows you to let anyone run your i-python notebook over the web. [Example gallery.](http://mpld3.github.io/examples/index.html#example-gallery) [And a particularly elaborate example.](http://nbviewer.jupyter.org/gist/wrobstory/1eb8cb704a52d18b9ee8/Up%20and%20Down%20PyData%202014.ipynb)\n",
    "\n",
    "\n"
   ]
  },
  {
   "cell_type": "code",
   "execution_count": null,
   "metadata": {
    "collapsed": true
   },
   "outputs": [],
   "source": [
    "import numpy as np\n",
    "from scipy.integrate import odeint\n",
    "\n",
    "from bokeh.plotting import figure, show, output_file\n",
    "\n",
    "sigma = 10\n",
    "rho = 28\n",
    "beta = 8.0/3\n",
    "theta = 3 * np.pi / 4\n",
    "\n",
    "def lorenz(xyz, t):\n",
    "    x, y, z = xyz\n",
    "    x_dot = sigma * (y - x)\n",
    "    y_dot = x * rho - x * z - y\n",
    "    z_dot = x * y - beta* z\n",
    "    return [x_dot, y_dot, z_dot]\n",
    "\n",
    "initial = (-10, -7, 35)\n",
    "t = np.arange(0, 100, 0.006)\n",
    "\n",
    "solution = odeint(lorenz, initial, t)\n",
    "\n",
    "x = solution[:, 0]\n",
    "y = solution[:, 1]\n",
    "z = solution[:, 2]\n",
    "xprime = np.cos(theta) * x - np.sin(theta) * y\n",
    "\n",
    "colors = [\"#C6DBEF\", \"#9ECAE1\", \"#6BAED6\", \"#4292C6\", \"#2171B5\", \"#08519C\", \"#08306B\",]\n",
    "\n",
    "p = figure(title=\"lorenz example\")\n",
    "\n",
    "p.multi_line(np.array_split(xprime, 7), np.array_split(z, 7),\n",
    "             line_color=colors, line_alpha=0.8, line_width=1.5)\n",
    "\n",
    "output_file(\"lorenz.html\", title=\"lorenz.py example\")\n",
    "\n",
    "show(p)  # open a browser"
   ]
  },
  {
   "cell_type": "markdown",
   "metadata": {
    "collapsed": true
   },
   "source": [
    "### Highly-specialized libraries\n",
    "\n",
    "There are some highly-specialized libraries for Python that are useful.  The [**Folium**](http://folium.readthedocs.org/) library is a port of the **Leaflet** java library that is used for making convenient interactive maps.   One example is provided below. \n",
    "\n",
    "Install Folium with the command: pip install folium\n"
   ]
  },
  {
   "cell_type": "code",
   "execution_count": null,
   "metadata": {
    "collapsed": true
   },
   "outputs": [],
   "source": [
    "import folium\n",
    "import pandas as pd\n",
    "from matplotlib.colors import Normalize, rgb2hex\n",
    "import matplotlib.cm as cm"
   ]
  },
  {
   "cell_type": "code",
   "execution_count": null,
   "metadata": {
    "collapsed": false
   },
   "outputs": [],
   "source": [
    "data = pd.read_csv('http://earthquake.usgs.gov/earthquakes/feed/v1.0/summary/all_day.csv')\n",
    "norm=Normalize(data['mag'].min(), data['mag'].max())\n",
    "\n",
    "map = folium.Map(location=[48,-102], zoom_start=3)\n",
    "for eq in data.iterrows():\n",
    "    color = rgb2hex(cm.OrRd(norm(float(eq[1]['mag']))))\n",
    "    map.circle_marker([eq[1]['latitude'], eq[1]['longitude']], \n",
    "                     popup=eq[1]['place'], \n",
    "                     radius=20000*float(eq[1]['mag']),\n",
    "                     line_color=color,\n",
    "                     fill_color=color)\n",
    "\n",
    "map.create_map(path='earthquake.html')"
   ]
  },
  {
   "cell_type": "markdown",
   "metadata": {},
   "source": [
    "folium outputs directly to HTML, so we have to choose a method to\n",
    "render it in i-python.  You could load it in a new browser window,\n",
    "but using the %%HTML tag you can treat the i-python notebook like\n",
    "an interactive html browser.  You need to put %%HTML at the start\n",
    "of your code block."
   ]
  },
  {
   "cell_type": "code",
   "execution_count": null,
   "metadata": {
    "collapsed": false
   },
   "outputs": [],
   "source": [
    "%%HTML\n",
    "<iframe width=\"100%\" height=\"350\" src=\"earthquake.html\"></iframe>"
   ]
  },
  {
   "cell_type": "code",
   "execution_count": null,
   "metadata": {
    "collapsed": true
   },
   "outputs": [],
   "source": []
  }
 ],
 "metadata": {
  "kernelspec": {
   "display_name": "Python 3",
   "language": "python",
   "name": "python3"
  },
  "language_info": {
   "codemirror_mode": {
    "name": "ipython",
    "version": 3
   },
   "file_extension": ".py",
   "mimetype": "text/x-python",
   "name": "python",
   "nbconvert_exporter": "python",
   "pygments_lexer": "ipython3",
   "version": "3.4.3"
  }
 },
 "nbformat": 4,
 "nbformat_minor": 0
}
