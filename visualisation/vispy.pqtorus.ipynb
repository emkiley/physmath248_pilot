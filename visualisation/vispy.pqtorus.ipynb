{
 "cells": [
  {
   "cell_type": "markdown",
   "metadata": {},
   "source": [
    "# Code for generating torus knots, framings, etc\n",
    "\n",
    "The code below is an elementary demonstration of parametric surfaces using vispy.  You are allowed to rotate the surface, and to zoom only. It generates images of what are called (p,q)-torus knots, and colours them according to the homological framing. \n",
    "\n",
    "**Block 1** sets up the basic information of the surface.  It is coded in sympy, and defined a surface around a (p,q) torus knot.  Everything is high-level and algebraic in this block. \n",
    "\n",
    "**Block 2** is set up to use four different methods to convert the sympy expression from block 1 into a function that can be called. We try these methods as the default sympy \"evalf\" command turns out to be *extremely* slow.  So we try lambdify, ufuncify and theano to determine the relative speed of our options.  For this task, ufuncify turns out to be the most efficient.  \n",
    "\n",
    "**Block 3** sets up the raw data vispy needs to render the scene, using the callable function we chose in Block 2.\n",
    "\n",
    "**Block 4** is where we communicate the data to vispy, and render. \n",
    "\n",
    "**TODO**: let's modify this using the vispy \"canvas\" to add an interactive element to the display. Future demonstrations will include:\n",
    "\n",
    "    1) animation of the knot thickness\n",
    "    2) animation of cocircular pentuples. "
   ]
  },
  {
   "cell_type": "code",
   "execution_count": 1,
   "metadata": {
    "collapsed": true
   },
   "outputs": [],
   "source": [
    "import sympy as sp\n",
    "\n",
    "## symbols we need to describe p,q-torus knots\n",
    "## t time parameter. p,q indexes the torus knot\n",
    "## r minor radius, R major radius\n",
    "spt, spp, spq, spr, spR = sp.symbols(\"t p q r R\", real=True)\n",
    "\n",
    "c = sp.Matrix([(spR+spr*sp.cos(2*sp.pi*spq*spt))*sp.cos(2*sp.pi*spp*spt), \n",
    "     (spR+spr*sp.cos(2*sp.pi*spq*spt))*sp.sin(2*sp.pi*spp*spt), \n",
    "      spr*sp.sin(2*sp.pi*spq*spt)])\n",
    "dc = sp.Matrix([sp.diff(x,spt) for x in c]) # derivative\n",
    "ldc = sp.sqrt(sum( [ x**2 for x in dc ] )).simplify() # speed\n",
    "udc = dc/ldc\n",
    "\n",
    "## 2nd order\n",
    "kc = sp.Matrix([sp.diff(x,spt) for x in udc]) # curvature vector\n",
    "ks = sp.sqrt(sum( [ x**2 for x in kc])) # curvature scalar\n",
    "ukc = kc/ks # unit curvature vector\n",
    "\n",
    "## bi-normal\n",
    "bnc = udc.cross(ukc) # cross of unit tangent and unit curvature.\n",
    "\n",
    "## the parametrization of the boundary of the width w tubular neighbourhood\n",
    "\n",
    "spw, spu = sp.symbols(\"w, u\", real=True) ## width of torus knot, and meridional parameter\n",
    "tSurf = c + spw*sp.cos(2*sp.pi*spu)*ukc + spw*sp.sin(2*sp.pi*spu)*bnc"
   ]
  },
  {
   "cell_type": "code",
   "execution_count": 2,
   "metadata": {
    "collapsed": false
   },
   "outputs": [
    {
     "name": "stderr",
     "output_type": "stream",
     "text": [
      "Using gpu device 0: Quadro K2000M (CNMeM is disabled)\n"
     ]
    }
   ],
   "source": [
    "## Let's have a visualization routine that takes as input a curve and a framing of the curve.  \n",
    "##  We will then plot things like a tubular neighbourhood of the curve, together with some\n",
    "##  decoration on the boundary. \n",
    "\n",
    "import numpy as np\n",
    "import itertools as it\n",
    "\n",
    "## (a) lambdify with numpy.  This returns a 3-element list.\n",
    "knotSnp = sp.lambdify((spt, spp, spq, spr, spR, spw, spu), tSurf, \"numpy\" )\n",
    "\n",
    "## (b) ufuncify\n",
    "from sympy.utilities.autowrap import ufuncify\n",
    "knotSuf = [ufuncify([spt, spp, spq, spr, spR, spw, spu], tSurf[i]) for i in range(3)]\n",
    "\n",
    "## (c) theano\n",
    "from sympy.printing.theanocode import theano_function\n",
    "knotSth = theano_function([spt,spp,spq,spr,spR,spw,spu], [tSurf],\n",
    "                          dims={spt:0, spp:0, spq:0, spr:0, spR:0, spw:0, spu:0})\n",
    "\n",
    "## Let's have a visualization routine that takes as input a curve and a framing of the curve.  \n",
    "##  We will then plot things like a tubular neighbourhood of the curve, together with some\n",
    "##  decoration on the boundary. \n",
    "\n",
    "import numpy as np\n",
    "import itertools as it\n",
    "\n",
    "## (a) lambdify with numpy.  This returns a 3-element list.\n",
    "knotSnp = sp.lambdify((spt, spp, spq, spr, spR, spw, spu), tSurf, \"numpy\" )\n",
    "\n",
    "## (b) ufuncify\n",
    "from sympy.utilities.autowrap import ufuncify\n",
    "knotSuf = [ufuncify([spt, spp, spq, spr, spR, spw, spu], tSurf[i]) for i in range(3)]\n",
    "\n",
    "## (c) theano\n",
    "from sympy.printing.theanocode import theano_function\n",
    "knotSth = theano_function([spt,spp,spq,spr,spR,spw,spu], [tSurf],\n",
    "                          dims={spt:0, spp:0, spq:0, spr:0, spR:0, spw:0, spu:0})\n",
    "\n",
    "kp = 5 ## these are the \"p\" and\n",
    "kq = 3 ## \"q\" of our (p,q) torus knot.\n",
    "tR = 1.6 # major torus radius\n",
    "tr = 0.6 # minor torus radius. \n",
    "kt = (np.pi*tr) / (4*kp) # knot radial thickness 2*pi*tr is circumf, and kp strands pass through so this\n",
    "## should be around 2*pi*tr  would be 2*kp*kt for the knot to fill the surface, i.e kt = pi*tr / 4*kp\n",
    "## make bigger or smaller depending on how much empty space one wants to see.\n",
    "\n",
    "seg = kp*300 ## segments along length of pq torus knot. kp*120 gives a fairly smooth image.\n",
    "segm = 40 ## meridional segmentation of pq torus knot. 60 is fairly smooth. \n",
    "\n",
    "def surf1(i,j): ## sympy raw\n",
    "    return np.array(tSurf.evalf(subs={spt:float(i)/seg, spu:float(j)/segm, \n",
    "                                       spp:kp, spq:kq, spr:tr, spR:tR, spw:kt}) )\n",
    "def surf2(i,j): ## lambdify\n",
    "    return np.array(knotSnp(float(i)/seg, kp, kq, tr, tR, kt, float(j)/segm)).ravel()\n",
    "def surf3(i,j): ## ufuncify\n",
    "    return np.array([knotSuf[k](float(i)/seg, kp, kq, tr, tR, kt, float(j)/segm) for k in range(3)])\n",
    "def surf4(i,j): ## theano\n",
    "    return knotSth(float(i)/seg, kp, kq, tr, tR, kt, float(j)/segm).ravel()\n",
    "\n",
    "Surf = [surf1, surf2, surf3, surf4]\n",
    "SurfLabel = [\"sympy.evalf\", \"sympy.lambdify\", \"ufuncify\", \"theano\"]"
   ]
  },
  {
   "cell_type": "code",
   "execution_count": 3,
   "metadata": {
    "collapsed": false
   },
   "outputs": [
    {
     "name": "stdout",
     "output_type": "stream",
     "text": [
      "ufuncify mesh generation: 12.16636872291565 seconds.\n"
     ]
    }
   ],
   "source": [
    "k = 2 # determines which method we use to cast sympy expressions to a callable function.\n",
    "\n",
    "import time as ti\n",
    "start=ti.time()\n",
    "surf = Surf[k]\n",
    "pqMesh = np.array(list( it.chain.from_iterable(([surf(i,j), surf(i+1,j), surf(i,j+1)], \n",
    "                                                [surf(i+1,j), surf(i+1,j+1), surf(i,j+1)]) for i,j in it.product(range(seg), range(segm)))))\n",
    "end=ti.time()\n",
    "print(SurfLabel[k]+\" mesh generation: \"+str(end-start)+\" seconds.\", flush=True)\n",
    "\n",
    "colA = np.array([0.0, 0.0, 1.0, 1.0])\n",
    "colB = np.array([1.0, 1.0, 0.0, 1.0])\n",
    "\n",
    "#print(SurfLabel[useFunc] + str(\" mesh \")+str(pqMesh))\n",
    "\n",
    "def iCol(i,j): ## interpolates between colA and colB\n",
    "    alph = np.pi*float(j)/segm\n",
    "    bet = np.pi*float(i)/seg\n",
    "    gam = 1.0*alph - kp*kq*bet ## coprime combination of alpha and beta\n",
    "    return (np.sin(gam)**2)*colA + (np.cos(gam)**2)*colB\n",
    "    \n",
    "## coloration of mesh\n",
    "pqColors = np.array(list(it.chain.from_iterable(([iCol(i,j),iCol(i+1,j),iCol(i,j+1)], \n",
    "                                              [iCol(i+1,j),iCol(i+1,j+1),iCol(i,j+1)]) for i,j in it.product(range(seg), range(segm)) )))"
   ]
  },
  {
   "cell_type": "code",
   "execution_count": 4,
   "metadata": {
    "collapsed": false
   },
   "outputs": [
    {
     "name": "stderr",
     "output_type": "stream",
     "text": [
      "INFO: Could not import backend \"PyQt4\":\n",
      "cannot import name 'QtOpenGL'\n",
      "INFO:vispy:Could not import backend \"PyQt4\":\n",
      "cannot import name 'QtOpenGL'\n",
      "INFO: Could not import backend \"PyQt5\":\n",
      "cannot import name 'QtOpenGL'\n",
      "INFO:vispy:Could not import backend \"PyQt5\":\n",
      "cannot import name 'QtOpenGL'\n",
      "/usr/local/lib/python3.4/dist-packages/IPython/config.py:13: ShimWarning: The `IPython.config` package has been deprecated. You should import from traitlets.config instead.\n",
      "  \"You should import from traitlets.config instead.\", ShimWarning)\n"
     ]
    },
    {
     "data": {
      "text/plain": [
       "0"
      ]
     },
     "execution_count": 4,
     "metadata": {},
     "output_type": "execute_result"
    }
   ],
   "source": [
    "## Let's now generate the vispy data\n",
    "from vispy import geometry, app, scene\n",
    "import vispy, sys\n",
    "from vispy.scene import cameras\n",
    "\n",
    "canvas = scene.SceneCanvas(keys='interactive', size=(800, 600), show=True)\n",
    "view = canvas.central_widget.add_view()\n",
    "view.parent = canvas.scene\n",
    "view.camera = scene.TurntableCamera(parent=view.scene, fov=45)  \n",
    "view.bgcolor = '#606060'\n",
    "## shading options are empty (pass nothing), shading='smooth' and shading='flat'\n",
    "pqtorus = scene.visuals.Mesh(pqMesh,face_colors=pqColors, shading='smooth')\n",
    "\n",
    "axis = scene.visuals.XYZAxis(parent=view.scene)\n",
    "\n",
    "## and showtime! \n",
    "view.add(pqtorus)\n",
    "canvas.app.run()"
   ]
  },
  {
   "cell_type": "code",
   "execution_count": null,
   "metadata": {
    "collapsed": false
   },
   "outputs": [],
   "source": []
  }
 ],
 "metadata": {
  "kernelspec": {
   "display_name": "Python 3",
   "language": "python",
   "name": "python3"
  },
  "language_info": {
   "codemirror_mode": {
    "name": "ipython",
    "version": 3
   },
   "file_extension": ".py",
   "mimetype": "text/x-python",
   "name": "python",
   "nbconvert_exporter": "python",
   "pygments_lexer": "ipython3",
   "version": "3.4.3"
  }
 },
 "nbformat": 4,
 "nbformat_minor": 0
}
