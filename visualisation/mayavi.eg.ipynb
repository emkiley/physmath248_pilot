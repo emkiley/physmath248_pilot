{
 "cells": [
  {
   "cell_type": "code",
   "execution_count": 1,
   "metadata": {
    "collapsed": false
   },
   "outputs": [
    {
     "ename": "ImportError",
     "evalue": "No module named 'mayavi'",
     "output_type": "error",
     "traceback": [
      "\u001b[1;31m---------------------------------------------------------------------------\u001b[0m",
      "\u001b[1;31mImportError\u001b[0m                               Traceback (most recent call last)",
      "\u001b[1;32m<ipython-input-1-a59a669fff60>\u001b[0m in \u001b[0;36m<module>\u001b[1;34m()\u001b[0m\n\u001b[0;32m      3\u001b[0m \u001b[1;33m\u001b[0m\u001b[0m\n\u001b[0;32m      4\u001b[0m \u001b[1;32mimport\u001b[0m \u001b[0mnumpy\u001b[0m \u001b[1;32mas\u001b[0m \u001b[0mnp\u001b[0m\u001b[1;33m\u001b[0m\u001b[0m\n\u001b[1;32m----> 5\u001b[1;33m \u001b[1;32mfrom\u001b[0m \u001b[0mmayavi\u001b[0m \u001b[1;32mimport\u001b[0m \u001b[0mmlab\u001b[0m\u001b[1;33m\u001b[0m\u001b[0m\n\u001b[0m\u001b[0;32m      6\u001b[0m \u001b[1;33m\u001b[0m\u001b[0m\n\u001b[0;32m      7\u001b[0m \u001b[1;31m## Let's try the helical spiral in Mayavi.\u001b[0m\u001b[1;33m\u001b[0m\u001b[1;33m\u001b[0m\u001b[0m\n",
      "\u001b[1;31mImportError\u001b[0m: No module named 'mayavi'"
     ]
    }
   ],
   "source": [
    "## More Mayavi examples.\n",
    "## Due to VTK restrictions, requires Python 2.\n",
    "\n",
    "import numpy as np\n",
    "from mayavi import mlab\n",
    "\n",
    "## Let's try the helical spiral in Mayavi.\n",
    "\n",
    "outRad = 2.2\n",
    "inRad = 0.5\n",
    "rN = 40\n",
    "\n",
    "tStart = 0\n",
    "tEnd = 8*np.pi\n",
    "tN = 20\n",
    "\n",
    "[theta, rad] = np.mgrid[tStart:tEnd:np.pi/tN, inRad:outRad:1.0/rN]\n",
    "\n",
    "x = rad*np.cos(theta)\n",
    "y = rad*np.sin(theta)\n",
    "z = theta/5\n",
    "\n",
    "s = mlab.mesh(x,y,z)\n",
    "mlab.show()"
   ]
  },
  {
   "cell_type": "code",
   "execution_count": null,
   "metadata": {
    "collapsed": true
   },
   "outputs": [],
   "source": [
    "## And let's jazz it up a little. \n",
    "\n",
    "outRad = 2.2\n",
    "inRad = 0.5\n",
    "rN = 40\n",
    "\n",
    "tStart = 0\n",
    "tEnd = 8*np.pi\n",
    "tN = 80\n",
    "\n",
    "## the helix\n",
    "[theta, rad] = np.mgrid[tStart:tEnd:np.pi/tN, inRad:outRad:1.0/rN]\n",
    "x = rad*np.cos(theta)\n",
    "y = rad*np.sin(theta)\n",
    "z = theta/5\n",
    "s = mlab.mesh(x,y,z)\n",
    "\n",
    "## the central axis\n",
    "mlab.plot3d([0,0], [0,0], [0, tEnd/5], tube_radius=0.2, tube_sides=20)\n",
    "\n",
    "## outer ridge\n",
    "theta = np.mgrid[tStart:tEnd:np.pi/tN]\n",
    "mlab.plot3d(outRad*np.cos(theta), outRad*np.sin(theta), theta/5, \n",
    "            tube_radius=0.02, tube_sides=10, color=(0.2,0.2,0.4))\n",
    "\n",
    "## inner ridge\n",
    "mlab.plot3d(inRad*np.cos(theta), inRad*np.sin(theta), theta/5, \n",
    "            tube_radius=0.02, tube_sides=10, color=(0.2,0.2,0.4))\n",
    "\n",
    "\n",
    "mlab.show()"
   ]
  },
  {
   "cell_type": "code",
   "execution_count": null,
   "metadata": {
    "collapsed": true
   },
   "outputs": [],
   "source": [
    "## Mayavi also is happy with \"implicitly defined\" surfaces\n",
    "## i.e. solution sets f(x,y,z) = 0\n",
    "\n",
    "bd = 1.1\n",
    "x,y,z = np.ogrid[-bd:bd:240j, -bd:bd:240j, -bd:bd:240j]\n",
    "F = ((x**2+y**2-0.85**2)**2 + (z**2-1)**2)*((y**2+z**2-0.85**2)**2 + (x**2-1)**2)*((z**2+x**2-0.85**2)**2 + (y**2-1)**2)\n",
    "mlab.contour3d(F, contours=[0.03], color=(0.5,1,1))\n",
    "mlab.contour3d(F, contours=[0.90], color=(1,0,0))\n",
    "#mlab.contour3d(F, contours=[4], color=(0,1,0))\n",
    "#mlab.contour3d(F, contours=[-4], color=(0,0,1))\n",
    "\n",
    "mlab.show()\n"
   ]
  }
 ],
 "metadata": {
  "kernelspec": {
   "display_name": "Python 3",
   "language": "python",
   "name": "python3"
  },
  "language_info": {
   "codemirror_mode": {
    "name": "ipython",
    "version": 3
   },
   "file_extension": ".py",
   "mimetype": "text/x-python",
   "name": "python",
   "nbconvert_exporter": "python",
   "pygments_lexer": "ipython3",
   "version": "3.4.3"
  }
 },
 "nbformat": 4,
 "nbformat_minor": 0
}
