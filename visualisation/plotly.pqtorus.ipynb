{
 "cells": [
  {
   "cell_type": "markdown",
   "metadata": {},
   "source": [
    "## Plotly (p,q)-torus knot plot. "
   ]
  },
  {
   "cell_type": "code",
   "execution_count": 1,
   "metadata": {
    "collapsed": true
   },
   "outputs": [],
   "source": [
    "import sympy as sp\n",
    "\n",
    "## symbols we need to describe p,q-torus knots\n",
    "## t time parameter. p,q indexes the torus knot\n",
    "## r minor radius, R major radius\n",
    "spt, spp, spq, spr, spR = sp.symbols(\"t p q r R\", real=True)\n",
    "\n",
    "c = sp.Matrix([(spR+spr*sp.cos(2*sp.pi*spq*spt))*sp.cos(2*sp.pi*spp*spt), \n",
    "     (spR+spr*sp.cos(2*sp.pi*spq*spt))*sp.sin(2*sp.pi*spp*spt), \n",
    "      spr*sp.sin(2*sp.pi*spq*spt)])\n",
    "dc = sp.Matrix([sp.diff(x,spt) for x in c]) # derivative\n",
    "ldc = sp.sqrt(sum( [ x**2 for x in dc ] )).simplify() # speed\n",
    "udc = dc/ldc\n",
    "\n",
    "## 2nd order\n",
    "kc = sp.Matrix([sp.diff(x,spt) for x in udc]) # curvature vector\n",
    "ks = sp.sqrt(sum( [ x**2 for x in kc])) # curvature scalar\n",
    "ukc = kc/ks # unit curvature vector\n",
    "\n",
    "## bi-normal\n",
    "bnc = udc.cross(ukc) # cross of unit tangent and unit curvature.\n",
    "\n",
    "## the parametrization of the boundary of the width w tubular neighbourhood\n",
    "\n",
    "spw, spu = sp.symbols(\"w, u\", real=True) ## width of torus knot, and meridional parameter\n",
    "tSurf = c + spw*sp.cos(2*sp.pi*spu)*ukc + spw*sp.sin(2*sp.pi*spu)*bnc"
   ]
  },
  {
   "cell_type": "code",
   "execution_count": 52,
   "metadata": {
    "collapsed": false
   },
   "outputs": [],
   "source": [
    "## Let's have a visualization routine that takes as input a curve and a framing of the curve.  \n",
    "##  We will then plot things like a tubular neighbourhood of the curve, together with some\n",
    "##  decoration on the boundary. \n",
    "\n",
    "import numpy as np\n",
    "import itertools as it\n",
    "\n",
    "## (a) lambdify with numpy.  This returns a 3-element list.\n",
    "knotSnp = sp.lambdify((spt, spp, spq, spr, spR, spw, spu), tSurf, \"numpy\" )\n",
    "\n",
    "## (b) ufuncify\n",
    "from sympy.utilities.autowrap import ufuncify\n",
    "knotSuf = [ufuncify([spt, spp, spq, spr, spR, spw, spu], tSurf[i]) for i in range(3)]\n",
    "\n",
    "## (c) theano\n",
    "from sympy.printing.theanocode import theano_function\n",
    "knotSth = theano_function([spt,spp,spq,spr,spR,spw,spu], [tSurf],\n",
    "                          dims={spt:0, spp:0, spq:0, spr:0, spR:0, spw:0, spu:0})\n",
    "\n",
    "## Let's have a visualization routine that takes as input a curve and a framing of the curve.  \n",
    "##  We will then plot things like a tubular neighbourhood of the curve, together with some\n",
    "##  decoration on the boundary. \n",
    "\n",
    "import numpy as np\n",
    "import itertools as it\n",
    "\n",
    "## (a) lambdify with numpy.  This returns a 3-element list.\n",
    "knotSnp = sp.lambdify((spt, spp, spq, spr, spR, spw, spu), tSurf, \"numpy\" )\n",
    "\n",
    "## (b) ufuncify\n",
    "from sympy.utilities.autowrap import ufuncify\n",
    "knotSuf = [ufuncify([spt, spp, spq, spr, spR, spw, spu], tSurf[i]) for i in range(3)]\n",
    "\n",
    "## (c) theano\n",
    "from sympy.printing.theanocode import theano_function\n",
    "knotSth = theano_function([spt,spp,spq,spr,spR,spw,spu], [tSurf],\n",
    "                          dims={spt:0, spp:0, spq:0, spr:0, spR:0, spw:0, spu:0})\n",
    "\n",
    "kp = 2 ## these are the \"p\" and\n",
    "kq = 3 ## \"q\" of our (p,q) torus knot.\n",
    "tR = 1.6 # major torus radius\n",
    "tr = 0.6 # minor torus radius. \n",
    "kt = (np.pi*tr) / (4*kp) # knot radial thickness 2*pi*tr is circumf, and kp strands pass through so this\n",
    "## should be around 2*pi*tr  would be 2*kp*kt for the knot to fill the surface, i.e kt = pi*tr / 4*kp\n",
    "## make bigger or smaller depending on how much empty space one wants to see.\n",
    "\n",
    "seg = kp*300 ## segments along length of pq torus knot. kp*120 gives a fairly smooth image.\n",
    "segm = 40 ## meridional segmentation of pq torus knot. 60 is fairly smooth. \n",
    "\n",
    "def surf1(i,j): ## sympy raw\n",
    "    return np.array(tSurf.evalf(subs={spt:float(i)/seg, spu:float(j)/segm, \n",
    "                                       spp:kp, spq:kq, spr:tr, spR:tR, spw:kt}) )\n",
    "def surf2(i,j): ## lambdify\n",
    "    return np.array(knotSnp(float(i)/seg, kp, kq, tr, tR, kt, float(j)/segm)).ravel()\n",
    "def surf3(i,j): ## ufuncify\n",
    "    return np.array([knotSuf[k](float(i)/seg, kp, kq, tr, tR, kt, float(j)/segm) for k in range(3)])\n",
    "def surf4(i,j): ## theano\n",
    "    return knotSth(float(i)/seg, kp, kq, tr, tR, kt, float(j)/segm).ravel()\n",
    "\n",
    "Surf = [surf1, surf2, surf3, surf4]\n",
    "SurfLabel = [\"sympy.evalf\", \"sympy.lambdify\", \"ufuncify\", \"theano\"]"
   ]
  },
  {
   "cell_type": "code",
   "execution_count": 53,
   "metadata": {
    "collapsed": false
   },
   "outputs": [
    {
     "name": "stdout",
     "output_type": "stream",
     "text": [
      "ufuncify mesh generation: 0.9123528003692627 seconds.\n"
     ]
    }
   ],
   "source": [
    "k = 2 # determines which method we use to cast sympy expressions to a callable function.\n",
    "surf = Surf[k]\n",
    "\n",
    "import time as ti\n",
    "start=ti.time()\n",
    "xyz = np.ndarray( (seg+1, segm+1, 3) )\n",
    "for i,j in it.product( range(seg+1), range(segm+1) ):\n",
    "    xyz[i,j] = surf(i,j)\n",
    "end=ti.time()\n",
    "print(SurfLabel[k]+\" mesh generation: \"+str(end-start)+\" seconds.\", flush=True)\n",
    "x = np.ndarray((seg+1,segm+1))\n",
    "y = np.ndarray((seg+1,segm+1))\n",
    "z = np.ndarray((seg+1,segm+1))\n",
    "\n",
    "for i,j in it.product( range(seg+1), range(segm+1) ):\n",
    "    x[i,j] = xyz[i,j,0]\n",
    "    y[i,j] = xyz[i,j,1]\n",
    "    z[i,j] = xyz[i,j,2]\n",
    "\n",
    "colA = np.array([0.0, 0.0, 1.0, 1.0])\n",
    "colB = np.array([1.0, 1.0, 0.0, 1.0])\n",
    "\n",
    "def iCol(i,j): ## interpolates between colA and colB\n",
    "    alph = np.pi*float(j)/segm\n",
    "    bet = np.pi*float(i)/seg\n",
    "    gam = 1.0*alph - kp*kq*bet ## coprime combination of alpha and beta\n",
    "    return (np.sin(gam)**2)*colA + (np.cos(gam)**2)*colB\n"
   ]
  },
  {
   "cell_type": "code",
   "execution_count": 54,
   "metadata": {
    "collapsed": false
   },
   "outputs": [
    {
     "data": {
      "text/plain": [
       "'https://plot.ly/~Ryan.Budney/20'"
      ]
     },
     "execution_count": 54,
     "metadata": {},
     "output_type": "execute_result"
    }
   ],
   "source": [
    "import plotly as py\n",
    "import plotly.graph_objs as go\n",
    "\n",
    "surface = go.Surface(x=x, y=y, z=z)\n",
    "#help(surface)\n",
    "data = [surface]\n",
    "\n",
    "layout = go.Layout(\n",
    "    title='({},{}) torus knot'.format(kp,kq),\n",
    "    scene=dict(\n",
    "        xaxis=dict(\n",
    "            gridcolor='rgb(255, 255, 255)',\n",
    "            zerolinecolor='rgb(255, 255, 255)',\n",
    "            showbackground=True,\n",
    "            backgroundcolor='rgb(230, 230,230)'\n",
    "        ),\n",
    "        yaxis=dict(\n",
    "            gridcolor='rgb(255, 255, 255)',\n",
    "            zerolinecolor='rgb(255, 255, 255)',\n",
    "            showbackground=True,\n",
    "            backgroundcolor='rgb(230, 230,230)'\n",
    "        ),\n",
    "        zaxis=dict(\n",
    "            gridcolor='rgb(255, 255, 255)',\n",
    "            zerolinecolor='rgb(255, 255, 255)',\n",
    "            showbackground=True,\n",
    "            backgroundcolor='rgb(230, 230,230)'\n",
    "        )\n",
    "    )\n",
    ")\n",
    "\n",
    "fig = go.Figure(data=data, layout=layout)\n",
    "py.plotly.plot(fig, filename='{}{}_torusknot'.format(kp,kq))\n",
    "#py.offline.plot(fig, filename='{}{}_torusknot'.format(kp,kq))"
   ]
  },
  {
   "cell_type": "code",
   "execution_count": null,
   "metadata": {
    "collapsed": true
   },
   "outputs": [],
   "source": []
  }
 ],
 "metadata": {
  "kernelspec": {
   "display_name": "Python 3",
   "language": "python",
   "name": "python3"
  },
  "language_info": {
   "codemirror_mode": {
    "name": "ipython",
    "version": 3
   },
   "file_extension": ".py",
   "mimetype": "text/x-python",
   "name": "python",
   "nbconvert_exporter": "python",
   "pygments_lexer": "ipython3",
   "version": "3.4.3"
  }
 },
 "nbformat": 4,
 "nbformat_minor": 0
}
