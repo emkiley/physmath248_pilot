{
 "cells": [
  {
   "cell_type": "markdown",
   "metadata": {},
   "source": [
    "## Plotly (p,q)-torus knot plot. \n",
    "\n",
    "See the [vispy torus plot](vispy.pqtorus.ipynb) notebook for details on how this code is designed.  The plotly code is meant as a \"direct port\" of the vispy code.  The last block of code is the primary difference, but the 3rd block has also changed as plotly does not have as flexible ways of defining the colouration of a parametric surface."
   ]
  },
  {
   "cell_type": "code",
   "execution_count": null,
   "metadata": {
    "collapsed": true
   },
   "outputs": [],
   "source": [
    "import sympy as sp\n",
    "\n",
    "## symbols we need to describe p,q-torus knots\n",
    "## t time parameter. p,q indexes the torus knot\n",
    "## r minor radius, R major radius\n",
    "spt, spp, spq, spr, spR = sp.symbols(\"t p q r R\", real=True)\n",
    "\n",
    "c = sp.Matrix([(spR+spr*sp.cos(2*sp.pi*spq*spt))*sp.cos(2*sp.pi*spp*spt), \n",
    "     (spR+spr*sp.cos(2*sp.pi*spq*spt))*sp.sin(2*sp.pi*spp*spt), \n",
    "      spr*sp.sin(2*sp.pi*spq*spt)])\n",
    "dc = sp.Matrix([sp.diff(x,spt) for x in c]) # derivative\n",
    "ldc = sp.sqrt(sum( [ x**2 for x in dc ] )).simplify() # speed\n",
    "udc = dc/ldc\n",
    "\n",
    "## 2nd order\n",
    "kc = sp.Matrix([sp.diff(x,spt) for x in udc]) # curvature vector\n",
    "ks = sp.sqrt(sum( [ x**2 for x in kc])) # curvature scalar\n",
    "ukc = kc/ks # unit curvature vector\n",
    "\n",
    "## bi-normal\n",
    "bnc = udc.cross(ukc) # cross of unit tangent and unit curvature.\n",
    "\n",
    "## the parametrization of the boundary of the width w tubular neighbourhood\n",
    "\n",
    "spw, spu = sp.symbols(\"w, u\", real=True) ## width of torus knot, and meridional parameter\n",
    "kp = 3 ## these are the \"p\" and\n",
    "kq = 2 ## \"q\" of our (p,q) torus knot.\n",
    "\n",
    "tSurf = c + spw*sp.cos(2*sp.pi*(spu+kp*kq*spt))*ukc + spw*sp.sin(2*sp.pi*(spu+kp*kq*spt))*bnc\n"
   ]
  },
  {
   "cell_type": "code",
   "execution_count": null,
   "metadata": {
    "collapsed": false
   },
   "outputs": [],
   "source": [
    "## Let's have a visualization routine that takes as input a curve and a framing of the curve.  \n",
    "##  We will then plot things like a tubular neighbourhood of the curve, together with some\n",
    "##  decoration on the boundary. \n",
    "\n",
    "import numpy as np\n",
    "import itertools as it\n",
    "\n",
    "## (a) lambdify with numpy.  This returns a 3-element list.\n",
    "knotSnp = sp.lambdify((spt, spp, spq, spr, spR, spw, spu), tSurf, \"numpy\" )\n",
    "\n",
    "## (b) ufuncify\n",
    "from sympy.utilities.autowrap import ufuncify\n",
    "knotSuf = [ufuncify([spt, spp, spq, spr, spR, spw, spu], tSurf[i]) for i in range(3)]\n",
    "\n",
    "## (c) theano\n",
    "from sympy.printing.theanocode import theano_function\n",
    "knotSth = theano_function([spt,spp,spq,spr,spR,spw,spu], [tSurf],\n",
    "                          dims={spt:0, spp:0, spq:0, spr:0, spR:0, spw:0, spu:0})\n",
    "\n",
    "tR = 1.6 # major torus radius\n",
    "tr = 0.6 # minor torus radius. \n",
    "kt = (np.pi*tr) / (4*kp) # knot radial thickness 2*pi*tr is circumf, and kp strands pass through so this\n",
    "## should be around 2*pi*tr  would be 2*kp*kt for the knot to fill the surface, i.e kt = pi*tr / 4*kp\n",
    "## make bigger or smaller depending on how much empty space one wants to see.\n",
    "\n",
    "seg = kp*300 ## segments along length of pq torus knot. kp*120 gives a fairly smooth image.\n",
    "segm = 40 ## meridional segmentation of pq torus knot. 60 is fairly smooth. \n",
    "\n",
    "def surf1(i,j): ## sympy raw\n",
    "    return np.array(tSurf.evalf(subs={spt:float(i)/seg, spu:float(j)/segm, \n",
    "                                       spp:kp, spq:kq, spr:tr, spR:tR, spw:kt}) )\n",
    "def surf2(i,j): ## lambdify\n",
    "    return np.array(knotSnp(float(i)/seg, kp, kq, tr, tR, kt, float(j)/segm)).ravel()\n",
    "def surf3(i,j): ## ufuncify\n",
    "    return np.array([knotSuf[k](float(i)/seg, kp, kq, tr, tR, kt, float(j)/segm) for k in range(3)])\n",
    "def surf4(i,j): ## theano\n",
    "    return knotSth(float(i)/seg, kp, kq, tr, tR, kt, float(j)/segm).ravel()\n",
    "\n",
    "Surf = [surf1, surf2, surf3, surf4]\n",
    "SurfLabel = [\"sympy.evalf\", \"sympy.lambdify\", \"ufuncify\", \"theano\"]"
   ]
  },
  {
   "cell_type": "code",
   "execution_count": null,
   "metadata": {
    "collapsed": false
   },
   "outputs": [],
   "source": [
    "k = 2 # determines which method we use to cast sympy expressions to a callable function.\n",
    "surf = Surf[k]\n",
    "\n",
    "import time as ti\n",
    "start=ti.time()\n",
    "xyz = np.ndarray( (seg+1, segm+1, 3) )\n",
    "for i,j in it.product( range(seg+1), range(segm+1) ):\n",
    "    ## put the affine reparametrization here. \n",
    "    xyz[i,j] = surf(i,j)\n",
    "end=ti.time()\n",
    "print(SurfLabel[k]+\" mesh generation: \"+str(end-start)+\" seconds.\", flush=True)\n",
    "\n",
    "x = np.ndarray((seg+1,segm+1))\n",
    "y = np.ndarray((seg+1,segm+1))\n",
    "z = np.ndarray((seg+1,segm+1))\n",
    "\n",
    "for i,j in it.product( range(seg+1), range(segm+1) ):\n",
    "    x[i,j] = xyz[i,j,0]\n",
    "    y[i,j] = xyz[i,j,1]\n",
    "    z[i,j] = xyz[i,j,2]\n"
   ]
  },
  {
   "cell_type": "code",
   "execution_count": null,
   "metadata": {
    "collapsed": false
   },
   "outputs": [],
   "source": [
    "import plotly as py\n",
    "import plotly.graph_objs as go\n",
    "py.offline.init_notebook_mode()## disable this to upload to webpage\n",
    "\n",
    "MI = int(0.2*(segm+1)) ## index for meridional color segmentation\n",
    "surface1 = go.Surface(x=x[0:seg+1:1, 0:MI+1:1], y=y[0:seg+1:1, 0:MI+1:1], \n",
    "                      z=z[0:seg+1:1, 0:MI+1:1], \n",
    "                     colorscale=[[0.0, 'rgb(220,0,0)'], [1.0, 'rgb(255,0,0)']])\n",
    "surface2 = go.Surface(x=x[0:seg+1:1, MI:segm+1:1], y=y[0:seg+1:1, MI:segm+1:1], \n",
    "                      z=z[0:seg+1:1, MI:segm+1:1], \n",
    "                      colorscale=[[0.0, 'rgb(230,230,80)'], [1.0, 'rgb(240,240,140)']]\n",
    "                     )\n",
    "\n",
    "## todo: data=[surface1, surface2]\n",
    "data = [surface1, surface2]"
   ]
  },
  {
   "cell_type": "code",
   "execution_count": null,
   "metadata": {
    "collapsed": false
   },
   "outputs": [],
   "source": [
    "layout = go.Layout(\n",
    "    title='({},{}) torus knot'.format(kp,kq),\n",
    "    scene=dict(\n",
    "        xaxis=dict(\n",
    "            gridcolor='rgb(255, 255, 255)',\n",
    "            zerolinecolor='rgb(255, 255, 255)',\n",
    "            showbackground=True,\n",
    "            backgroundcolor='rgb(230, 230,230)'\n",
    "        ),\n",
    "        yaxis=dict(\n",
    "            gridcolor='rgb(255, 255, 255)',\n",
    "            zerolinecolor='rgb(255, 255, 255)',\n",
    "            showbackground=True,\n",
    "            backgroundcolor='rgb(230, 230,230)'\n",
    "        ),\n",
    "        zaxis=dict(\n",
    "            gridcolor='rgb(255, 255, 255)',\n",
    "            zerolinecolor='rgb(255, 255, 255)',\n",
    "            showbackground=True,\n",
    "            backgroundcolor='rgb(230, 230,230)'\n",
    "        )\n",
    "    )\n",
    ")\n",
    "\n",
    "fig = go.Figure(data=data, layout=layout)\n",
    "#py.plotly.plot(fig, filename='{}{}_torusknot'.format(kp,kq))\n",
    "# py.offline.plot(fig) # renders in another window\n",
    "py.offline.iplot(fig)"
   ]
  },
  {
   "cell_type": "markdown",
   "metadata": {
    "collapsed": true
   },
   "source": [
    "Various plots that were generated by the above code and pushed to the plotly webpage are available [here](https://plot.ly/~Ryan.Budney/folder/home)."
   ]
  },
  {
   "cell_type": "code",
   "execution_count": null,
   "metadata": {
    "collapsed": true
   },
   "outputs": [],
   "source": []
  }
 ],
 "metadata": {
  "kernelspec": {
   "display_name": "Python 3",
   "language": "python",
   "name": "python3"
  },
  "language_info": {
   "codemirror_mode": {
    "name": "ipython",
    "version": 3
   },
   "file_extension": ".py",
   "mimetype": "text/x-python",
   "name": "python",
   "nbconvert_exporter": "python",
   "pygments_lexer": "ipython3",
   "version": "3.4.3"
  }
 },
 "nbformat": 4,
 "nbformat_minor": 0
}
