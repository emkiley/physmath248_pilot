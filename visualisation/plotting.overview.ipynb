{
 "cells": [
  {
   "cell_type": "markdown",
   "metadata": {},
   "source": [
    "## Some basic plotting experiments\n",
    "\n",
    "This notebook contains some basic plotting experiments, and explores the capabilities and syntax of the matplotlib library.  Matplotlib is a very capable library for 2-dimensional visualization, although it can sometimes take a fair bit of effort to make the plots exactly as one might desire. "
   ]
  },
  {
   "cell_type": "markdown",
   "metadata": {},
   "source": [
    "## Plotting in two dimensions with matplotlib.\n",
    "\n",
    "A useful resource for the basics of matplotlib is the [matplotlib FAQ \"General Concepts\" section](http://matplotlib.org/devdocs/faq/usage_faq.html#general-concepts).  It outlines the primary structures and terminology used by matplotlib.  We summarize this below. \n",
    "\n",
    "The **matplotlib.pyplot** module is the core library for producing 2-dimensional plots in matplotlib.  A display produced by matplotlib is called a **figure**, and figures have potentially many parts, called **axes**. \n",
    "\n",
    "<img src=\"fig_map.png\" alt=\"Riemann sum example\" width=300 height=300 alt=\"taken from http://matplotlib.org/devdocs/faq/usage_faq.html#general-concepts\">\n",
    "\n",
    "The **axes** belong to the figure.  matplotlib has a high-level graphics-display object called an **artist** and all objects (figures, axes, axis, text, etc) are artist objects. \n",
    "\n",
    "matplotlib expects all array-objects to be **numpy** arrays.  Other array types can work in matplotlib but often these create problems. \n",
    "\n",
    "matplotlib documentation distinguishes between the **backend** and the **frontend**. \n",
    "    \n",
    "- The frontend refers to the way in which you generate code for matplotlib.  For us, this is the i-python notebook.  \n",
    "- The backend refers to how one turns the code into graphics, or potentially an interactive environment. There are two primary backend types for matplotlib:\n",
    "- Hardcopy backends.  These generate static image files from your code. \n",
    "- Interactive backends.  These generate code (some generate and execute the code) for interactive graphics.  For example, some backends generate java code that can be integrated with a web-page to render your application on-line.\n",
    "        \n",
    "For most tasks we will use the default backend for matplotlib.  This requires no special actions. We will also explore applications that use other backends. "
   ]
  },
  {
   "cell_type": "markdown",
   "metadata": {},
   "source": [
    "### Simple plot types with matplotlib\n",
    "\n",
    "Let's start off making a basic figure.\n"
   ]
  },
  {
   "cell_type": "code",
   "execution_count": null,
   "metadata": {
    "collapsed": false
   },
   "outputs": [],
   "source": [
    "## let's begin with a basic plot that we can dress-up later.\n",
    "import numpy as np\n",
    "import matplotlib.pyplot as plt\n",
    "%matplotlib nbagg\n",
    "\n",
    "## the data\n",
    "dt = 0.001 ## how closely the x-coordinates are spaced\n",
    "t = np.arange(0.0, 2*np.pi, dt) ## x-coordinates of the plot\n",
    "y = np.sin(t) + (0.2+0.18*np.cos(13*t))*np.sin(36*t) ## y-oordinates of the plot\n",
    "\n",
    "## the plot\n",
    "plt.plot(t,y) # the x-axis coordinates come from the t-array. The y-axis from y-array.\n",
    "plt.xlabel('time')\n",
    "plt.ylabel('some complicated function of time, close to y=sin(t)')\n",
    "plt.title('A very basic plot')"
   ]
  },
  {
   "cell_type": "markdown",
   "metadata": {},
   "source": [
    "Criticisms or standard things one might want to change in a plot such as the above:\n",
    "    \n",
    "    1) It's too small.  \n",
    "    2) Notice the \"box\" is not cleanly aligned to the data on the right-side.\n",
    "    3) Let's make the text biggger. \n",
    "    4) Let's add a box in the top-right that says something, say if you wanted to insert a legend, or insert additional details for some other reason. \n",
    "    5) Let's make the y-axis text fit the box. "
   ]
  },
  {
   "cell_type": "code",
   "execution_count": null,
   "metadata": {
    "collapsed": false
   },
   "outputs": [],
   "source": [
    "fig = plt.figure() ## get the figure-object for our plot.\n",
    "fig.set_size_inches(10,10) ## set the dimensions for the figure\n",
    "\n",
    "plt.plot(t,y) ## use \"fontsize\" to adjust size of font.\n",
    "plt.xlabel('time', fontsize=20)\n",
    "plt.ylabel('some complicated function of time,\\n close to y=sin(t)', fontsize=20)\n",
    "plt.title('A very basic plot', fontsize=20)\n",
    "\n",
    "## Here we set the **axis** (not axes!).  axis are just the\n",
    "##  bounding box and decorations associated to our figure. \n",
    "xpad=0.1 ## gap between graph and box on left/right\n",
    "ypad=0.2 ## gap between graph and box top/bot\n",
    "plt.axis([0-xpad, 2*np.pi+xpad, np.amin(y)-ypad, np.amax(y)+xpad])\n",
    "plt.plot(t,y)\n",
    "plt.xticks([i*np.pi/4 for i in range(9)]) ## set the bottom ticks to be\n",
    "  ## multiples of pi. \n",
    "\n",
    "ax1 = plt.axes([0.59,0.59, 0.3, 0.3], axisbg='y')\n",
    "## the first two coordinates are the (x,y) coordinates\n",
    "## of the bottom-left of our red box.  The second two\n",
    "## are the width and height.  All are given int terms of\n",
    "## the dimensions of the underlying figure, with dimensions\n",
    "## measured from 0 to 1.  There are routines that allow you \n",
    "## to convert between these \"natural figure dimensions\" and\n",
    "## the dimensions of your data.  \n",
    "plt.xticks([1.0, 5.5]) ## change location of the tick marks\n",
    "plt.yticks([0.3, 1.5])\n",
    "plt.plot(t,y**2)\n",
    "plt.xlabel(\"plot of y^2 vs the same t\")"
   ]
  },
  {
   "cell_type": "markdown",
   "metadata": {},
   "source": [
    "Sometimes your data will have details you will want to see, but a standard linear scale (eg $\\{0, 1, 2, 3, 4, \\cdots\\}$ all spaced equally) does not suffice. "
   ]
  },
  {
   "cell_type": "code",
   "execution_count": null,
   "metadata": {
    "collapsed": false
   },
   "outputs": [],
   "source": [
    "dt = 0.001 ## how closely the x-coordinates are spaced\n",
    "t = np.arange(0.0, 2*np.pi, dt) ## x-coordinates of the plot\n",
    "y = (np.sin(t))**32+ 0.01\n",
    "plt.plot(t,y) ## standard linear plot\n",
    "#plt.semilogy(t,y) ## log plot on only the y-axis\n",
    " ## there is also a semilogx plot call\n",
    "#plt.loglog(t,y) ## logarithm of both the x and y-axis\n",
    "plt.title(\"Plot with details happening at various scales.\")"
   ]
  },
  {
   "cell_type": "code",
   "execution_count": null,
   "metadata": {
    "collapsed": false
   },
   "outputs": [],
   "source": [
    "## somewhat less related is the \"plot with error bars\" command\n",
    "## for this, we pass the errors in the x and y coordinates as lists\n",
    "\n",
    "dt = 0.4 ## how closely the x-coordinates are spaced\n",
    "t = np.arange(0.0, 2*np.pi, dt) ## x-coordinates of the plot\n",
    "y = (np.sin(t))**32+0.1\n",
    "ax1 = plt.subplot() ## another routine to request axis, and specify location\n",
    "#ax1.set_yscale(\"log\")  ## you can set the scale using the axes.\n",
    "\n",
    "yerrarr = np.zeros_like(t)\n",
    "## let's make the y errors somewhat irregular\n",
    "for i in range(len(yerrarr)): yerrarr[i] = 0.04+0.06*np.sin(8*np.pi*i/float(len(yerrarr)))**2\n",
    "\n",
    "## the plot takes the t coordinates, y coordinates, x-error bars as an array, \n",
    "## and y-error bars as an array.\n",
    "plt.errorbar(t,y, xerr=np.zeros_like(t)+0.1, yerr=yerrarr, ecolor='r')\n",
    "plt.title(\"y(t) = sin^32(t)+1/10\", fontsize=20)\n",
    "plt.xlabel(\"t-axis\")\n",
    "plt.ylabel(\"y-axis\")"
   ]
  },
  {
   "cell_type": "markdown",
   "metadata": {},
   "source": [
    "You can also use LaTex in your text. "
   ]
  },
  {
   "cell_type": "code",
   "execution_count": null,
   "metadata": {
    "collapsed": false
   },
   "outputs": [],
   "source": [
    "## Let's repeat a previous plot, but with some LaTeX. \n",
    "fig = plt.figure(3) \n",
    "fig.set_size_inches(10,10) \n",
    "\n",
    "dt = 0.001 ## how closely the x-coordinates are spaced\n",
    "t = np.arange(0.0, 2*np.pi, dt) ## x-coordinates of the plot\n",
    "y = np.sin(t) + (0.2+0.18*np.cos(13*t))*np.sin(36*t) ## y-oordinates of the plot\n",
    "\n",
    "plt.plot(t,y) \n",
    "\n",
    "## this tells matplotlib to use LaTeX to construct all the text!\n",
    "plt.rc('text', usetex=True)\n",
    "plt.rc('font', family='serif')\n",
    "\n",
    "plt.xlabel('time', fontsize=20)\n",
    "plt.ylabel('some complicated function of time,\\n close to $y=\\sin(t)$', fontsize=20)\n",
    "plt.title(\"A very basic plot using \\LaTeX\\n\"\n",
    "          \"handy if you need to describe formulas like \\n\"\n",
    "          r\"$y=\\sin t+(\\frac{1}{5}+\\frac{9}{50}\\cos(13t))\\sin(36t)$\", fontsize=20)\n",
    "## in the above the r before the quote indicates a \"raw\" string, making \n",
    "## escape sequences, such as \\n disabled.  This is because it would interpret\n",
    "## \\f as an escape sequence.  You could also type a regular string and write\n",
    "## \\\\frac instead of \\frac\n",
    "\n",
    "xpad=0.1 ## gap between graph and box on left/right\n",
    "ypad=0.2 ## gap between graph and box top/bot\n",
    "plt.axis([0-xpad, 2*np.pi+xpad, np.amin(y)-ypad, np.amax(y)+xpad])\n",
    "plt.plot(t,y)\n",
    "plt.xticks([i*np.pi/4 for i in range(9)]) ## set the bottom ticks to be\n",
    "  ## multiples of pi. \n",
    "\n",
    "ax1 = plt.axes([0.59,0.59, 0.3, 0.3], axisbg='y')\n",
    "plt.xticks([1.0, 5.5]) ## change location of the tick marks\n",
    "plt.yticks([0.3, 1.5])\n",
    "plt.plot(t,y**2)\n",
    "plt.xlabel(\"plot of $y^2$ vs the same $t$\", fontsize=16)"
   ]
  },
  {
   "cell_type": "markdown",
   "metadata": {},
   "source": [
    "## Other kinds of 2d plots in matplotlib. \n",
    "\n",
    "matplotlib lets you do any kind of 2d plot, the limit being only your imagination and the amount of time you are willing to put into the process.  But matplotlib also has a few helper-routines to make certain kinds of plots relatively easy-to-do.  We demonstrate below:\n",
    "\n",
    "    - shapes - produces standard shapes like arrows, regular polygons, boxes with rounded corners, circles, filled closed splines, etc. \n",
    "    - histograms \n",
    "    - contour plots \n",
    "    - pie charts \n",
    "    - polar coordinate plots\n",
    "    "
   ]
  },
  {
   "cell_type": "code",
   "execution_count": null,
   "metadata": {
    "collapsed": false
   },
   "outputs": [],
   "source": [
    "## a shape example: arrows, rounded rectanges, etc. \n",
    "import matplotlib.patches as mpat\n",
    "\n",
    "fig, ax = plt.subplots()\n",
    "\n",
    "## first pair are bottom-left coordinates before rectangle is \"rounded\"\n",
    "##  the second numbers are the width and height, like a regular rectangle.\n",
    "##\n",
    "## the pad number is the radius of the rounding, think of this as a little\n",
    "## disc of this radius being run with its centre along the original rectangle\n",
    "## boundary. \n",
    "##\n",
    "## fc is the filling color.  ec is the boundary color.\n",
    "rbox = mpat.FancyBboxPatch( (0.2,0.2), 0.4, 0.4, boxstyle=\"round,pad=0.1\",\n",
    "                           fc=(1.0, 0.6, 0.4), \n",
    "                           ec=(0.2, 0.8, 1.0) )\n",
    "ax.add_patch(rbox)\n",
    "\n",
    "ax.text(0.25, 0.35, 'Rounded Box', size=16)\n"
   ]
  },
  {
   "cell_type": "code",
   "execution_count": null,
   "metadata": {
    "collapsed": false
   },
   "outputs": [],
   "source": [
    "## a spline example\n",
    "import matplotlib.patches as mpat\n",
    "import matplotlib.path as mpth\n",
    "\n",
    "fig, ax = plt.subplots()\n",
    "\n",
    "P = mpth.Path\n",
    "path_data = [\n",
    "    (P.MOVETO, (0,0)),\n",
    "    (P.LINETO, (0,3)),\n",
    "    (P.CURVE4, (2.5,3)),\n",
    "    (P.CURVE4, (-2, 1.5)), \n",
    "    (P.LINETO, (1.4,0)),\n",
    "    (P.CLOSEPOLY, (0,0)),\n",
    "    ]\n",
    "codes,verts = zip(*path_data)\n",
    "path = mpth.Path(verts,codes)\n",
    "patch = mpat.PathPatch(path, facecolor='r', alpha=0.5)\n",
    "ax.add_patch(patch)\n",
    "\n",
    "x,y=zip(*path.vertices)\n",
    "line, = ax.plot(x,y,'go-')\n",
    "ax.grid()\n",
    "ax.axis('equal')"
   ]
  },
  {
   "cell_type": "code",
   "execution_count": null,
   "metadata": {
    "collapsed": false
   },
   "outputs": [],
   "source": [
    "## A histogram example. \n",
    "## \n",
    "## let's take a sampling of points in the plane and draw a histogram\n",
    "##  of the projection of the data onto a given axis. \n",
    "\n",
    "## multi-variable normal. centre, covariance matrix, num pts.\n",
    "data = np.random.multivariate_normal([0,0],[[1,0],[0,2]],  \n",
    "                                     800)\n",
    "\n",
    "fig,ax = plt.subplots()\n",
    "## this helps me force a 1:1 aspect ratio in the figure.\n",
    "xw = np.max(data.T[0]) - np.min(data.T[0])\n",
    "yw = np.max(data.T[1]) - np.min(data.T[1])\n",
    "mw = max(xw,yw)\n",
    "xw = 8*xw/mw ## the largest dimension is 10. \n",
    "yw = 8*yw/mw\n",
    "fig.set_size_inches(xw,yw)\n",
    "\n",
    "## let's project onto the line with equation\n",
    "##  ax+by = 0\n",
    "a = 2\n",
    "b = 1\n",
    "## make the line go to roughly the bounding box.\n",
    "bounds = []\n",
    "if b!=0: bounds.append(abs(xw/b))\n",
    "if a!=0: bounds.append(abs(yw/a))\n",
    "M = min(bounds)\n",
    "plt.plot(b*np.arange(-M,M, 0.1), -a*np.arange(-M,M, 0.1), 'b-')\n",
    "plt.plot([b*M], [-a*M], 'yo')\n",
    "\n",
    "## data plot\n",
    "plt.plot(data.T[0], data.T[1], 'ro')\n",
    "plt.title(\"Normally distributed data and the \"+str(a)+\"x+\"+str(b)+\"y=0 line\")\n",
    "## histogram\n",
    "nPV = 1/np.sqrt(b**2+a**2)\n",
    "projDat = [nPV*(data[i,0]*b-data[i,1]) for i in range(data.shape[0])]\n",
    "ax1=plt.axes([0.95,0.35,0.4,0.3], axisbg='y')\n",
    "plt.hist(projDat, normed=True, bins=30)\n",
    "plt.title(\"histogram of data projected\\n onto the \"+str(a)+\"x+\"+str(b)+\"y=0 line\")\n"
   ]
  },
  {
   "cell_type": "code",
   "execution_count": null,
   "metadata": {
    "collapsed": false
   },
   "outputs": [],
   "source": [
    "## a contour plot.  Let's try a typical multi-variable calculus\n",
    "##  plot of level-sets and gradient vector field\n",
    "fig, ax = plt.subplots() \n",
    "fig.set_size_inches(10,10) \n",
    "\n",
    "import sympy as sp\n",
    "x,y = sp.symbols('x y')\n",
    "f = x*y\n",
    "#f = x**3-x*y**2\n",
    "#f = x**4-6*x**2*y**2+y**4\n",
    "## try a few of the others, these are the real part of z^n = (x+iy)^n for n=2,3,4. \n",
    "\n",
    "grad = [sp.diff(f,x), sp.diff(f,y)]\n",
    "\n",
    "import matplotlib.mlab as mlab\n",
    "Z = sp.lambdify( (x,y), f, \"numpy\")\n",
    "Zx = sp.lambdify( (x,y), grad[0], \"numpy\")\n",
    "Zy = sp.lambdify( (x,y), grad[1], \"numpy\")\n",
    "\n",
    "Y, X = np.mgrid[-2:2:100j, -2:2:100j] ## x and y coordinates of a 2-dimension array of points\n",
    " ## in the plane\n",
    "\n",
    "speed = np.sqrt(Zx(X,Y)**2 + Zy(X,Y)**2)\n",
    "mspd = speed.max()\n",
    "    \n",
    "CP = plt.contour(X,Y,Z(X,Y), 30) ## 30 contours plotted.\n",
    "plt.clabel(CP, inline=1, fontsize=14) ## this add the level-set number to the curve\n",
    "\n",
    "## the main tool for plotting vector fields is the quiver object\n",
    "## it allows you to set a variety of properties of the vectors\n",
    "##  pivot is where you centre your plotted vector, i.e. do you put the tail, head or\n",
    "##  some other point at the X,Y coordinate for the vector field Zx(X,Y), Zy(X,Y)\n",
    "Xs = X[::6,::6]\n",
    "Ys = Y[::6,::6]\n",
    "ax.quiver(Xs,Ys,Zx(Xs,Ys), Zy(Xs,Ys), scale_units='xy', scale=10)\n",
    "\n",
    "## I find the flow lines easier to process than the actual \n",
    "##  vector field.  streamplot gives us the flow lines.\n",
    "#ax.streamplot(X, Y, Zx(X,Y), Zy(X,Y), color='0.2', density=0.5, \n",
    "#              linewidth=5*(speed/mspd) )\n",
    "\n",
    "plt.title(\"Level sets of $\"+sp.latex(sp.Eq(sp.Symbol('f(x,y)'), f) )+\"$\\n\"\n",
    "          \"and the gradient\", fontsize=26)\n"
   ]
  },
  {
   "cell_type": "markdown",
   "metadata": {},
   "source": [
    "A pie chart, using the [xkcd](http://xkcd.com) style."
   ]
  },
  {
   "cell_type": "code",
   "execution_count": null,
   "metadata": {
    "collapsed": false
   },
   "outputs": [],
   "source": [
    "## unfortunately the xkcd style does not allow for latex, so we disable\n",
    "## latex text output. \n",
    "plt.rc('text', usetex=False)\n",
    "\n",
    "with plt.xkcd(): ## this enables the xkcd style.\n",
    "    \n",
    "    fig=plt.figure()\n",
    "    fig.set_size_inches(10,10) \n",
    "    \n",
    "    fracs = [15,30,45,10]\n",
    "    pushOut = (0,0.1,0,0) ##\n",
    "    labL = 'middling pie slice', 'removed pie slice', 'big pie slice', 'teeny pie slice'\n",
    "    \n",
    "    ## explode is the push-out parameter.  labels are the text around the\n",
    "    ## circumference.  autopct puts the percentage in the pie slices. \n",
    "    ## shadow adds a bit of depth to the image.\n",
    "    plt.pie(fracs, explode=pushOut, labels=labL, autopct='%1.1f%%', shadow=False)\n",
    "    ## shadow=True / False\n",
    "    plt.title('A generic pie chart, with the 2nd segment popped out.', fontsize=20)\n",
    "    "
   ]
  },
  {
   "cell_type": "code",
   "execution_count": null,
   "metadata": {
    "collapsed": false
   },
   "outputs": [],
   "source": [
    "## polar coordinates\n",
    "\n",
    "theta = np.arange(0, 30*2*np.pi, 0.01)\n",
    "r = np.log(theta)\n",
    "\n",
    "ax = plt.subplot(projection='polar')\n",
    "fig = plt.gcf()\n",
    "fig.set_size_inches(10,10)\n",
    "\n",
    "plt.plot(theta, r)\n",
    "plt.title(\"graph of $r=\\\\log(\\\\theta)$\\n\"\n",
    "          \"on the interval $\\\\theta \\in [0,60\\pi]$\", fontsize=26)"
   ]
  },
  {
   "cell_type": "markdown",
   "metadata": {},
   "source": [
    "## Interactive graphics. \n",
    "\n",
    "The easiest-to-use library for interactive graphics in the i-python notebook that I am aware of is the **IPython.html library**. \n",
    "\n",
    "This library provides convenient and easy-to-code interactive sessions. "
   ]
  },
  {
   "cell_type": "code",
   "execution_count": null,
   "metadata": {
    "collapsed": false
   },
   "outputs": [],
   "source": [
    "## This example provides a range of \n",
    "from IPython.html.widgets import interact\n",
    "\n",
    "import numpy as np\n",
    "import matplotlib.pyplot as plt\n",
    "%matplotlib inline\n",
    "\n",
    "I=np.linspace(0,2*np.pi,300) ## the interval [0,2π]\n",
    "\n",
    "def pltsin(k):\n",
    "    plt.plot(I, np.sin(k*I))\n",
    "    plt.title(\"Plot of sin(kx) on interval [0,2π], k=\"+str(k))\n",
    "\n",
    "## this routine calls the pltsin function whenever the user\n",
    "##  updates the slider.  k=(1,10,0.1) allows the user to set\n",
    "## the argument k in the pltsin function between 1 and 10, \n",
    "##  with a step-size of 0.1. \n",
    "interact(pltsin, k=(1,10,0.1))"
   ]
  },
  {
   "cell_type": "markdown",
   "metadata": {},
   "source": [
    "### Let's step-up the complexity and make an interactive solution to the mid-term exam. \n",
    "\n",
    "Recall the single pendulum with friction\n",
    "\n",
    "$$\\theta'' + a \\theta' + b \\sin \\theta = 0.$$\n",
    "\n",
    "We approximate solutions by first converting the differential equation to a 1st-order ODE:\n",
    "\n",
    "$$\\pmatrix{\\theta \\cr \\theta'}' = \\pmatrix{\\theta' \\cr -a\\theta'-b\\sin \\theta}$$\n",
    "\n",
    "We then recursively solve for the vectors $$\\pmatrix{\\theta(t_{i+1}) \\cr \\theta'(t_{i+1})} = \\pmatrix{ \\theta(t_i) \\cr \\theta'(t_i) } + \\Delta t \\pmatrix{ \\theta'(t_i) \\cr -a \\theta'(t_i) - b\\sin \\theta(t_i)}$$\n",
    "\n",
    "which is called *Euler's Method* with step size $\\Delta t = t_{i+1} - t_i$. "
   ]
  },
  {
   "cell_type": "code",
   "execution_count": null,
   "metadata": {
    "collapsed": false
   },
   "outputs": [],
   "source": [
    "## let's start off by grabbing the code from the exam solutions. \n",
    "import math\n",
    "## I = interval of approximation. \n",
    "## n = number of steps\n",
    "## t0 = initial theta value at I[0]\n",
    "## d0 = initial theta' value at I[0]\n",
    "def eulerApprox(I, n, t0, d0, a):\n",
    "    domArr = [I[0]]\n",
    "    tArr = [t0]\n",
    "    tdArr = [d0]\n",
    "    dt = (I[1]-I[0])/n\n",
    "    for i in range(1,n):\n",
    "        tt = tArr[-1] + dt*tdArr[-1]\n",
    "        tdt = tdArr[-1] +( -a*tdArr[-1]-np.sin(tArr[-1]) )*dt\n",
    "        tArr.append(tt)\n",
    "        tdArr.append(tdt)\n",
    "        domArr.append(domArr[-1]+dt)\n",
    "    return [tArr, tdArr, domArr]\n",
    "\n",
    "def makeplot(I1, n, t0, d0, a):\n",
    "    [tArr, tdArr,domArr] = eulerApprox([0, I1], n,t0,d0,a)\n",
    "    ## a faster pendulum\n",
    "    [tap, tdp, dap] = eulerApprox([0,I1], n, t0, d0+1,a)\n",
    "    ## a slower pendulum\n",
    "    [tam, tdm, dam] = eulerApprox([0,I1], n, t0, d0-1,a)\n",
    "    ## plot the pendulum curves\n",
    "    plt.plot(domArr, tArr, 'k-')\n",
    "    plt.plot(domArr, tap, 'r--')\n",
    "    plt.plot(domArr, tam, 'g--')\n",
    "    ## let's plot some relevant multiples of 2pi on the theta axis.\n",
    "    maxt = np.max( [ np.max(tArr), np.max(tap), np.max(tam) ] )\n",
    "    mint = np.min( [ np.min(tArr), np.min(tap), np.min(tam) ] )\n",
    "    Mi = math.floor(maxt / (2*np.pi))\n",
    "    Ni = math.floor(mint / (2*np.pi))\n",
    "    if (mint - 2*np.pi*Ni > np.pi): Ni = Ni + 1\n",
    "    if (maxt - 2*np.pi*Mi > np.pi): Mi = Mi + 1\n",
    "    plt.plot(np.linspace(I1,I1,Mi-Ni+1), \n",
    "             np.linspace(Ni*2*np.pi, Mi*2*np.pi, Mi-Ni+1), 'bo')\n",
    "    plt.title(\"Euler approximation to ODE\\n\"\n",
    "              \"on interval [0,\"+str(I1)+\"] with \"+str(n)+\" steps\\n\"\n",
    "              \"theta0 = \"+str(t0)+\"   thetap0 = \"+str(d0))\n",
    "\n",
    "interact(makeplot, I1=(4,20,0.5), n=(2, 200, 1), \n",
    "         t0=(-2*np.pi, 2*np.pi, 0.1), d0=(-20, 20, 0.1),\n",
    "         a=(0.1, 2, 0.02))\n"
   ]
  },
  {
   "cell_type": "markdown",
   "metadata": {},
   "source": [
    "For more sophisticated interactive graphics sessions, matplotlib has a widget library available.  \n",
    "\n",
    " Overview of interactive matplotlib sessions:\n",
    " \n",
    "  * matplotlib interactive sessions are controled by objects it called \"widgets\". \n",
    "  * Widgets are routines that respond to user input, and call other routines that you define, when the user does specified things.  Some of the most basic widgets are:\n",
    "      - **Button** represents an individual, pressable button.\n",
    "      - **CheckButtons** a radiobutton, this allows you have several checkable buttons.\n",
    "      - **Cursor** a widget that tracks and draws lines in your figure according to where you mouse pointer is located. \n",
    "      - **RadioButtons** where only one of several buttons can be pressed. \n",
    "      - **Slider** allows user to specify a float by sliding a bar. \n",
    "\n",
    "See the [matplotlib widget example page](http://matplotlib.org/1.5.1/examples/widgets/index.html) for detailed examples. "
   ]
  },
  {
   "cell_type": "code",
   "execution_count": null,
   "metadata": {
    "collapsed": false
   },
   "outputs": [],
   "source": [
    "%matplotlib qt\n",
    "## this sets the back-end. qt, wx, gtk, tk\n",
    "##  for me qt seems to be what I need. \n",
    "\n",
    "import numpy as np\n",
    "import pylab as pl\n",
    "from matplotlib.widgets import Slider, Button, RadioButtons\n",
    "\n",
    "ax = pl.subplot(111)\n",
    "pl.subplots_adjust(left=0.25, bottom=0.25)\n",
    "t = np.arange(0.0, 1.0, 0.001)\n",
    "a0 = 5\n",
    "f0 = 3\n",
    "s = a0*np.sin(2*np.pi*f0*t)\n",
    "l, = pl.plot(t,s, lw=2, color='red')\n",
    "pl.axis([0, 1, -10, 10])\n",
    "\n",
    "axcolor = 'lightgoldenrodyellow'\n",
    "axfreq = pl.axes([0.25, 0.1, 0.65, 0.03], axisbg=axcolor)\n",
    "axamp  = pl.axes([0.25, 0.15, 0.65, 0.03], axisbg=axcolor)\n",
    "\n",
    "sfreq = Slider(axfreq, 'Freq', 0.1, 30.0, valinit=f0)\n",
    "samp = Slider(axamp, 'Amp', 0.1, 10.0, valinit=a0)\n",
    "\n",
    "def update(val):\n",
    "    amp = samp.val\n",
    "    freq = sfreq.val\n",
    "    l.set_ydata(amp*np.sin(2*np.pi*freq*t))\n",
    "    draw()\n",
    "sfreq.on_changed(update)\n",
    "samp.on_changed(update)\n",
    "\n",
    "resetax = pl.axes([0.8, 0.025, 0.1, 0.04])\n",
    "button = Button(resetax, 'Reset', color=axcolor, hovercolor='0.975')\n",
    "def reset(event):\n",
    "    sfreq.reset()\n",
    "    samp.reset()\n",
    "button.on_clicked(reset)\n",
    "\n",
    "rax = pl.axes([0.025, 0.5, 0.15, 0.15], axisbg=axcolor)\n",
    "radio = RadioButtons(rax, ('red', 'blue', 'green'), active=0)\n",
    "def colorfunc(label):\n",
    "    l.set_color(label)\n",
    "    draw()\n",
    "radio.on_clicked(colorfunc)\n",
    "\n",
    "pl.show()"
   ]
  },
  {
   "cell_type": "markdown",
   "metadata": {},
   "source": []
  },
  {
   "cell_type": "markdown",
   "metadata": {},
   "source": [
    "## Plotting in three dimensions with matplotlib.\n",
    "\n",
    "matplotlib has some elements of 3-dimensional plotting but it has largely not been designed for this task.  Below we demonstrate one example, a parametric surface. \n",
    "\n",
    "Our surface will be equidistant from the circle\n",
    "\n",
    "$$ R(\\cos \\theta, \\sin \\theta, 0) $$\n",
    "\n",
    "in the $xy$-plane.  The variable $R$ we call $bigR$ in the code. The distance we take from this circle, we denote $r$ here, will be $smR$ in the code.  This gives us the parametrization of the surface:\n",
    "\n",
    "$$ (R\\cos \\theta, R\\sin \\theta, 0) + r\\cos \\phi \\left( \\cos \\theta, \\sin\\theta,0\\right) + r \\sin \\phi \\left(0,0,1\\right)$$\n",
    "which is\n",
    "$$(\\theta,\\phi) \\longmapsto \\left( (R+r\\cos\\phi)\\cos \\theta, (R+r\\cos \\phi)\\sin \\theta, r \\sin \\phi \\right)$$"
   ]
  },
  {
   "cell_type": "code",
   "execution_count": null,
   "metadata": {
    "collapsed": false
   },
   "outputs": [],
   "source": [
    "import matplotlib.pyplot as plt\n",
    "import numpy as np\n",
    "%matplotlib inline\n",
    "from mpl_toolkits.mplot3d import Axes3D\n",
    "\n",
    "fig = plt.figure(figsize=(12,12))\n",
    "\n",
    "ax = fig.add_subplot(111, projection='3d')\n",
    "\n",
    "t1 = np.linspace(0, 2*np.pi, 100)\n",
    "t2 = np.linspace(0, 2*np.pi, 100)\n",
    "\n",
    "## we use outer to form a doubly-indexed list of numbers.\n",
    "## alternatively one could form the doubly-index list\n",
    "## beforehand...\n",
    "bigR = 1.0\n",
    "smR = 0.2\n",
    "x1 = np.outer( (bigR+smR*np.cos(t1)), np.cos(t2) )\n",
    "y1 = np.outer( (bigR+smR*np.cos(t1)), np.sin(t2) )\n",
    "z1 = np.outer( smR*np.sin(t1), np.ones(np.size(t2)) ) \n",
    "\n",
    "ax.set_title('A view of the tire tube.', fontsize=14)\n",
    "ax.plot_surface(x1, y1, z1, rstride=5,cstride=5, color='r', shade=True)\n",
    "\n",
    "## here is a fairly nice way to set a common aspect ratio\n",
    "scl = np.array([getattr(ax,'get_{}lim'.format(dim))() for dim in 'xyz'])\n",
    "ax.auto_scale_xyz(*[[np.min(scl),np.max(scl)]]*3)\n",
    "\n",
    "## elev sets how far up from the xy-plane we arein.\n",
    "## azim is the angle from the xz-plane\n",
    "ax.view_init(elev=30,azim=45)\n",
    "plt.show()"
   ]
  },
  {
   "cell_type": "markdown",
   "metadata": {},
   "source": []
  }
 ],
 "metadata": {
  "kernelspec": {
   "display_name": "Python 3",
   "language": "python",
   "name": "python3"
  },
  "language_info": {
   "codemirror_mode": {
    "name": "ipython",
    "version": 3
   },
   "file_extension": ".py",
   "mimetype": "text/x-python",
   "name": "python",
   "nbconvert_exporter": "python",
   "pygments_lexer": "ipython3",
   "version": "3.5.1"
  }
 },
 "nbformat": 4,
 "nbformat_minor": 0
}
