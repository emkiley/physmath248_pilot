{
 "cells": [
  {
   "cell_type": "markdown",
   "metadata": {},
   "source": [
    "# Week 8"
   ]
  },
  {
   "cell_type": "markdown",
   "metadata": {},
   "source": [
    "## Session 1 - review of Homework Assignment 3"
   ]
  },
  {
   "cell_type": "markdown",
   "metadata": {},
   "source": [
    "## Session 2 - TBA\n"
   ]
  },
  {
   "cell_type": "markdown",
   "metadata": {},
   "source": [
    "## Session 3 - TBA"
   ]
  },
  {
   "cell_type": "markdown",
   "metadata": {},
   "source": [
    "## Homework - TBA\n"
   ]
  },
  {
   "cell_type": "markdown",
   "metadata": {},
   "source": [
    "## Tutorials\n",
    "\n",
    "### Tuesday \n",
    "\n",
    " * Determine a differential equation that describes the dynamics of a double pendulum, with friction in both joints.  i.e. you have an arm which at one end is a rotating hinge, the hinge in a fixed position.  At the other end is a rotating hinge, connected to a 2nd straight arm.  We make this a 2-dimensional system, so its position is described by two angles: the angle of the primary with vertical, and the angle between the secondary arm and the primary.  Friction and gravity are the only forces applied to the pendulum.\n",
    " \n",
    " * Convert your system of 2nd order ODEs to a system of first order ODEs.\n",
    " \n",
    " * Make an interactive plot of the dynamics, using Euler's method.  Make the friction coefficients the parameters, as well as the step length for Euler's method. Choose an interesting initial state.  Plot:\n",
    " \n",
    "     - The solution in $\\theta_1, \\theta_2$-space. (First plot)\n",
    "     \n",
    "     - The both the $(\\theta_1, t)$ and $(\\theta_2,t)$ plots (on the same figure). This would be your 2nd plot.\n",
    "     \n",
    " * Bonus: repeat the above for both a single pendulum and a double-pendulum in 3-dimensional space, i.e. the end of the primary arm will be along a sphere, and the secondary arm will similarly be along a sphere (based at the end of the primary arm).  What would be a good way to visualize these solutions -- the state space is relatively high-dimensional. \n",
    "\n",
    "### Wednesday \n",
    "\n",
    "TBA\n"
   ]
  },
  {
   "cell_type": "code",
   "execution_count": null,
   "metadata": {
    "collapsed": true
   },
   "outputs": [],
   "source": []
  }
 ],
 "metadata": {
  "kernelspec": {
   "display_name": "Python 3",
   "language": "python",
   "name": "python3"
  },
  "language_info": {
   "codemirror_mode": {
    "name": "ipython",
    "version": 3
   },
   "file_extension": ".py",
   "mimetype": "text/x-python",
   "name": "python",
   "nbconvert_exporter": "python",
   "pygments_lexer": "ipython3",
   "version": "3.4.3"
  }
 },
 "nbformat": 4,
 "nbformat_minor": 0
}
