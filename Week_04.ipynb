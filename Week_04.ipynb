{
 "cells": [
  {
   "cell_type": "markdown",
   "metadata": {},
   "source": [
    "# Week 4"
   ]
  },
  {
   "cell_type": "markdown",
   "metadata": {},
   "source": [
    "## 1. Introduction to linear algebra\n",
    "\n",
    "The goal of this section an [introduction to linear algebra] is to introduce vectors and matrices that can be used to solve numerous problems, in physics and math. We will use these to solve systems of equatuions. In this section we will\n",
    "\n",
    "1. introduce to vectors as numpy arrays and matrices as arrays of arrays\n",
    "2. how are arrays created\n",
    "3. operation between arrays that represent operations between matrices and vectors\n",
    "4. use these techniques to implement the Gaussian elimination scheme to solve set of linear equations"
   ]
  },
  {
   "cell_type": "markdown",
   "metadata": {},
   "source": [
    "### Notebooks\n",
    "\n",
    "* [Arrays, vectors, matrices, operations](linear.algebra/Intro%20to%20linear%20algebra.ipynb)\n",
    "* [Gaussian elimination](linear.algebra/Gaussian%20eliminiation.ipynb)"
   ]
  },
  {
   "cell_type": "markdown",
   "metadata": {},
   "source": [
    "### Resources: \n",
    "\n",
    "_Reference numbers refer to the list given in the Week_01 notebook in the section **Literature and online resources**_\n",
    "\n",
    "* Linear Algebra:\n",
    "    * Chapter 6 in [1]\n",
    "    * Chapter 4.4 in [6]\n",
    "* [Array creation in Python](http://docs.scipy.org/doc/numpy-1.10.1/user/basics.creation.html)\n",
    "* more Python programming with arrays for example in Chapter 5 in [3]"
   ]
  },
  {
   "cell_type": "markdown",
   "metadata": {},
   "source": [
    "***Homework: ***\n",
    "\n",
    "1. Implement a function for the dot and cross product to your my_lib module.\n",
    "2. Implement a function that takes as input an array and a matrix (as an array of arrays) and returns the product of the vector and the matrix. Consider what checks would have to be considered so that user errors are prevented. Also remember documentation.\n",
    "2. Implement a function that takes a matrix (again as an array of arrays) and a vector that represent a set of equations ($\\vec{u} = {\\bf A} \\cdot \\vec{v}$) and solves the equations, i.e. returns $\\vec{v}$."
   ]
  },
  {
   "cell_type": "markdown",
   "metadata": {},
   "source": [
    "## 2. Applications and examples for linear algebra\n",
    "\n",
    "\n",
    "In the previous section we have seen how we can use arrays to code up simple tasks in linear algebra, such as the Gaussian elimination. In this section  \n",
    "* random numbers\n",
    "* the resistor problem"
   ]
  },
  {
   "cell_type": "markdown",
   "metadata": {},
   "source": [
    "## 3. Theory and examples of least-squares interpolation using linear algebra\n",
    "* a flexible and general presentation of least squares\n",
    "* and how one solves (quite flexibly) for functions that interpolate a wide variety of data\n",
    "* see [interpolation example](https://github.com/fherwig/physmath248_pilot/blob/master/stats/least-squares.sketch.ipynb)\n",
    "* moments of distributions. "
   ]
  },
  {
   "cell_type": "markdown",
   "metadata": {
    "collapsed": true
   },
   "source": [
    "## Tutorials this week\n",
    "\n",
    "1. work through homework of session 1\n",
    "2. with the TAs go over the material presented in session 3 so that you are able to apply it in an assignment\n"
   ]
  },
  {
   "cell_type": "code",
   "execution_count": null,
   "metadata": {
    "collapsed": true
   },
   "outputs": [],
   "source": []
  }
 ],
 "metadata": {
  "kernelspec": {
   "display_name": "Python 3",
   "language": "python",
   "name": "python3"
  },
  "language_info": {
   "codemirror_mode": {
    "name": "ipython",
    "version": 3
   },
   "file_extension": ".py",
   "mimetype": "text/x-python",
   "name": "python",
   "nbconvert_exporter": "python",
   "pygments_lexer": "ipython3",
   "version": "3.5.1"
  }
 },
 "nbformat": 4,
 "nbformat_minor": 0
}
