{
 "cells": [
  {
   "cell_type": "markdown",
   "metadata": {},
   "source": [
    "# Week 4"
   ]
  },
  {
   "cell_type": "markdown",
   "metadata": {},
   "source": [
    "## Introduction to linear algebra\n",
    "\n",
    "The goal of this section an [introduction to linear algebra](https://github.com/fherwig/physmath248_pilot/blob/master/linear.algebra/Intro%20to%20linear%20algebra.ipynb) is too introduce vectors and matrices that can be used to solve numerous problems, in physics and math. We will use these to solve systems of equatuions. In this section we will\n",
    "\n",
    "1. introduce to vectors as numpy arrays and matrices as arrays of arrays\n",
    "2. how are arrays created\n",
    "3. operation between arrays that represent operations between matrices and vectors\n",
    "4. use these techniques to implement the Gaussian elimination scheme to solve set of linear equations\n",
    "\n",
    "**Resources: ***\n",
    "\n",
    "***Homework: ***\n",
    "\n",
    "1. Implement a function that takes as input an array and a matrix (as an array of arrays) and returns the product of the vector and the matrix. Consider what checks would have to be considered so that user errors are prevented. Also remember documentation.\n",
    "2. Implement a function that takes a matrix (again as an array of arrays) and a vector that represent a set of equations ($\\vec{u} = {\\bf A} \\cdot \\vec{v}$) and solves the equations, i.e. returns $\\vec{v}$."
   ]
  },
  {
   "cell_type": "markdown",
   "metadata": {},
   "source": [
    "## Theory and examples of least-squares interpolation\n",
    "* On Tuesday we will talk a little bit about the flexibility of least squares, and how one solve (quite flexibly) for functions that interpolate a wide variety of data. [interpolation example](https://github.com/fherwig/physmath248_pilot/blob/master/stats/least-squares.sketch.ipynb)\n",
    "* Moments of distributions. \n",
    "* Principal components. \n",
    "* Markov Chains and Monte Carlo ensemble sampling."
   ]
  },
  {
   "cell_type": "markdown",
   "metadata": {
    "collapsed": true
   },
   "source": [
    "## Tuesday Tutorial\n",
    "* You will be supplied with some data and asked to use least-squares to fit functions to the data. \n",
    "* You should compute the moments of the data about your least-squares fit, and try to determine which is the best fit.\n",
    "* A link to the data will appear here, later on Tuesday. \n"
   ]
  },
  {
   "cell_type": "code",
   "execution_count": null,
   "metadata": {
    "collapsed": true
   },
   "outputs": [],
   "source": []
  }
 ],
 "metadata": {
  "kernelspec": {
   "display_name": "Python 2",
   "language": "python",
   "name": "python2"
  },
  "language_info": {
   "codemirror_mode": {
    "name": "ipython",
    "version": 2
   },
   "file_extension": ".py",
   "mimetype": "text/x-python",
   "name": "python",
   "nbconvert_exporter": "python",
   "pygments_lexer": "ipython2",
   "version": "2.7.9"
  }
 },
 "nbformat": 4,
 "nbformat_minor": 0
}
