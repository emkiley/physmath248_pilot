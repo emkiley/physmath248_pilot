{
 "cells": [
  {
   "cell_type": "markdown",
   "metadata": {},
   "source": [
    "# Week 8"
   ]
  },
  {
   "cell_type": "markdown",
   "metadata": {},
   "source": [
    "## [Session 1](visualisation/plotting.overview.ipynb) - Visualisation in Python, overview\n",
    "\n",
    " * Discussion of the matplotlib framework. \n",
    " * Some examples of its basic 2d-plotting functionalities. \n",
    " * Static and interactive graphics in matplotlib."
   ]
  },
  {
   "cell_type": "markdown",
   "metadata": {},
   "source": [
    "## Session 2 - Other visualisation libraries\n",
    "\n",
    " * [Libraries](visualisation/plotting.other.2d.libs.ipynb) for producing interactive graphics.\n",
    " * Libraries for producing on-line interactive graphics.\n",
    " * [3d visualization](visualisation/plotting.other.3d.libs.ipynb) libraries. \n"
   ]
  },
  {
   "cell_type": "markdown",
   "metadata": {},
   "source": [
    "## Session 3 - TBA"
   ]
  },
  {
   "cell_type": "markdown",
   "metadata": {},
   "source": [
    "## Homework\n",
    " * See [Week 7](Week_07.ipynb)"
   ]
  },
  {
   "cell_type": "markdown",
   "metadata": {},
   "source": [
    "## Tutorials\n",
    "\n",
    "Tuesday - \n",
    "\n",
    "Wednesday - Work on homework assignment. \n",
    "\n"
   ]
  },
  {
   "cell_type": "code",
   "execution_count": null,
   "metadata": {
    "collapsed": true
   },
   "outputs": [],
   "source": []
  }
 ],
 "metadata": {
  "kernelspec": {
   "display_name": "Python 3",
   "language": "python",
   "name": "python3"
  },
  "language_info": {
   "codemirror_mode": {
    "name": "ipython",
    "version": 3
   },
   "file_extension": ".py",
   "mimetype": "text/x-python",
   "name": "python",
   "nbconvert_exporter": "python",
   "pygments_lexer": "ipython3",
   "version": "3.4.3"
  }
 },
 "nbformat": 4,
 "nbformat_minor": 0
}
