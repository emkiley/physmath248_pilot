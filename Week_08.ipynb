{
 "cells": [
  {
   "cell_type": "markdown",
   "metadata": {},
   "source": [
    "# Week 8"
   ]
  },
  {
   "cell_type": "markdown",
   "metadata": {},
   "source": [
    "## [Session 1](visualisation/plotting.overview.ipynb) - Visualisation in Python, overview\n",
    "\n",
    " * Discussion of the matplotlib framework. \n",
    " * Some examples of its basic 2d-plotting functionalities. \n",
    " * Static and interactive graphics in matplotlib."
   ]
  },
  {
   "cell_type": "markdown",
   "metadata": {},
   "source": [
    "## Session 2 - Other visualisation libraries\n",
    "\n",
    " * [Libraries](visualisation/plotting.other.2d.libs.ipynb) for producing interactive graphics.\n",
    " * Libraries for producing on-line interactive graphics.\n",
    " * [3d visualization](visualisation/plotting.other.3d.libs.ipynb) libraries. \n"
   ]
  },
  {
   "cell_type": "markdown",
   "metadata": {},
   "source": [
    "## Session 3 - Continuation of Session 2."
   ]
  },
  {
   "cell_type": "markdown",
   "metadata": {},
   "source": [
    "## Homework\n",
    " * See [Week 7](Week_07.ipynb)"
   ]
  },
  {
   "cell_type": "markdown",
   "metadata": {},
   "source": [
    "## Tutorials\n",
    "\n",
    "### Tuesday \n",
    "#### The Lorenz equations\n",
    "\n",
    "(This is exercise 8.3 in Newman, _Computational Physics_)\n",
    "\n",
    "One of the most celebrated sets of differential equations in physics is the [Lorenz equations](https://en.wikipedia.org/wiki/Lorenz_system):\n",
    "$$ \\frac{dx}{dt} = \\sigma(y-x) $$ $$\\frac{dy}{dt} = rx -y -xz$$ $$\\frac{dz}{dt} = xy - bz$$ where $\\sigma$, $r$ and $b$ are constants. (The names of these constants may seem arbirtrary and odd but are always used in these equations -- _for historical reasons_.\n",
    "\n",
    "1. Read about these equations, when and why they were introduced? What special behaviour do they show?\n",
    "2. Write a program to solve the Lorenz equations for the case $\\sigma = 10$, $r=10$, and $b = \\frac{8}{3}$ in the range from $t = 0$ to $t = 50 $ with the intial condition $(x,y,z) = (0,1,0)$. Have your program make a plot of $y$ as a function of time. Note the unpredictable nature of the motion. \n",
    "3. Modify your program to produce a plot of $z$ agains $x$. You should see a picture of the famous _strange attractor_ of the Lorenz equations, a lop-sided butterfly-shaped plot that never repeats itself.\n",
    "4. How can you animate your solution? Sudy the [matplotlib animation examples](http://matplotlib.org/examples/animation/index.html) to get some ideas.\n",
    "\n",
    "\n",
    "### Wednesday \n",
    "\n",
    "* Work on homework assignment. \n",
    "\n"
   ]
  },
  {
   "cell_type": "code",
   "execution_count": null,
   "metadata": {
    "collapsed": true
   },
   "outputs": [],
   "source": []
  }
 ],
 "metadata": {
  "kernelspec": {
   "display_name": "Python 3",
   "language": "python",
   "name": "python3"
  },
  "language_info": {
   "codemirror_mode": {
    "name": "ipython",
    "version": 3
   },
   "file_extension": ".py",
   "mimetype": "text/x-python",
   "name": "python",
   "nbconvert_exporter": "python",
   "pygments_lexer": "ipython3",
   "version": "3.4.3"
  }
 },
 "nbformat": 4,
 "nbformat_minor": 0
}
