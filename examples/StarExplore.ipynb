{
 "cells": [
  {
   "cell_type": "markdown",
   "metadata": {},
   "source": [
    "# Star exploration\n",
    "\n",
    "## Primer on stellar structure\n",
    "In past weeks we have learned how to integrate various types of ODEs. We have used our own explicit forward integration method. We want to apply these skills to another example. \n",
    "\n",
    "### Explore stars with WENDI\n",
    "Before we start to integrate our own stars let's explore some already calculated stellar models in [Wendi](http://wendi.nugridstars.org). These models were calculated with the [open source MESA stellar evolution code](<http://mesa.sourceforge.net>).\n",
    "\n",
    "__Homework__:\n",
    "\n",
    "Mylib contains a star library with a function for the astrophysical ideal gas equation of state. One of the arguments is `mu` which is the mean molecular weight of the ideal gas. It is available as a quantity in the MESA profile data. The actual pressure profile calculated from the more realistic equation of state, including many non-ideal effects, is available from the `mesa_profile` instance as well.\n",
    "\n",
    "1. Plot the pressure as a function of radius for both the 2 and 20Msun star at the time when the gravity at the surface is largest. (This happens to be the time when the star has contracted most and H-burning is ignited that will subsequently lead to expansion of the star and lowering of the surface gravity). For this you have to first use the `star_log` instance to do some meaning-full time evolution plots, likely as a function of model number. Then you have to create a `mesa_profile` instance to plot the pressure profile. \n",
    "2. For both cases get the temperature and density profiles at this point in time and determine the ideal gas pressure profile. By comparing the ideal gas pressure and the pressure from the stellar evolution model, determine how well the pressure in the two stellar models can be approximated by an ideal gas. \n",
    "\n",
    "### Stellar structure\n",
    "Our goal is to determine the _mechanical_ structure of a pre-main sequence star. With _mechanical_ structure we mean that we want to know the pressure $P(r)$ as a function of radius $r$, as well as the density $\\rho(r)$ and the enclosed mass $m(r)$.  \n",
    "\n",
    "The pre-main sequence is the very first evoltuionary stage through which a star evolves just after it has formed. It is not yet burning nuclear fuel in the centre yet. When you explored the evolution of a star with WENDI you would have created a $\\log T_{eff}$ - $\\log L$ diagram ([Hertzsprung–Russell diagram](http://en.wikipedia.org/wiki/Hertzsprung-Russell_diagram)). The pre-main sequence is the beginning of the track at low temperature $T_{eff}$ (astronomers denote some appropriately defined average surface temperature with the _effective_ temperature $T_{eff}$) and initially high and then decreasing luminosity $L$ (the luminosity or stellar luminosity is the photon energy flux $F$ at all wavelength together times the surface area of the star: $L_\\star = 4\\pi R_\\star^2 F$).\n",
    "\n",
    "We chose pre-main sequence stars because they are known to be fully convective, i.e. unstable against convective turnover, throughout from the center to the surface. This can be understood as a consequence of the low stellar temperature at which the stellar plasma is more opaque compared to hotter stars. Energy that has to leave the star as it contracts can not be entirely transported by radiation, and therefore convective transport, i.e. the tranport of heat by fluid elements that are moving radially and carrying their heat along with them, is dominating the energy transport. In that case it can be easily shown (see e.g. Kippenhahn \\& Weigert, Stellar structure and evolution) that for an ideal gas the pressure and density are related by a so-called _polytropic_ relation\n",
    "$$\n",
    "P = K \\rho^\\gamma\n",
    "$$\n",
    "where $K$ is a constant and $\\gamma = \\gamma_{ad}=\\frac{5}{3}$ is the adiabatic exponent. \n",
    "\n",
    "What is furtheron the physics that determines the structure of the star? The stellar plasma has to obey the conservation law of mass and momentum (because we specifically are interested only the _mechanical_ structure we do not have to deal with energy conservation). \n",
    "\n",
    "We assume that our star is to very good approximation spherical. This assumption is supported by the large gravity of stars that enforce sphericity effectively. \n",
    "\n",
    "In spherical symmetry the conservation of mass can be easily expressed by just stating how much mass $dm$ is contained in a spherical shell of size $dr$ at radius $r$ where the density is $\\rho$:\n",
    "\n",
    "$$\n",
    "\\frac{dm}{dr} = 4 \\pi r^2 \\rho(r)\n",
    "$$\n",
    "\n",
    "We further assume that the star is in hydro-static equilibrium. That means that global, bulk velocities are essentially zero (convective motions that average to a zero mass flux on spheres are allowed and their effect of mixing heat and species needs to be _somehow_ taken into effect, but we do not need to worry about that here). In this approximation the conservation of momentum states that the pressure gradient accross a small radial shell $dr$ (i.e. the pressure difference $dP$) is equal to the gravitational force acting on the mass in that shell:\n",
    "\n",
    "$$\n",
    "\\frac{dP}{dr} = -g \\rho = -\\frac{G*m(r)}{r^2} \\rho(r)\n",
    "$$\n",
    "\n",
    "where $G$ is the gravitational constant (that I added as `grav_const` to the `mylib/stars/star_utils.py` module). \n",
    "\n",
    "We have now three unknown quantities: $\\rho(r)$, $m(r)$ and $P(r)$ and we have three equations:\n",
    "\n",
    "* two differential equations - the conservation laws of mass and momentum\n",
    "* the polytropic relation $P(\\rho)$ that holds if we know that the layer in the star is unstable against convection, i.e. adiabatic. \n",
    "\n",
    "We are therefore able to integrate a structure for a given boundary conditions. These are for the center $m_c = 0$ and $P_c$ and $\\rho_c$ appropriately choosen. In a dedicated stellar astrophysics class we would learn how to estimate these central values. It is not difficult! But here, let's skip that, and just take central values from the pre-calculated stellar evolution models (all units are in cgs!!). "
   ]
  },
  {
   "cell_type": "code",
   "execution_count": null,
   "metadata": {
    "collapsed": false
   },
   "outputs": [],
   "source": [
    "# get session ready:\n"
   ]
  },
  {
   "cell_type": "code",
   "execution_count": null,
   "metadata": {
    "collapsed": true
   },
   "outputs": [],
   "source": []
  },
  {
   "cell_type": "markdown",
   "metadata": {},
   "source": [
    "In order to use the available range of number representation it is often useful to transform the problem from cgs or SI units to appropriately choosen code units. The goal is that all quantities that the code works with have values of order unity, or as close as possible. We do not routinely perform floating point operations with large exponents. Why?"
   ]
  },
  {
   "cell_type": "code",
   "execution_count": null,
   "metadata": {
    "collapsed": true
   },
   "outputs": [],
   "source": [
    "# suitable code units:"
   ]
  },
  {
   "cell_type": "code",
   "execution_count": null,
   "metadata": {
    "collapsed": true
   },
   "outputs": [],
   "source": []
  },
  {
   "cell_type": "markdown",
   "metadata": {},
   "source": [
    "Next we need to code the constituting equations. Let's start with the P-$\\rho$ relation:"
   ]
  },
  {
   "cell_type": "code",
   "execution_count": null,
   "metadata": {
    "collapsed": true
   },
   "outputs": [],
   "source": []
  },
  {
   "cell_type": "markdown",
   "metadata": {},
   "source": [
    "Now we need the RHS of the PDEs:"
   ]
  },
  {
   "cell_type": "code",
   "execution_count": null,
   "metadata": {
    "collapsed": true
   },
   "outputs": [],
   "source": []
  },
  {
   "cell_type": "markdown",
   "metadata": {},
   "source": [
    "We also need the boundary condition at the center:"
   ]
  },
  {
   "cell_type": "code",
   "execution_count": null,
   "metadata": {
    "collapsed": true
   },
   "outputs": [],
   "source": []
  },
  {
   "cell_type": "markdown",
   "metadata": {},
   "source": [
    "And we need the actual Euler step routine:"
   ]
  },
  {
   "cell_type": "code",
   "execution_count": null,
   "metadata": {
    "collapsed": true
   },
   "outputs": [],
   "source": []
  },
  {
   "cell_type": "code",
   "execution_count": null,
   "metadata": {
    "collapsed": true
   },
   "outputs": [],
   "source": []
  },
  {
   "cell_type": "markdown",
   "metadata": {},
   "source": [
    "Finally, let's run it and plot the result:"
   ]
  },
  {
   "cell_type": "code",
   "execution_count": null,
   "metadata": {
    "collapsed": true
   },
   "outputs": [],
   "source": []
  },
  {
   "cell_type": "code",
   "execution_count": null,
   "metadata": {
    "collapsed": true
   },
   "outputs": [],
   "source": []
  },
  {
   "cell_type": "markdown",
   "metadata": {},
   "source": [
    "***Homework:*** \n",
    "Instead of the explicit Euler step method modify the code so that you can use the `integrate.odeint` solver from `scipy`. Below are some code fragments that can get you started."
   ]
  },
  {
   "cell_type": "code",
   "execution_count": null,
   "metadata": {
    "collapsed": true
   },
   "outputs": [],
   "source": [
    "from scipy import integrate\n",
    "# integrate.odeint?"
   ]
  },
  {
   "cell_type": "code",
   "execution_count": null,
   "metadata": {
    "collapsed": false
   },
   "outputs": [],
   "source": [
    "f_rhs(y0,r[0])"
   ]
  },
  {
   "cell_type": "code",
   "execution_count": null,
   "metadata": {
    "collapsed": false
   },
   "outputs": [],
   "source": [
    "Y=integrate.odeint(f,y0,r)"
   ]
  },
  {
   "cell_type": "code",
   "execution_count": null,
   "metadata": {
    "collapsed": false
   },
   "outputs": [],
   "source": [
    "m_poly = Y.transpose()[0]\n",
    "p_poly = Y.transpose()[1]"
   ]
  }
 ],
 "metadata": {
  "kernelspec": {
   "display_name": "Python 2",
   "language": "python",
   "name": "python2"
  },
  "language_info": {
   "codemirror_mode": {
    "name": "ipython",
    "version": 2
   },
   "file_extension": ".py",
   "mimetype": "text/x-python",
   "name": "python",
   "nbconvert_exporter": "python",
   "pygments_lexer": "ipython2",
   "version": "2.7.9"
  }
 },
 "nbformat": 4,
 "nbformat_minor": 0
}
