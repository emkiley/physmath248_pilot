{
 "cells": [
  {
   "cell_type": "markdown",
   "metadata": {},
   "source": [
    "# Moments\n",
    "## Feb. 3rd Tutorial\n",
    "\n",
    "**Purpose of Moments:** To understand the \"shape\" of the data. (ie. How is the data distributed?)\n",
    "\n",
    "**1st Moment:**\n",
    " - aka the mean\n",
    " - gives the location of the data\n",
    " \n",
    "**2nd Moment:**\n",
    " - aka the varience (if centred around the mean)\n",
    " - gives the precision of the data\n",
    " - that is, gives an idea of how much the data differs from the mean\n",
    " \n",
    "**3rd Moment:**\n",
    " - aka the skewness (if centred about the mean and standardized)\n",
    " - gives the asymmetry of the data about the mean (c)\n",
    " - symmetric if equal to c\n",
    " - mean > median if greater than c\n",
    " - mean < median if less than c\n",
    " \n",
    "![Skewness Diagram](skewness.jpg)\n",
    " \n",
    "**4th Moment:**\n",
    " - aka kurtosis (if centred about the mean, standardized, and reduced by 3)\n",
    " - gives the peakedness of the data\n",
    " - that is, tells how \"heavy\" the tails of the distribution are\n",
    " \n",
    "![Kurtosis Diagram](kurtosis.jpg)\n",
    "\n",
    "**Formula and Brief Explanation:**\n",
    "\n",
    "Recall that the formula for the $n^{th}$ discrete, normalized moment, centred around $c$, with $y_i = 1$ (ie. $frequency = 1$) is:\n",
    "$$ \\frac{1}{k} \\sum_{i=1}^{k} (x_i - c)^n .$$\n",
    "\n",
    "If $n = 1$ and $c$ is exactly equal to the mean (ie. $c = \\frac{1}{k} \\sum_{i=1}^{k} x_i$), then the moment will have a value of $0$.\n",
    "\n",
    "However, if $n = 1$ and $c = 0$, then the moment will be equal to the mean.\n",
    "\n",
    "In the assignment, you are asked to centre the moments about the fitted curve. Therefore, your $c$ will be based on the formula for the curve that you find that approximates the data.\n",
    "\n",
    "If $n = 2,3,4$, we do not want $c = 0$ because these moments tell us about the shape of the data, which is more meaningful when the shape is determined with respect to the location of the data (ie. with respect to the mean - or in the case of the assignment, with respect to the fitted curve).\n"
   ]
  },
  {
   "cell_type": "code",
   "execution_count": null,
   "metadata": {
    "collapsed": true
   },
   "outputs": [],
   "source": []
  }
 ],
 "metadata": {
  "kernelspec": {
   "display_name": "Python 3",
   "language": "python",
   "name": "python3"
  },
  "language_info": {
   "codemirror_mode": {
    "name": "ipython",
    "version": 3
   },
   "file_extension": ".py",
   "mimetype": "text/x-python",
   "name": "python",
   "nbconvert_exporter": "python",
   "pygments_lexer": "ipython3",
   "version": "3.5.1"
  }
 },
 "nbformat": 4,
 "nbformat_minor": 0
}
