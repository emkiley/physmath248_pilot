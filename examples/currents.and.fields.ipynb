{
 "cells": [
  {
   "cell_type": "markdown",
   "metadata": {},
   "source": [
    "## Currents and fields\n",
    "\n",
    "In this notebook we use Python to attack electrostatics problems that would be difficult or impossible to do in *closed form*. \n",
    "\n",
    "$$B = q \\frac{\\mu_0}{4\\pi} \\frac{\\vec v \\times \\hat r}{r^2} $$\n",
    "\n",
    "$B$ is the magnetic field as a point a distance $r$ from a charge $q$ travelling with velocity $v$.  $\\hat r$ is the unit vector from the point to the charge. $\\times$ is the vector cross product.\n",
    "\n",
    "Ignoring the constants, we can re-write this equation as\n",
    "$$B = \\frac{\\vec I \\times \\hat r}{r^2}$$\n",
    "where $\\vec I = q \\vec v$ is the current vector.\n",
    "\n",
    "So if our current was running in a wire, our magnetic field at any given point would be given by an integral (over a curve)\n",
    " \n",
    " $$B = \\int \\frac{d\\vec I \\times \\vec r}{r^3}$$\n",
    "\n",
    "similarly if the current was running through a solid, the above integral would be over a 3-dimensional region.  To make this a little more explicit, if we wish to evaluate the vector field $B$ at a point $\\vec p$, we get the expression\n",
    "\n",
    "$$B(\\vec p) = \\int \\frac{d \\vec I \\times (\\vec x - \\vec p)}{|\\vec x - \\vec p|^3}$$\n",
    "\n",
    "where $\\vec x$ is the variable of integration, and $\\vec r = \\vec x - \\vec p$, and $ \\vec I$ is a function of $\\vec x$, i.e. $\\vec I(\\vec x)$.  So in this case the **integrand** is a vector-valued function \n",
    "$$F(\\vec x, \\vec p) = \\frac{d \\vec I \\times (\\vec x - \\vec p)}{|\\vec x - \\vec p|^3}$$\n",
    "i.e. a function of two $3$-dimensional vector variables, or equivalently six $1$-dimensional real variables, and in our integration we integrate with respect to only three of those six variables -- this allows us to have the three remaining variables of $\\vec p$ free after integration. \n",
    "\n",
    " * * *\n",
    " \n",
    "Before we start computing-away, notice that we will have to compute vector-valued integrals over 1, 2 and 3-dimensional domains... but not just one or two such integrals.  To get a sense for these vector fields we need to compute such integrals over a wide range of points in $R^3$ if we hope to get a sense for what these vector fields look like.  \n",
    "\n",
    "As it is more pleasant to work in vector notation, we modify the scipy integrate library to happily work with vector-valued functions, and to iterate over meshed grids of points.  "
   ]
  },
  {
   "cell_type": "code",
   "execution_count": null,
   "metadata": {
    "collapsed": false
   },
   "outputs": [],
   "source": [
    "## We will use the scipy integrate.nquad library.   It expect scalar-valued \n",
    "## functions.  \n",
    "\n",
    "import numpy as np\n",
    "from scipy import integrate\n",
    "\n",
    "print(integrate.quad(np.sin, 0, np.pi) )"
   ]
  },
  {
   "cell_type": "markdown",
   "metadata": {},
   "source": [
    "This is good, but we will need to perform families of integrals and sometimes over more than 1-dimensional domains. Moreover, the above integrate routine demands that the *input* function (here it is $np.sin$) is real-valued.  We need to integrate vector-valued functions as well.  We begin to correct these defects in the scipy library. "
   ]
  },
  {
   "cell_type": "code",
   "execution_count": null,
   "metadata": {
    "collapsed": false
   },
   "outputs": [],
   "source": [
    "## vecint is a function that computes an integral.  f is a vector valued function\n",
    "## defined on an n-dimensional \"interval\" I.  I will be a list of 2-element lists, describing\n",
    "## the endpoints.  f will be a k-tuple of scalar-valued functions that take n arguments. \n",
    "## The return value will be a pair, the first element being the approximate integral.  The\n",
    "## second being an upper bound on the error (a length in R^k). You can pass additional \n",
    "## arguments with \"args\".\n",
    "def vecint(F, I, *args):\n",
    "    componentintegrals = [integrate.nquad(f, I, args) for f in F]\n",
    "    retint = [CI[0] for CI in componentintegrals]\n",
    "    if (len(retint)==1):\n",
    "        retint = retint[0]\n",
    "    reterr = np.sqrt(sum(CI[1]**2 for CI in componentintegrals))\n",
    "    return retint, reterr\n",
    "   \n",
    "## integral of the vector (sin x, cos y) over the 2-dimensional domain [0,pi]x[0,pi]\n",
    "print(vecint([lambda x,y: np.sin(x), lambda x,y: np.cos(y)], [[0,np.pi],[0,np.pi]] ) )\n",
    "## integral of sin(x) on [0,pi]\n",
    "print(vecint([lambda x: np.sin(x)], [[0,np.pi]]))\n",
    "## integral of (cos x, sin x) on [0,pi]\n",
    "print(vecint([lambda x: np.cos(x), lambda x: np.sin(x)], [[0,np.pi]] ))\n",
    "\n",
    "## and we can pass additional arguments. \n",
    "\n",
    "## integral of (sin(x)+k)dx on [0,pi]  with k=1\n",
    "print(vecint( [lambda x,k: np.sin(x)+k], [[0,np.pi]], 1) )\n",
    "## integral of (sin(x)+a+b)dx with a=b=0\n",
    "print(vecint( [lambda x,a,b: np.sin(x)+a+b], [[0,np.pi]], 0,0))\n",
    "\n",
    "## good!"
   ]
  },
  {
   "cell_type": "markdown",
   "metadata": {
    "collapsed": false
   },
   "source": [
    "## But not good enough!\n",
    "\n",
    "This isn't convenient enough as we will need to perform these kinds of integrals over a wide range of x,y,z coordinates in order to plot the vector fields.   To do this we will utilize the numpy **vectorize** routine.  This is a routine that takes arrays of inputs and provides arrays of outputs, i.e. if one has a function\n",
    "$$f(x)$$\n",
    "that takes as input a float $x$, the 'vectorized' version of $f$ will takes as input an array\n",
    "$$[x_1,x_2,\\cdots,x_n]$$\n",
    "and return an output\n",
    "$$[f(x_1), f(x_2), \\cdots, f(x_n)]$$\n",
    "Unfortunately for us, numpy can only vectorize a function $f$ if its output is a numpy base data type (for example, an *np.float32*).  So first we vectorize scalar-valued integrals. "
   ]
  },
  {
   "cell_type": "code",
   "execution_count": null,
   "metadata": {
    "collapsed": false
   },
   "outputs": [],
   "source": [
    "## We want to vectorize the integration process.  The below produces a vectorized \n",
    "## 1-dimensional integration, that takes a 1-dimensional grid of values as points of\n",
    "## evaluation. \n",
    "def quad_1vz1(f, I, *args):\n",
    "    return np.vectorize(lambda n: integrate.quad(f, I[0], I[1], (n,)+args)[0])\n",
    "\n",
    "## let's demonstrate it. \n",
    "def f(x,k):\n",
    "    return np.sin(x*k)\n",
    "K = np.mgrid[0:1:6j]\n",
    "## integral of f(x,k)dx for various values of k.\n",
    "print(quad_1vz1(f, [0,1] )(K))\n",
    "\n",
    "## notice we can make f have more variables and pass those additional arguments\n",
    "def f(x,k,a):\n",
    "    return a*np.sin(x*k)\n",
    "\n",
    "## integral of f(x,k,a)dx for various values of k, with a == 1\n",
    "print(quad_1vz1(f, [0,1], 1)(K))\n",
    "## integral of f(x,k,a)dx for various values of k, with a == 2\n",
    "print(quad_1vz1(f, [0,1], 2)(K))"
   ]
  },
  {
   "cell_type": "markdown",
   "metadata": {},
   "source": [
    "### And with two parameters. "
   ]
  },
  {
   "cell_type": "code",
   "execution_count": null,
   "metadata": {
    "collapsed": false
   },
   "outputs": [],
   "source": [
    "## Let's do the same for 1-dimensional integrals with two parameters\n",
    "def quad_1vz2(f, I, *args):\n",
    "    return np.vectorize(lambda n,m: integrate.quad(f, I[0], I[1], (n,m)+args)[0])\n",
    "X,Y=np.mgrid[0:1:5j, 0:1:5j]\n",
    "def f(t,x,y):\n",
    "    return np.sin(t*x)+y\n",
    "## integral of (sin(tx)+y)dt on [0,1] for (x,y) in a 2-dimensional grid of points.\n",
    "print(quad_1vz2(f, [0,1])(X,Y))"
   ]
  },
  {
   "cell_type": "markdown",
   "metadata": {
    "collapsed": false
   },
   "source": [
    "## Good\n",
    "\n",
    "Let's vectorize multi-dimensional scalar-valued integrals now. "
   ]
  },
  {
   "cell_type": "code",
   "execution_count": null,
   "metadata": {
    "collapsed": false
   },
   "outputs": [],
   "source": [
    "## integration over n-dimensional domain, of real valued function (1d output), and\n",
    "##  with a single vectorization parameter. \n",
    "def nquad_1vz1(f, I, *args):\n",
    "    return np.vectorize(lambda n: integrate.nquad(f, I, (n,)+args)[0])\n",
    "\n",
    "def f(x,y,k):\n",
    "    return x**2-y**2+k\n",
    "\n",
    "K = np.mgrid[0:1:6j]\n",
    "nquad_1vz1( f, [[-1,1],[-1,1]] )(K)\n",
    "## looks good!\n",
    "## these are the integrals of x^2-y^2+k over the box [-1,1]x[-1,1] for various \n",
    "## values of k between 0 and 1."
   ]
  },
  {
   "cell_type": "markdown",
   "metadata": {
    "collapsed": false
   },
   "source": [
    "## Integration with 3-extra parameters\n",
    "\n",
    "Our most basic integration will always require three vectorization parameters as we need vector fields defined in 3-dimensional space.  So we need the analogous **quad_3vz3** and **nquad_3vz3** functions.  We will produce *quad_3vz3* and *nquad_3vz3* from **quad_1vz3** and **nquad_1vz3**, the corresponding vectorization of scalar-valued functions. "
   ]
  },
  {
   "cell_type": "code",
   "execution_count": null,
   "metadata": {
    "collapsed": false
   },
   "outputs": [],
   "source": [
    "def quad_1vz3(f, I, *args):\n",
    "    return np.vectorize(lambda n,m,p: integrate.quad(f, I[0], I[1], (n,m,p)+args)[0])\n",
    "def nquad_1vz3(f, I, *args):\n",
    "    return np.vectorize(lambda n,m,p: integrate.nquad(f, I, (n,m,p)+args)[0])\n",
    "## and let's do a basic test, integration of a 3-variable function with 3 parameters. \n",
    "def f(x,y,z,a,b,c):\n",
    "    return x**2-y**2+z + a*b*c\n",
    "A,B,C = np.mgrid[0:1:2j,0:1:2j,0:1:2j]\n",
    "## these are the integrals of x^2-y^2+abc dxdy over [-1,1]x[-1,1]\n",
    "nquad_1vz3(f, [[-1,1],[-1,1],[-1,1]] )(A,B,C)\n",
    "## Looks good! "
   ]
  },
  {
   "cell_type": "markdown",
   "metadata": {},
   "source": [
    "## Lastly, we need integration calls for vector-valued functions.  \n",
    "\n",
    "We have all our building-blocks. We need an integration procedure that takes as input a vector-valued function of $\\{4,5,6\\}$ variables, and performs an integration with respect to $\\{1,2,3\\}$ of them, returning mgrids $u,v,w$ \n",
    "\n",
    "We want to work with vectors in defining our vector fields as computing the x,y,z coordinates might oftentimes be difficult.  Using sympy we can request the Cartesian coordinates after the vector field has been computed. "
   ]
  },
  {
   "cell_type": "code",
   "execution_count": null,
   "metadata": {
    "collapsed": false
   },
   "outputs": [],
   "source": [
    "## and now we're ready to create a vector-valued integration function. \n",
    "## this takes as input:\n",
    "##  F : a list/tuple of single-variable functions on [a,b] with 3 additional parameters\n",
    "##  I : I = [a,b] a 2-element list describing the domain of the primary parameter\n",
    "##  returns a tuple of functions\n",
    "def quad_nvz3(F, I, *args):\n",
    "    retval = []\n",
    "    for f in F:\n",
    "        retval.append([quad_1vz3(f, I)(*args)])\n",
    "    return tuple(retval)\n",
    "\n",
    "def f(t,a,b,c):\n",
    "    return t**2 + a*b*c\n",
    "def g(t,a,b,c):\n",
    "    return t**3 + a*b*c\n",
    "A,B,C = np.mgrid[0:1:2j,0:1:2j,0:1:2j]\n",
    "## this call returns the integral of the vector\n",
    "## (t^2+abc, t^3+abc)dt over [0,1] with the three extra parameters abc sampled\n",
    "##  over a grid. \n",
    "X = quad_nvz3([f,g], [0,1], A,B,C)\n",
    "\n",
    "def nquad_nvz3(F, I, *args):\n",
    "    retval = []\n",
    "    for f in F:\n",
    "        retval.append([nquad_1vz3(f, I)(*args)])\n",
    "    return tuple(retval)\n",
    "\n",
    "## nquad_nvz3([f,g,h], I, A,B,C)\n",
    "## returns the integral ov the vector-valued function\n",
    "## (f(x,y,z,a,b,c),g(x,y,z,a,b,c),h(x,y,z,a,b,c))dxdydz over the interval I\n",
    "## with free parameters a,b,c chosen over a grid. "
   ]
  },
  {
   "cell_type": "markdown",
   "metadata": {},
   "source": [
    "**Problem 1:** Find the magnetic field surrounding a round circle of radius 1.  We assume the current distribution is uniform. \n",
    " \n",
    " Imagine the circle as being decomposed into $n$ equal-length segments.  Each has length $l = \\frac{2\\pi}{n}$.  This implies the current in a segment of length $l$ is approximately $l \\vec I$ where $\\vec I$ is a choice of current in the interval.  So our integral is:\n",
    " \n",
    " $$B = \\int \\frac{d\\vec I \\times \\vec r}{r^3}$$\n",
    " \n",
    " so if $\\vec p$ is our point in $3$-dimensional space, $\\vec r = \\vec x - \\vec p$ with $\\vec x$ on the unit circle, giving the integral:\n",
    " \n",
    " $$B(\\vec p) = \\int_C \\frac{d \\vec I \\times (\\vec x - \\vec p)}{|\\vec x - \\vec p|^3}$$\n",
    " \n",
    " if we parametrize the circle as $\\vec x = (\\cos t, \\sin t, 0)$ then we can assume (up to some constant) that $d \\vec I = d \\vec x = (-\\sin t, \\cos t, 0)dt$ converting the integral to\n",
    " \n",
    " $$B(\\vec p) = \\int_0^{2\\pi} \\frac{(-\\sin t, \\cos t, 0)\\times \\left((\\cos t, \\sin t, 0) - \\vec p\\right)}{|(\\cos t, \\sin t, 0)-\\vec p|^3}dt$$\n",
    " \n",
    "Now that we have the integrand in terms of the four variables $t, \\vec p$ with $\\vec p = (x,y,z)$ we can pass it to *quad_nvz3* and plot the vector field.  But first we need to determine the Cartesian coordinates of this vector field.  Rather than compute them by hand, we ask **sympy** to do the work. \n"
   ]
  },
  {
   "cell_type": "code",
   "execution_count": null,
   "metadata": {
    "collapsed": false
   },
   "outputs": [],
   "source": [
    "import sympy as sp\n",
    "t,x,y,z = sp.symbols('t x y z')\n",
    "num = sp.Matrix([-sp.sin(t), sp.cos(t), 0]).cross(\\\n",
    "      sp.Matrix([sp.cos(t)-x, sp.sin(t)-y, -z]))\n",
    "num.simplify()\n",
    "den = sp.Matrix([sp.cos(t)-x, sp.sin(t)-y, -z])\n",
    "den = den.dot(den)**(3/2)\n",
    "Fs = num/den\n",
    "sp.pprint(Fs)\n",
    "## our integrand, in closed form. "
   ]
  },
  {
   "cell_type": "code",
   "execution_count": null,
   "metadata": {
    "collapsed": false
   },
   "outputs": [],
   "source": [
    "## now let's cast it into an array of callable functions. I suppose using ufuncify\n",
    "## or lambdify, either should be fine. \n",
    "from sympy.utilities.autowrap import ufuncify\n",
    "\n",
    "F = []\n",
    "for i in range(3):\n",
    "    F.append(ufuncify([t,x,y,z], Fs[i,0]) )\n",
    "\n",
    "## done. "
   ]
  },
  {
   "cell_type": "code",
   "execution_count": null,
   "metadata": {
    "collapsed": true
   },
   "outputs": [],
   "source": [
    "## We set up the integral.   First, decide on the lattice of points where we want to \"see\" the vector\n",
    "## field B.  We use meshgrid since matplotlib's 3d-vector-field plotting tool, the \"quiver\" demands\n",
    "## your plot be in this format.  We similarly have to compute the vector field B = (u,v,w) along this\n",
    "## grid. \n",
    "\n",
    "## hmm, not awesome.  We should add the conductor.  And maybe put in streamlines? \n",
    "## also consider using plotly?  vispy would be overkill and code generation might \n",
    "## be painful. \n",
    "\n",
    "x, y, z = np.mgrid[-1.5:1.5:8j, -1.5:1.5:8j, -0.5:0.5:6j]\n",
    "\n",
    "u, v, w = quad_nvz3(F, [0, 2*np.pi], x,y,z )\n",
    "\n",
    "## distance to circle\n",
    "#dtc = np.sqrt((np.sqrt(x**2+y**2) - 1.0)**2 + z**2)"
   ]
  },
  {
   "cell_type": "code",
   "execution_count": null,
   "metadata": {
    "collapsed": false
   },
   "outputs": [],
   "source": [
    "import matplotlib as mpl\n",
    "%matplotlib nbagg\n",
    "from mpl_toolkits.mplot3d import Axes3D\n",
    "import numpy as np\n",
    "import matplotlib.pyplot as plt\n",
    "\n",
    "#import itertools as it\n",
    "\n",
    "mpl.rcParams['legend.fontsize'] = 10\n",
    "\n",
    "fig = plt.figure()\n",
    "ax = fig.gca(projection='3d')\n",
    "\n",
    "T = np.arange(0.0, 2*np.pi, 0.01)\n",
    "ax.plot(np.cos(T), np.sin(T), np.zeros_like(T), 'r')\n",
    "q = ax.quiver(x, y, z, u, v, w, length=0.1, pivot='middle', cmap='Blues', linestyles='solid')\n",
    "\n",
    "q.set_array(np.random.rand(np.prod(x.shape)))\n",
    "plt.show()\n",
    "\n",
    "## quiver call details available in two locations.  The 3d plotting API\n",
    "## http://matplotlib.org/mpl_toolkits/mplot3d/api.html\n",
    "## and the linecollection API\n",
    "## http://matplotlib.org/api/collections_api.html#matplotlib.collections.LineCollection\n",
    "\n",
    "ax.set_xlabel('x-axis')\n",
    "ax.set_ylabel('y-axis')\n",
    "ax.set_zlabel('z-axis')\n",
    "\n",
    "plt.show()"
   ]
  },
  {
   "cell_type": "code",
   "execution_count": null,
   "metadata": {
    "collapsed": true
   },
   "outputs": [],
   "source": [
    "## hmm, it does not look like matplotlib lets us set the arrow colors individually\n",
    "#colors=np.empty(x.shape+(4,), dtype=np.float)\n",
    "#print(colors.shape)\n",
    "#for vi,vj,vk in it.product(range(colors.shape[0]), range(colors.shape[1]), range(colors.shape[2])):\n",
    "#    colors[vi,vj,vk,0] = 0.9 if (vi+vj+vk%2==0) else 0.0\n",
    "#    colors[vi,vj,vk,1] = 0.2 if (vi+vj+vk%2==0) else 0.4\n",
    "#    colors[vi,vj,vk,2] = 0.0 if (vi+vj+vk%2==0) else 0.6\n",
    "#    colors[vi,vj,vk,3] = 0.5 if (vi+vj+vk%2==0) else 0.8\n",
    "#print(colors[0,0,0])\n",
    "\n",
    "# let's try setting the arrow widths -- hmm, similarly it does not seem possible to\n",
    "# adjust the lengths or widths as a family.  They seem to be working on this\n",
    "# https://github.com/matplotlib/matplotlib/issues/3382\n",
    "\n",
    "# Hmm... plot.ly has no 3d quiver plot, either. \n",
    "\n",
    "# and neither plot.ly nor matplotlib have flowline support.  Hmm! \n",
    "# okay let's see if we can write code to rapidly generate flow lines. "
   ]
  },
  {
   "cell_type": "markdown",
   "metadata": {},
   "source": [
    "Before we move on to more sophisticated plots, let's do another example to demonstrate\n",
    "how flexible our tools are.   I will compute the vector field around a [(p,q)-torus knot](../visualisation/plotly.pqtorus.ipynb), or alternatively see an [on-line demonstration](https://plot.ly/~Ryan.Budney/12/_72-torus-knot/). "
   ]
  },
  {
   "cell_type": "code",
   "execution_count": null,
   "metadata": {
    "collapsed": true
   },
   "outputs": [],
   "source": [
    "import sympy as sp\n",
    "t,x,y,z = sp.symbols('t x y z')\n",
    "spp, spq, spr, spR = sp.symbols(\"p q r R\", real=True)\n",
    "\n",
    "c = sp.Matrix([(spR+spr*sp.cos(2*sp.pi*spq*t))*sp.cos(2*sp.pi*spp*t), \n",
    "     (spR+spr*sp.cos(2*sp.pi*spq*t))*sp.sin(2*sp.pi*spp*t), \n",
    "      spr*sp.sin(2*sp.pi*spq*t)])\n",
    "cp = sp.diff(c, t) ## the derivative"
   ]
  },
  {
   "cell_type": "code",
   "execution_count": null,
   "metadata": {
    "collapsed": false
   },
   "outputs": [],
   "source": [
    "C = c.xreplace({spp: 3, spq: 2, spR: 1.2, spr: 0.4})\n",
    "Cp = cp.xreplace({spp: 3, spq: 2, spR: 1.2, spr: 0.4})\n",
    "P = sp.Matrix([x,y,z])\n",
    "\n",
    "sp.pprint(Cp)"
   ]
  },
  {
   "cell_type": "markdown",
   "metadata": {},
   "source": [
    "Recall our coordinate $\\vec x$ in the integrand is the point on our curve.  \n",
    "\n",
    "$$\\frac{\\frac{d \\vec x}{dt} \\times (\\vec x - \\vec p)}{|\\vec x - \\vec p|^3}dt$$\n",
    "\n",
    "So in our case, we replace $\\vec x$ with $c$ above, giving..."
   ]
  },
  {
   "cell_type": "code",
   "execution_count": null,
   "metadata": {
    "collapsed": false
   },
   "outputs": [],
   "source": [
    "num = Cp.cross(C-P)\n",
    "num.simplify()\n",
    "den = C - P\n",
    "den = den.dot(den)**(3/2)\n",
    "Fs = num/den\n",
    "#sp.pprint(Fs)\n",
    "\n",
    "F = []\n",
    "for i in range(3):\n",
    "    F.append(ufuncify([t,x,y,z], Fs[i,0]) )\n",
    "    \n",
    "Cc = [] ## the original curve\n",
    "for i in range(3):\n",
    "    Cc.append(ufuncify([t], C[i,0]))\n",
    "    \n",
    "x, y, z = np.mgrid[-1.5:1.5:5j, -1.5:1.5:5j, -0.5:0.5:3j]\n",
    "u, v, w = quad_nvz3(F, [0, 2*np.pi], x,y,z )"
   ]
  },
  {
   "cell_type": "code",
   "execution_count": null,
   "metadata": {
    "collapsed": false
   },
   "outputs": [],
   "source": [
    "fig = plt.figure()\n",
    "ax = fig.gca(projection='3d')\n",
    "\n",
    "T = np.arange(0.0, 2*np.pi, 0.01)\n",
    "\n",
    "ax.plot(Cc[0](T), Cc[1](T), Cc[2](T), 'r')\n",
    "\n",
    "q = ax.quiver(x, y, z, u, v, w, length=0.1, pivot='middle', cmap='Blues', linestyles='solid')\n",
    "plt.show()\n",
    "\n",
    "## quiver call details available in two locations.  The 3d plotting API\n",
    "## http://matplotlib.org/mpl_toolkits/mplot3d/api.html\n",
    "## and the linecollection API\n",
    "## http://matplotlib.org/api/collections_api.html#matplotlib.collections.LineCollection\n",
    "\n",
    "ax.set_xlabel('x-axis')\n",
    "ax.set_ylabel('y-axis')\n",
    "ax.set_zlabel('z-axis')\n",
    "\n",
    "plt.show()"
   ]
  },
  {
   "cell_type": "markdown",
   "metadata": {},
   "source": [
    "# Okay, we can compute magnetic fields in generality... but...\n",
    "\n",
    "Our plotting capabilities are fairly limited.  Let's try to improve this by adding a basic flow line capability to our plots. "
   ]
  },
  {
   "cell_type": "code",
   "execution_count": null,
   "metadata": {
    "collapsed": false
   },
   "outputs": [],
   "source": [
    "###### Basic flow lines.  We will take as input the initial vector field defined on the\n",
    "## x,y,z meshgrid, and flow a small amount using an Euler method. \n",
    "\n",
    "## takes as input the same ingredients as before.  But for every x,y,z coordinate\n",
    "## where we plot the vector fields, let's plot a small amount of the flow.  To \n",
    "## do this we will need to iterate over the x,y,z coordinates and perform a few\n",
    "## steps of Euler's method. \n",
    "\n",
    "## function will return a list of flowlines.  An individual flowline will be\n",
    "## a 3-element list [x,y,z] where x,y,z are lists of x-coordinates, y-coordinates,z-coordinates\n",
    "## respectively for the individual flow line. \n",
    "\n",
    "def squad(F, I, *args):\n",
    "    retval = []\n",
    "    for f in F:\n",
    "        retval.append(integrate.quad(f, I[0], I[1], args)[0])\n",
    "    return retval\n",
    "\n",
    "import itertools as it\n",
    "\n",
    "x,y,z=np.mgrid[-1.4:1.4:8j, -1.4:1.4:8j, -0.8:0.8:6j]\n",
    "\n",
    "## returns the flow lines as a (list) of (list of triples) of (list of floats)\n",
    "## takes as input a mgrid of x,y,z coordinates, number of steps n and time step dt\n",
    "## Also requires F callable function of 3-variables: t,x,y,z. We integrate against t,\n",
    "## from 0 to 2pi for now. Might want to make this more flexible in the future.\n",
    "## C is the original curve parametrization, assumed domain is [0,2pi]\n",
    "def flowLines(x,y,z,F,C,n,dt):\n",
    "    def onC(x,y,z,Cc):\n",
    "        I = np.arange(0,2*np.pi, 0.01)\n",
    "        if min([np.sqrt((Cc[0](t)-x)**2 + (Cc[1](t)-y)**2 + (Cc[2](t)-z)**2) for t in I]) < 0.02:\n",
    "            return True ## close enough\n",
    "        else:\n",
    "            return False ## it's safe to use Euler's method\n",
    "    \n",
    "    retval = []\n",
    "    for i,j,k in it.product(range(x.shape[0]), range(x.shape[1]), range(x.shape[2])):\n",
    "        ## okay, let's build the flowline at x,y,z\n",
    "        ## determine vector field at x,y,z, flow, build flowline, repeat\n",
    "        xl = [x[i,j,k]]; yl = [y[i,j,k]]; zl = [z[i,j,k]];\n",
    "        if onC(x[i,j,k], y[i,j,k], z[i,j,k], C) == False:\n",
    "            for s in range(n):\n",
    "                ## one step of Euler's method\n",
    "                #integrate Fdt at xl,yl,zl from 0 to 2pi.\n",
    "                #print(xl[-1], yl[-1], zl[-1])\n",
    "                dp = squad(F, [0, 2*np.pi], xl[-1], yl[-1], zl[-1])\n",
    "                ldp = np.sqrt(dp[0]**2+dp[1]**2+dp[2]**2)\n",
    "                if (ldp<1.0): ldp = 1.0\n",
    "                xl.append( xl[-1] + dt*dp[0]/ldp )\n",
    "                yl.append( yl[-1] + dt*dp[1]/ldp )\n",
    "                zl.append( zl[-1] + dt*dp[2]/ldp )\n",
    "            \n",
    "        ## append the flowline to retal.\n",
    "        retval.append([xl, yl, zl])\n",
    "        \n",
    "    return retval\n",
    "\n",
    "flows = flowLines(x,y,z, F, Cc, 70, 0.005)"
   ]
  },
  {
   "cell_type": "code",
   "execution_count": null,
   "metadata": {
    "collapsed": false
   },
   "outputs": [],
   "source": [
    "fig = plt.figure()\n",
    "ax = fig.gca(projection='3d')\n",
    "\n",
    "for P in flows:\n",
    "    ax.plot(P[0], P[1], P[2], 'r')\n",
    "\n",
    "T = np.arange(0.0, 2*np.pi, 0.01)\n",
    "\n",
    "ax.plot(Cc[0](T), Cc[1](T), Cc[2](T), 'b')\n",
    "\n",
    "plt.show()"
   ]
  },
  {
   "cell_type": "markdown",
   "metadata": {},
   "source": [
    "### Let's see if Plot.ly does a better job"
   ]
  },
  {
   "cell_type": "code",
   "execution_count": null,
   "metadata": {
    "collapsed": false
   },
   "outputs": [],
   "source": [
    "## Let's see if we can do better with plot.ly\n",
    "import plotly.offline as py\n",
    "#import plotly.plotly as py\n",
    "import plotly.graph_objs as go\n",
    "#py.init_notebook_mode() # run at the start of every notebook\n",
    "\n",
    "T = np.arange(0,2*np.pi, 0.004)\n",
    "\n",
    "tracelist = [go.Scatter3d( ## the knot\n",
    "    x=Cc[0](T),    y=Cc[1](T),     z=Cc[2](T),\n",
    "    mode='lines',\n",
    "    line=go.Line(color='#2050FF', width=18)\n",
    "    )]\n",
    "\n",
    "tipsx = [P[0][-1] for P in flows]\n",
    "tipsy = [P[1][-1] for P in flows]\n",
    "tipsz = [P[2][-1] for P in flows]\n",
    "\n",
    "tracelist.append(go.Scatter3d(\n",
    "    x=tipsx, y=tipsy, z=tipsz, mode='markers',\n",
    "    marker = dict(\n",
    "        size=3, color = 'yellow') ) )\n",
    "\n",
    "for P in flows:\n",
    "    tracelist.append( go.Scatter3d(x=P[0], y=P[1], z=P[2], \n",
    "                                   mode='lines',\n",
    "                                   line=go.Line(color='#FF4040', width=5)) )\n",
    "\n",
    "data=go.Data(tracelist)\n",
    "\n",
    "layout = go.Layout(\n",
    "    title='Vector Field around a conducting 3,2-torus knot',\n",
    "    scene=dict(\n",
    "        xaxis=dict(\n",
    "            gridcolor='rgb(255, 255, 255)',\n",
    "            zerolinecolor='rgb(255, 255, 255)',\n",
    "            showbackground=True,\n",
    "            backgroundcolor='rgb(230, 230,230)'\n",
    "        ),\n",
    "        yaxis=dict(\n",
    "            gridcolor='rgb(255, 255, 255)',\n",
    "            zerolinecolor='rgb(255, 255, 255)',\n",
    "            showbackground=True,\n",
    "            backgroundcolor='rgb(230, 230,230)'\n",
    "        ),\n",
    "        zaxis=dict(\n",
    "            gridcolor='rgb(255, 255, 255)',\n",
    "            zerolinecolor='rgb(255, 255, 255)',\n",
    "            showbackground=True,\n",
    "            backgroundcolor='rgb(230, 230,230)'\n",
    "        )\n",
    "    )\n",
    ")\n",
    "\n",
    "fig = go.Figure(data=data, layout=layout)\n",
    "\n",
    "py.plot(fig, filename='electric32torus.html')  #creates new page (large)\n",
    "#py.iplot(fig) #puts inline\n",
    "#py.plot(fig, filename='electric32torus.html') #puts online"
   ]
  },
  {
   "cell_type": "markdown",
   "metadata": {
    "collapsed": false
   },
   "source": [
    "okay, not bad.\n",
    "\n",
    "## Let's try a current in a twisted sheet of metal\n",
    "\n",
    "Let's begin with a paremetrization.  I'll choose the sheet to be a Moebius band. One way to write it down is:\n",
    "\n",
    "$$(\\theta, t) \\longmapsto (\\cos \\theta, \\sin \\theta, 0) + \n",
    "t\\left((\\cos \\theta, \\sin \\theta, 0)\\cos(\\frac{\\theta}{2}) + (0,0,1)\\sin(\\frac{\\theta}{2}) \\right) $$\n",
    "\n",
    "with $0 \\leq \\theta \\leq 2\\pi$ and $-1 \\leq t \\leq 1$, although one could choose the bounds for $t$ to be smaller if one likes. \n",
    "\n",
    "We will follow exactly the same formalism as for the previous examples.. . the exception being we will legistlate that the current is uniform and flowing precisely in the $\\theta$ direction at a rate of one radian per second. "
   ]
  },
  {
   "cell_type": "code",
   "execution_count": null,
   "metadata": {
    "collapsed": false
   },
   "outputs": [],
   "source": [
    "import sympy as sp\n",
    "import numpy as np\n",
    "from scipy import integrate\n",
    "from sympy.utilities.autowrap import ufuncify\n",
    "\n",
    "h,t,x,y,z = sp.symbols('h t x y z')\n",
    "\n",
    "c = sp.Matrix([ sp.cos(h) + t*(sp.cos(h)*sp.cos(h/2)), sp.sin(h)+t*(sp.sin(h)*sp.cos(h/2)),\n",
    "               t*sp.sin(h/2) ])\n",
    "cp = sp.diff(c, t) ## the derivative\n",
    "P = sp.Matrix([x,y,z])\n",
    "\n",
    "sp.pprint(c)\n",
    "## okay."
   ]
  },
  {
   "cell_type": "markdown",
   "metadata": {
    "collapsed": false
   },
   "source": [
    "### Next\n",
    "\n",
    "Make the integrand:\n",
    "\n",
    "$$F(\\vec x, \\vec p) = \\frac{d \\vec I \\times (\\vec x - \\vec p)}{|\\vec x - \\vec p|^3}$$\n",
    "\n",
    "and then cast all the above into callable functions. "
   ]
  },
  {
   "cell_type": "code",
   "execution_count": null,
   "metadata": {
    "collapsed": false
   },
   "outputs": [],
   "source": [
    "num = cp.cross(c-P)\n",
    "num.simplify()\n",
    "den = sp.Matrix(c-P)\n",
    "den = den.dot(den)**(3/2)\n",
    "Fs = num/den\n",
    "sp.pprint(Fs)\n",
    "## looks ok..."
   ]
  },
  {
   "cell_type": "markdown",
   "metadata": {
    "collapsed": false
   },
   "source": [
    "We have to integrate the vector field $Fs$ on the entire surface.  For this we need to appeal to the change-of-variables theorem.  Stated another way, we need to compute how the element of area in the $(\\theta, t)$-plane is related to the element of area in the surface.  It is a general fact that if your surface sits in $R^n$ and your paremetrization is given by a function $F : R^k \\to R^n$ then the element of $k$-dimensional volume in your parametric object is given by:\n",
    "\n",
    "$$ \\sqrt{ Det( DF^t \\cdot DF ) } dx_1 dx_2 \\cdots dx_k $$"
   ]
  },
  {
   "cell_type": "code",
   "execution_count": null,
   "metadata": {
    "collapsed": false
   },
   "outputs": [],
   "source": [
    "DF = sp.Matrix(3,2, lambda i,j: 0)\n",
    "DF[:,0] = cp\n",
    "DF[:,1] = sp.diff(c, h)\n",
    "#sp.pprint(DF)\n",
    "## the element of area:\n",
    "EA = sp.sqrt( (DF.transpose()*DF).det() ).simplify()\n",
    "sp.pprint(EA)"
   ]
  },
  {
   "cell_type": "code",
   "execution_count": null,
   "metadata": {
    "collapsed": false
   },
   "outputs": [],
   "source": [
    "## callable integrand\n",
    "F = []\n",
    "for i in range(3):\n",
    "    F.append(ufuncify([h,t,x,y,z], Fs[i,0]) )\n",
    "    \n",
    "## callable surface\n",
    "Cc = [] ## the original curve\n",
    "for i in range(3):\n",
    "    Cc.append(ufuncify([h,t], c[i,0]))\n",
    "    \n",
    "## callable d(surf)/dtheta\n",
    "Cp = []\n",
    "for i in range(3):\n",
    "    Cp.append(ufuncify([h,t], cp[i,0]))\n",
    "    \n",
    "## callable F*EA - area distortion factor for the integration times F.\n",
    "FEA = [EA*Fs[i,0] for i in range(3)]\n",
    "Cfea = []\n",
    "for i in range(3):\n",
    "    Cfea.append( ufuncify([h,t,x,y,z], FEA[i] ) )"
   ]
  },
  {
   "cell_type": "code",
   "execution_count": null,
   "metadata": {
    "collapsed": false
   },
   "outputs": [],
   "source": [
    "x, y, z = np.mgrid[-1.5:1.5:10j, -1.5:1.5:10j, -0.5:0.5:8j]\n",
    "## let's compute the initial vector field, and just plot that.. at first\n",
    "u, v, w = nquad_nvz3(Cfea, [[0, 2*np.pi], [-0.4,0.4]], x,y,z )"
   ]
  },
  {
   "cell_type": "code",
   "execution_count": null,
   "metadata": {
    "collapsed": true
   },
   "outputs": [],
   "source": [
    "import matplotlib as mpl\n",
    "%matplotlib nbagg\n",
    "from mpl_toolkits.mplot3d import Axes3D\n",
    "import numpy as np\n",
    "import matplotlib.pyplot as plt\n",
    "import itertools as it\n",
    "\n",
    "fig = plt.figure()\n",
    "ax = fig.gca(projection='3d')\n",
    "\n",
    "t1 = np.linspace(0, 2*np.pi, 200)\n",
    "t2 = np.linspace(-0.4, 0.4, 30)\n",
    "\n",
    "sx=np.empty( (len(t1), len(t2)) ); sy=np.empty( (len(t1), len(t2)) ); \n",
    "sz=np.empty( (len(t1), len(t2)) ); \n",
    "for i,j in it.product(range(len(t1)), range(len(t2))):\n",
    "    sx[i,j]=Cc[0](t1[i], t2[j])\n",
    "    sy[i,j]=Cc[1](t1[i], t2[j])\n",
    "    sz[i,j]=Cc[2](t1[i], t2[j])\n",
    "\n",
    "ax.set_title('Electified Moebius band', fontsize=14)\n",
    "ax.plot_surface(sx, sy, sz, rstride=5, cstride=5, color='#FF2040', shade=True)\n",
    "\n",
    "q = ax.quiver(x, y, z, u, v, w, length=0.1, pivot='middle', cmap='Blues', linestyles='solid')\n",
    "\n",
    "ax.set_xlabel('x-axis')\n",
    "ax.set_ylabel('y-axis')\n",
    "ax.set_zlabel('z-axis')\n",
    "\n",
    "plt.show()"
   ]
  },
  {
   "cell_type": "markdown",
   "metadata": {},
   "source": [
    "## Again... kind of difficult to see\n",
    "\n",
    "Let's try doing the same adaption to plot.ly\n"
   ]
  },
  {
   "cell_type": "code",
   "execution_count": null,
   "metadata": {
    "collapsed": true
   },
   "outputs": [],
   "source": [
    "## TODO: incomplete\n",
    "def squad(F, I, *args):\n",
    "    retval = []\n",
    "    for f in F:\n",
    "        retval.append(integrate.nquad(f, I, args)[0])\n",
    "    return retval\n",
    "\n",
    "x,y,z=np.mgrid[-1.4:1.4:8j, -1.4:1.4:8j, -0.8:0.8:6j]\n",
    "\n",
    "## returns the flow lines as a (list) of (list of triples) of (list of floats)\n",
    "## takes as input a mgrid of x,y,z coordinates, number of steps n and time step dt\n",
    "## Also requires F callable function of 3-variables: t,x,y,z. We integrate against t,\n",
    "## from 0 to 2pi for now. Might want to make this more flexible in the future.\n",
    "## C is the original curve parametrization, assumed domain is [0,2pi]x[-0.4,0.4]\n",
    "def flowLines(x,y,z,F,C,n,dt):\n",
    "    def onC(x,y,z,Cc):\n",
    "        I = np.arange(0,2*np.pi, 0.01)\n",
    "        if min([np.sqrt((Cc[0](t)-x)**2 + (Cc[1](t)-y)**2 + (Cc[2](t)-z)**2) for t in I]) < 0.02:\n",
    "            return True ## close enough\n",
    "        else:\n",
    "            return False ## it's safe to use Euler's method\n",
    "    \n",
    "    retval = []\n",
    "    for i,j,k in it.product(range(x.shape[0]), range(x.shape[1]), range(x.shape[2])):\n",
    "        ## okay, let's build the flowline at x,y,z\n",
    "        ## determine vector field at x,y,z, flow, build flowline, repeat\n",
    "        xl = [x[i,j,k]]; yl = [y[i,j,k]]; zl = [z[i,j,k]];\n",
    "        if onC(x[i,j,k], y[i,j,k], z[i,j,k], C) == False:\n",
    "            for s in range(n):\n",
    "                ## one step of Euler's method\n",
    "                #integrate Fdt at xl,yl,zl from 0 to 2pi.\n",
    "                #print(xl[-1], yl[-1], zl[-1])\n",
    "                dp = squad(F, [0, 2*np.pi], xl[-1], yl[-1], zl[-1])\n",
    "                ldp = np.sqrt(dp[0]**2+dp[1]**2+dp[2]**2)\n",
    "                if (ldp<1.0): ldp = 1.0\n",
    "                xl.append( xl[-1] + dt*dp[0]/ldp )\n",
    "                yl.append( yl[-1] + dt*dp[1]/ldp )\n",
    "                zl.append( zl[-1] + dt*dp[2]/ldp )\n",
    "            \n",
    "        ## append the flowline to retal.\n",
    "        retval.append([xl, yl, zl])\n",
    "        \n",
    "    return retval\n",
    "\n",
    "flows = flowLines(x,y,z, F, Cc, 70, 0.005)"
   ]
  }
 ],
 "metadata": {
  "kernelspec": {
   "display_name": "Python 3",
   "language": "python",
   "name": "python3"
  },
  "language_info": {
   "codemirror_mode": {
    "name": "ipython",
    "version": 3
   },
   "file_extension": ".py",
   "mimetype": "text/x-python",
   "name": "python",
   "nbconvert_exporter": "python",
   "pygments_lexer": "ipython3",
   "version": "3.4.3"
  }
 },
 "nbformat": 4,
 "nbformat_minor": 0
}
