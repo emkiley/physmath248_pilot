{
 "cells": [
  {
   "cell_type": "markdown",
   "metadata": {},
   "source": [
    "# brief ipython notebook intro\n",
    "\n",
    "_emph_, __bold__\n",
    "\n",
    "$\\nu = \\sum x_i$\n",
    "\n",
    "$$\\mu = \\int x_i$$\n",
    "\n",
    "## An example figure\n",
    "![examplen figure](../images/fig_circle_pi.jpg)\n",
    "\n",
    "[This is a link](http://www.nugridstars.org)\n",
    "\n",
    "Here is `a line of code` and now follows some code block:\n",
    "```\n",
    "x = 5\n",
    "list = [1,2,3]\n",
    "for i in list:\n",
    "    do something\n",
    "```\n",
    "\n",
    "\n",
    "Here is a list:\n",
    "\n",
    "* item 1\n",
    "* item 2\n",
    "    - item 2.1\n",
    "    - item 2.2\n",
    "* item 3\n",
    "\n",
    "Here is a table:\n",
    "\n",
    "Name | Age | town\n",
    "-----|-----|-----\n",
    "Paul | 23  | Frankfurt\n",
    "Marco| 12  | Milano\n"
   ]
  },
  {
   "cell_type": "code",
   "execution_count": null,
   "metadata": {
    "collapsed": true
   },
   "outputs": [],
   "source": []
  }
 ],
 "metadata": {
  "kernelspec": {
   "display_name": "Python 2",
   "language": "python",
   "name": "python2"
  },
  "language_info": {
   "codemirror_mode": {
    "name": "ipython",
    "version": 2
   },
   "file_extension": ".py",
   "mimetype": "text/x-python",
   "name": "python",
   "nbconvert_exporter": "python",
   "pygments_lexer": "ipython2",
   "version": "2.7.9"
  }
 },
 "nbformat": 4,
 "nbformat_minor": 0
}
