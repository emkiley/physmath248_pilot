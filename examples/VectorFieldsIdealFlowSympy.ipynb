{
 "cells": [
  {
   "cell_type": "markdown",
   "metadata": {},
   "source": [
    "# Ideal flow problems\n",
    "This notebook has two parts. First we demonstrate how we can use [SymPy](http://www.sympy.org) to work with the vector and potential fields involved in ideal flows. In the second part we are demonstrating the solution of a problem we would typically present in the PHYS426 Fluid Dynamics class. \n",
    "\n",
    "Brief Sympy cheat sheets that may be useful:\n",
    "* [Mini reference](https://minireference.com/static/tutorials/sympy_tutorial.pdf)\n",
    "* [Quick examples](https://github.com/sympy/sympy/wiki/Quick-examples)\n",
    "\n",
    "## Ideal flow\n",
    "In brief, the flow of fluids can be described in an idealized way if neither viscosity nor turbulence are important, and if the flow is incompressible. There is a narrow range in the Reynolds number $$1000 \\leq Re = \\frac{v\\, l}{\\frac{\\mu}{\\rho}} \\leq 2000$$ where this is the case. This regime is called ideal flow, and it most notably breaks down near flow boundaries, such as walls (why?). In this regime both the curl and the divergence of the velocity field vanish: $$\\nabla \\times \\vec{v} = 0$$ and $$\\nabla  \\vec{v} = 0$$"
   ]
  },
  {
   "cell_type": "code",
   "execution_count": null,
   "metadata": {
    "collapsed": false
   },
   "outputs": [],
   "source": []
  },
  {
   "cell_type": "markdown",
   "metadata": {},
   "source": [
    "## Part I\n",
    "Theory of fluid dynamics shows that in ideal flow conditions we can find velocity fields by finding solutions to Laplace equation $$\\Delta \\Psi = 0$$ where $\\Psi$ is the scalar field defined on the white board."
   ]
  },
  {
   "cell_type": "markdown",
   "metadata": {},
   "source": [
    "### Quadratic polynomial solutions\n",
    "\n",
    "One type of solutions are of quadratic pplynomial form:"
   ]
  },
  {
   "cell_type": "code",
   "execution_count": null,
   "metadata": {
    "collapsed": false
   },
   "outputs": [],
   "source": []
  },
  {
   "cell_type": "markdown",
   "metadata": {},
   "source": [
    "From the scalar field $\\Psi$ we can per definition opf $\\Psi$ determine the velocity field, given by\n",
    "$$ \\vec u = \\frac{\\partial \\Psi}{\\partial y} \\mathrm{\\ and\\ } \\vec v = - \\frac{\\partial \\Psi}{\\partial x}$$\n",
    "These can be calculated algebraically with Sympy. First, define $\\Psi$ in SymPy:"
   ]
  },
  {
   "cell_type": "code",
   "execution_count": null,
   "metadata": {
    "collapsed": false
   },
   "outputs": [],
   "source": []
  },
  {
   "cell_type": "markdown",
   "metadata": {},
   "source": [
    "Now calculate the velocity components:"
   ]
  },
  {
   "cell_type": "code",
   "execution_count": null,
   "metadata": {
    "collapsed": false
   },
   "outputs": [],
   "source": []
  },
  {
   "cell_type": "markdown",
   "metadata": {},
   "source": [
    "We are dealing with vectors that have special meaning in physics. The `sympy.physics.vector` package is aware of this. In the following `N` is a cartesian reference frame that allows us to work with vector fields and associated scalar potentials."
   ]
  },
  {
   "cell_type": "code",
   "execution_count": null,
   "metadata": {
    "collapsed": true
   },
   "outputs": [],
   "source": []
  },
  {
   "cell_type": "markdown",
   "metadata": {},
   "source": [
    "In this reference frame $N_y$ or `N[1]` stand in for $y$ and `N.x` is the unit component vector $\\hat n_x$.\n",
    "\n",
    "The scalar field for the quadratic polynomial solution of the Laplace equation is then"
   ]
  },
  {
   "cell_type": "code",
   "execution_count": null,
   "metadata": {
    "collapsed": false
   },
   "outputs": [],
   "source": []
  },
  {
   "cell_type": "markdown",
   "metadata": {},
   "source": [
    "with the vector field"
   ]
  },
  {
   "cell_type": "code",
   "execution_count": null,
   "metadata": {
    "collapsed": false
   },
   "outputs": [],
   "source": []
  },
  {
   "cell_type": "markdown",
   "metadata": {},
   "source": [
    "As mention already: If the velocity vector field $\\vec V(\\vec r)$ (or any vector field) is conservative (i.e. has vanishing curl) we can express it in terms of the gradient of a scalar potential: $$\\vec V =\\nabla \\Phi$$"
   ]
  },
  {
   "cell_type": "code",
   "execution_count": null,
   "metadata": {
    "collapsed": false
   },
   "outputs": [],
   "source": []
  },
  {
   "cell_type": "code",
   "execution_count": null,
   "metadata": {
    "collapsed": false
   },
   "outputs": [],
   "source": []
  },
  {
   "cell_type": "markdown",
   "metadata": {},
   "source": [
    "Of coure the reason why we usually want a scalar potential is that once we have it we can always calculate the corresponding vector field (although in this case we already have it, nevertheless):"
   ]
  },
  {
   "cell_type": "code",
   "execution_count": null,
   "metadata": {
    "collapsed": false
   },
   "outputs": [],
   "source": []
  },
  {
   "cell_type": "code",
   "execution_count": null,
   "metadata": {
    "collapsed": false
   },
   "outputs": [],
   "source": []
  },
  {
   "cell_type": "markdown",
   "metadata": {},
   "source": [
    "## Ideal flow exercise\n",
    "![Example exercise](./FigIF.png)\n",
    "In order to solve this problem you just need to know one more thing, which is what a _stagnation point_ is. Maybe you can guess it?"
   ]
  },
  {
   "cell_type": "code",
   "execution_count": null,
   "metadata": {
    "collapsed": false
   },
   "outputs": [],
   "source": []
  },
  {
   "cell_type": "code",
   "execution_count": null,
   "metadata": {
    "collapsed": false
   },
   "outputs": [],
   "source": []
  },
  {
   "cell_type": "code",
   "execution_count": null,
   "metadata": {
    "collapsed": false
   },
   "outputs": [],
   "source": []
  },
  {
   "cell_type": "code",
   "execution_count": null,
   "metadata": {
    "collapsed": false
   },
   "outputs": [],
   "source": []
  },
  {
   "cell_type": "markdown",
   "metadata": {},
   "source": [
    "## Stagnation points\n",
    "Because of the symmetry the stagnation points are at $u(y=0) = 0$."
   ]
  },
  {
   "cell_type": "code",
   "execution_count": null,
   "metadata": {
    "collapsed": false
   },
   "outputs": [],
   "source": []
  },
  {
   "cell_type": "code",
   "execution_count": null,
   "metadata": {
    "collapsed": false
   },
   "outputs": [],
   "source": []
  },
  {
   "cell_type": "markdown",
   "metadata": {},
   "source": [
    "## Sketch the streamlines of the flow\n",
    "We must evaluate the $u$ and $v$ components of the velocity and plot them.  "
   ]
  },
  {
   "cell_type": "code",
   "execution_count": null,
   "metadata": {
    "collapsed": false
   },
   "outputs": [],
   "source": []
  },
  {
   "cell_type": "code",
   "execution_count": null,
   "metadata": {
    "collapsed": true
   },
   "outputs": [],
   "source": []
  },
  {
   "cell_type": "code",
   "execution_count": null,
   "metadata": {
    "collapsed": false
   },
   "outputs": [],
   "source": []
  },
  {
   "cell_type": "code",
   "execution_count": null,
   "metadata": {
    "collapsed": true
   },
   "outputs": [],
   "source": []
  },
  {
   "cell_type": "code",
   "execution_count": null,
   "metadata": {
    "collapsed": true
   },
   "outputs": [],
   "source": []
  },
  {
   "cell_type": "code",
   "execution_count": null,
   "metadata": {
    "collapsed": false
   },
   "outputs": [],
   "source": []
  }
 ],
 "metadata": {
  "kernelspec": {
   "display_name": "Python 2",
   "language": "python",
   "name": "python2"
  },
  "language_info": {
   "codemirror_mode": {
    "name": "ipython",
    "version": 2
   },
   "file_extension": ".py",
   "mimetype": "text/x-python",
   "name": "python",
   "nbconvert_exporter": "python",
   "pygments_lexer": "ipython2",
   "version": "2.7.9"
  }
 },
 "nbformat": 4,
 "nbformat_minor": 0
}
