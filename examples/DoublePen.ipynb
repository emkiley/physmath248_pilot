{
 "cells": [
  {
   "cell_type": "markdown",
   "metadata": {},
   "source": [
    "## ODE for a double pendulum"
   ]
  },
  {
   "cell_type": "markdown",
   "metadata": {},
   "source": [
    "We want to find the family of ODEs that describe the motion of a double pendulum.  This means we have two arms. The first arm is connected to a bearing, say, lying flat along a wall.  So the first arm has an angle parameter that gives the arm's angle \n",
    "\n",
    "<div style=\"display: inline-block; margin-right: 12px; margin-left: 100px\">\n",
    "<img src=\"doublepen.gif\" width=\"300\" height=\"300\" class=\"alignleft\"/> </div>\n",
    "\n",
    "i.e. $m_1$ hangs on the first arm with angle $\\theta_1$ from vertical.  $m_2$ hangs off the second arm, connected at the base of the first arm, with angle $\\theta_2$ from vertical (you could use the angle from the first arm if you prefer).  Let's say the first arm has length $r_1$ and the second arm has length $r_2$.  We call the coefficients of friction at the top of the first arm $k_1$ and at the top of the second arm $k_2$.  We are assuming all the mass is concentrated at the base of the two arms, i.e. the arms themselves are massless. "
   ]
  },
  {
   "cell_type": "markdown",
   "metadata": {},
   "source": [
    "The ODEs of motion are rather tedious to work out (typically one sees this in a 3rd year classical mechanics course, for the purpose of this course it would be fine if you grabbed this information from the web). "
   ]
  },
  {
   "cell_type": "markdown",
   "metadata": {
    "collapsed": true
   },
   "source": [
    "$$ (m_1+m_2)r_1^2\\theta_1'' + m_2r_1r_2\\cos(\\theta_1-\\theta_2)\\theta_2'' + m_2r_1r_2\\sin(\\theta_1-\\theta_2)(\\theta_2')^2-k_2\\theta_2' + (k_1+k_2)\\theta_1' + (m_1+m_2)r_1g\\sin\\theta_1 = 0$$"
   ]
  },
  {
   "cell_type": "markdown",
   "metadata": {
    "collapsed": true
   },
   "source": [
    "$$m_2r_2^2\\theta_2'' + m_2r_1r_2\\cos(\\theta_1-\\theta_2) \\theta_1'' - m_2r_1r_2\\sin(\\theta_1-\\theta_2)(\\theta_1')^2 +k_2\\theta_2' - k_2\\theta_1' + m_2r_2g\\sin\\theta_2 = 0$$"
   ]
  },
  {
   "cell_type": "markdown",
   "metadata": {},
   "source": [
    "We can convert this into a matrix differential equation\n",
    "$$\\pmatrix{(m_1+m_2)r_1^2 & m_2r_1r_2\\cos(\\theta_1-\\theta_2) \\cr m_2r_1r_2\\cos(\\theta_1-\\theta_2) & m_2r_2^2} \\pmatrix{\\theta_1'' \\cr \\theta_2''} = \\pmatrix{-m_2r_1r_2\\sin(\\theta_1-\\theta_2)(\\theta_2')^2 -(k_1+k_2)\\theta_1' + k_2\\theta_2' - (m_1+m_2)r_1g\\sin\\theta_1 \\cr +m_2r_1r_2\\sin(\\theta_1-\\theta_2)(\\theta_1')^2 + k_2\\theta_1' - k_2\\theta_2' - m_2r_2g\\sin\\theta_2}$$\n",
    "\n",
    "Since the matrix is invertible (provided $m_1 \\neq 0$) this allows for us to solve for $\\theta_1''$ and $\\theta_2''$.\n",
    "\n",
    "I've implemented an algorithm to approximate solutions to the differential equation.  Notice that if you use Euler's method verbatim, energy is not conserved!  But if I switch to more stable methods, energy is closer to being conserved.  Can you find a method where energy is always conserved? "
   ]
  },
  {
   "cell_type": "markdown",
   "metadata": {},
   "source": []
  },
  {
   "cell_type": "code",
   "execution_count": null,
   "metadata": {
    "collapsed": false
   },
   "outputs": [],
   "source": [
    "#from IPython.html.widgets import interact\n",
    "import math\n",
    "import numpy as np\n",
    "import matplotlib.pyplot as plt\n",
    "%matplotlib inline\n",
    "\n",
    "g=9.81 # why not? \n",
    "\n",
    "## this is our ODE.  It takes as input theta1, theta2, theta1', and theta2' and\n",
    "## returns theta1'' and theta2''. It also needs r1,r2, m1,m2, k1,k2. \n",
    "## It incodes the above. \n",
    "def theODE(t1, t2, t1p, t2p, r1,r2, m1,m2, k1,k2):\n",
    "    global g\n",
    "    A = np.matrix( [[(m1+m2)*(r1**2), m2*r1*r2*np.cos(t1-t2)],[m2*r1*r2*np.cos(t1-t2), m2*(r2**2)]] )\n",
    "    v = np.matrix( [-m2*r1*r2*np.sin(t1-t2)*(t2p**2) - (k1+k2)*t1p + k2*t2p - (m1+m2)*r1*g*np.sin(t1),\n",
    "                    m2*r1*r2*np.sin(t1-t2)*(t1p**2) + k2*t1p - k2*t2p - m2*r2*g*np.sin(t2)]).T\n",
    "    w = (A**(-1))*v\n",
    "    return w[0,0], w[1,0]\n"
   ]
  },
  {
   "cell_type": "code",
   "execution_count": null,
   "metadata": {
    "collapsed": false
   },
   "outputs": [],
   "source": [
    "## I = interval of approximation. \n",
    "## n = number of steps\n",
    "## t1 = initial value of theta1, t1p = initial value of theta1'\n",
    "## t2 = initial value of theta2, t2p = initial value of theta2'\n",
    "## returns 5 objects:\n",
    "## list of time values, list of theta1 values, list of theta2 values,\n",
    "##  list of theta1' values, list of theta2' values\n",
    "def eulerApprox(I, n, t1,t1p, t2,t2p, r1,r2, m1,m2, k1,k2):\n",
    "    domArr = [I[0]]\n",
    "    t1A = [t1]\n",
    "    t1pA = [t1p]\n",
    "    t2A = [t2]\n",
    "    t2pA = [t2p]\n",
    "    dt = (I[1]-I[0])/n\n",
    "    for i in range(1,n):\n",
    "        #classic Euler\n",
    "        t1pp, t2pp = theODE(t1A[-1], t2A[-1], t1pA[-1], t2pA[-1], r1, r2, m1, m2, k1, k2)\n",
    "\n",
    "        #midpt Euler\n",
    "        #bt1pp, bt2pp = theODE(t1A[-1]+0.5*dt*t1pA[-1], t2A[-1]+0.5*dt*t2pA[-1], \n",
    "        #                      t1pA[-1]+0.5*dt*t1pp, t2pA[-1]+0.5*dt*t2pp, \n",
    "        #                      r1, r2, m1, m2, k1, k2)\n",
    "        #t1pp=bt1pp; t2pp=bt2pp; ## end midpt euper\n",
    "    \n",
    "        # backward Euler\n",
    "        bt1pp,bt2pp = theODE(t1A[-1] + dt*t1pA[-1], t2A[-1] + dt*t2pA[-1], \n",
    "                            t1pA[-1] + dt*t1pp, t2pA[-1] + dt*t2pp, r1, r2, m1, m2, k1, k2)\n",
    "        t1pp=bt1pp; t2pp=bt2pp; ## end backward Euler\n",
    "        \n",
    "        t1N = t1A[-1] + dt*t1pA[-1]\n",
    "        t1pN = t1pA[-1] + dt*t1pp\n",
    "        \n",
    "        t2N = t2A[-1] + dt*t2pA[-1]\n",
    "        t2pN = t2pA[-1] + dt*t2pp\n",
    "        \n",
    "        t1A.append(t1N);         t2A.append(t2N);\n",
    "        t1pA.append(t1pN);       t2pA.append(t2pN);\n",
    "        domArr.append(domArr[-1]+dt)\n",
    "    return domArr, t1A, t2A, t1pA, t2pA\n",
    "\n",
    "def makeplot(I1, n, t1, t1p, t2, t2p, r1, r2, m1, m2, k1, k2):\n",
    "    tA, t1A, t2A, t1pA, t2pA = eulerApprox([0, I1], n, t1, t1p, t2, t2p, r1, r2, m1, r2, k1, k2)\n",
    "    ## plot the pendulum curves\n",
    "    plt.plot(r1*np.sin(t1A), -r1*np.cos(t1A), 'k--')\n",
    "    plt.plot(r1*np.sin(t1A) + r2*np.sin(t2A), -r1*np.cos(t1A)-r2*np.cos(t2A), 'r-')\n",
    "   \n",
    "    plt.title(\"Euler approximation to ODE\\n\"\n",
    "              \"on interval [0,\"+str(I1)+\"] with \"+str(n)+\" steps\\n\")\n",
    "\n",
    "#interact(makeplot, I1=(4,60,0.5), n=(1000, 4000, 1), t1=(-np.pi,np.pi,0.1), t1p=(-10,10,0.1), \n",
    "#         t2=(-np.pi,np.pi,0.1), t2p=(-10,10,0.1), r1=(0.1, 2, 0.1), r2=(0.1, 2, 0.1), \n",
    "#         m1=(0.1, 1, 0.1), m2=(0.1, 1, 0.1), k1=(0, 1, 0.00001), k2=(0,1, 0.00001))\n",
    "         "
   ]
  },
  {
   "cell_type": "code",
   "execution_count": null,
   "metadata": {
    "collapsed": false
   },
   "outputs": [],
   "source": [
    "import numpy as np\n",
    "import matplotlib.pyplot as plt\n",
    "import matplotlib.animation as animation\n",
    "%matplotlib nbagg\n",
    "#%matplotlib inline\n",
    "\n",
    "## set initial values\n",
    "t1=np.array([2.5]); t1p=np.array([0]);\n",
    "t2=np.array([-0.2]); t2p=np.array([0]);\n",
    "dt = 0.01\n",
    "r1=1; r2=1;\n",
    "m1=1; m2=1;\n",
    "k1=0.01; k2=0.01; \n",
    "\n",
    "def x1(T1):\n",
    "    global r1\n",
    "    return r1*np.sin(T1)\n",
    "def y1(T1):\n",
    "    global r1\n",
    "    return -r1*np.cos(T1)\n",
    "def x2(T1,T2):\n",
    "    global r2\n",
    "    return x1(T1)+r2*np.sin(T2)\n",
    "def y2(T1,T2):\n",
    "    global r2\n",
    "    return y1(T1) -r2*np.cos(T2)\n",
    "\n",
    "def kEng():\n",
    "    global m1,m2,r1,r2,t1,t2,t1p,t2p\n",
    "    m1part = 0.5*m1*(r1*t1p[-1])**2\n",
    "    m2part = 0.5*m2*( (r1*t1p[-1])**2 + (r2*t2p[-1])**2 ) + m2*(r1*r2*t1p[-1]*t2p[-1] * np.cos(t1[-1]-t2[-1]) ) \n",
    "    return m1part + m2part\n",
    "def pEng():\n",
    "    global m1,m2,t1,t2,g,r1,r2\n",
    "    return m1*g*(y1(t1[-1])+r1) + m2*g*(y2(t1[-1],t2[-1])+r1+r2)\n",
    "def eDiss(): ## expected energy dissipation rate\n",
    "    global k1,k2,t1p,t2p\n",
    "    return 0.5*( k2*(t1p[-1]-t2p[-1])**2 + k1*(t1p[-1]**2) )\n",
    "\n",
    "fig = plt.figure()\n",
    "ax = fig.add_subplot(111, autoscale_on=False, xlim=(-(r1+r2), r1+r2), ylim=(-(r1+r2), r1+r2) )\n",
    "ax.grid()\n",
    "\n",
    "line1, = ax.plot([],[],'o-', lw=4)\n",
    "line2, = ax.plot([],[],'r--', lw=1)\n",
    "line3, = ax.plot([],[],'g--', lw=1)\n",
    "\n",
    "#en_template = 'kE + pE = %.1f + %.1f = %.1f'\n",
    "en_text1 = ax.text(0.02,0.94, '', transform=ax.transAxes)\n",
    "en_text2 = ax.text(0.02,0.88, '', transform=ax.transAxes)\n",
    "\n",
    "def init():\n",
    "    line1.set_data([],[])\n",
    "    line2.set_data([],[])\n",
    "    line3.set_data([],[])\n",
    "    en_text1.set_text('')\n",
    "    en_text2.set_text('')\n",
    "    return line1, line2, line3, en_text1, en_text2,\n",
    "\n",
    "def animate(i):\n",
    "    ## update t1,t2\n",
    "    global t1,t2, t1p,t2p, r1,r2, m1,m2, k1,k2, dt\n",
    "    domA,t1A,t2A,t1pA,t2pA = eulerApprox([0,dt], 2, t1[-1], t1p[-1], t2[-1], t2p[-1], r1, r2, m1, m2, k1, k2)\n",
    "    t1 = np.append(t1, t1A[-1])\n",
    "    t2 = np.append(t2, t2A[-1])\n",
    "    t1p = np.append(t1p, t1pA[-1])\n",
    "    t2p = np.append(t2p, t2pA[-1])\n",
    "    ## clear out the list of old values\n",
    "    if len(t1) > 1000:\n",
    "        t1 = t1[-50:]\n",
    "        t2 = t2[-50:]\n",
    "        t1p = t1p[-200:]\n",
    "        t2p = t2p[-200:]\n",
    "    ## update plot\n",
    "    line1.set_data( [0,x1(t1[-1]), x2(t1[-1], t2[-1])], [0,y1(t1[-1]), y2(t1[-1],t2[-1])] )\n",
    "    line2.set_data( x1(t1), y1(t1) )\n",
    "    line3.set_data( x2(t1,t2), y2(t1, t2))\n",
    "    E = kEng() + pEng()\n",
    "        \n",
    "    en_text1.set_text('kE + pE = %.1f + %.1f = %.1f' % (kEng(), pEng(), E) )\n",
    "    en_text2.set_text('Friction power = %.2f' % eDiss())\n",
    "    \n",
    "    return line1, line2, line3, en_text1, en_text2,\n",
    "\n",
    "ani = animation.FuncAnimation(fig, animate, init_func=init,\n",
    "                              frames=100, interval=20, blit=True)\n",
    "plt.show()"
   ]
  },
  {
   "cell_type": "code",
   "execution_count": null,
   "metadata": {
    "collapsed": false
   },
   "outputs": [],
   "source": []
  },
  {
   "cell_type": "code",
   "execution_count": null,
   "metadata": {
    "collapsed": false
   },
   "outputs": [],
   "source": []
  },
  {
   "cell_type": "code",
   "execution_count": null,
   "metadata": {
    "collapsed": true
   },
   "outputs": [],
   "source": []
  }
 ],
 "metadata": {
  "kernelspec": {
   "display_name": "Python 3",
   "language": "python",
   "name": "python3"
  },
  "language_info": {
   "codemirror_mode": {
    "name": "ipython",
    "version": 3
   },
   "file_extension": ".py",
   "mimetype": "text/x-python",
   "name": "python",
   "nbconvert_exporter": "python",
   "pygments_lexer": "ipython3",
   "version": "3.4.3"
  }
 },
 "nbformat": 4,
 "nbformat_minor": 0
}
