{
 "cells": [
  {
   "cell_type": "markdown",
   "metadata": {},
   "source": [
    "# The skydiver problem"
   ]
  },
  {
   "cell_type": "markdown",
   "metadata": {},
   "source": [
    "## Falling body with drag\n",
    "\n",
    "A falling body - say a sky diver - will increase speed when she jumps off the plane because she is accelerated by the earth's gravity. However, the speed will not increase forever. In addition to the gravitational force the sky diver will feel the drag force due to air resistance.\n",
    "\n",
    "What is the terminal velocity of the sky diver? This will depend on the balance of two forces: the gravitational force and the drag force that describes the air resistance\n",
    "\n",
    "\n",
    "### Equation of motion\n",
    "The equation of motion for the velocity is $v = a t +v_0$. But this is of course just a special case of the more general case\n",
    "$$\\frac{d\\vec{p}}{dt} = \\sum \\vec{F}_i .$$\n",
    "\n",
    "### Forces\n",
    "We will consider a 1D motion in the vertical direction, and therefore consider the scalar equations.\n",
    "\n",
    "#### Gravity\n",
    "\n",
    "$$F = - m g$$\n",
    "\n",
    "#### Air drag\n",
    "\n",
    "In order to obtain an idea of what a formula for the air drag could be we use dimensional analysis. This method is based on the principle that every physics equation must be dimensionally homogeneous, i.e. the units on each side of the equation must be the same. We are looking for a force, which has the unit \n",
    "$$ [F] = \\frac{ML}{T^2}$$\n",
    "where $M$, $L$ and $T$ stand for the mass, length and time unit. We then consider what the drag force could possibly depend on. This consideration is where the physics happens. We expect that the drag force will somehow depend on the following:\n",
    "\n",
    "- density $\\rho$ of medium through which object is moving, in this case air\n",
    "- velocity $v$\n",
    "- cross section of object $A$\n",
    "\n",
    "We are looking for an expression of the type\n",
    "$$F = C_D \\rho^a v^b A^c$$ \n",
    "where $C_D$ is a dimensionless coefficient and $a$, $b$ and $c$ are derived from the condition that unit of $F$ has to come out correctly. You can easily confirm that this is the case if $a=1$, $b=2$ and $c=1.$ Convention has it that we throw in another factor $\\frac{1}{2}$ and the  resulting expression for the drag force is \n",
    "\n",
    "$$F_D = \\frac{1}{2} C_D \\rho v^2 A.$$ \n",
    "\n",
    "### Drag coefficient\n",
    "\n",
    "A number of hydrodynamic processes contributed to the total drag of a an object. Which of these will dominate will depend on the flow regime. Flow regimes in hydrodynamics are characterized by dimensionless numbers. The relevant number in our case is the Reynolds number $$Re = \\frac{l v}{\\nu}$$\n",
    "where $l$ and $v$ are the characteristic length scale and the characteristic velocity and $\\nu$ is the kinematic viscosity. For air $\\nu=1.5\\times10^{-5} \\mathrm{m^2/s}$. Our sky diver will certainly reach velocities of the order of $100\\mathrm{km/hr}$ and a characteristic length scale would be $1\\mathrm{m}$. Therefore:\n",
    "\n",
    "```\n",
    "v  = 100 *1000 / 3600 # v in m/s\n",
    "l  = 1                # in m\n",
    "nu = 1.5e-5           # in m^2/s\n",
    "Re = v*l/nu\n",
    "form_str='%7.3E'\n",
    "print form_str%Re\n",
    "1.800E+06\n",
    "```\n",
    "\n",
    "This is a very high Reynolds number. For $Re > 2000$ the flow is usually turbulent. Experiments show how the drag coefficient depends on the $Re$ number, [see for example here](http://www.chem.mtu.edu/~fmorriso/DataCorrelationForSphereDrag2013.pdf) or any text book on fluid dynamics. We see that for the large $Re$ numbers of our situation we should adopt $ C_D \\approx 0.3$.\n",
    "\n",
    "### Equation of motion for sky diver\n",
    "\n",
    "\n",
    "$$ m \\frac{dv}{dt} = -mg + \\frac{1}{2} C_D \\rho v^2 A $$\n",
    "or, with $$k = \\frac{1}{2} \\frac{C_\\mathrm{D} \\rho A}{m}$$ we just have\n",
    "$$ \\frac{dv}{dt} = -g +  k v^2.$$\n",
    "\n",
    "The most simple solution scheme would be the following:\n",
    "![SkyDiver_num_scheme](../images/skydive_numerical_scheme.png)\n",
    "\n",
    "**Homework:**\n",
    "\n",
    "1. Implement this scheme and test/run your simulation code.\n",
    "2. Create a plot that shows $v(t)$ as well as the terminal velocity. \n",
    "3. Perform a convergence study by doing a series of 3 to 4 runs with decreasing step size 0."
   ]
  }
 ],
 "metadata": {
  "kernelspec": {
   "display_name": "Python 2",
   "language": "python",
   "name": "python2"
  },
  "language_info": {
   "codemirror_mode": {
    "name": "ipython",
    "version": 2
   },
   "file_extension": ".py",
   "mimetype": "text/x-python",
   "name": "python",
   "nbconvert_exporter": "python",
   "pygments_lexer": "ipython2",
   "version": "2.7.9"
  }
 },
 "nbformat": 4,
 "nbformat_minor": 0
}
