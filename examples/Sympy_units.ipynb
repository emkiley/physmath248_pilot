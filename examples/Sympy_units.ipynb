{
 "cells": [
  {
   "cell_type": "markdown",
   "metadata": {},
   "source": [
    "#Lecture 12\n",
    "\n",
    "* assign 2 \n",
    "* group project\n",
    "\n",
    "##Algebraic computing\n",
    "There are many packages out that can do algebraic computing. Examples include Mathematica and Maple. In order to stay within the python ecosystem we have become used to we are going to use [SymPy](<http://www.sympy.org>). You can find a [SymPy Tutorial](<http://docs.sympy.org/0.7.3/tutorial/index.html>) and for a quick trial you may use [SymPy Live](<http://live.sympy.org>). I have in the past had the experience that Mathematica could a very demanding simplifiaction that SymPy could not. However, that was a while ago, and things are evolving. Clearly SymPy is mature enough to learn about the basic idea of algebraic computing. \n",
    "\n",
    "### Homework\n",
    "As the function of wavelength, Planck's law is\n",
    "$$\n",
    "B_\\lambda (T) = \\frac{2hc^2}{\\lambda^5}\\frac{1}{e^{hc/\\lambda kT} - 1}.\n",
    "$$\n",
    "\n",
    "Wien's displacement law states that there is an inverse relationship between the wavelength of the peak of \n",
    "the emission of a black body and its temperature,\n",
    "$$\n",
    "\\lambda_\\mathrm{max} = \\frac{b}{T},\n",
    "$$\n",
    "where $\\lambda_\\mathrm{max}$ is the peak wavelength, $T$ is the absolute temperature of the black body, \n",
    "and $b$ is a constant of proportionality called Wien's displacement constant.\n",
    "Using Planck's law calculate this constant using SymPy Live.\n",
    "\n",
    "Help is provided in [this document, section 1.2](<http://csa.phys.uvic.ca/teaching/solve-problems-with-sympy/examples-of-problems-to-solve-with-sympy-live/view>).\n",
    "\n",
    "\n",
    "### Installation\n",
    "In your *phast* machine you need to search and install the \n",
    "\n",
    "### A simple ploting example\n",
    "As an introduction we want to explore how to define and plot a simple sympy function and how we can interveave analytical and numerical work, in my opinion a real strength of the python environment.\n",
    "\n"
   ]
  },
  {
   "cell_type": "code",
   "execution_count": 36,
   "metadata": {
    "collapsed": true
   },
   "outputs": [],
   "source": [
    "import sympy as sp\n",
    "x, y, z, t = sp.symbols('x y z t')\n",
    "f, g, h = sp.symbols('f g h', cls=sp.Function)"
   ]
  },
  {
   "cell_type": "code",
   "execution_count": 39,
   "metadata": {
    "collapsed": false
   },
   "outputs": [
    {
     "name": "stdout",
     "output_type": "stream",
     "text": [
      "    2  -x  \n",
      "   x ⋅ℯ    \n",
      "───────────\n",
      "-log(x) + 1\n"
     ]
    }
   ],
   "source": [
    "# define an expression                                                          \n",
    "f=sp.exp(-x)*x**2/(1-sp.log(x))\n",
    "sp.pprint(f)"
   ]
  },
  {
   "cell_type": "code",
   "execution_count": 38,
   "metadata": {
    "collapsed": false
   },
   "outputs": [
    {
     "name": "stdout",
     "output_type": "stream",
     "text": [
      "⌠               \n",
      "⎮     2  -x     \n",
      "⎮    x ⋅ℯ       \n",
      "⎮ ─────────── dx\n",
      "⎮ -log(x) + 1   \n",
      "⌡               \n"
     ]
    }
   ],
   "source": [
    "#look at integral of f                                                          \n",
    "sp.pprint(sp.Integral(f))"
   ]
  },
  {
   "cell_type": "code",
   "execution_count": 40,
   "metadata": {
    "collapsed": false
   },
   "outputs": [
    {
     "data": {
      "text/plain": [
       "<sympy.plotting.plot.Plot at 0x112f20690>"
      ]
     },
     "execution_count": 40,
     "metadata": {},
     "output_type": "execute_result"
    }
   ],
   "source": [
    "#plot it                                                                        \n",
    "sp.plotting.plot(f, (x,0.5,1))"
   ]
  },
  {
   "cell_type": "code",
   "execution_count": 41,
   "metadata": {
    "collapsed": false
   },
   "outputs": [
    {
     "data": {
      "text/plain": [
       "0.179355268515064"
      ]
     },
     "execution_count": 41,
     "metadata": {},
     "output_type": "execute_result"
    }
   ],
   "source": [
    "#evaluate it                                                                    \n",
    "f.subs(x,0.7)"
   ]
  },
  {
   "cell_type": "code",
   "execution_count": 42,
   "metadata": {
    "collapsed": false
   },
   "outputs": [
    {
     "data": {
      "text/plain": [
       "0.179355268515064"
      ]
     },
     "execution_count": 42,
     "metadata": {},
     "output_type": "execute_result"
    }
   ],
   "source": [
    "# In order to work with the function f numerically                              \n",
    "# create a python function, e.g. a lambda function                              \n",
    "ff=lambda x: x**2*exp(-x)/(-log(x) + 1)\n",
    "# evaluate                                                                      \n",
    "ff(0.7)"
   ]
  },
  {
   "cell_type": "code",
   "execution_count": 43,
   "metadata": {
    "collapsed": false
   },
   "outputs": [
    {
     "data": {
      "text/plain": [
       "0.1793552685150639"
      ]
     },
     "execution_count": 43,
     "metadata": {},
     "output_type": "execute_result"
    }
   ],
   "source": [
    "# instead of copy and paste we can create a python lambda function              \n",
    "# directly from the sympy function                                              \n",
    "lam_f=sp.utilities.lambdify(x,f)\n",
    "# and evaluate                                                                  \n",
    "lam_f(0.7)"
   ]
  },
  {
   "cell_type": "code",
   "execution_count": 45,
   "metadata": {
    "collapsed": false
   },
   "outputs": [
    {
     "data": {
      "text/plain": [
       "0.179355268515064"
      ]
     },
     "execution_count": 45,
     "metadata": {},
     "output_type": "execute_result"
    }
   ],
   "source": [
    "# another way to do a python function, for longer things                                    \n",
    "def fff(xx):\n",
    "    return f.subs(x,xx)\n",
    "fff(0.7)"
   ]
  },
  {
   "cell_type": "code",
   "execution_count": 52,
   "metadata": {
    "collapsed": false
   },
   "outputs": [],
   "source": [
    "# evaluate for a vector and randomize to pretend this                           \n",
    "# is a measurement (the vectorize method is provided by                         \n",
    "# the numpy package which is automatically loaded directly                      \n",
    "# into the interactive name space in an ipython --pylab session                 \n",
    "import numpy as np\n",
    "xx = np.linspace(0.5,1,18)\n",
    "yy = np.vectorize(fff)(xx)"
   ]
  },
  {
   "cell_type": "code",
   "execution_count": 51,
   "metadata": {
    "collapsed": false
   },
   "outputs": [
    {
     "ename": "TypeError",
     "evalue": "'module' object is not callable",
     "output_type": "error",
     "traceback": [
      "\u001b[0;31m---------------------------------------------------------------------------\u001b[0m",
      "\u001b[0;31mTypeError\u001b[0m                                 Traceback (most recent call last)",
      "\u001b[0;32m<ipython-input-51-20ece979a50e>\u001b[0m in \u001b[0;36m<module>\u001b[0;34m()\u001b[0m\n\u001b[1;32m      2\u001b[0m \u001b[0myy\u001b[0m \u001b[0;34m=\u001b[0m \u001b[0mnp\u001b[0m\u001b[0;34m.\u001b[0m\u001b[0mvectorize\u001b[0m\u001b[0;34m(\u001b[0m\u001b[0mlam_f\u001b[0m\u001b[0;34m)\u001b[0m\u001b[0;34m(\u001b[0m\u001b[0mxx\u001b[0m\u001b[0;34m)\u001b[0m\u001b[0;34m\u001b[0m\u001b[0m\n\u001b[1;32m      3\u001b[0m \u001b[0mr\u001b[0m  \u001b[0;34m=\u001b[0m \u001b[0;36m0.1\u001b[0m\u001b[0;34m\u001b[0m\u001b[0m\n\u001b[0;32m----> 4\u001b[0;31m \u001b[0myy\u001b[0m \u001b[0;34m=\u001b[0m \u001b[0myy\u001b[0m \u001b[0;34m*\u001b[0m \u001b[0;34m(\u001b[0m\u001b[0;36m1.\u001b[0m \u001b[0;34m+\u001b[0m \u001b[0mr\u001b[0m\u001b[0;34m*\u001b[0m\u001b[0;34m(\u001b[0m\u001b[0;36m2.\u001b[0m\u001b[0;34m*\u001b[0m\u001b[0mnp\u001b[0m\u001b[0;34m.\u001b[0m\u001b[0mrandom\u001b[0m\u001b[0;34m(\u001b[0m\u001b[0mlen\u001b[0m\u001b[0;34m(\u001b[0m\u001b[0myy\u001b[0m\u001b[0;34m)\u001b[0m\u001b[0;34m)\u001b[0m\u001b[0;34m-\u001b[0m\u001b[0;36m1\u001b[0m\u001b[0;34m)\u001b[0m\u001b[0;34m)\u001b[0m\u001b[0;34m\u001b[0m\u001b[0m\n\u001b[0m",
      "\u001b[0;31mTypeError\u001b[0m: 'module' object is not callable"
     ]
    }
   ],
   "source": [
    "# or                                                                                        \n",
    "#yy = np.vectorize(lam_f)(xx)\n",
    "#r  = 0.1\n",
    "#yy = yy * (1. + r*(2.*np.random(len(yy))-1))"
   ]
  },
  {
   "cell_type": "code",
   "execution_count": 55,
   "metadata": {
    "collapsed": false
   },
   "outputs": [
    {
     "name": "stdout",
     "output_type": "stream",
     "text": [
      "Populating the interactive namespace from numpy and matplotlib\n"
     ]
    },
    {
     "data": {
      "text/plain": [
       "[<matplotlib.lines.Line2D at 0x113103790>]"
      ]
     },
     "execution_count": 55,
     "metadata": {},
     "output_type": "execute_result"
    },
    {
     "data": {
      "image/png": "[encoded data removed]",
      "text/plain": [
       "<matplotlib.figure.Figure at 0x112e76d50>"
      ]
     },
     "metadata": {},
     "output_type": "display_data"
    }
   ],
   "source": [
    "%pylab inline\n",
    "plot(xx,yy,'o')"
   ]
  },
  {
   "cell_type": "code",
   "execution_count": 56,
   "metadata": {
    "collapsed": false
   },
   "outputs": [
    {
     "name": "stdout",
     "output_type": "stream",
     "text": [
      "     x⋅y⋅z\n",
      "y⋅z⋅ℯ     \n"
     ]
    }
   ],
   "source": [
    "from sympy import *\n",
    "r, s = symbols('r s', cls=sp.Function)\n",
    "r = exp(x*y*z)\n",
    "diff(r,x)\n",
    "pprint(diff(r,x))"
   ]
  },
  {
   "cell_type": "code",
   "execution_count": 58,
   "metadata": {
    "collapsed": false
   },
   "outputs": [
    {
     "data": {
      "text/plain": [
       "1 + y + O(y**2)"
      ]
     },
     "execution_count": 58,
     "metadata": {},
     "output_type": "execute_result"
    }
   ],
   "source": [
    "# series expansion: f(x).series(x, x0, n)\n",
    "s=(1/(1-y))\n",
    "s.series(y,0,2)"
   ]
  },
  {
   "cell_type": "code",
   "execution_count": null,
   "metadata": {
    "collapsed": true
   },
   "outputs": [],
   "source": [
    "(1/(1-y)).series"
   ]
  },
  {
   "cell_type": "code",
   "execution_count": 59,
   "metadata": {
    "collapsed": false
   },
   "outputs": [
    {
     "data": {
      "image/png": "[encoded data removed]",
      "text/plain": [
       "<matplotlib.figure.Figure at 0x10c899f50>"
      ]
     },
     "metadata": {},
     "output_type": "display_data"
    },
    {
     "data": {
      "text/plain": [
       "<sympy.plotting.plot.Plot at 0x113142750>"
      ]
     },
     "execution_count": 59,
     "metadata": {},
     "output_type": "execute_result"
    }
   ],
   "source": [
    "# finding the root (again!)\n",
    "s = (x-4)**3\n",
    "plotting.plot(s,(x,2,6))"
   ]
  },
  {
   "cell_type": "code",
   "execution_count": 60,
   "metadata": {
    "collapsed": false
   },
   "outputs": [
    {
     "data": {
      "text/plain": [
       "[4]"
      ]
     },
     "execution_count": 60,
     "metadata": {},
     "output_type": "execute_result"
    }
   ],
   "source": [
    "solve(s,x)"
   ]
  },
  {
   "cell_type": "code",
   "execution_count": 61,
   "metadata": {
    "collapsed": false
   },
   "outputs": [],
   "source": [
    "s = (x-4)**3 + exp(x)"
   ]
  },
  {
   "cell_type": "code",
   "execution_count": 62,
   "metadata": {
    "collapsed": false
   },
   "outputs": [
    {
     "data": {
      "image/png": "[encoded data removed]",
      "text/plain": [
       "<matplotlib.figure.Figure at 0x113333ed0>"
      ]
     },
     "metadata": {},
     "output_type": "display_data"
    },
    {
     "data": {
      "text/plain": [
       "<sympy.plotting.plot.Plot at 0x113142f10>"
      ]
     },
     "execution_count": 62,
     "metadata": {},
     "output_type": "execute_result"
    }
   ],
   "source": [
    "plotting.plot(s,(x,1,6))"
   ]
  },
  {
   "cell_type": "code",
   "execution_count": 35,
   "metadata": {
    "collapsed": false
   },
   "outputs": [
    {
     "data": {
      "text/plain": [
       "mpf('2.0316249951568118')"
      ]
     },
     "execution_count": 35,
     "metadata": {},
     "output_type": "execute_result"
    }
   ],
   "source": [
    "nsolve(s,x,2.2)"
   ]
  },
  {
   "cell_type": "markdown",
   "metadata": {
    "collapsed": true
   },
   "source": [
    "## Units\n",
    "\n",
    "Physics is about numbers with units. We have seen the power of the priniciple of dimensional homogeneity when we derived an expression for the drag coefficient. We can draw units into our python work using - of coruse - appropriate packages. One of them can be found in the `astropy` package. You will be able to install it using the usual procedure in your phast machine. Have a look at these places for documentation:\n",
    "\n",
    "* [Units and Quantities](http://docs.astropy.org/en/latest/units/index.html)\n",
    "* [Quantity](http://docs.astropy.org/en/latest/units/quantity.html)\n",
    "\n",
    "Here is an example:\n",
    "* calculate how long a $50\\mathrm{W}$ light bulb could shine with the energy that is consumed by destruction when a car going at $120\\mathrm{km/h}$ hits a rigid wall.\n",
    "* before solving this problem make a guess! you may be surprised"
   ]
  },
  {
   "cell_type": "code",
   "execution_count": 18,
   "metadata": {
    "collapsed": false
   },
   "outputs": [],
   "source": [
    "import astropy.units as u\n",
    "m = 1300 * u.kg\n",
    "v = 120 *u.km/u.hr\n",
    "E = 0.5*m*v**2\n",
    "P = 50 * u.watt"
   ]
  },
  {
   "cell_type": "code",
   "execution_count": 16,
   "metadata": {
    "collapsed": false
   },
   "outputs": [
    {
     "name": "stdout",
     "output_type": "stream",
     "text": [
      "7.22222222222e+12 erg\n",
      "9360000.0 kg km2 / h2\n",
      "722222.222222 m N\n"
     ]
    },
    {
     "data": {
      "text/plain": [
       "  Primary name | Unit definition        | Aliases     \n",
       "[\n",
       "  J            | kg m2 / s2             | Joule, joule ,\n",
       "  Ry           | 2.17987e-18 kg m2 / s2 | rydberg      ,\n",
       "  eV           | 1.60218e-19 kg m2 / s2 | electronvolt ,\n",
       "  erg          | 1e-07 kg m2 / s2       |              ,\n",
       "]"
      ]
     },
     "execution_count": 16,
     "metadata": {},
     "output_type": "execute_result"
    }
   ],
   "source": [
    "print E.to('erg')\n",
    "print E\n",
    "print E.si\n",
    "u.erg.find_equivalent_units()"
   ]
  },
  {
   "cell_type": "code",
   "execution_count": 25,
   "metadata": {
    "collapsed": false
   },
   "outputs": [
    {
     "name": "stdout",
     "output_type": "stream",
     "text": [
      "14444.4444444 s\n",
      "4.01234567901 h\n"
     ]
    }
   ],
   "source": [
    "t = E / P\n",
    "print t.si\n",
    "print t.to('hr')"
   ]
  },
  {
   "cell_type": "markdown",
   "metadata": {},
   "source": [
    "### Homework\n",
    "You have a gravity-feed power generator  that can transform the potential energy of water stored\n",
    "in a tank on the top of the roof of your house into electric energy.\n",
    "Calculate how much water you would have pump up to your roof at $22.5\\mathrm{m}$ height if you want to \n",
    "run your computer (your laptop used $30\\mathrm{W}$) each night for 2 hours. \n"
   ]
  },
  {
   "cell_type": "markdown",
   "metadata": {},
   "source": [
    "#Multi-physics simulations with COMSOL\n",
    "Unfortunately we will not have time to work with this in detail in this course. However, may want to have look at the [CSA teaching pages](http://csa.phys.uvic.ca/teaching/multi-physics-projects-with-comsol). COMSOL is a multi-physics solver package that can solve many types of problems that are too complicated to solve analytically. You all have access to the software. From you phast VM log into the astroserv computer via `ssh -Y`. Then start `comsol` on the command line. Here we will only go over some examples of what can be done to wet your appetite. "
   ]
  }
 ],
 "metadata": {
  "kernelspec": {
   "display_name": "Python 2",
   "language": "python",
   "name": "python2"
  },
  "language_info": {
   "codemirror_mode": {
    "name": "ipython",
    "version": 2
   },
   "file_extension": ".py",
   "mimetype": "text/x-python",
   "name": "python",
   "nbconvert_exporter": "python",
   "pygments_lexer": "ipython2",
   "version": "2.7.9"
  }
 },
 "nbformat": 4,
 "nbformat_minor": 0
}
