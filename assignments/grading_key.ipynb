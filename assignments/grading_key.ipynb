{
 "cells": [
  {
   "cell_type": "markdown",
   "metadata": {},
   "source": [
    "## Grading key for 1st assignment\n",
    "\n",
    " The maximum grade on the assignment is 10.  It is computed by averaging\n",
    " the grades of each problem, which were also scored out of 10. \n",
    "\n",
    "* 1/4 to 1/2 of a point was deducted for relatively minor errors such as: \n",
    "    - Failing to document your functions.  What does the function do?  How are the arguments relevant?  What data types does your function accept... and work as intended? \n",
    "    - Having un-used variables.\n",
    "    - Including libraries you do not use. \n",
    "    - Calling the wrong library function. For example, some people used float division \"/\" when they really required integer division \"//\". This error did have a consequence on the outcome of the algorithms,for most people that made it.\n",
    "    - Using the wrong file name.\n",
    "    - Storing files in the wrong directories.\n",
    "    - Naming your Bitbucket root directory incorrectly. \n",
    "    - Setting up an index/range incorrectly, such as range(0,n-1) vs. range(0,n).  Or using i-1 when i was called for. \n",
    "\n",
    "* 1 or more points are deducted for **major errors**, such as:\n",
    "    - Using a library that **does not do** what you expect.  If you are using a library -- especially one we have not discussed in class -- the onus is on you to read the documentation to ensure the library call achieves what you desire. \n",
    "    - Writing an algorithm that **by design** can not do what we are asking for.  \n",
    " "
   ]
  },
  {
   "cell_type": "code",
   "execution_count": null,
   "metadata": {
    "collapsed": true
   },
   "outputs": [],
   "source": []
  }
 ],
 "metadata": {
  "kernelspec": {
   "display_name": "Python 2",
   "language": "python",
   "name": "python2"
  },
  "language_info": {
   "codemirror_mode": {
    "name": "ipython",
    "version": 2
   },
   "file_extension": ".py",
   "mimetype": "text/x-python",
   "name": "python",
   "nbconvert_exporter": "python",
   "pygments_lexer": "ipython2",
   "version": "2.7.6"
  }
 },
 "nbformat": 4,
 "nbformat_minor": 0
}
