{
 "cells": [
  {
   "cell_type": "markdown",
   "metadata": {},
   "source": [
    "#Assignment_0\n",
    "\n",
    "__Due:__ Monday, January 18, 9:00am PST\n",
    "\n",
    "You have propably never submitted an assignment by committing it to your bitbucket git repo. You may also never have created your assignment in an ipython notebook. In order to give you a chance to practice please work through and submit _Assignment 0_. It will not be graded, but the TAs will look at it and provide general feedback in the tutorial.\n",
    "\n",
    "## About assignments\n",
    "\n",
    "Assignments are added to your [own repository that you share with the instructors and TAs](https://github.com/fherwig/physmath248_pilot/blob/master/Week_02.ipynb). For each assignemnt you create a new directory called exactly what the header of the assignement is (without the markup #). So in this case the directory in your repo would be called `Assignment_0`. Your repo with the assignment added must be pushed to the bitbucket remote before the due date/time as some automated processes will then pull all assignment repos. Late submission require extra manual work and carry an automatic 20% grade depreciation.\n",
    "\n",
    "## Tasks for this assignemnt\n",
    "1. Upload your _unix command cheat sheet_ in a file called `unix_command_summary.txt`; the format must be plain ASCII text, markdown can be used.\n",
    "2. Upload _your own ipython notebook of the language elements_ both as a\n",
    "    * ipython notebook with filename `ipython_survival_guide.ipynb`\n",
    "    * static html file with filename `ipython_survival_guide.html`\n",
    "    "
   ]
  }
 ],
 "metadata": {
  "kernelspec": {
   "display_name": "Python 2",
   "language": "python",
   "name": "python2"
  },
  "language_info": {
   "codemirror_mode": {
    "name": "ipython",
    "version": 2
   },
   "file_extension": ".py",
   "mimetype": "text/x-python",
   "name": "python",
   "nbconvert_exporter": "python",
   "pygments_lexer": "ipython2",
   "version": "2.7.9"
  }
 },
 "nbformat": 4,
 "nbformat_minor": 0
}
