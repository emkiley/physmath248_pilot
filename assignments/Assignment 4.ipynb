{
 "cells": [
  {
   "cell_type": "markdown",
   "metadata": {},
   "source": [
    "# Assignment 4\n",
    "\n",
    "**Due:** Monday, March 21th, 9:00pm\n",
    "\n",
    "## General comments\n",
    "\n",
    "Please observe the general instructions provided in [Assignment 0](Assignment 0.ipynb) concerning naming. All files are in the directory `Assignment_04` in the top-level directory of your repo. Name your files: *AnPm.ipynb* for assignment number *n* and problem number *m*. In addition to the ipython notebook file provide a static html version (`File menu` $\\rightarrow$ `Download as`)\n",
    "\n",
    "This is a **group** assignment. You work on this assignment in groups of two students. Both students will submit a directory `Assignment_04` with a file `REAMDE.txt` which contains a list with the team names: `LastName, FirstName` one name per line. One of each team will in addition submit the group solution in the `Assignment_04`  directory. "
   ]
  },
  {
   "cell_type": "markdown",
   "metadata": {},
   "source": [
    "## Problem 1\n",
    "\n",
    "1. Extend your network (Problem 2 from Assignment 1) to work for an arbitrary (reasonable) temperature. For that task you need to download the reaction rate tables from the  [NACRE compilation](http://www.astro.ulb.ac.be/nacreii) and provide a subroutine that reads them and interpolates and returns the reaction rate for an arbitrary T. \n",
    "2. Find a stellar model that is about to start burning of H in the center, both in the $2M_\\odot$ and $20M_\\odot$ model. The core of such a model is convective, and therefore adiabatically stratifies. Integrate an adiabatic stratification for the cores (the innermost $20%$ by mass) of both stars.  The result is a $P$-$\\rho$ profile.\n",
    "3. Calculate the $T$ profile of theses structures and compare it to the one from a pre-computed MESA model from the WENDI platform.\n",
    "4. Calculate the radial profile of $^{12}C$, $^{13}C$, $^{14}N$ and $^{15}N$ after $1%$ of the time it takes the realistic model to burn almost all H in the center once H burning starts. \n",
    "5. Discuss your result."
   ]
  },
  {
   "cell_type": "code",
   "execution_count": null,
   "metadata": {
    "collapsed": true
   },
   "outputs": [],
   "source": []
  }
 ],
 "metadata": {
  "kernelspec": {
   "display_name": "Python 2",
   "language": "python",
   "name": "python2"
  },
  "language_info": {
   "codemirror_mode": {
    "name": "ipython",
    "version": 2
   },
   "file_extension": ".py",
   "mimetype": "text/x-python",
   "name": "python",
   "nbconvert_exporter": "python",
   "pygments_lexer": "ipython2",
   "version": "2.7.9"
  }
 },
 "nbformat": 4,
 "nbformat_minor": 0
}
