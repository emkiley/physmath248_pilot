{
 "cells": [
  {
   "cell_type": "markdown",
   "metadata": {},
   "source": [
    "# Assignment 2 \n",
    "***Model solution*** [Remember that there are always more than one good way to solve these problems. Use the model solution only as a guide.]\n",
    "\n",
    "## Problem 1\n",
    "I am using the instructions given in [examples/python package and modules.ipynb](examples/python package and modules.ipynb), specifically I will use the method that loads the package dir from inside this notebook. That way my solution notebook stays self contained and the potential for user error is minimized. "
   ]
  },
  {
   "cell_type": "code",
   "execution_count": 5,
   "metadata": {
    "collapsed": true
   },
   "outputs": [],
   "source": [
    "import sys\n",
    "sys.path.append('../mypylib')"
   ]
  },
  {
   "cell_type": "code",
   "execution_count": 172,
   "metadata": {
    "collapsed": false
   },
   "outputs": [],
   "source": [
    "from linalg import matrix as mx"
   ]
  },
  {
   "cell_type": "markdown",
   "metadata": {},
   "source": [
    "Before I write my code I am reviewing the [information given in class](../linear.algebra/Gaussian_elimination.ipynb), and my first goal is to write a function that solves exactly the example given in the instructions. Then I will test this function and demonstrate how it fails. I will briefly document such failure modes in the function's doc string. \n",
    "\n",
    "I am also using the ipython notebook magic command that loads matplotlib and numpy into the local namespace."
   ]
  },
  {
   "cell_type": "code",
   "execution_count": 11,
   "metadata": {
    "collapsed": false
   },
   "outputs": [
    {
     "name": "stdout",
     "output_type": "stream",
     "text": [
      "Populating the interactive namespace from numpy and matplotlib\n"
     ]
    }
   ],
   "source": [
    "%pylab nbagg"
   ]
  },
  {
   "cell_type": "markdown",
   "metadata": {},
   "source": [
    "### Setting up some test data:\n",
    "First I set up a vector $\\vec{u}$ as a numpy array. In order to set up the matrix I first define the column vectors `acn` where $n = 1,2,3$. Then I combine the column vectors into an array of arrays. "
   ]
  },
  {
   "cell_type": "code",
   "execution_count": 526,
   "metadata": {
    "collapsed": false
   },
   "outputs": [],
   "source": [
    "u = array([1,4,2])"
   ]
  },
  {
   "cell_type": "code",
   "execution_count": 527,
   "metadata": {
    "collapsed": false
   },
   "outputs": [
    {
     "name": "stdout",
     "output_type": "stream",
     "text": [
      "[[2 2 3]\n",
      " [4 5 5]\n",
      " [1 2 1]]\n"
     ]
    }
   ],
   "source": [
    "ar1=array([2,2,3])\n",
    "ar2=array([4,5,5])\n",
    "ar3=array([1,2,1])\n",
    "A=array([ar1,ar2,ar3])\n",
    "print(A)"
   ]
  },
  {
   "cell_type": "markdown",
   "metadata": {},
   "source": [
    "The element [0,2] of A should be 3 because the standard notation is that the first index counts rows and the second counts columns."
   ]
  },
  {
   "cell_type": "code",
   "execution_count": 345,
   "metadata": {
    "collapsed": false
   },
   "outputs": [
    {
     "data": {
      "text/plain": [
       "3"
      ]
     },
     "execution_count": 345,
     "metadata": {},
     "output_type": "execute_result"
    }
   ],
   "source": [
    "A[0,2]"
   ]
  },
  {
   "cell_type": "markdown",
   "metadata": {},
   "source": [
    "If I need the columns I can access them via the components of the transpose, e.g. the first column is:"
   ]
  },
  {
   "cell_type": "code",
   "execution_count": 238,
   "metadata": {
    "collapsed": false
   },
   "outputs": [
    {
     "data": {
      "text/plain": [
       "array([2, 4, 1])"
      ]
     },
     "execution_count": 238,
     "metadata": {},
     "output_type": "execute_result"
    }
   ],
   "source": [
    "A.T[0]"
   ]
  },
  {
   "cell_type": "markdown",
   "metadata": {},
   "source": [
    "### Matrix-vector multiplication:\n",
    "In class we drafted a routine that would carry out a dot product between vectors. I add that function to my `linalg/matrix` module (this is a file called `matrix.py` in the `mypylib/linalg` dir that I have imported above). The course notes tell me that the answer of solving the set of equations should be $$\\vec{v} = \\pmatrix{1 \\\\ 1 \\\\ -1 }.$$ I will define that vector and then try the dot product routine on $\\vec{u} \\cdot \\vec{v}$:"
   ]
  },
  {
   "cell_type": "code",
   "execution_count": 70,
   "metadata": {
    "collapsed": true
   },
   "outputs": [],
   "source": [
    "v = array([1,1,-1])"
   ]
  },
  {
   "cell_type": "code",
   "execution_count": 232,
   "metadata": {
    "collapsed": false
   },
   "outputs": [
    {
     "data": {
      "text/plain": [
       "3"
      ]
     },
     "execution_count": 232,
     "metadata": {},
     "output_type": "execute_result"
    }
   ],
   "source": [
    "mx.dot_prod(u,v)"
   ]
  },
  {
   "cell_type": "code",
   "execution_count": 72,
   "metadata": {
    "collapsed": true
   },
   "outputs": [],
   "source": [
    "# I have created a doc string! Let's see if it shows ok:\n",
    "mx.dot_prod?"
   ]
  },
  {
   "cell_type": "markdown",
   "metadata": {},
   "source": [
    "Now we implement a matrix-vector multiplication and apply it to ${\\bf A} \\cdot \\vec{v}$"
   ]
  },
  {
   "cell_type": "code",
   "execution_count": 233,
   "metadata": {
    "collapsed": true
   },
   "outputs": [],
   "source": [
    "# the way I do it is to proto-type it first in the notebook and then \n",
    "# copy-paste it over to matrix.py. I will leave this cell in here this \n",
    "# time, just to document how I do it\n",
    "\n",
    "# I start with a copy of dot_prod and then modify it:\n",
    "def mat_vec_prod(A,v):\n",
    "    '''\n",
    "    returns matrix-vector product A*v\n",
    "    \n",
    "    Parameters:\n",
    "    -----------\n",
    "    A : array of arrays\n",
    "       matrix\n",
    "    v : array\n",
    "    \n",
    "    Returns:\n",
    "    --------\n",
    "        array, float\n",
    "        vector A*v\n",
    "        \n",
    "    Notes:\n",
    "    ------\n",
    "    https://en.wikipedia.org/wiki/Matrix_multiplication    \n",
    "    '''\n",
    "    \n",
    "    # tests\n",
    "    # len(v) == number of columns of A, which is len(A.T)    \n",
    "    if not len(v) == len(A.T): \n",
    "        print('Error in matrix.mat_vec_prod: not len(vector) == len(A.T)')\n",
    "        return \n",
    "\n",
    "    # output vector has length = numper of rows of A\n",
    "    u = zeros(len(A))\n",
    "    for i in range(len(u)):\n",
    "        # the ith component of u is the dot product of the ith row of A\n",
    "        # with the vector v\n",
    "        u[i] = mx.dot_prod(A[i],v)\n",
    "    return u\n"
   ]
  },
  {
   "cell_type": "code",
   "execution_count": 245,
   "metadata": {
    "collapsed": false
   },
   "outputs": [
    {
     "data": {
      "text/plain": [
       "(array([[2, 2, 3],\n",
       "        [4, 5, 5],\n",
       "        [1, 2, 1]]), array([ 1,  1, -1]))"
      ]
     },
     "execution_count": 245,
     "metadata": {},
     "output_type": "execute_result"
    }
   ],
   "source": [
    "# just making sure A and v are still what I think they are\n",
    "A,v"
   ]
  },
  {
   "cell_type": "code",
   "execution_count": 246,
   "metadata": {
    "collapsed": false
   },
   "outputs": [
    {
     "data": {
      "text/plain": [
       "array([ 1.,  4.,  2.])"
      ]
     },
     "execution_count": 246,
     "metadata": {},
     "output_type": "execute_result"
    }
   ],
   "source": [
    "# now let's test this:\n",
    "mat_vec_prod(A,v)"
   ]
  },
  {
   "cell_type": "code",
   "execution_count": 241,
   "metadata": {
    "collapsed": false
   },
   "outputs": [],
   "source": [
    "# let's try some other example, we need to make a simple case for which  \n",
    "# can easiy see if it works, and that would reveal some obvious problems, \n",
    "# e.g. if I duplicate the last row of A and repeat the mat-vec product\n",
    "# then I should get a length-4 vector back with the last component the \n",
    "# same as the second to last.\n",
    "#\n",
    "# After some experimenting I find that the following does what I want:\n",
    "B = vstack((A,A[-1]))               # vstack is a numpy function!"
   ]
  },
  {
   "cell_type": "code",
   "execution_count": 243,
   "metadata": {
    "collapsed": false
   },
   "outputs": [
    {
     "data": {
      "text/plain": [
       "array([[2, 2, 3],\n",
       "       [4, 5, 5],\n",
       "       [1, 2, 1],\n",
       "       [1, 2, 1]])"
      ]
     },
     "execution_count": 243,
     "metadata": {},
     "output_type": "execute_result"
    }
   ],
   "source": [
    "# Just checking:\n",
    "B"
   ]
  },
  {
   "cell_type": "code",
   "execution_count": 244,
   "metadata": {
    "collapsed": false
   },
   "outputs": [
    {
     "data": {
      "text/plain": [
       "array([ 1.,  4.,  2.,  2.])"
      ]
     },
     "execution_count": 244,
     "metadata": {},
     "output_type": "execute_result"
    }
   ],
   "source": [
    "mat_vec_prod(B,v)"
   ]
  },
  {
   "cell_type": "markdown",
   "metadata": {},
   "source": [
    "### Adding the new function to the module:\n",
    "Now that this appears to be working I copy the `mat_vec_prod` function over to the `matrix.py` module. There are a few things to consider:\n",
    "* I need to import make numpy in matrix.py\n",
    "* when I have changed the matrix module and want use new things in it I need to reload the `mx` module here (you may think you can just execute the cell at the beginning that contains the `from linalg ... ` statement, but that does not work)\n",
    "* when I used the `dot_prod` function inside `mat_vec_prod` I had to refer to it using the module name as prefix, i.e. `mx.dot_prod`; however, inside the `matrix` module `dot_prod` is local to `mat_vec_prod`, so I can use it directly"
   ]
  },
  {
   "cell_type": "code",
   "execution_count": 250,
   "metadata": {
    "collapsed": false
   },
   "outputs": [
    {
     "data": {
      "text/plain": [
       "<module 'linalg.matrix' from '../mypylib/linalg/matrix.py'>"
      ]
     },
     "execution_count": 250,
     "metadata": {},
     "output_type": "execute_result"
    }
   ],
   "source": [
    "#import imp\n",
    "imp.reload(mx)"
   ]
  },
  {
   "cell_type": "code",
   "execution_count": 253,
   "metadata": {
    "collapsed": false
   },
   "outputs": [
    {
     "data": {
      "text/plain": [
       "array([ 1.,  4.,  2.,  2.])"
      ]
     },
     "execution_count": 253,
     "metadata": {},
     "output_type": "execute_result"
    }
   ],
   "source": [
    "mx.mat_vec_prod(B,v)"
   ]
  },
  {
   "cell_type": "markdown",
   "metadata": {},
   "source": [
    "### Gaussian elimination:\n",
    "I will start by performing the first step by hand. That will give me some ideas how to compactify and generalize the algorithm into a routine.\n",
    "\n",
    "1. divide 1$^\\mathrm{st}$ equation by $a_{11} (= 2)$:"
   ]
  },
  {
   "cell_type": "code",
   "execution_count": 352,
   "metadata": {
    "collapsed": false
   },
   "outputs": [],
   "source": [
    "# I will be working with rows:\n",
    "i=0\n",
    "A[i] = A[i]/A[i,0]"
   ]
  },
  {
   "cell_type": "code",
   "execution_count": 356,
   "metadata": {
    "collapsed": false
   },
   "outputs": [
    {
     "data": {
      "text/plain": [
       "array([[2, 2, 3],\n",
       "       [4, 5, 5],\n",
       "       [1, 2, 1]])"
      ]
     },
     "execution_count": 356,
     "metadata": {},
     "output_type": "execute_result"
    }
   ],
   "source": [
    "A"
   ]
  },
  {
   "cell_type": "markdown",
   "metadata": {},
   "source": [
    "Here we can see a problem. The last element in the first row should be $1.5$. The matrix `A` has data type`dtype('int64')`. It needs to be a float. I must check for this situation and change the dtype to float. "
   ]
  },
  {
   "cell_type": "code",
   "execution_count": 394,
   "metadata": {
    "collapsed": false
   },
   "outputs": [],
   "source": [
    "AA = A  # if the next if condition is wrong I still want to have A in the \n",
    "        # work copy AA\n",
    "if not 'float' in str(A.dtype): # there are different types of floats\n",
    "    AA=A.astype(float) \n",
    "    # and integer data types, e.g. int32, int64\n",
    "    # and this way I am checking in the most general way\n",
    "    # I will also not overwrite A but create a new working array with the \n",
    "    # required float data type"
   ]
  },
  {
   "cell_type": "code",
   "execution_count": 395,
   "metadata": {
    "collapsed": true
   },
   "outputs": [],
   "source": [
    "# Go back and redefine A, and then try again:\n",
    "i=0\n",
    "AA[i] = AA[i]/AA[i,0]"
   ]
  },
  {
   "cell_type": "code",
   "execution_count": 378,
   "metadata": {
    "collapsed": false
   },
   "outputs": [
    {
     "data": {
      "text/plain": [
       "array([[ 1. ,  1. ,  1.5],\n",
       "       [ 4. ,  5. ,  5. ],\n",
       "       [ 1. ,  2. ,  1. ]])"
      ]
     },
     "execution_count": 378,
     "metadata": {},
     "output_type": "execute_result"
    }
   ],
   "source": [
    "AA"
   ]
  },
  {
   "cell_type": "code",
   "execution_count": 379,
   "metadata": {
    "collapsed": false
   },
   "outputs": [
    {
     "name": "stdout",
     "output_type": "stream",
     "text": [
      "0\n",
      "1\n",
      "2\n"
     ]
    }
   ],
   "source": [
    "# This loop allows me to perform step 2 and 3: \n",
    "i=0\n",
    "for j in range(i,len(A)): print(j)"
   ]
  },
  {
   "cell_type": "code",
   "execution_count": 396,
   "metadata": {
    "collapsed": false
   },
   "outputs": [
    {
     "name": "stdout",
     "output_type": "stream",
     "text": [
      "0 1\n",
      "[ 0.  1. -1.]\n",
      "0 2\n",
      "[ 0.   1.  -0.5]\n"
     ]
    }
   ],
   "source": [
    "i=0\n",
    "for j in range(i+1,len(AA)):\n",
    "    print (i,j)\n",
    "    AA[j] -= AA[j,0]*AA[i]\n",
    "    print(AA[j])"
   ]
  },
  {
   "cell_type": "code",
   "execution_count": 397,
   "metadata": {
    "collapsed": false
   },
   "outputs": [
    {
     "data": {
      "text/plain": [
       "array([[ 1. ,  1. ,  1.5],\n",
       "       [ 0. ,  1. , -1. ],\n",
       "       [ 0. ,  1. , -0.5]])"
      ]
     },
     "execution_count": 397,
     "metadata": {},
     "output_type": "execute_result"
    }
   ],
   "source": [
    "AA"
   ]
  },
  {
   "cell_type": "markdown",
   "metadata": {},
   "source": [
    "Now, I will repeat this with `i=1` [I discover that of course the second index in `AA[j,0]` needs to be updated as well"
   ]
  },
  {
   "cell_type": "code",
   "execution_count": 398,
   "metadata": {
    "collapsed": false
   },
   "outputs": [
    {
     "name": "stdout",
     "output_type": "stream",
     "text": [
      "1 2\n",
      "[ 0.   0.   0.5]\n"
     ]
    }
   ],
   "source": [
    "i=1\n",
    "AA[i] = AA[i]/AA[i,i]\n",
    "for j in range(i+1,len(AA)):\n",
    "    print (i,j)\n",
    "    AA[j] -= AA[j,i]*AA[i]\n",
    "    print(AA[j])"
   ]
  },
  {
   "cell_type": "code",
   "execution_count": 399,
   "metadata": {
    "collapsed": false
   },
   "outputs": [
    {
     "data": {
      "text/plain": [
       "array([[ 1. ,  1. ,  1.5],\n",
       "       [ 0. ,  1. , -1. ],\n",
       "       [ 0. ,  0. ,  0.5]])"
      ]
     },
     "execution_count": 399,
     "metadata": {},
     "output_type": "execute_result"
    }
   ],
   "source": [
    "AA"
   ]
  },
  {
   "cell_type": "markdown",
   "metadata": {},
   "source": [
    "Executing that cell again with `i=2` will give me the desired diagonal form. Now, one thing I forgot is that I need to apply the same operation to the right-hand side, i.e. $\\vec{u}$. The easiest way to do this is to add $\\vec{u}$ as an additional column to my working copy `AA` of the matrix `A`. I can use numpy `vstack` for that again, but add to `A.T` instead of `A`, and then take the transpose again:"
   ]
  },
  {
   "cell_type": "code",
   "execution_count": 401,
   "metadata": {
    "collapsed": false
   },
   "outputs": [
    {
     "name": "stdout",
     "output_type": "stream",
     "text": [
      "[[2 2 3 1]\n",
      " [4 5 5 4]\n",
      " [1 2 1 2]]\n"
     ]
    }
   ],
   "source": [
    "BB = vstack((A.T,u)).T               # vstack is a numpy function!\n",
    "print(BB)"
   ]
  },
  {
   "cell_type": "markdown",
   "metadata": {},
   "source": [
    "I believe I have everything in place to calculate the diagonal form. I will put the code fragments together as a function in the `matrix.py` module. Again, I will start with a copy of a previous function."
   ]
  },
  {
   "cell_type": "code",
   "execution_count": 400,
   "metadata": {
    "collapsed": false
   },
   "outputs": [
    {
     "data": {
      "text/plain": [
       "<module 'linalg.matrix' from '../mypylib/linalg/matrix.py'>"
      ]
     },
     "execution_count": 400,
     "metadata": {},
     "output_type": "execute_result"
    }
   ],
   "source": [
    "imp.reload(mx)"
   ]
  },
  {
   "cell_type": "code",
   "execution_count": 403,
   "metadata": {
    "collapsed": false
   },
   "outputs": [],
   "source": [
    "BB=mx.gauss_elim(A,u)"
   ]
  },
  {
   "cell_type": "code",
   "execution_count": 477,
   "metadata": {
    "collapsed": false
   },
   "outputs": [
    {
     "data": {
      "text/plain": [
       "array([[ 1. ,  1. ,  1.5,  0.5],\n",
       "       [ 0. ,  1. , -1. ,  2. ],\n",
       "       [ 0. ,  0. ,  1. , -1. ]])"
      ]
     },
     "execution_count": 477,
     "metadata": {},
     "output_type": "execute_result"
    }
   ],
   "source": [
    "BB"
   ]
  },
  {
   "cell_type": "markdown",
   "metadata": {},
   "source": [
    "Now we just need to implement the back-substitution"
   ]
  },
  {
   "cell_type": "code",
   "execution_count": 519,
   "metadata": {
    "collapsed": false
   },
   "outputs": [],
   "source": [
    "m  = len(A)-1     # highest row/col index (we do only square matrices)\n",
    "v  = zeros(m+1,float) \n",
    "u  = BB.T[-1]       # extract RHS\n",
    "AA = delete(BB,m+1,1) # recover diagonalized coefficient matrix  "
   ]
  },
  {
   "cell_type": "code",
   "execution_count": 493,
   "metadata": {
    "collapsed": false
   },
   "outputs": [
    {
     "data": {
      "text/plain": [
       "array([[ 1. ,  1. ,  1.5],\n",
       "       [ 0. ,  1. , -1. ],\n",
       "       [ 0. ,  0. ,  1. ]])"
      ]
     },
     "execution_count": 493,
     "metadata": {},
     "output_type": "execute_result"
    }
   ],
   "source": [
    "AA"
   ]
  },
  {
   "cell_type": "code",
   "execution_count": 494,
   "metadata": {
    "collapsed": false
   },
   "outputs": [],
   "source": [
    "v[m] = u[m]"
   ]
  },
  {
   "cell_type": "code",
   "execution_count": 495,
   "metadata": {
    "collapsed": false
   },
   "outputs": [
    {
     "data": {
      "text/plain": [
       "array([ 0.,  0., -1.])"
      ]
     },
     "execution_count": 495,
     "metadata": {},
     "output_type": "execute_result"
    }
   ],
   "source": [
    "v"
   ]
  },
  {
   "cell_type": "code",
   "execution_count": 496,
   "metadata": {
    "collapsed": true
   },
   "outputs": [],
   "source": [
    "v[m-1] = u[m-1] - v[m]*AA[m-1,m]"
   ]
  },
  {
   "cell_type": "code",
   "execution_count": 497,
   "metadata": {
    "collapsed": false
   },
   "outputs": [
    {
     "data": {
      "text/plain": [
       "array([ 0.,  1., -1.])"
      ]
     },
     "execution_count": 497,
     "metadata": {},
     "output_type": "execute_result"
    }
   ],
   "source": [
    "v"
   ]
  },
  {
   "cell_type": "code",
   "execution_count": 498,
   "metadata": {
    "collapsed": false
   },
   "outputs": [],
   "source": [
    "v[m-2] = u[m-2] - v[m]*AA[m-2,n] - v[m-1]*AA[m-2,n-1]"
   ]
  },
  {
   "cell_type": "code",
   "execution_count": 499,
   "metadata": {
    "collapsed": false
   },
   "outputs": [
    {
     "data": {
      "text/plain": [
       "array([ 1.,  1., -1.])"
      ]
     },
     "execution_count": 499,
     "metadata": {},
     "output_type": "execute_result"
    }
   ],
   "source": [
    "v"
   ]
  },
  {
   "cell_type": "markdown",
   "metadata": {},
   "source": [
    "This can be made into a loop. However, I realize that this can be generalized in the following way. If we go backwards and initialize `v` as `zeros()` then I may just always subtract from the u component the dot product of `v` and the respective row of `AA`:"
   ]
  },
  {
   "cell_type": "code",
   "execution_count": 500,
   "metadata": {
    "collapsed": false
   },
   "outputs": [
    {
     "name": "stdout",
     "output_type": "stream",
     "text": [
      "2\n",
      "1\n",
      "0\n"
     ]
    }
   ],
   "source": [
    "for j in range(m,-1,-1): print(j)"
   ]
  },
  {
   "cell_type": "code",
   "execution_count": 505,
   "metadata": {
    "collapsed": false
   },
   "outputs": [
    {
     "data": {
      "text/plain": [
       "(array([[ 1. ,  1. ,  1.5],\n",
       "        [ 0. ,  1. , -1. ],\n",
       "        [ 0. ,  0. ,  1. ]]), array([ 0.5,  2. , -1. ]))"
      ]
     },
     "execution_count": 505,
     "metadata": {},
     "output_type": "execute_result"
    }
   ],
   "source": [
    "# reset AA and u:\n",
    "AA,u"
   ]
  },
  {
   "cell_type": "code",
   "execution_count": 506,
   "metadata": {
    "collapsed": false
   },
   "outputs": [],
   "source": [
    "for j in range(m,-1,-1):\n",
    "    v[j] = u[j] - mx.dot_prod(v,AA[j])"
   ]
  },
  {
   "cell_type": "code",
   "execution_count": 507,
   "metadata": {
    "collapsed": false
   },
   "outputs": [
    {
     "data": {
      "text/plain": [
       "array([ 1.,  1., -1.])"
      ]
     },
     "execution_count": 507,
     "metadata": {},
     "output_type": "execute_result"
    }
   ],
   "source": [
    "v    "
   ]
  },
  {
   "cell_type": "code",
   "execution_count": 531,
   "metadata": {
    "collapsed": false
   },
   "outputs": [
    {
     "data": {
      "text/plain": [
       "<module 'linalg.matrix' from '../mypylib/linalg/matrix.py'>"
      ]
     },
     "execution_count": 531,
     "metadata": {},
     "output_type": "execute_result"
    }
   ],
   "source": [
    "imp.reload(mx)"
   ]
  },
  {
   "cell_type": "code",
   "execution_count": 532,
   "metadata": {
    "collapsed": false
   },
   "outputs": [
    {
     "data": {
      "text/plain": [
       "array([ 1.,  1., -1.])"
      ]
     },
     "execution_count": 532,
     "metadata": {},
     "output_type": "execute_result"
    }
   ],
   "source": [
    "mx.gauss_elim(A,u)"
   ]
  }
 ],
 "metadata": {
  "kernelspec": {
   "display_name": "Python 3",
   "language": "python",
   "name": "python3"
  },
  "language_info": {
   "codemirror_mode": {
    "name": "ipython",
    "version": 3
   },
   "file_extension": ".py",
   "mimetype": "text/x-python",
   "name": "python",
   "nbconvert_exporter": "python",
   "pygments_lexer": "ipython3",
   "version": "3.5.1"
  }
 },
 "nbformat": 4,
 "nbformat_minor": 0
}
