{
 "cells": [
  {
   "cell_type": "markdown",
   "metadata": {},
   "source": [
    "# Assignment 3, Problem 1.\n",
    "\n",
    "For this problem we will ask you to perform three tasks. \n",
    "\n",
    "1) Write functions that produce various $2 \\times 2$ numpy matrices. \n",
    "\n",
    "    a) A function R that takes an argument t, which returns the matrix that performs counter-clockwise rotation by t radians. \n",
    " \n",
    "    b) A function M that takes an argument t, which returns the matrix that performs mirror-reflection across the line through the origin that has angle t with the x-axis. \n",
    "    \n",
    "    c) A function S that takes an argument t, which returns the matrix that scales the x-coordinate by t, and leaves the y-coordinate fixed. \n",
    "    "
   ]
  },
  {
   "cell_type": "code",
   "execution_count": null,
   "metadata": {
    "collapsed": true
   },
   "outputs": [],
   "source": []
  },
  {
   "cell_type": "markdown",
   "metadata": {},
   "source": [
    "2) Write a function that checks to see whether or not the identity \n",
    "\n",
    "$$M(t/2)M(0) = R(t)$$\n",
    "\n",
    "is holds (if not, it should at least hold to **high degree of precision**), and check for at least $5$ different values of $t$ with $0 < t < \\pi/2$. "
   ]
  },
  {
   "cell_type": "code",
   "execution_count": null,
   "metadata": {
    "collapsed": true
   },
   "outputs": [],
   "source": []
  },
  {
   "cell_type": "markdown",
   "metadata": {},
   "source": [
    "3) Generate a plot of the function $y=\\cos(x^2)$ in the plane, with $-1 \\leq x \\leq 3$.  Use matplotlib to plot it, together with a rotation and mirror reflection (choose a $0 < t < \\pi/6$) and a scaling (with $t=1/3$).  Use different colours for the transformed graphs."
   ]
  },
  {
   "cell_type": "markdown",
   "metadata": {},
   "source": []
  },
  {
   "cell_type": "code",
   "execution_count": null,
   "metadata": {
    "collapsed": true
   },
   "outputs": [],
   "source": []
  }
 ],
 "metadata": {
  "kernelspec": {
   "display_name": "Python 3",
   "language": "python",
   "name": "python3"
  },
  "language_info": {
   "codemirror_mode": {
    "name": "ipython",
    "version": 3
   },
   "file_extension": ".py",
   "mimetype": "text/x-python",
   "name": "python",
   "nbconvert_exporter": "python",
   "pygments_lexer": "ipython3",
   "version": "3.4.3"
  }
 },
 "nbformat": 4,
 "nbformat_minor": 0
}
