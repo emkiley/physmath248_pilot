{
 "cells": [
  {
   "cell_type": "markdown",
   "metadata": {},
   "source": [
    "# Week 10 outline"
   ]
  },
  {
   "cell_type": "markdown",
   "metadata": {},
   "source": [
    "## Tuesday: \n",
    "   \n",
    " * [Data mining the Police](stats/visualize.Crime-Data.ipynb). In this workbook we grab data from the Victoria Police Department webpage and perform some basic analysis of it. \n"
   ]
  },
  {
   "cell_type": "markdown",
   "metadata": {},
   "source": [
    "## Wednesday: \n",
    " * Review of [double pendulum with friction](examples/DoublePen.ipynb). "
   ]
  },
  {
   "cell_type": "markdown",
   "metadata": {},
   "source": [
    "## Friday: \n",
    " * [Electrostatics problems](examples/currents.and.fields.ipynb) that have no hope of a cute \"closed form\" "
   ]
  },
  {
   "cell_type": "markdown",
   "metadata": {},
   "source": [
    "### Tuesday tutorial: \n",
    "\n",
    " * Create further plots of the police data.  See if you can spot trends in crime types by the time of day.  Are some crimes more likely (than their averages) to occur in the morning, night-time, or mid-day? \n",
    " * Can you spot any major fluctuations in the crime data, from one week or month to the next?  Are there any clear trends?  Seasonal variation brings more people out into the open and causes more interactions.  Long weekends can do the same. \n",
    "    "
   ]
  },
  {
   "cell_type": "markdown",
   "metadata": {},
   "source": [
    "### Wednesday tutorial: \n",
    "\n",
    " * Continue with your 4th homework assignment. "
   ]
  }
 ],
 "metadata": {
  "kernelspec": {
   "display_name": "Python 2",
   "language": "python",
   "name": "python2"
  },
  "language_info": {
   "codemirror_mode": {
    "name": "ipython",
    "version": 2
   },
   "file_extension": ".py",
   "mimetype": "text/x-python",
   "name": "python",
   "nbconvert_exporter": "python",
   "pygments_lexer": "ipython2",
   "version": "2.7.9"
  }
 },
 "nbformat": 4,
 "nbformat_minor": 0
}
