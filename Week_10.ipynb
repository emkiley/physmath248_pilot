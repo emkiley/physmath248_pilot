{
 "cells": [
  {
   "cell_type": "markdown",
   "metadata": {},
   "source": [
    "# Week 10 outline"
   ]
  },
  {
   "cell_type": "markdown",
   "metadata": {},
   "source": [
    "# Tuesday: \n",
    "   \n",
    " * [Data mining the Police](stats/visualize.Crime-Data.ipynb). In this workbook we grab data from the Victoria Police Department webpage and perform some basic analysis of it. \n"
   ]
  },
  {
   "cell_type": "markdown",
   "metadata": {},
   "source": [
    "### Wednesday: \n",
    " * Review of [double pendulum with friction](examples/DoublePen.ipynb). "
   ]
  },
  {
   "cell_type": "markdown",
   "metadata": {},
   "source": [
    "### Friday: \n",
    " * Electrostatics problems that have no hope of a cute \"closed form\" \n",
    " * Visualization quiz. If we have time. "
   ]
  },
  {
   "cell_type": "markdown",
   "metadata": {},
   "source": [
    "### Tuesday tutorial: \n",
    "\n",
    " * Create further plots of the police data.  See if you can spot trends in crime types by the time of day.  Are some crimes more likely (than their averages) to occur in the morning, night-time, or mid-day? \n",
    " * Can you spot any major fluctuations in the crime data, from one week or month to the next?  Are there any clear trends?  Seasonal variation brings more people out into the open and causes more interactions.  Long weekends can do the same. \n",
    "    "
   ]
  },
  {
   "cell_type": "markdown",
   "metadata": {},
   "source": [
    "### Wednesday tutorial: \n",
    "\n",
    " * Continue with your 4th homework assignment. "
   ]
  },
  {
   "cell_type": "markdown",
   "metadata": {
    "collapsed": true
   },
   "source": []
  },
  {
   "cell_type": "markdown",
   "metadata": {
    "collapsed": true
   },
   "source": [
    "## 2nd Part of your fourth homework assignment"
   ]
  },
  {
   "cell_type": "markdown",
   "metadata": {},
   "source": [
    "Continue your explorations from the Tuesday tutorial.   Create several plots that help you answer the questions:\n",
    "\n",
    "* To what extent do you see deviations from the mean for the various crime rates?  Day-to-day?  Month-to-Month?   \n",
    "* Try to find any patterns in these deviations using devices such as:\n",
    " - Daily plots. \n",
    " - Plots of weekly averages.\n",
    " - Plots for only Fridays and Saturdays. \n",
    "* Once you have found some deviations from the norm, look for possible explanations:\n",
    " - Heat maps (i.e. spatial patterns).  These could help you locate (spatially) where the deviations occur, once you know they exist. \n",
    " - Outside information: Do they occur during warm weather?  Holidays?  If your number of 'big' deviations is small you could check these by hand.  But if they appear large, you could download a record of daily temperatures from [Weather Canada](http://climate.weather.gc.ca/advanceSearch/searchHistoricDataStations_e.html?timeframe=1&Prov=BC&StationID=6812&hlyRange=1994-02-01%7C2016-03-13&Year=2016&Month=3&Day=13&searchType=stnProx&txtRadius=25&optProxType=navLink&txtLatDecDeg=48.457&txtLongDecDeg=123.30461111111&optLimit=specDate&selRowPerPage=25&station=VICTORIA+UNIVERSITY+CS). Max daily temperatures can be readily stripped from the csv download. \n",
    "* If you *do* spot any major trends, such as a relationship between some forms of crime, and something else, try to find a way to do a least square fit between the two. \n",
    "\n",
    "In your answer booklet, summarize your results in the initial paragraph. \n",
    "\n",
    "Due Friday March 25th, 9pm. "
   ]
  },
  {
   "cell_type": "code",
   "execution_count": null,
   "metadata": {
    "collapsed": true
   },
   "outputs": [],
   "source": []
  },
  {
   "cell_type": "code",
   "execution_count": null,
   "metadata": {
    "collapsed": false
   },
   "outputs": [],
   "source": []
  },
  {
   "cell_type": "code",
   "execution_count": null,
   "metadata": {
    "collapsed": true
   },
   "outputs": [],
   "source": []
  }
 ],
 "metadata": {
  "kernelspec": {
   "display_name": "Python 3",
   "language": "python",
   "name": "python3"
  },
  "language_info": {
   "codemirror_mode": {
    "name": "ipython",
    "version": 3
   },
   "file_extension": ".py",
   "mimetype": "text/x-python",
   "name": "python",
   "nbconvert_exporter": "python",
   "pygments_lexer": "ipython3",
   "version": "3.4.3"
  }
 },
 "nbformat": 4,
 "nbformat_minor": 0
}
